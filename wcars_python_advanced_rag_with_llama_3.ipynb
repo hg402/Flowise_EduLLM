{
  "cells": [
    {
      "cell_type": "markdown",
      "metadata": {
        "id": "view-in-github",
        "colab_type": "text"
      },
      "source": [
        "<a href=\"https://colab.research.google.com/github/hg402/Flowise_EduLLM/blob/main/wcars_python_advanced_rag_with_llama_3.ipynb\" target=\"_parent\"><img src=\"https://colab.research.google.com/assets/colab-badge.svg\" alt=\"Open In Colab\"/></a>"
      ]
    },
    {
      "cell_type": "markdown",
      "source": [
        "<center><h1>Basic Python and Implementing Your Own LLM for Teaching<br>and Research</h1></center>"
      ],
      "metadata": {
        "id": "J6fxiBPziOyO"
      }
    },
    {
      "cell_type": "markdown",
      "source": [
        "<center><h3>Haoyun (Harry) Gao <br>\n",
        "Rutgers University, Department of Accounting and Information Systems</center></h3>"
      ],
      "metadata": {
        "id": "GavaF9EDias9"
      }
    },
    {
      "cell_type": "markdown",
      "metadata": {
        "id": "QvhBpGxlK6vK"
      },
      "source": [
        "# Introduction"
      ]
    },
    {
      "cell_type": "markdown",
      "metadata": {
        "id": "3A2iLtFJK9oe"
      },
      "source": [
        "Welcome to this comprehensive guide on building your own Large Language Model (LLM). In this session, you will learn how to leverage one of the latest open-source LLM, Llama 3 by Meta, along with powerful tools like LangChain and API services from Groq and LlamaCloud.\n",
        "\n",
        "**Learning Outcomes**\n",
        "\n",
        "After completing this script, you should be able to:\n",
        "\n",
        "* Set up and run the Llama 3 model in your Google Colab environment.\n",
        "* Integrate LangChain to complete retrieval-augmented generation (RAG) tasks.\n",
        "* Utilize Groq and LlamaCloud APIs to extend the functionality of your LLM.\n",
        "* Implement document parsing, prompt engineering, and vector databases in your projects.\n",
        "\n",
        "Let's get started on this exciting journey to build and customize your own powerful Large Language Model!"
      ]
    },
    {
      "cell_type": "markdown",
      "source": [
        "# Basics of Python Syntax"
      ],
      "metadata": {
        "id": "wpwu67l8038W"
      }
    },
    {
      "cell_type": "markdown",
      "source": [
        "## 1. Basic Data Types and Operations"
      ],
      "metadata": {
        "id": "uBnS1kT51MJl"
      }
    },
    {
      "cell_type": "markdown",
      "source": [
        "Python has a variety of data types that let you store and manipulate different kinds of data.\n",
        "\n",
        "Common Data Types:\n",
        "* Integer (int): Whole numbers\n",
        "* Float (float): Numbers with decimals\n",
        "* String (str): Text data\n",
        "* Boolean (bool): True or False\n",
        "\n",
        "The hashtags indicate comments within the code, and the comments don't run."
      ],
      "metadata": {
        "id": "I3e9fWKS9hfB"
      }
    },
    {
      "cell_type": "code",
      "source": [
        "# Integer\n",
        "num1 = 10\n",
        "\n",
        "# Float\n",
        "num2 = 5.5\n",
        "\n",
        "# Boolean\n",
        "is_active = True\n",
        "\n",
        "# String\n",
        "text = \"Welcome to Python!\""
      ],
      "metadata": {
        "id": "x2mshFaAei_T"
      },
      "execution_count": null,
      "outputs": []
    },
    {
      "cell_type": "code",
      "source": [
        "print(num1)\n",
        "print(num2)\n",
        "print(is_active)\n",
        "print(text)"
      ],
      "metadata": {
        "colab": {
          "base_uri": "https://localhost:8080/"
        },
        "id": "fq2BHmvz4GJu",
        "outputId": "9d43c0d7-cca2-4c4d-adfe-51296b24a817"
      },
      "execution_count": null,
      "outputs": [
        {
          "output_type": "stream",
          "name": "stdout",
          "text": [
            "10\n",
            "5.5\n",
            "True\n",
            "Welcome to Python!\n"
          ]
        }
      ]
    },
    {
      "cell_type": "markdown",
      "source": [
        "Operations:\n",
        "* Addition (+): Adds numbers or concatenates strings.\n",
        "* Subtraction (-): Subtracts numbers.\n",
        "* Multiplication (*): Multiplies numbers or repeats strings.\n",
        "* Division (/): Divides numbers."
      ],
      "metadata": {
        "id": "D75o4TuPejQg"
      }
    },
    {
      "cell_type": "code",
      "source": [
        "# Example operations\n",
        "result = num1 + num2     # Addition\n",
        "greeting = \"Hello\" + \" World\"  # String concatenation\n",
        "repeated = \"Python! \" * 3  # Repeats the string 3 times"
      ],
      "metadata": {
        "id": "7C6-kFlOSoHd"
      },
      "execution_count": null,
      "outputs": []
    },
    {
      "cell_type": "code",
      "source": [
        "print(result)\n",
        "print(greeting)\n",
        "print(repeated)"
      ],
      "metadata": {
        "colab": {
          "base_uri": "https://localhost:8080/"
        },
        "id": "TjxjCmU54AZb",
        "outputId": "bf56882c-756f-4b2b-c850-f8096d17763b"
      },
      "execution_count": null,
      "outputs": [
        {
          "output_type": "stream",
          "name": "stdout",
          "text": [
            "15.5\n",
            "Hello World\n",
            "Python! Python! Python! \n"
          ]
        }
      ]
    },
    {
      "cell_type": "markdown",
      "source": [
        "## 2. Working with Strings"
      ],
      "metadata": {
        "id": "YHhCLBqQ-B43"
      }
    },
    {
      "cell_type": "markdown",
      "source": [
        "Strings are sequences of characters and can be manipulated in many ways.\n",
        "\n",
        "**Basic String Operations**:\n",
        "* Concatenation: + to join strings.\n",
        "* Slicing: Use [start:end] to get part of a string.\n",
        "* Methods: Functions that work on strings, like `.lower()`, `.upper()`, `.replace()`."
      ],
      "metadata": {
        "id": "UCw-GsMJ-K-T"
      }
    },
    {
      "cell_type": "code",
      "source": [
        "# Defining a string\n",
        "greeting = \"Hello, Python!\""
      ],
      "metadata": {
        "id": "-JAUIxil-Wbe"
      },
      "execution_count": null,
      "outputs": []
    },
    {
      "cell_type": "code",
      "source": [
        "# String methods\n",
        "greeting_lower = greeting.lower()  # 'hello, python!'\n",
        "greeting_upper = greeting.upper()  # 'HELLO, PYTHON!'"
      ],
      "metadata": {
        "id": "N7WSzqwV-ETA"
      },
      "execution_count": null,
      "outputs": []
    },
    {
      "cell_type": "code",
      "source": [
        "# Slicing\n",
        "partial_text = greeting[0:5]  # 'Hello'"
      ],
      "metadata": {
        "id": "kDQSZppiTQwB"
      },
      "execution_count": null,
      "outputs": []
    },
    {
      "cell_type": "markdown",
      "source": [
        "## 3. Lists"
      ],
      "metadata": {
        "id": "uZUTqMFNUcNn"
      }
    },
    {
      "cell_type": "markdown",
      "source": [
        "Lists are collections that let you store multiple items. Lists can store any data type and are great for managing data collections.\n",
        "\n",
        "**Defining and Accessing Lists**"
      ],
      "metadata": {
        "id": "5pNS6W5xUg2G"
      }
    },
    {
      "cell_type": "code",
      "source": [
        "# Defining a list\n",
        "fruits = [\"apple\", \"banana\", \"cherry\"]\n",
        "print(fruits)"
      ],
      "metadata": {
        "colab": {
          "base_uri": "https://localhost:8080/"
        },
        "id": "sinY063KUb8j",
        "outputId": "c6e7dc10-94c5-4e48-d753-a9c3c084c2c9"
      },
      "execution_count": null,
      "outputs": [
        {
          "output_type": "stream",
          "name": "stdout",
          "text": [
            "['apple', 'banana', 'cherry']\n"
          ]
        }
      ]
    },
    {
      "cell_type": "code",
      "source": [
        "# Accessing elements\n",
        "print(fruits[0])  # Output: apple"
      ],
      "metadata": {
        "colab": {
          "base_uri": "https://localhost:8080/"
        },
        "id": "nEIW1-4D4d-P",
        "outputId": "25aecb54-1624-49a2-ff9b-3a2ad80f8f3e"
      },
      "execution_count": null,
      "outputs": [
        {
          "output_type": "stream",
          "name": "stdout",
          "text": [
            "apple\n"
          ]
        }
      ]
    },
    {
      "cell_type": "code",
      "source": [
        "# Adding and removing items\n",
        "fruits.append(\"date\")   # Adds 'date' to the end of the list\n",
        "fruits.remove(\"banana\") # Removes 'banana' from the list"
      ],
      "metadata": {
        "id": "igLwxkB74f-z"
      },
      "execution_count": null,
      "outputs": []
    },
    {
      "cell_type": "code",
      "source": [
        "print(fruits)"
      ],
      "metadata": {
        "colab": {
          "base_uri": "https://localhost:8080/"
        },
        "id": "Y4Ukv7QS4SVj",
        "outputId": "39c711a0-e819-4ed0-c7f7-a58b76af7a96"
      },
      "execution_count": null,
      "outputs": [
        {
          "output_type": "stream",
          "name": "stdout",
          "text": [
            "['apple', 'cherry', 'date']\n"
          ]
        }
      ]
    },
    {
      "cell_type": "markdown",
      "source": [
        "**List Slicing**\n",
        "* Just like strings, lists support slicing to access specific portions."
      ],
      "metadata": {
        "id": "OHwS0a5jX8zs"
      }
    },
    {
      "cell_type": "code",
      "source": [
        "# Getting the first two elements\n",
        "first_two = fruits[0:2]\n",
        "first_two  # Output: ['apple', 'cherry']"
      ],
      "metadata": {
        "id": "3NSsx86-X7ZO"
      },
      "execution_count": null,
      "outputs": []
    },
    {
      "cell_type": "markdown",
      "source": [
        "## 4. Control Flow"
      ],
      "metadata": {
        "id": "5f3I0yJKUyWU"
      }
    },
    {
      "cell_type": "markdown",
      "source": [
        "Python uses control flow statements to make decisions and repeat actions.\n",
        "\n",
        "If Statements\n",
        "\n",
        "* **If Statements**: `if`, `elif` and `else` let us run code conditionally.\n",
        "* Examples:"
      ],
      "metadata": {
        "id": "ZG0AGHKPU4yy"
      }
    },
    {
      "cell_type": "code",
      "source": [
        "# Conditional check\n",
        "age = 18\n",
        "if age >= 18:\n",
        "    print(\"You're an adult.\")"
      ],
      "metadata": {
        "colab": {
          "base_uri": "https://localhost:8080/"
        },
        "id": "0rXC58gAU1wq",
        "outputId": "c91ba65f-1133-4986-fd35-0286e313d067"
      },
      "execution_count": null,
      "outputs": [
        {
          "output_type": "stream",
          "name": "stdout",
          "text": [
            "You're an adult.\n"
          ]
        }
      ]
    },
    {
      "cell_type": "markdown",
      "source": [
        "* **Loops**: Loops are used for repeating tasks. We’ll cover `for` and `while` loops here.\n",
        "* Examples:"
      ],
      "metadata": {
        "id": "lmEdS9FjXhmE"
      }
    },
    {
      "cell_type": "code",
      "source": [
        "# Iterate over a list\n",
        "for fruit in fruits:\n",
        "    print(fruit)"
      ],
      "metadata": {
        "colab": {
          "base_uri": "https://localhost:8080/"
        },
        "id": "jyvhJ9EcVRtM",
        "outputId": "b3c5625f-27bb-46a3-82f8-7903d490e47e"
      },
      "execution_count": null,
      "outputs": [
        {
          "output_type": "stream",
          "name": "stdout",
          "text": [
            "apple\n",
            "cherry\n",
            "date\n"
          ]
        }
      ]
    },
    {
      "cell_type": "code",
      "source": [
        "# Repeat a task until a condition is met\n",
        "count = 0\n",
        "while count < 5:\n",
        "    print(\"Counting:\", count)\n",
        "    count += 1"
      ],
      "metadata": {
        "colab": {
          "base_uri": "https://localhost:8080/"
        },
        "id": "3oQ1AkLZXvgs",
        "outputId": "ebb07892-44a3-4ebf-ee50-e0747ffbf0e9"
      },
      "execution_count": null,
      "outputs": [
        {
          "output_type": "stream",
          "name": "stdout",
          "text": [
            "Counting: 0\n",
            "Counting: 1\n",
            "Counting: 2\n",
            "Counting: 3\n",
            "Counting: 4\n"
          ]
        }
      ]
    },
    {
      "cell_type": "markdown",
      "source": [
        "Note: In Python, the `+=` operator adds the value on the right to the variable on the left and assigns the result back to the variable on the left. For example: `x += 5`  is equivalent to `x = x + 5`."
      ],
      "metadata": {
        "id": "YReQ0pmkljCh"
      }
    },
    {
      "cell_type": "markdown",
      "source": [
        "##5. Basic Functions"
      ],
      "metadata": {
        "id": "WdtKJ5E4VVtL"
      }
    },
    {
      "cell_type": "markdown",
      "source": [
        "Functions let you package code into reusable pieces, which can be called with different inputs to get different results.\n",
        "\n",
        "**Defining a Function**:\n",
        "To define a function, use `def` followed by the function name and parameters."
      ],
      "metadata": {
        "id": "uI8tOoPXVauC"
      }
    },
    {
      "cell_type": "code",
      "source": [
        "def wcars_add(a, b):\n",
        "    return a + b\n",
        "\n",
        "sum_result = wcars_add(5, 10)\n",
        "\n",
        "print(sum_result)"
      ],
      "metadata": {
        "colab": {
          "base_uri": "https://localhost:8080/"
        },
        "id": "X9-YQBCHVYGQ",
        "outputId": "8473c7aa-7724-4b09-cd71-6f939610a42c"
      },
      "execution_count": 1,
      "outputs": [
        {
          "output_type": "stream",
          "name": "stdout",
          "text": [
            "15\n"
          ]
        }
      ]
    },
    {
      "cell_type": "markdown",
      "source": [
        "Example Function with Conditionals:"
      ],
      "metadata": {
        "id": "u2TTzUhhXAFx"
      }
    },
    {
      "cell_type": "code",
      "source": [
        "def check_age(age):\n",
        "    if age >= 18:\n",
        "        return \"Adult\"\n",
        "    else:\n",
        "        return \"Minor\"\n",
        "\n",
        "status = check_age(16)\n",
        "print(status)"
      ],
      "metadata": {
        "id": "wkDOXOagXBJY",
        "colab": {
          "base_uri": "https://localhost:8080/"
        },
        "outputId": "5b1502b6-dbb9-486b-af03-64a288b0328e"
      },
      "execution_count": 2,
      "outputs": [
        {
          "output_type": "stream",
          "name": "stdout",
          "text": [
            "Minor\n"
          ]
        }
      ]
    },
    {
      "cell_type": "markdown",
      "source": [
        "## 6. Importing Modules"
      ],
      "metadata": {
        "id": "o7bSmwcXVrF4"
      }
    },
    {
      "cell_type": "markdown",
      "source": [
        "Modules are collections of functions and variables that expand Python’s capabilities. For example, the `math` module provides advanced math operations."
      ],
      "metadata": {
        "id": "KRK3nbVaWXMG"
      }
    },
    {
      "cell_type": "markdown",
      "source": [
        "Importing and Using Modules:"
      ],
      "metadata": {
        "id": "PUAY3GBqWcmM"
      }
    },
    {
      "cell_type": "code",
      "source": [
        "# Import the math module\n",
        "import math\n",
        "\n",
        "# Using math functions\n",
        "pi_value = math.pi\n",
        "print(pi_value)\n",
        "square_root = math.sqrt(16)\n",
        "print(square_root)"
      ],
      "metadata": {
        "id": "oeoFDSCuVq3P",
        "colab": {
          "base_uri": "https://localhost:8080/"
        },
        "outputId": "43d5d550-8f6b-4f64-8b45-d8fba7f49d5a"
      },
      "execution_count": 3,
      "outputs": [
        {
          "output_type": "stream",
          "name": "stdout",
          "text": [
            "3.141592653589793\n",
            "4.0\n"
          ]
        }
      ]
    },
    {
      "cell_type": "markdown",
      "source": [
        "# Simple Q&A Model Using Llama 3"
      ],
      "metadata": {
        "id": "KGzaxDEVEvY2"
      }
    },
    {
      "cell_type": "markdown",
      "source": [
        "## Housekeeping"
      ],
      "metadata": {
        "id": "kJ-Y0Kc3zMfv"
      }
    },
    {
      "cell_type": "markdown",
      "source": [
        "To start with, let's set the timezone of the Python environment to US Eastern Time and retrieve the timezone names"
      ],
      "metadata": {
        "id": "wPCY1vgRzT-u"
      }
    },
    {
      "cell_type": "code",
      "source": [
        "import os\n",
        "import time\n",
        "os.environ['TZ'] = 'US/Eastern'\n",
        "time.tzset()\n",
        "time.tzname"
      ],
      "metadata": {
        "colab": {
          "base_uri": "https://localhost:8080/"
        },
        "id": "VC2Asb18DWTp",
        "outputId": "e1daa0c6-0de4-465f-b555-644876f80042"
      },
      "execution_count": 1,
      "outputs": [
        {
          "output_type": "execute_result",
          "data": {
            "text/plain": [
              "('EST', 'EDT')"
            ]
          },
          "metadata": {},
          "execution_count": 1
        }
      ]
    },
    {
      "cell_type": "code",
      "execution_count": 2,
      "metadata": {
        "colab": {
          "base_uri": "https://localhost:8080/"
        },
        "id": "jDKmB_6M7o1D",
        "outputId": "c6f8bcbe-5ec4-4bd2-8334-9fbdf0b6cbd5"
      },
      "outputs": [
        {
          "output_type": "stream",
          "name": "stdout",
          "text": [
            "time: 664 µs (started: 2024-11-08 07:39:02 -05:00)\n"
          ]
        }
      ],
      "source": [
        "# Install the `ipython-autotime` package to measure the execution time of each cell.\n",
        "!pip -qqq install ipython-autotime\n",
        "%load_ext autotime"
      ]
    },
    {
      "cell_type": "markdown",
      "source": [
        "Agree to the Google Drive's request in accessing your Google account when running the below code:"
      ],
      "metadata": {
        "id": "ZTNqa_3iPLRH"
      }
    },
    {
      "cell_type": "code",
      "execution_count": 3,
      "metadata": {
        "colab": {
          "base_uri": "https://localhost:8080/"
        },
        "id": "X_aWx1Q7NnI2",
        "outputId": "d59ed8c4-f4c0-4e84-cfa8-c2ee0507df12"
      },
      "outputs": [
        {
          "output_type": "stream",
          "name": "stdout",
          "text": [
            "Drive already mounted at /content/drive; to attempt to forcibly remount, call drive.mount(\"/content/drive\", force_remount=True).\n",
            "time: 992 ms (started: 2024-11-08 07:39:02 -05:00)\n"
          ]
        }
      ],
      "source": [
        "#  Mount your Google Drive to access files.\n",
        "from google.colab import drive\n",
        "drive.mount('/content/drive')"
      ]
    },
    {
      "cell_type": "markdown",
      "metadata": {
        "id": "W1JK9-G--pXY"
      },
      "source": [
        "We now install the necessary libraries. You may ignore the compatibility issues reported here for now. It takes about 4 minutes."
      ]
    },
    {
      "cell_type": "code",
      "execution_count": 4,
      "metadata": {
        "colab": {
          "base_uri": "https://localhost:8080/"
        },
        "id": "3-wvIiFhkBYR",
        "outputId": "094df6be-f6c2-4942-f2eb-b2468490e1a3",
        "collapsed": true
      },
      "outputs": [
        {
          "output_type": "stream",
          "name": "stdout",
          "text": [
            "time: 47.5 s (started: 2024-11-08 07:39:03 -05:00)\n"
          ]
        }
      ],
      "source": [
        "# Install pip package manager.\n",
        "!pip -qqq install pip --progress-bar off > /dev/null 2>&1\n",
        "# Install a package necessary for qdrant, which is for vector database interaction.\n",
        "!pip -qqq install onnxruntime==1.19.2 --progress-bar off > /dev/null 2>&1\n",
        "# Install LangChain Groq integration library version 0.1.3.\n",
        "!pip -qqq install langchain-groq==0.1.3 --progress-bar off > /dev/null 2>&1\n",
        "# Install LangChain framework version 0.1.17.\n",
        "!pip -qqq install langchain==0.1.17 --progress-bar off > /dev/null 2>&1\n",
        "# Install LlamaParse library version 0.1.3 for document parsing.\n",
        "!pip -qqq install llama-parse==0.1.3 --progress-bar off > /dev/null 2>&1\n",
        "# Install Qdrant client library version 1.9.1 for vector database interaction.\n",
        "!pip -qqq install qdrant-client==1.9.1  --progress-bar off > /dev/null 2>&1\n",
        "# Install Unstructured library version 0.13.6 for handling Markdown files.\n",
        "!pip -qqq install \"unstructured[md]\"==0.13.6 --progress-bar off > /dev/null 2>&1\n",
        "# Install FastEmbed library version 0.2.7 for embedding generation.\n",
        "!pip -qqq install fastembed==0.2.7 --progress-bar off > /dev/null 2>&1\n",
        "# Installing the flashrank package version 0.2.4 for efficient information retrieval\n",
        "!pip -qqq install flashrank==0.2.4 --progress-bar off > /dev/null 2>&1"
      ]
    },
    {
      "cell_type": "markdown",
      "metadata": {
        "id": "ByXoBPTXugNW"
      },
      "source": [
        "Now we import the necessary modules:"
      ]
    },
    {
      "cell_type": "code",
      "execution_count": 5,
      "metadata": {
        "colab": {
          "base_uri": "https://localhost:8080/"
        },
        "id": "CltjxBRZugNX",
        "outputId": "2a52f308-54fb-426a-e739-d8d0ccc9ca4c"
      },
      "outputs": [
        {
          "output_type": "stream",
          "name": "stdout",
          "text": [
            "time: 6.58 s (started: 2024-11-08 07:40:49 -05:00)\n"
          ]
        }
      ],
      "source": [
        "# Importing the os module to interact with the operating system\n",
        "import os\n",
        "\n",
        "# Importing the textwrap module for text formatting functions\n",
        "import textwrap\n",
        "\n",
        "# Importing the Path class from pathlib to handle file paths\n",
        "from pathlib import Path\n",
        "\n",
        "# Importing the userdata module from Google Colab for user data interactions\n",
        "from google.colab import userdata\n",
        "\n",
        "# Importing the Markdown class from IPython.display to display markdown content in Jupyter notebooks\n",
        "from IPython.display import Markdown\n",
        "\n",
        "# Importing the RetrievalQA chain from LangChain for question-answering capabilities\n",
        "from langchain.chains import RetrievalQA\n",
        "\n",
        "# Importing the PromptTemplate class from LangChain for creating prompt templates\n",
        "from langchain.prompts import PromptTemplate\n",
        "\n",
        "# Importing the ContextualCompressionRetriever from LangChain for contextual information retrieval\n",
        "from langchain.retrievers import ContextualCompressionRetriever\n",
        "\n",
        "# Importing the FlashrankRerank class from LangChain for document compression and ranking\n",
        "from langchain.retrievers.document_compressors import FlashrankRerank\n",
        "\n",
        "# Importing the RecursiveCharacterTextSplitter from LangChain for splitting text recursively by characters\n",
        "from langchain.text_splitter import RecursiveCharacterTextSplitter\n",
        "\n",
        "# Importing the Qdrant class from LangChain for vector store operations\n",
        "from langchain.vectorstores import Qdrant\n",
        "\n",
        "# Importing the UnstructuredMarkdownLoader from LangChain Community for loading markdown documents\n",
        "from langchain_community.document_loaders import UnstructuredMarkdownLoader\n",
        "\n",
        "# Importing the FastEmbedEmbeddings from LangChain Community for fast embeddings generation\n",
        "from langchain_community.embeddings.fastembed import FastEmbedEmbeddings\n",
        "\n",
        "# Importing the ChatPromptTemplate from LangChain Core for creating chat prompt templates\n",
        "from langchain_core.prompts import ChatPromptTemplate\n",
        "\n",
        "# Importing the ChatGroq class from LangChain Groq for chat functionalities with Groq\n",
        "from langchain_groq import ChatGroq\n",
        "\n",
        "# Importing the LlamaParse class from llama_parse for parsing documents\n",
        "from llama_parse import LlamaParse\n",
        "\n",
        "# Importing the getpass module for securely handling the API key prompts\n",
        "import getpass\n",
        "\n",
        "# Suppress warnings (for better experience during this session; not recommended in future)\n",
        "import warnings\n",
        "warnings.filterwarnings(\"ignore\")"
      ]
    },
    {
      "cell_type": "markdown",
      "metadata": {
        "id": "WRT2GutNugNX"
      },
      "source": [
        "The helper function below can make the output from our LLM response more readable in the coding environment."
      ]
    },
    {
      "cell_type": "code",
      "execution_count": 33,
      "metadata": {
        "colab": {
          "base_uri": "https://localhost:8080/"
        },
        "id": "0l023EH6ugNY",
        "outputId": "91c38ce2-ebd6-43ce-87d3-40ebe153b6a1"
      },
      "outputs": [
        {
          "output_type": "stream",
          "name": "stdout",
          "text": [
            "time: 954 µs (started: 2024-11-08 07:46:39 -05:00)\n"
          ]
        }
      ],
      "source": [
        "def print_response(response):\n",
        "    response_txt = response[\"result\"]\n",
        "    for chunk in response_txt.split(\"\\n\"):\n",
        "        if not chunk:\n",
        "            print()\n",
        "            continue\n",
        "        print(\"\\n\".join(textwrap.wrap(chunk, 100, break_long_words=False)))"
      ]
    },
    {
      "cell_type": "markdown",
      "source": [
        "## Run Llama 3 with general questions"
      ],
      "metadata": {
        "id": "KCmAdyiNRFhh"
      }
    },
    {
      "cell_type": "markdown",
      "metadata": {
        "id": "tcQNpELDugNY"
      },
      "source": [
        "The Groq API provides cloud-based access to powerful large language models (LLMs), eliminating the need for local GPU resources. It allows developers to integrate LLMs into their applications seamlessly.\n",
        "\n",
        "Now we load the Groq API. To run a proper LLM that has comparable performance to ChatGPT, you need GPU resources on your computer or cloud server. Groq is a platform for you to run open-source LLM without worrying about GPU resources.\n",
        "\n",
        "You may get a free API key at: https://console.groq.com/login.\n",
        "\n",
        "Alternatively, you may input `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` for the purpose of this session only. It will be deactivated after this session."
      ]
    },
    {
      "cell_type": "code",
      "execution_count": 17,
      "metadata": {
        "colab": {
          "base_uri": "https://localhost:8080/"
        },
        "id": "WH_J7_kol_ay",
        "outputId": "cdaa441e-25b5-44b0-cf4f-9ef7e6d44612"
      },
      "outputs": [
        {
          "output_type": "stream",
          "name": "stdout",
          "text": [
            "Enter your GROQ API KEY:··········\n",
            "time: 6.27 s (started: 2024-11-08 07:44:22 -05:00)\n"
          ]
        }
      ],
      "source": [
        "api_key = getpass.getpass('Enter your GROQ API KEY:')\n",
        "\n",
        "os.environ[\"GROQ_API_KEY\"] = api_key"
      ]
    },
    {
      "cell_type": "markdown",
      "metadata": {
        "id": "J74qiAPDugNZ"
      },
      "source": [
        "We now have loaded all the necessary modules and APIs. We can now make simple queries to Llama 3, just like how we interact with ChatGPT."
      ]
    },
    {
      "cell_type": "code",
      "source": [
        "from groq import Groq\n",
        "client = Groq(\n",
        "    api_key= os.environ[\"GROQ_API_KEY\"]\n",
        ")"
      ],
      "metadata": {
        "colab": {
          "base_uri": "https://localhost:8080/"
        },
        "id": "5c77lQm62W7W",
        "outputId": "cdeef81e-4200-4bc3-d22f-a4116dcec44b"
      },
      "execution_count": 11,
      "outputs": [
        {
          "output_type": "stream",
          "name": "stdout",
          "text": [
            "time: 590 ms (started: 2024-11-08 07:10:49 -05:00)\n"
          ]
        }
      ]
    },
    {
      "cell_type": "code",
      "source": [
        "chat_completion = client.chat.completions.create(\n",
        "    messages=[\n",
        "        {\n",
        "            \"role\": \"user\",\n",
        "            \"content\": \"I am attending a conference today at Rutgers Newark campus. Plan me something to do in the evening.\",\n",
        "        }\n",
        "    ],\n",
        "    model=\"llama3-70b-8192\",\n",
        ")"
      ],
      "metadata": {
        "colab": {
          "base_uri": "https://localhost:8080/"
        },
        "id": "JxXMIGOc2W3K",
        "outputId": "0f3084d8-d93b-492e-9597-5c47ea13080e"
      },
      "execution_count": 13,
      "outputs": [
        {
          "output_type": "stream",
          "name": "stdout",
          "text": [
            "time: 1.36 s (started: 2024-11-08 07:13:08 -05:00)\n"
          ]
        }
      ]
    },
    {
      "cell_type": "code",
      "source": [
        "chat_completion"
      ],
      "metadata": {
        "colab": {
          "base_uri": "https://localhost:8080/"
        },
        "id": "PbCxRS-ksar1",
        "outputId": "ca633c45-41ec-4b2b-d85e-7f0a95505383"
      },
      "execution_count": 14,
      "outputs": [
        {
          "output_type": "execute_result",
          "data": {
            "text/plain": [
              "ChatCompletion(id='chatcmpl-53e175ec-1062-4c35-bcbd-fa02be0c7a91', choices=[Choice(finish_reason='stop', index=0, logprobs=None, message=ChatCompletionMessage(content=\"Rutgers Newark campus is located in University Heights, Newark, NJ. There are plenty of things to do in the evening in and around Newark. Here's a suggestion:\\n\\n**Option 1: Explore Downtown Newark**\\n\\n* After the conference, head to Downtown Newark, which is just a short drive or Uber ride from the Rutgers Newark campus.\\n* Visit the **Prudential Center**, a vibrant entertainment and sports complex that hosts various events, including hockey games, concerts, and shows. Even if there's no event scheduled, you can take a stroll around the arena and grab a bite to eat at one of the many restaurants in the area.\\n* **Walk along Broad Street**, which is lined with restaurants, bars, and cultural attractions. You can stop by the **Newark Museum**, which is open until 5 pm, but you can still admire the building's architecture and take a stroll around the surrounding Washington Park.\\n\\n**Option 2: Visit the Ironbound Neighborhood**\\n\\n* The Ironbound neighborhood is a short drive or Uber ride from the Rutgers Newark campus and is known for its rich cultural diversity and delicious food options.\\n* **Take a stroll down Ferry Street**, which is lined with Portuguese, Spanish, and Latin American restaurants, cafes, and shops. You can grab dinner at one of the many eateries, such as **Sol-Mar Restaurant** (Portuguese) or **La Casa de las Enchiladas** (Mexican).\\n* If you're interested in drinks, **The Barrel & Brew** is a popular spot for craft beer and live music.\\n\\n**Other suggestions**\\n\\n* If you're interested in art, head to the **NWK Art Gallery**, which features local artists and is open until 7 pm.\\n* If you're looking for some outdoor time, visit **Riverfront Park**, which offers stunning views of the Newark skyline and the Passaic River.\\n\\nRemember to plan your evening according to your interests and the time you have available. Enjoy your evening in Newark!\", role='assistant', function_call=None, tool_calls=None))], created=1731067988, model='llama3-70b-8192', object='chat.completion', system_fingerprint='fp_87cbfbbc4d', usage=CompletionUsage(completion_tokens=404, prompt_tokens=30, total_tokens=434, completion_time=1.154285714, prompt_time=0.003882845, queue_time=0.010363354, total_time=1.158168559), x_groq={'id': 'req_01jc5v2jxzfpns3whkx8a1k925'})"
            ]
          },
          "metadata": {},
          "execution_count": 14
        },
        {
          "output_type": "stream",
          "name": "stdout",
          "text": [
            "time: 11.2 ms (started: 2024-11-08 07:13:35 -05:00)\n"
          ]
        }
      ]
    },
    {
      "cell_type": "markdown",
      "source": [
        "This is another helper function that can make the output from our LLM response more readable in the coding environment, similar to the above one:"
      ],
      "metadata": {
        "id": "tmHtWej8RzZT"
      }
    },
    {
      "cell_type": "code",
      "source": [
        "def print_response_chat(response):\n",
        "    response_txt = response.choices[0].message.content\n",
        "    for chunk in response_txt.split(\"\\n\"):\n",
        "        if not chunk:\n",
        "            print()\n",
        "            continue\n",
        "        print(\"\\n\".join(textwrap.wrap(chunk, 100, break_long_words=False)))"
      ],
      "metadata": {
        "colab": {
          "base_uri": "https://localhost:8080/"
        },
        "id": "Ww50Q4tX2WvB",
        "outputId": "70d1e5ac-2a1f-4180-ad1f-cf7c0efe43f3"
      },
      "execution_count": 15,
      "outputs": [
        {
          "output_type": "stream",
          "name": "stdout",
          "text": [
            "time: 854 µs (started: 2024-11-08 07:13:40 -05:00)\n"
          ]
        }
      ]
    },
    {
      "cell_type": "markdown",
      "source": [
        "Here we print out the result, using the helper function:"
      ],
      "metadata": {
        "id": "mLn7ZGY8R91a"
      }
    },
    {
      "cell_type": "code",
      "source": [
        "print_response_chat(chat_completion)"
      ],
      "metadata": {
        "colab": {
          "base_uri": "https://localhost:8080/"
        },
        "id": "3WDMT1hp2Wrv",
        "outputId": "5e5514c4-5f68-427d-dc0c-41ce69526f02"
      },
      "execution_count": 16,
      "outputs": [
        {
          "output_type": "stream",
          "name": "stdout",
          "text": [
            "Rutgers Newark campus is located in University Heights, Newark, NJ. There are plenty of things to do\n",
            "in the evening in and around Newark. Here's a suggestion:\n",
            "\n",
            "**Option 1: Explore Downtown Newark**\n",
            "\n",
            "* After the conference, head to Downtown Newark, which is just a short drive or Uber ride from the\n",
            "Rutgers Newark campus.\n",
            "* Visit the **Prudential Center**, a vibrant entertainment and sports complex that hosts various\n",
            "events, including hockey games, concerts, and shows. Even if there's no event scheduled, you can\n",
            "take a stroll around the arena and grab a bite to eat at one of the many restaurants in the area.\n",
            "* **Walk along Broad Street**, which is lined with restaurants, bars, and cultural attractions. You\n",
            "can stop by the **Newark Museum**, which is open until 5 pm, but you can still admire the building's\n",
            "architecture and take a stroll around the surrounding Washington Park.\n",
            "\n",
            "**Option 2: Visit the Ironbound Neighborhood**\n",
            "\n",
            "* The Ironbound neighborhood is a short drive or Uber ride from the Rutgers Newark campus and is\n",
            "known for its rich cultural diversity and delicious food options.\n",
            "* **Take a stroll down Ferry Street**, which is lined with Portuguese, Spanish, and Latin American\n",
            "restaurants, cafes, and shops. You can grab dinner at one of the many eateries, such as **Sol-Mar\n",
            "Restaurant** (Portuguese) or **La Casa de las Enchiladas** (Mexican).\n",
            "* If you're interested in drinks, **The Barrel & Brew** is a popular spot for craft beer and live\n",
            "music.\n",
            "\n",
            "**Other suggestions**\n",
            "\n",
            "* If you're interested in art, head to the **NWK Art Gallery**, which features local artists and is\n",
            "open until 7 pm.\n",
            "* If you're looking for some outdoor time, visit **Riverfront Park**, which offers stunning views of\n",
            "the Newark skyline and the Passaic River.\n",
            "\n",
            "Remember to plan your evening according to your interests and the time you have available. Enjoy\n",
            "your evening in Newark!\n",
            "time: 8.56 ms (started: 2024-11-08 07:13:42 -05:00)\n"
          ]
        }
      ]
    },
    {
      "cell_type": "markdown",
      "source": [
        "We can now put them together can create a \"Chat Llama 3\" in your browser!"
      ],
      "metadata": {
        "id": "KofzlneoSDb5"
      }
    },
    {
      "cell_type": "code",
      "source": [
        "from groq import Groq\n",
        "client = Groq(\n",
        "    api_key= os.environ[\"GROQ_API_KEY\"]\n",
        ")\n",
        "\n",
        "chat_completion = client.chat.completions.create(\n",
        "    messages=[\n",
        "        {\n",
        "            \"role\": \"user\",\n",
        "            \"content\": input(\"Enter your question: \"),\n",
        "        }\n",
        "    ],\n",
        "    model=\"llama3-70b-8192\",\n",
        ")\n",
        "\n",
        "def print_response_chat(response):\n",
        "    response_txt = response.choices[0].message.content\n",
        "    for chunk in response_txt.split(\"\\n\"):\n",
        "        if not chunk:\n",
        "            print()\n",
        "            continue\n",
        "        print(\"\\n\".join(textwrap.wrap(chunk, 100, break_long_words=False)))\n",
        "\n",
        "print_response_chat(chat_completion)"
      ],
      "metadata": {
        "colab": {
          "base_uri": "https://localhost:8080/"
        },
        "id": "JH5C1BDoSTXx",
        "outputId": "0d2dbdb5-0f7c-4e45-b8e7-a38d03447787"
      },
      "execution_count": 17,
      "outputs": [
        {
          "output_type": "stream",
          "name": "stdout",
          "text": [
            "Enter your question: What new technologies should I learn as a financial auditor?\n",
            "As a financial auditor, it's essential to stay up-to-date with emerging technologies that are\n",
            "transforming the profession. Here are some new technologies you should consider learning:\n",
            "\n",
            "1. **Artificial Intelligence (AI) and Machine Learning (ML)**: AI and ML are being used to automate\n",
            "auditing processes, such as data analysis, risk assessment, and anomaly detection. Familiarize\n",
            "yourself with tools like IBM Watson, Microsoft Azure Machine Learning, or Google Cloud AI Platform.\n",
            "2. **Data Analytics and Visualization**: Learn to work with large datasets using tools like Tableau,\n",
            "Power BI, or QlikView to analyze and visualize financial data. This helps identify trends, risks,\n",
            "and opportunities for improvement.\n",
            "3. **Robotics Process Automation (RPA)**: RPA tools like UiPath, Automation Anywhere, or Blue Prism\n",
            "can automate repetitive tasks, freeing up time for more strategic auditing activities.\n",
            "4. **Blockchain and Distributed Ledger Technology**: Understand the basics of blockchain and its\n",
            "applications in auditing, such as supply chain auditing and smart contracts.\n",
            "5. **Cloud Computing and Storage**: Familiarize yourself with cloud-based platforms like Amazon Web\n",
            "Services (AWS), Microsoft Azure, or Google Cloud Platform, which are increasingly used for data\n",
            "storage and auditing.\n",
            "6. **Continuous Auditing and Monitoring**: Learn about tools like SAP Continuous Auditing, ACL, or\n",
            "IDEA that enable continuous monitoring and auditing of financial systems and data.\n",
            "7. **Cybersecurity and Risk Management**: As auditors, you need to be aware of cybersecurity risks\n",
            "and threat management strategies. Consider learning about security frameworks like NIST or ISO\n",
            "27001.\n",
            "8. **Natural Language Processing (NLP)**: NLP can help you analyze large volumes of unstructured\n",
            "data, such as financial reports, contracts, or emails. Familiarize yourself with NLP tools like\n",
            "Lexalytics or MeaningCloud.\n",
            "9. **Predictive Analytics**: Learn to use statistical models and machine learning algorithms to\n",
            "predict financial risks, identify trends, and detect anomalies.\n",
            "10. **Digital Ledger Accounting**: Understand the concept of digital ledger accounting, which allows\n",
            "for real-time tracking and auditing of financial transactions.\n",
            "\n",
            "To stay current with these technologies, consider the following resources:\n",
            "\n",
            "* Online courses: Websites like Coursera, edX, and Udemy offer courses on AI, ML, data analytics,\n",
            "and other relevant topics.\n",
            "* Professional associations: Organizations like the Institute of Internal Auditors (IIA), American\n",
            "Institute of Certified Public Accountants (AICPA), and Financial Executives International (FEI)\n",
            "offer training and resources on emerging technologies.\n",
            "* Conferences and webinars: Attend industry conferences, seminars, and webinars to learn from\n",
            "experts and network with peers.\n",
            "* Industry publications: Stay up-to-date with the latest news and trends through publications like\n",
            "the Journal of Accountancy, Internal Auditor, or Financial Management.\n",
            "\n",
            "By learning these technologies, you'll be better equipped to tackle the challenges of modern\n",
            "auditing and provide more value to your organization and clients.\n",
            "time: 32.2 s (started: 2024-11-08 07:14:48 -05:00)\n"
          ]
        }
      ]
    },
    {
      "cell_type": "markdown",
      "metadata": {
        "id": "1_pUImOBLIdG"
      },
      "source": [
        "# RAG with PCAOB Audit Standards"
      ]
    },
    {
      "cell_type": "markdown",
      "source": [
        "Retrieval-augmented generation (RAG) allows users to ask contextual questions about PDF files, reducing the likelihood of the model generating incorrect or irrelevant information (hallucinations).\n",
        "\n",
        "By the end of this section, you will gain hands-on experience in:\n",
        "* Basic Python Commands: Master the essential syntax of today’s most widely used programming language.\n",
        "* Document Parsing: Learn how to efficiently extract and preprocess information from various documents.\n",
        "* Prompt Engineering: Understand the art of designing effective prompts to enhance the performance of your LLM.\n",
        "* Vector Databases: Explore how to store and manage large-scale data efficiently using vector databases."
      ],
      "metadata": {
        "id": "ccC5beTEblWK"
      }
    },
    {
      "cell_type": "markdown",
      "source": [
        "To move on, we will need a PDF document for the LLM to query from, so that the chance of hallucination is minimized. Below is an overview of the RAG framework adopted in this demonstration (assume the PDF is Meta's 2024 Q1 conference call scripts):"
      ],
      "metadata": {
        "id": "k9NNbPuwTexj"
      }
    },
    {
      "cell_type": "markdown",
      "source": [
        "![overview](https://drive.google.com/uc?export=view&id=1LuaFBASrwC6oPlelemAnqa5YbiH4kghq)"
      ],
      "metadata": {
        "id": "8-1IGC09clGr"
      }
    },
    {
      "cell_type": "markdown",
      "source": [
        "## Load LlamaParse API"
      ],
      "metadata": {
        "id": "qTlOM___zHQx"
      }
    },
    {
      "cell_type": "markdown",
      "metadata": {
        "id": "C2qs8iAG0yKQ"
      },
      "source": [
        "Now we load the LlamaCloud API, which is capable of parsing PDF documents with tables.\n",
        "\n",
        "You may get a free API key at: https://cloud.llamaindex.ai/login.\n",
        "\n",
        "Alternatively, you may input `llx-WDx6KhktOtTqbc1zEJM3VqcaHjCnyHSW3zcCDbsSknMrFk5K` for the purpose of this session only. It will be deactivated after this session."
      ]
    },
    {
      "cell_type": "code",
      "execution_count": 11,
      "metadata": {
        "colab": {
          "base_uri": "https://localhost:8080/"
        },
        "id": "WMjpfe8Eb7n8",
        "outputId": "a6f9dd41-300c-4959-a671-ff19a51c977b"
      },
      "outputs": [
        {
          "output_type": "stream",
          "name": "stdout",
          "text": [
            "Enter your LlamaCloud API KEY:··········\n",
            "time: 7.17 s (started: 2024-11-08 07:42:31 -05:00)\n"
          ]
        }
      ],
      "source": [
        "os.environ[\"LLAMA_PARSE\"] = getpass.getpass('Enter your LlamaCloud API KEY:')"
      ]
    },
    {
      "cell_type": "markdown",
      "source": [
        "Here, we present an example of how this advanced RAG methodology can be applied in an audit setting."
      ],
      "metadata": {
        "id": "Np2XqbVptii6"
      }
    },
    {
      "cell_type": "code",
      "execution_count": 19,
      "metadata": {
        "colab": {
          "base_uri": "https://localhost:8080/"
        },
        "id": "xizdbjkWLPj2",
        "outputId": "f8414846-d7b4-45f0-e8e6-989e5e9eae70"
      },
      "outputs": [
        {
          "output_type": "stream",
          "name": "stdout",
          "text": [
            "Downloading...\n",
            "From: https://drive.google.com/uc?id=1-Ex0IQMYtyGPyl-tU6-GOtrcqqoFbZU8\n",
            "To: /content/data/auditing_standards.pdf\n",
            "\r  0% 0.00/5.70M [00:00<?, ?B/s]\r100% 5.70M/5.70M [00:00<00:00, 90.0MB/s]\n",
            "time: 6.95 s (started: 2024-11-08 07:26:03 -05:00)\n"
          ]
        }
      ],
      "source": [
        "# Download auditing standards to a Google Drive folder \"data\" (folder automatically created)\n",
        "!mkdir data\n",
        "!gdown 1-Ex0IQMYtyGPyl-tU6-GOtrcqqoFbZU8 -O \"data/auditing_standards.pdf\""
      ]
    },
    {
      "cell_type": "markdown",
      "source": [
        "You may also upload your own document for querying. Upload it to a Google Drive folder and then load it in Colab using the below codes (select all, then uncomment using \"`Ctrl` + `/`\" for Windows users OR \"`Command` + `/`\" for Mac users):"
      ],
      "metadata": {
        "id": "sOfzGJne2Fec"
      }
    },
    {
      "cell_type": "code",
      "source": [
        "# # Create a folder in your Google Drive called \"documents_wcars\"\n",
        "# # and you want to load the file named 'auditing_standards.pdf' from the conference folder\n",
        "\n",
        "# from google.colab import drive\n",
        "# drive.mount('/content/drive')\n",
        "\n",
        "# # Specify the path to your document in Google Drive\n",
        "# upload_path = '/content/drive/My Drive/documents_wcars/auditing_standards.pdf'\n",
        "\n",
        "# # ... rest of your code to process the documents ..."
      ],
      "metadata": {
        "colab": {
          "base_uri": "https://localhost:8080/"
        },
        "id": "bY_Q4uSY2FE3",
        "outputId": "dcff3fc1-da23-4d53-e8bc-bc8b47bfdae4"
      },
      "execution_count": null,
      "outputs": [
        {
          "output_type": "stream",
          "name": "stdout",
          "text": [
            "Drive already mounted at /content/drive; to attempt to forcibly remount, call drive.mount(\"/content/drive\", force_remount=True).\n",
            "time: 1.62 s (started: 2024-11-01 07:10:33 -04:00)\n"
          ]
        }
      ]
    },
    {
      "cell_type": "markdown",
      "metadata": {
        "id": "W8bwa8_tLN8H"
      },
      "source": [
        "## Document Parsing"
      ]
    },
    {
      "cell_type": "markdown",
      "source": [
        "Document parsing is the process of recognizing/examining data in a document and extracting useful information from it. For instance, data from PDF and Word documents can be extracted using document parser APIs and stored in a JSON file. (source: https://www.edenai.co/post/best-document-parsing-apis)\n",
        "\n",
        "Parsing documents efficiently is a crucial skill, especially when dealing with detailed financial reports or any other data-rich documents. By following this code snippet, you will learn how to extract and preprocess information from a PDF document using LlamaParse, an API service provided by LlamaCloud.\n",
        "\n",
        "Instruction Definition: An instruction is defined to guide the parsing process. The instruction specifies that the document contains detailed financial information and numerous tables, emphasizing precision in answering questions."
      ],
      "metadata": {
        "id": "BQ1cgZ3C6-GZ"
      }
    },
    {
      "cell_type": "code",
      "source": [
        "instruction = \"\"\"The provided document is PCAOB's audit standards.\n",
        "This document provides detailed  information about how an audit should be conducted.\n",
        "Try to be precise while answering the questions.\"\"\""
      ],
      "metadata": {
        "id": "akFX5rVH7POo",
        "colab": {
          "base_uri": "https://localhost:8080/"
        },
        "outputId": "a65949b7-98c1-4872-dddb-98e15b3db0c3"
      },
      "execution_count": 20,
      "outputs": [
        {
          "output_type": "stream",
          "name": "stdout",
          "text": [
            "time: 858 µs (started: 2024-11-08 07:27:58 -05:00)\n"
          ]
        }
      ]
    },
    {
      "cell_type": "markdown",
      "metadata": {
        "id": "gEradUJE7MM2"
      },
      "source": [
        "**Parser Initialization**: The `LlamaParse` class is initialized with an API key, result type (markdown), parsing instructions, and a maximum timeout setting."
      ]
    },
    {
      "cell_type": "code",
      "source": [
        "parser = LlamaParse(\n",
        "    api_key=os.environ[\"LLAMA_PARSE\"],#userdata.get(\"LLAMA_PARSE\"),\n",
        "    result_type=\"markdown\",\n",
        "    parsing_instruction=instruction,\n",
        "    max_timeout=5000,\n",
        ")"
      ],
      "metadata": {
        "id": "lPhe0__i7ggl",
        "colab": {
          "base_uri": "https://localhost:8080/"
        },
        "outputId": "ae12016b-3228-409e-f1eb-7a62803d3328"
      },
      "execution_count": 21,
      "outputs": [
        {
          "output_type": "stream",
          "name": "stdout",
          "text": [
            "time: 1.17 ms (started: 2024-11-08 07:28:15 -05:00)\n"
          ]
        }
      ]
    },
    {
      "cell_type": "markdown",
      "metadata": {
        "id": "-p0wiNeW7eC2"
      },
      "source": [
        "**Asynchronous Data Loading**: The auditing standards document is parsed asynchronously. This allows for efficient handling of large documents without blocking the execution of other tasks. The first parsed document is accessed and stored in the `parsed_doc` variable."
      ]
    },
    {
      "cell_type": "code",
      "execution_count": 22,
      "metadata": {
        "colab": {
          "base_uri": "https://localhost:8080/"
        },
        "id": "WFjuLjPiLNkG",
        "outputId": "e1d2c295-fa46-42b3-ed34-3cd765a06906"
      },
      "outputs": [
        {
          "output_type": "stream",
          "name": "stdout",
          "text": [
            "Started parsing the file under job_id 0dc9b6bf-4446-4721-9f6e-f974ec2c3c88\n",
            "time: 1min 8s (started: 2024-11-08 07:28:43 -05:00)\n"
          ]
        }
      ],
      "source": [
        "llama_parse_documents = await parser.aload_data(\"./data/auditing_standards.pdf\")\n",
        "\n",
        "# if you uploaded your own document, comment out the above line and run the below command:\n",
        "\n",
        "# llama_parse_documents = await parser.aload_data(upload_path)\n",
        "\n",
        "parsed_doc = llama_parse_documents[0]"
      ]
    },
    {
      "cell_type": "markdown",
      "metadata": {
        "id": "E9gkMVyd8Mi7"
      },
      "source": [
        "Here we save the first parsed document in our Google Drive folder:"
      ]
    },
    {
      "cell_type": "code",
      "source": [
        "document_path = Path(\"data/parsed_document_audit.md\") # this path leads to a temporary folder in your Google Drive\n",
        "\n",
        "# again, if you are uploading your own document and would like to retrieve the output later, comment out the above line and run the below command:\n",
        "# document_path = Path(\"/content/drive/My Drive/documents_wcars/parsed_document_audit.md\")\n",
        "\n",
        "with document_path.open(\"a\") as f:\n",
        "    f.write(parsed_doc.text)"
      ],
      "metadata": {
        "colab": {
          "base_uri": "https://localhost:8080/"
        },
        "id": "7s7uMuH3xrf7",
        "outputId": "d3fffc39-08af-4011-b0bd-1523da7ac57c"
      },
      "execution_count": 23,
      "outputs": [
        {
          "output_type": "stream",
          "name": "stdout",
          "text": [
            "time: 7.3 ms (started: 2024-11-08 07:29:51 -05:00)\n"
          ]
        }
      ]
    },
    {
      "cell_type": "markdown",
      "metadata": {
        "id": "40IyDAVjRdms"
      },
      "source": [
        "## Text Splitters and Vector Embeddings"
      ]
    },
    {
      "cell_type": "markdown",
      "metadata": {
        "id": "R69BTKBv82Ou"
      },
      "source": [
        "In this part of the script, we use the `UnstructuredMarkdownLoader` class to load and parse a markdown document. By initializing the loader with the path to the document (`document_path`), we can then call the `load()` method to read and process the contents of the markdown file into a structured format. This enables further analysis and manipulation of the document's data within our application. The `loaded_documents` variable will contain the parsed content, ready for subsequent steps in our workflow."
      ]
    },
    {
      "cell_type": "code",
      "execution_count": 24,
      "metadata": {
        "colab": {
          "base_uri": "https://localhost:8080/"
        },
        "id": "SQI7oZ-nRgbz",
        "outputId": "41a11254-38d0-4fca-b11d-ce782f632e38"
      },
      "outputs": [
        {
          "output_type": "stream",
          "name": "stderr",
          "text": [
            "[nltk_data] Downloading package averaged_perceptron_tagger to\n",
            "[nltk_data]     /root/nltk_data...\n",
            "[nltk_data]   Unzipping taggers/averaged_perceptron_tagger.zip.\n"
          ]
        },
        {
          "output_type": "stream",
          "name": "stdout",
          "text": [
            "time: 17.6 s (started: 2024-11-08 07:31:10 -05:00)\n"
          ]
        }
      ],
      "source": [
        "loader = UnstructuredMarkdownLoader(document_path)\n",
        "loaded_documents = loader.load()"
      ]
    },
    {
      "cell_type": "markdown",
      "metadata": {
        "id": "b_Cy29Gn-lJ0"
      },
      "source": [
        "The parsed document is too lengthy to be efficiently queried using an LLM, so we need to break it into smaller, manageable chunks. The key is that the LLM will utilize the chunk containing the most relevant information, determined by the similarity between the user's question and each chunk.\n",
        "\n",
        "To achieve this, we use LangChain's `RecursiveCharacterTextSplitter` to split the text into smaller segments:"
      ]
    },
    {
      "cell_type": "code",
      "execution_count": 25,
      "metadata": {
        "colab": {
          "base_uri": "https://localhost:8080/"
        },
        "id": "jgTXbB7HRoA1",
        "outputId": "b32cc457-51c3-4e75-cda0-e6e0948cba26"
      },
      "outputs": [
        {
          "output_type": "execute_result",
          "data": {
            "text/plain": [
              "296"
            ]
          },
          "metadata": {},
          "execution_count": 25
        },
        {
          "output_type": "stream",
          "name": "stdout",
          "text": [
            "time: 63.1 ms (started: 2024-11-08 07:32:21 -05:00)\n"
          ]
        }
      ],
      "source": [
        "# Note: free Groq queries have limit of 6000 tokens per minute of context input\n",
        "text_splitter = RecursiveCharacterTextSplitter(chunk_size=6000, chunk_overlap=128)# previous parameter setting: (chunk_size=2048, chunk_overlap=128)\n",
        "docs = text_splitter.split_documents(loaded_documents)\n",
        "len(docs)"
      ]
    },
    {
      "cell_type": "markdown",
      "metadata": {
        "id": "apV_lXLi_cL9"
      },
      "source": [
        "To better capture the meaning of each we will use vector embeddings to compare against the user's question and determine the similarity and relevance of the information.\n",
        "\n",
        "We first use `FastEmbedEmbeddings` and specify the model as `BAAI/bge-base-en-v1.5`:"
      ]
    },
    {
      "cell_type": "code",
      "execution_count": 26,
      "metadata": {
        "colab": {
          "base_uri": "https://localhost:8080/",
          "height": 226,
          "referenced_widgets": [
            "e4978ae73fbe43589e7151282f6b8702",
            "d29b6a5f7b0c4a629af5daceac40e558",
            "18df46d69b0740f8814675b0afd94d09",
            "f6493519470e4ef2acb57ca147297f4f",
            "8d91cb392d12428981b2062ad4c12cc4",
            "da5b8f1d288349b79283690a02ec87d6",
            "ebe3e04913b84f9f9694acd29c11f29f",
            "b84d0327a02b44a18171cc8c1ea6b461",
            "a5f79f054183489aababd58fea402576",
            "ed91f22b719b4af38fe91d6cba8dc697",
            "ee7a93b9074140a1bfe4631960ddc43e",
            "a86b24417a824c35971a7a9f76b2a205",
            "01327beea86143f4b08d426a0afaf4ea",
            "68c95a3f53bc4bbd9d762a6961e088e8",
            "6a8fa4085b334b5d9deeb008e51d3b8d",
            "a0bd0994a751476a8bc104bfc9fdab87",
            "38f7686685534d15b58f17c389baf4dd",
            "3fb610d281344022ad88f018a00cce5d",
            "ef662d08e6bd485d9f0141228c7c9cc2",
            "e6156f8328924550a2b000254d26e48c",
            "92af07ed7ed1469da37e06370169ed71",
            "2d07e4a0d42c4ad2838164cfde3e6257",
            "8b4217606ae3414bbe3b7c6ae6fcd535",
            "293d2cc09cd7426ca0dfbeecfa97f889",
            "c2033831f1d44e15800de54ef0a8a341",
            "12aad61aeb3a482db124d97845f7d4f0",
            "0a15ef11706a4f2f8e2ef2a13de081e4",
            "c861f52c4adf4977aadafcef1ff96dc9",
            "3b05c877d3b1447c9fd8ab69ec243a50",
            "4eeee97937a34ae296e2374815e8e383",
            "dfb2f29c5b7d4d3bab77fa037fe67de2",
            "db24c3b043ab4abab883f5c1180fd7b2",
            "9545c8c2694547488bc8847d061f59bd",
            "bd0cb5d314514b4aa5b054e6c26c86a1",
            "67edd148277f44e0bacb4fba03c15d78",
            "1e86b65fdec940799e08fc2f7b3443d3",
            "326e5af6435b45efbc1e749faaca16ed",
            "85daca846d384328b95788781ac8ae81",
            "d699dd363aa142a6b1622ccaad0be8fc",
            "cf237c10c55f4e409c2cd43ed42e1047",
            "9b55677323514383bda126edbd60c13a",
            "0b4977d826f441039e74c62e7197a7c5",
            "39d9522a04a04aeda4b62d15f4c995b9",
            "854ca73256d04bcca7c1d8a968b0cba8",
            "e3a28f22412e481c81165e015dd27399",
            "8136f44d6d014ce4b9015cb29d3b44bb",
            "dca168c6278045afb55a5f91da4c0ab8",
            "ec1b525a092740679271226aad25886e",
            "d6ae2a701597480a886d003e5192d093",
            "ff09378bc07a40a38dd5e57280fd03d3",
            "33cfe462665c4bd3a02a623b6e7b4d4f",
            "f916836e0c24437f84f5472342dd65ca",
            "e80171edce5f491eaae5dd47700fd450",
            "9e0ca91d61544a339a3e5663196edd2d",
            "99ce94fcc0ac4b8baac1ee185d41f3c2",
            "55374830668e42fbbc44788bc30f7610",
            "50520ce9b37f4a4fbd098f6f97d59703",
            "6ed23b7e827f4416aece3c9e05293c4b",
            "bbe74bdd407a4651926936b0aabd9f46",
            "a6b0cea67f174965b575949b212ba555",
            "27e600c7c25d411a87826ec1c8ef7f87",
            "4e30d9f60495424182310b6697b11f4d",
            "0c876abb21b8407b836309b494120b72",
            "d40cfd51ec784b178bf0cf287687ca0a",
            "ddc85652bd734b4d83e6a8918a258fbf",
            "76e77a9a6b054e72bdec4e09607a2cfc"
          ]
        },
        "id": "_j3b6v3FdF6w",
        "outputId": "b0951cc4-2379-4a34-84c8-951f4727bafc"
      },
      "outputs": [
        {
          "output_type": "display_data",
          "data": {
            "text/plain": [
              "Fetching 5 files:   0%|          | 0/5 [00:00<?, ?it/s]"
            ],
            "application/vnd.jupyter.widget-view+json": {
              "version_major": 2,
              "version_minor": 0,
              "model_id": "e4978ae73fbe43589e7151282f6b8702"
            }
          },
          "metadata": {}
        },
        {
          "output_type": "display_data",
          "data": {
            "text/plain": [
              "special_tokens_map.json:   0%|          | 0.00/695 [00:00<?, ?B/s]"
            ],
            "application/vnd.jupyter.widget-view+json": {
              "version_major": 2,
              "version_minor": 0,
              "model_id": "a86b24417a824c35971a7a9f76b2a205"
            }
          },
          "metadata": {}
        },
        {
          "output_type": "display_data",
          "data": {
            "text/plain": [
              "config.json:   0%|          | 0.00/706 [00:00<?, ?B/s]"
            ],
            "application/vnd.jupyter.widget-view+json": {
              "version_major": 2,
              "version_minor": 0,
              "model_id": "8b4217606ae3414bbe3b7c6ae6fcd535"
            }
          },
          "metadata": {}
        },
        {
          "output_type": "display_data",
          "data": {
            "text/plain": [
              "tokenizer.json:   0%|          | 0.00/711k [00:00<?, ?B/s]"
            ],
            "application/vnd.jupyter.widget-view+json": {
              "version_major": 2,
              "version_minor": 0,
              "model_id": "bd0cb5d314514b4aa5b054e6c26c86a1"
            }
          },
          "metadata": {}
        },
        {
          "output_type": "display_data",
          "data": {
            "text/plain": [
              "tokenizer_config.json:   0%|          | 0.00/1.24k [00:00<?, ?B/s]"
            ],
            "application/vnd.jupyter.widget-view+json": {
              "version_major": 2,
              "version_minor": 0,
              "model_id": "e3a28f22412e481c81165e015dd27399"
            }
          },
          "metadata": {}
        },
        {
          "output_type": "display_data",
          "data": {
            "text/plain": [
              "model_optimized.onnx:   0%|          | 0.00/66.5M [00:00<?, ?B/s]"
            ],
            "application/vnd.jupyter.widget-view+json": {
              "version_major": 2,
              "version_minor": 0,
              "model_id": "55374830668e42fbbc44788bc30f7610"
            }
          },
          "metadata": {}
        },
        {
          "output_type": "stream",
          "name": "stdout",
          "text": [
            "time: 3.6 s (started: 2024-11-08 07:32:25 -05:00)\n"
          ]
        }
      ],
      "source": [
        "embeddings = FastEmbedEmbeddings(model_name=\"BAAI/bge-small-en-v1.5\")"
      ]
    },
    {
      "cell_type": "markdown",
      "metadata": {
        "id": "tfgIFRpPAN8b"
      },
      "source": [
        "You might ask why the Meta Llama 3 is not used for generating embeddings. Llama 3 is primarily designed as a large language model (LLM) for generating text, understanding context, and performing natural language processing tasks. While it can generate embeddings, using specialized models for embeddings often offers several advantages:\n",
        "\n",
        "* Efficiency: Models like `BAAI/bge-base-en-v1.5` are specifically optimized for generating embeddings quickly and efficiently, making them more suitable for tasks requiring large-scale embedding generation.\n",
        "\n",
        "* Specialization: Embedding models are trained to create dense vector representations that capture semantic meaning in a way that's optimized for similarity searches and clustering. They excel in tasks where understanding the relationship between different pieces of text is crucial.\n",
        "\n",
        "* Performance: Dedicated embedding models often have better performance metrics (e.g., accuracy, precision, recall) for embedding tasks compared to general-purpose language models.\n",
        "\n",
        "* Resource Management: Using a specialized embedding model can be more resource-efficient, reducing computational overhead and memory usage compared to using a large language model like Llama3 for the same purpose.\n",
        "\n",
        "Thus, in this script, the `FastEmbedEmbeddings` class with the `BAAI/bge-base-en-v1.5 model` is used to generate embeddings, ensuring efficiency and high performance for the embedding tasks required in the workflow."
      ]
    },
    {
      "cell_type": "markdown",
      "metadata": {
        "id": "aa1M1S1AAVWZ"
      },
      "source": [
        "Qdrant is an open-source vector search engine and database. It specializes in managing and querying vector embeddings efficiently. We create a temp folder `./db5` to store the vector database for the chunks:"
      ]
    },
    {
      "cell_type": "markdown",
      "source": [
        "Running the below codes takes 3-4 minutes."
      ],
      "metadata": {
        "id": "Vk1jP38F-cah"
      }
    },
    {
      "cell_type": "code",
      "execution_count": 29,
      "metadata": {
        "colab": {
          "base_uri": "https://localhost:8080/",
          "height": 408
        },
        "id": "0QMyO5YBdO7g",
        "outputId": "e8813271-0e18-4371-e6c6-53fb04897316",
        "collapsed": true
      },
      "outputs": [
        {
          "output_type": "error",
          "ename": "RuntimeException",
          "evalue": "[ONNXRuntimeError] : 6 : RUNTIME_EXCEPTION : Non-zero status code returned while running SkipLayerNormalization node. Name:'SkipLayerNorm_AddBias_0' Status Message: /onnxruntime_src/include/onnxruntime/core/framework/op_kernel_context.h:42 const T* onnxruntime::OpKernelContext::Input(int) const [with T = onnxruntime::Tensor] Missing Input: encoder.layer.0.attention.output.LayerNorm.weight\n",
          "traceback": [
            "\u001b[0;31m---------------------------------------------------------------------------\u001b[0m",
            "\u001b[0;31mRuntimeException\u001b[0m                          Traceback (most recent call last)",
            "\u001b[0;32m<ipython-input-29-a1ace4164beb>\u001b[0m in \u001b[0;36m<cell line: 1>\u001b[0;34m()\u001b[0m\n\u001b[0;32m----> 1\u001b[0;31m qdrant = Qdrant.from_documents(\n\u001b[0m\u001b[1;32m      2\u001b[0m     \u001b[0mdocs\u001b[0m\u001b[0;34m,\u001b[0m\u001b[0;34m\u001b[0m\u001b[0;34m\u001b[0m\u001b[0m\n\u001b[1;32m      3\u001b[0m     \u001b[0membeddings\u001b[0m\u001b[0;34m,\u001b[0m\u001b[0;34m\u001b[0m\u001b[0;34m\u001b[0m\u001b[0m\n\u001b[1;32m      4\u001b[0m     \u001b[0;31m# location=\":memory:\",\u001b[0m\u001b[0;34m\u001b[0m\u001b[0;34m\u001b[0m\u001b[0m\n\u001b[1;32m      5\u001b[0m     \u001b[0mpath\u001b[0m\u001b[0;34m=\u001b[0m\u001b[0;34m\"./db5\"\u001b[0m\u001b[0;34m,\u001b[0m\u001b[0;34m\u001b[0m\u001b[0;34m\u001b[0m\u001b[0m\n",
            "\u001b[0;32m/usr/local/lib/python3.10/dist-packages/langchain_core/vectorstores.py\u001b[0m in \u001b[0;36mfrom_documents\u001b[0;34m(cls, documents, embedding, **kwargs)\u001b[0m\n\u001b[1;32m    548\u001b[0m         \u001b[0mtexts\u001b[0m \u001b[0;34m=\u001b[0m \u001b[0;34m[\u001b[0m\u001b[0md\u001b[0m\u001b[0;34m.\u001b[0m\u001b[0mpage_content\u001b[0m \u001b[0;32mfor\u001b[0m \u001b[0md\u001b[0m \u001b[0;32min\u001b[0m \u001b[0mdocuments\u001b[0m\u001b[0;34m]\u001b[0m\u001b[0;34m\u001b[0m\u001b[0;34m\u001b[0m\u001b[0m\n\u001b[1;32m    549\u001b[0m         \u001b[0mmetadatas\u001b[0m \u001b[0;34m=\u001b[0m \u001b[0;34m[\u001b[0m\u001b[0md\u001b[0m\u001b[0;34m.\u001b[0m\u001b[0mmetadata\u001b[0m \u001b[0;32mfor\u001b[0m \u001b[0md\u001b[0m \u001b[0;32min\u001b[0m \u001b[0mdocuments\u001b[0m\u001b[0;34m]\u001b[0m\u001b[0;34m\u001b[0m\u001b[0;34m\u001b[0m\u001b[0m\n\u001b[0;32m--> 550\u001b[0;31m         \u001b[0;32mreturn\u001b[0m \u001b[0mcls\u001b[0m\u001b[0;34m.\u001b[0m\u001b[0mfrom_texts\u001b[0m\u001b[0;34m(\u001b[0m\u001b[0mtexts\u001b[0m\u001b[0;34m,\u001b[0m \u001b[0membedding\u001b[0m\u001b[0;34m,\u001b[0m \u001b[0mmetadatas\u001b[0m\u001b[0;34m=\u001b[0m\u001b[0mmetadatas\u001b[0m\u001b[0;34m,\u001b[0m \u001b[0;34m**\u001b[0m\u001b[0mkwargs\u001b[0m\u001b[0;34m)\u001b[0m\u001b[0;34m\u001b[0m\u001b[0;34m\u001b[0m\u001b[0m\n\u001b[0m\u001b[1;32m    551\u001b[0m \u001b[0;34m\u001b[0m\u001b[0m\n\u001b[1;32m    552\u001b[0m     \u001b[0;34m@\u001b[0m\u001b[0mclassmethod\u001b[0m\u001b[0;34m\u001b[0m\u001b[0;34m\u001b[0m\u001b[0m\n",
            "\u001b[0;32m/usr/local/lib/python3.10/dist-packages/langchain_community/vectorstores/qdrant.py\u001b[0m in \u001b[0;36mfrom_texts\u001b[0;34m(cls, texts, embedding, metadatas, ids, location, url, port, grpc_port, prefer_grpc, https, api_key, prefix, timeout, host, path, collection_name, distance_func, content_payload_key, metadata_payload_key, vector_name, batch_size, shard_number, replication_factor, write_consistency_factor, on_disk_payload, hnsw_config, optimizers_config, wal_config, quantization_config, init_from, on_disk, force_recreate, **kwargs)\u001b[0m\n\u001b[1;32m   1333\u001b[0m                 \u001b[0mqdrant\u001b[0m \u001b[0;34m=\u001b[0m \u001b[0mQdrant\u001b[0m\u001b[0;34m.\u001b[0m\u001b[0mfrom_texts\u001b[0m\u001b[0;34m(\u001b[0m\u001b[0mtexts\u001b[0m\u001b[0;34m,\u001b[0m \u001b[0membeddings\u001b[0m\u001b[0;34m,\u001b[0m \u001b[0;34m\"localhost\"\u001b[0m\u001b[0;34m)\u001b[0m\u001b[0;34m\u001b[0m\u001b[0;34m\u001b[0m\u001b[0m\n\u001b[1;32m   1334\u001b[0m         \"\"\"\n\u001b[0;32m-> 1335\u001b[0;31m         qdrant = cls.construct_instance(\n\u001b[0m\u001b[1;32m   1336\u001b[0m             \u001b[0mtexts\u001b[0m\u001b[0;34m,\u001b[0m\u001b[0;34m\u001b[0m\u001b[0;34m\u001b[0m\u001b[0m\n\u001b[1;32m   1337\u001b[0m             \u001b[0membedding\u001b[0m\u001b[0;34m,\u001b[0m\u001b[0;34m\u001b[0m\u001b[0;34m\u001b[0m\u001b[0m\n",
            "\u001b[0;32m/usr/local/lib/python3.10/dist-packages/langchain_community/vectorstores/qdrant.py\u001b[0m in \u001b[0;36mconstruct_instance\u001b[0;34m(cls, texts, embedding, location, url, port, grpc_port, prefer_grpc, https, api_key, prefix, timeout, host, path, collection_name, distance_func, content_payload_key, metadata_payload_key, vector_name, shard_number, replication_factor, write_consistency_factor, on_disk_payload, hnsw_config, optimizers_config, wal_config, quantization_config, init_from, on_disk, force_recreate, **kwargs)\u001b[0m\n\u001b[1;32m   1635\u001b[0m \u001b[0;34m\u001b[0m\u001b[0m\n\u001b[1;32m   1636\u001b[0m         \u001b[0;31m# Just do a single quick embedding to get vector size\u001b[0m\u001b[0;34m\u001b[0m\u001b[0;34m\u001b[0m\u001b[0m\n\u001b[0;32m-> 1637\u001b[0;31m         \u001b[0mpartial_embeddings\u001b[0m \u001b[0;34m=\u001b[0m \u001b[0membedding\u001b[0m\u001b[0;34m.\u001b[0m\u001b[0membed_documents\u001b[0m\u001b[0;34m(\u001b[0m\u001b[0mtexts\u001b[0m\u001b[0;34m[\u001b[0m\u001b[0;34m:\u001b[0m\u001b[0;36m1\u001b[0m\u001b[0;34m]\u001b[0m\u001b[0;34m)\u001b[0m\u001b[0;34m\u001b[0m\u001b[0;34m\u001b[0m\u001b[0m\n\u001b[0m\u001b[1;32m   1638\u001b[0m         \u001b[0mvector_size\u001b[0m \u001b[0;34m=\u001b[0m \u001b[0mlen\u001b[0m\u001b[0;34m(\u001b[0m\u001b[0mpartial_embeddings\u001b[0m\u001b[0;34m[\u001b[0m\u001b[0;36m0\u001b[0m\u001b[0;34m]\u001b[0m\u001b[0;34m)\u001b[0m\u001b[0;34m\u001b[0m\u001b[0;34m\u001b[0m\u001b[0m\n\u001b[1;32m   1639\u001b[0m         \u001b[0mcollection_name\u001b[0m \u001b[0;34m=\u001b[0m \u001b[0mcollection_name\u001b[0m \u001b[0;32mor\u001b[0m \u001b[0muuid\u001b[0m\u001b[0;34m.\u001b[0m\u001b[0muuid4\u001b[0m\u001b[0;34m(\u001b[0m\u001b[0;34m)\u001b[0m\u001b[0;34m.\u001b[0m\u001b[0mhex\u001b[0m\u001b[0;34m\u001b[0m\u001b[0;34m\u001b[0m\u001b[0m\n",
            "\u001b[0;32m/usr/local/lib/python3.10/dist-packages/langchain_community/embeddings/fastembed.py\u001b[0m in \u001b[0;36membed_documents\u001b[0;34m(self, texts)\u001b[0m\n\u001b[1;32m    105\u001b[0m         \u001b[0;32melse\u001b[0m\u001b[0;34m:\u001b[0m\u001b[0;34m\u001b[0m\u001b[0;34m\u001b[0m\u001b[0m\n\u001b[1;32m    106\u001b[0m             \u001b[0membeddings\u001b[0m \u001b[0;34m=\u001b[0m \u001b[0mself\u001b[0m\u001b[0;34m.\u001b[0m\u001b[0m_model\u001b[0m\u001b[0;34m.\u001b[0m\u001b[0membed\u001b[0m\u001b[0;34m(\u001b[0m\u001b[0mtexts\u001b[0m\u001b[0;34m)\u001b[0m\u001b[0;34m\u001b[0m\u001b[0;34m\u001b[0m\u001b[0m\n\u001b[0;32m--> 107\u001b[0;31m         \u001b[0;32mreturn\u001b[0m \u001b[0;34m[\u001b[0m\u001b[0me\u001b[0m\u001b[0;34m.\u001b[0m\u001b[0mtolist\u001b[0m\u001b[0;34m(\u001b[0m\u001b[0;34m)\u001b[0m \u001b[0;32mfor\u001b[0m \u001b[0me\u001b[0m \u001b[0;32min\u001b[0m \u001b[0membeddings\u001b[0m\u001b[0;34m]\u001b[0m\u001b[0;34m\u001b[0m\u001b[0;34m\u001b[0m\u001b[0m\n\u001b[0m\u001b[1;32m    108\u001b[0m \u001b[0;34m\u001b[0m\u001b[0m\n\u001b[1;32m    109\u001b[0m     \u001b[0;32mdef\u001b[0m \u001b[0membed_query\u001b[0m\u001b[0;34m(\u001b[0m\u001b[0mself\u001b[0m\u001b[0;34m,\u001b[0m \u001b[0mtext\u001b[0m\u001b[0;34m:\u001b[0m \u001b[0mstr\u001b[0m\u001b[0;34m)\u001b[0m \u001b[0;34m->\u001b[0m \u001b[0mList\u001b[0m\u001b[0;34m[\u001b[0m\u001b[0mfloat\u001b[0m\u001b[0;34m]\u001b[0m\u001b[0;34m:\u001b[0m\u001b[0;34m\u001b[0m\u001b[0;34m\u001b[0m\u001b[0m\n",
            "\u001b[0;32m/usr/local/lib/python3.10/dist-packages/langchain_community/embeddings/fastembed.py\u001b[0m in \u001b[0;36m<listcomp>\u001b[0;34m(.0)\u001b[0m\n\u001b[1;32m    105\u001b[0m         \u001b[0;32melse\u001b[0m\u001b[0;34m:\u001b[0m\u001b[0;34m\u001b[0m\u001b[0;34m\u001b[0m\u001b[0m\n\u001b[1;32m    106\u001b[0m             \u001b[0membeddings\u001b[0m \u001b[0;34m=\u001b[0m \u001b[0mself\u001b[0m\u001b[0;34m.\u001b[0m\u001b[0m_model\u001b[0m\u001b[0;34m.\u001b[0m\u001b[0membed\u001b[0m\u001b[0;34m(\u001b[0m\u001b[0mtexts\u001b[0m\u001b[0;34m)\u001b[0m\u001b[0;34m\u001b[0m\u001b[0;34m\u001b[0m\u001b[0m\n\u001b[0;32m--> 107\u001b[0;31m         \u001b[0;32mreturn\u001b[0m \u001b[0;34m[\u001b[0m\u001b[0me\u001b[0m\u001b[0;34m.\u001b[0m\u001b[0mtolist\u001b[0m\u001b[0;34m(\u001b[0m\u001b[0;34m)\u001b[0m \u001b[0;32mfor\u001b[0m \u001b[0me\u001b[0m \u001b[0;32min\u001b[0m \u001b[0membeddings\u001b[0m\u001b[0;34m]\u001b[0m\u001b[0;34m\u001b[0m\u001b[0;34m\u001b[0m\u001b[0m\n\u001b[0m\u001b[1;32m    108\u001b[0m \u001b[0;34m\u001b[0m\u001b[0m\n\u001b[1;32m    109\u001b[0m     \u001b[0;32mdef\u001b[0m \u001b[0membed_query\u001b[0m\u001b[0;34m(\u001b[0m\u001b[0mself\u001b[0m\u001b[0;34m,\u001b[0m \u001b[0mtext\u001b[0m\u001b[0;34m:\u001b[0m \u001b[0mstr\u001b[0m\u001b[0;34m)\u001b[0m \u001b[0;34m->\u001b[0m \u001b[0mList\u001b[0m\u001b[0;34m[\u001b[0m\u001b[0mfloat\u001b[0m\u001b[0;34m]\u001b[0m\u001b[0;34m:\u001b[0m\u001b[0;34m\u001b[0m\u001b[0;34m\u001b[0m\u001b[0m\n",
            "\u001b[0;32m/usr/local/lib/python3.10/dist-packages/fastembed/text/text_embedding.py\u001b[0m in \u001b[0;36membed\u001b[0;34m(self, documents, batch_size, parallel, **kwargs)\u001b[0m\n\u001b[1;32m     91\u001b[0m             \u001b[0mList\u001b[0m \u001b[0mof\u001b[0m \u001b[0membeddings\u001b[0m\u001b[0;34m,\u001b[0m \u001b[0mone\u001b[0m \u001b[0mper\u001b[0m \u001b[0mdocument\u001b[0m\u001b[0;34m\u001b[0m\u001b[0;34m\u001b[0m\u001b[0m\n\u001b[1;32m     92\u001b[0m         \"\"\"\n\u001b[0;32m---> 93\u001b[0;31m         \u001b[0;32myield\u001b[0m \u001b[0;32mfrom\u001b[0m \u001b[0mself\u001b[0m\u001b[0;34m.\u001b[0m\u001b[0mmodel\u001b[0m\u001b[0;34m.\u001b[0m\u001b[0membed\u001b[0m\u001b[0;34m(\u001b[0m\u001b[0mdocuments\u001b[0m\u001b[0;34m,\u001b[0m \u001b[0mbatch_size\u001b[0m\u001b[0;34m,\u001b[0m \u001b[0mparallel\u001b[0m\u001b[0;34m,\u001b[0m \u001b[0;34m**\u001b[0m\u001b[0mkwargs\u001b[0m\u001b[0;34m)\u001b[0m\u001b[0;34m\u001b[0m\u001b[0;34m\u001b[0m\u001b[0m\n\u001b[0m",
            "\u001b[0;32m/usr/local/lib/python3.10/dist-packages/fastembed/text/onnx_embedding.py\u001b[0m in \u001b[0;36membed\u001b[0;34m(self, documents, batch_size, parallel, **kwargs)\u001b[0m\n\u001b[1;32m    264\u001b[0m             \u001b[0mList\u001b[0m \u001b[0mof\u001b[0m \u001b[0membeddings\u001b[0m\u001b[0;34m,\u001b[0m \u001b[0mone\u001b[0m \u001b[0mper\u001b[0m \u001b[0mdocument\u001b[0m\u001b[0;34m\u001b[0m\u001b[0;34m\u001b[0m\u001b[0m\n\u001b[1;32m    265\u001b[0m         \"\"\"\n\u001b[0;32m--> 266\u001b[0;31m         yield from self._embed_documents(\n\u001b[0m\u001b[1;32m    267\u001b[0m             \u001b[0mmodel_name\u001b[0m\u001b[0;34m=\u001b[0m\u001b[0mself\u001b[0m\u001b[0;34m.\u001b[0m\u001b[0mmodel_name\u001b[0m\u001b[0;34m,\u001b[0m\u001b[0;34m\u001b[0m\u001b[0;34m\u001b[0m\u001b[0m\n\u001b[1;32m    268\u001b[0m             \u001b[0mcache_dir\u001b[0m\u001b[0;34m=\u001b[0m\u001b[0mstr\u001b[0m\u001b[0;34m(\u001b[0m\u001b[0mself\u001b[0m\u001b[0;34m.\u001b[0m\u001b[0mcache_dir\u001b[0m\u001b[0;34m)\u001b[0m\u001b[0;34m,\u001b[0m\u001b[0;34m\u001b[0m\u001b[0;34m\u001b[0m\u001b[0m\n",
            "\u001b[0;32m/usr/local/lib/python3.10/dist-packages/fastembed/common/onnx_model.py\u001b[0m in \u001b[0;36m_embed_documents\u001b[0;34m(self, model_name, cache_dir, documents, batch_size, parallel)\u001b[0m\n\u001b[1;32m    124\u001b[0m         \u001b[0;32mif\u001b[0m \u001b[0mparallel\u001b[0m \u001b[0;32mis\u001b[0m \u001b[0;32mNone\u001b[0m \u001b[0;32mor\u001b[0m \u001b[0mis_small\u001b[0m\u001b[0;34m:\u001b[0m\u001b[0;34m\u001b[0m\u001b[0;34m\u001b[0m\u001b[0m\n\u001b[1;32m    125\u001b[0m             \u001b[0;32mfor\u001b[0m \u001b[0mbatch\u001b[0m \u001b[0;32min\u001b[0m \u001b[0miter_batch\u001b[0m\u001b[0;34m(\u001b[0m\u001b[0mdocuments\u001b[0m\u001b[0;34m,\u001b[0m \u001b[0mbatch_size\u001b[0m\u001b[0;34m)\u001b[0m\u001b[0;34m:\u001b[0m\u001b[0;34m\u001b[0m\u001b[0;34m\u001b[0m\u001b[0m\n\u001b[0;32m--> 126\u001b[0;31m                 \u001b[0;32myield\u001b[0m \u001b[0;32mfrom\u001b[0m \u001b[0mself\u001b[0m\u001b[0;34m.\u001b[0m\u001b[0m_post_process_onnx_output\u001b[0m\u001b[0;34m(\u001b[0m\u001b[0mself\u001b[0m\u001b[0;34m.\u001b[0m\u001b[0monnx_embed\u001b[0m\u001b[0;34m(\u001b[0m\u001b[0mbatch\u001b[0m\u001b[0;34m)\u001b[0m\u001b[0;34m)\u001b[0m\u001b[0;34m\u001b[0m\u001b[0;34m\u001b[0m\u001b[0m\n\u001b[0m\u001b[1;32m    127\u001b[0m         \u001b[0;32melse\u001b[0m\u001b[0;34m:\u001b[0m\u001b[0;34m\u001b[0m\u001b[0;34m\u001b[0m\u001b[0m\n\u001b[1;32m    128\u001b[0m             \u001b[0mstart_method\u001b[0m \u001b[0;34m=\u001b[0m \u001b[0;34m\"forkserver\"\u001b[0m \u001b[0;32mif\u001b[0m \u001b[0;34m\"forkserver\"\u001b[0m \u001b[0;32min\u001b[0m \u001b[0mget_all_start_methods\u001b[0m\u001b[0;34m(\u001b[0m\u001b[0;34m)\u001b[0m \u001b[0;32melse\u001b[0m \u001b[0;34m\"spawn\"\u001b[0m\u001b[0;34m\u001b[0m\u001b[0;34m\u001b[0m\u001b[0m\n",
            "\u001b[0;32m/usr/local/lib/python3.10/dist-packages/fastembed/common/onnx_model.py\u001b[0m in \u001b[0;36monnx_embed\u001b[0;34m(self, documents)\u001b[0m\n\u001b[1;32m     97\u001b[0m         \u001b[0monnx_input\u001b[0m \u001b[0;34m=\u001b[0m \u001b[0mself\u001b[0m\u001b[0;34m.\u001b[0m\u001b[0m_preprocess_onnx_input\u001b[0m\u001b[0;34m(\u001b[0m\u001b[0monnx_input\u001b[0m\u001b[0;34m)\u001b[0m\u001b[0;34m\u001b[0m\u001b[0;34m\u001b[0m\u001b[0m\n\u001b[1;32m     98\u001b[0m \u001b[0;34m\u001b[0m\u001b[0m\n\u001b[0;32m---> 99\u001b[0;31m         \u001b[0mmodel_output\u001b[0m \u001b[0;34m=\u001b[0m \u001b[0mself\u001b[0m\u001b[0;34m.\u001b[0m\u001b[0mmodel\u001b[0m\u001b[0;34m.\u001b[0m\u001b[0mrun\u001b[0m\u001b[0;34m(\u001b[0m\u001b[0;32mNone\u001b[0m\u001b[0;34m,\u001b[0m \u001b[0monnx_input\u001b[0m\u001b[0;34m)\u001b[0m\u001b[0;34m\u001b[0m\u001b[0;34m\u001b[0m\u001b[0m\n\u001b[0m\u001b[1;32m    100\u001b[0m         \u001b[0membeddings\u001b[0m \u001b[0;34m=\u001b[0m \u001b[0mmodel_output\u001b[0m\u001b[0;34m[\u001b[0m\u001b[0;36m0\u001b[0m\u001b[0;34m]\u001b[0m\u001b[0;34m\u001b[0m\u001b[0;34m\u001b[0m\u001b[0m\n\u001b[1;32m    101\u001b[0m         \u001b[0;32mreturn\u001b[0m \u001b[0membeddings\u001b[0m\u001b[0;34m,\u001b[0m \u001b[0mattention_mask\u001b[0m\u001b[0;34m\u001b[0m\u001b[0;34m\u001b[0m\u001b[0m\n",
            "\u001b[0;32m/usr/local/lib/python3.10/dist-packages/onnxruntime/capi/onnxruntime_inference_collection.py\u001b[0m in \u001b[0;36mrun\u001b[0;34m(self, output_names, input_feed, run_options)\u001b[0m\n\u001b[1;32m    264\u001b[0m \u001b[0;34m\u001b[0m\u001b[0m\n\u001b[1;32m    265\u001b[0m         \u001b[0;34m:\u001b[0m\u001b[0mparam\u001b[0m \u001b[0moutput_names\u001b[0m\u001b[0;34m:\u001b[0m \u001b[0mname\u001b[0m \u001b[0mof\u001b[0m \u001b[0mthe\u001b[0m \u001b[0moutputs\u001b[0m\u001b[0;34m\u001b[0m\u001b[0;34m\u001b[0m\u001b[0m\n\u001b[0;32m--> 266\u001b[0;31m         \u001b[0;34m:\u001b[0m\u001b[0mparam\u001b[0m \u001b[0minput_dict_ort_values\u001b[0m\u001b[0;34m:\u001b[0m \u001b[0mdictionary\u001b[0m\u001b[0;31m \u001b[0m\u001b[0;31m`\u001b[0m\u001b[0;31m`\u001b[0m\u001b[0;34m{\u001b[0m \u001b[0minput_name\u001b[0m\u001b[0;34m:\u001b[0m \u001b[0minput_ort_value\u001b[0m \u001b[0;34m}\u001b[0m\u001b[0;31m`\u001b[0m\u001b[0;31m`\u001b[0m\u001b[0;34m\u001b[0m\u001b[0;34m\u001b[0m\u001b[0m\n\u001b[0m\u001b[1;32m    267\u001b[0m             \u001b[0mSee\u001b[0m\u001b[0;31m \u001b[0m\u001b[0;31m`\u001b[0m\u001b[0;31m`\u001b[0m\u001b[0mOrtValue\u001b[0m\u001b[0;31m`\u001b[0m\u001b[0;31m`\u001b[0m \u001b[0;32mclass\u001b[0m \u001b[0mhow\u001b[0m \u001b[0mto\u001b[0m \u001b[0mcreate\u001b[0m\u001b[0;31m \u001b[0m\u001b[0;31m`\u001b[0m\u001b[0mOrtValue\u001b[0m\u001b[0;31m`\u001b[0m\u001b[0;34m\u001b[0m\u001b[0;34m\u001b[0m\u001b[0m\n\u001b[1;32m    268\u001b[0m             \u001b[0;32mfrom\u001b[0m \u001b[0mnumpy\u001b[0m \u001b[0marray\u001b[0m \u001b[0;32mor\u001b[0m\u001b[0;31m \u001b[0m\u001b[0;31m`\u001b[0m\u001b[0mSparseTensor\u001b[0m\u001b[0;31m`\u001b[0m\u001b[0;34m\u001b[0m\u001b[0;34m\u001b[0m\u001b[0m\n",
            "\u001b[0;31mRuntimeException\u001b[0m: [ONNXRuntimeError] : 6 : RUNTIME_EXCEPTION : Non-zero status code returned while running SkipLayerNormalization node. Name:'SkipLayerNorm_AddBias_0' Status Message: /onnxruntime_src/include/onnxruntime/core/framework/op_kernel_context.h:42 const T* onnxruntime::OpKernelContext::Input(int) const [with T = onnxruntime::Tensor] Missing Input: encoder.layer.0.attention.output.LayerNorm.weight\n"
          ]
        },
        {
          "output_type": "stream",
          "name": "stdout",
          "text": [
            "time: 88.2 ms (started: 2024-11-08 07:37:19 -05:00)\n"
          ]
        }
      ],
      "source": [
        "qdrant = Qdrant.from_documents(\n",
        "    docs,\n",
        "    embeddings,\n",
        "    # location=\":memory:\",\n",
        "    path=\"./db5\",\n",
        "    collection_name=\"document_embeddings\",\n",
        ")"
      ]
    },
    {
      "cell_type": "markdown",
      "metadata": {
        "id": "1a0HkeCuAtZ6"
      },
      "source": [
        "By creating a vector store with Qdrant, we can efficiently store and query embeddings, enabling tasks such as similarity search and clustering based on the semantic content of the documents. This setup optimizes performance and scalability for handling large volumes of text data effectively."
      ]
    },
    {
      "cell_type": "markdown",
      "metadata": {
        "id": "fxzKfuBbAtZ7"
      },
      "source": [
        "In this code section, we load our query together with a \"retriever\" so that we can perform a similarity search using the `qdrant` vector store. It searches for documents similar to the query \"What does the standard say about using specialists in an audit?\" and prints the top results along with their similarity scores. For a demo of the process please refer to the second use case (Meta Earnings)."
      ]
    },
    {
      "cell_type": "code",
      "execution_count": null,
      "metadata": {
        "colab": {
          "base_uri": "https://localhost:8080/"
        },
        "id": "U5ITp18peKxe",
        "outputId": "0146542f-4461-4dd0-a3cd-29885400f4de"
      },
      "outputs": [
        {
          "output_type": "stream",
          "name": "stdout",
          "text": [
            "time: 477 µs (started: 2024-11-01 07:27:20 -04:00)\n"
          ]
        }
      ],
      "source": [
        "query = \"What does the standard say about using specialists in an audit?\""
      ]
    },
    {
      "cell_type": "code",
      "execution_count": null,
      "metadata": {
        "colab": {
          "base_uri": "https://localhost:8080/"
        },
        "id": "1NlIJheCeq6o",
        "outputId": "4d18e460-c3a5-4de4-8232-365022da4328"
      },
      "outputs": [
        {
          "output_type": "stream",
          "name": "stdout",
          "text": [
            "time: 692 µs (started: 2024-11-01 07:27:20 -04:00)\n"
          ]
        }
      ],
      "source": [
        "retriever = qdrant.as_retriever(search_kwargs={\"k\": 5})"
      ]
    },
    {
      "cell_type": "markdown",
      "metadata": {
        "id": "Ubof6Aw2fxom"
      },
      "source": [
        "## Reranking"
      ]
    },
    {
      "cell_type": "markdown",
      "metadata": {
        "id": "4aDqVi6MCL4O"
      },
      "source": [
        "FlashrankRerank specializes in *compressing* large documents into more manageable sizes while preserving essential information. This compression reduces the computational resources needed for processing and improves the efficiency of document retrieval tasks.\n",
        "\n",
        "In the below section, a `FlashrankRerank` compressor is initialized with a specific model (`ms-marco-MiniLM-L-12-v2`). This compressor is then used to create a `ContextualCompressionRetriever` (`compression_retriever`), which integrates both the retrieval and compression capabilities for further processing of document data."
      ]
    },
    {
      "cell_type": "code",
      "execution_count": null,
      "metadata": {
        "colab": {
          "base_uri": "https://localhost:8080/"
        },
        "id": "SwSLnOIGfzWV",
        "outputId": "50a06dff-1dca-413e-bd64-89227f1330aa"
      },
      "outputs": [
        {
          "output_type": "stream",
          "name": "stdout",
          "text": [
            "Downloading ms-marco-MiniLM-L-12-v2...\n"
          ]
        },
        {
          "output_type": "stream",
          "name": "stderr",
          "text": [
            "ms-marco-MiniLM-L-12-v2.zip: 100%|██████████| 21.6M/21.6M [00:02<00:00, 10.5MiB/s]\n"
          ]
        },
        {
          "output_type": "stream",
          "name": "stdout",
          "text": [
            "time: 3.19 s (started: 2024-11-01 07:27:21 -04:00)\n"
          ]
        }
      ],
      "source": [
        "compressor = FlashrankRerank(model=\"ms-marco-MiniLM-L-12-v2\")\n",
        "compression_retriever = ContextualCompressionRetriever(\n",
        "    base_compressor=compressor, base_retriever=retriever\n",
        ")"
      ]
    },
    {
      "cell_type": "markdown",
      "source": [
        "You may refer to the second use case (Meta earnings) to see how the reranking process is executed in more detail."
      ],
      "metadata": {
        "id": "u5M949h4CO1n"
      }
    },
    {
      "cell_type": "markdown",
      "metadata": {
        "id": "17mbl1lXfW6u"
      },
      "source": [
        "## Q&A Over Document"
      ]
    },
    {
      "cell_type": "markdown",
      "source": [
        "In this script segment, we employ the Llama 3 model to perform question-answering (Q&A) over the earnings document. Groq's `ChatGroq` is used to host the LLM on the cloud while being compatible with the `LangChain` library."
      ],
      "metadata": {
        "id": "3tqCJNXNCf8M"
      }
    },
    {
      "cell_type": "code",
      "execution_count": null,
      "metadata": {
        "colab": {
          "base_uri": "https://localhost:8080/"
        },
        "id": "tFGByQa9fXf9",
        "outputId": "47338acb-cc47-4232-e29e-33480124fb36"
      },
      "outputs": [
        {
          "output_type": "stream",
          "name": "stdout",
          "text": [
            "time: 133 ms (started: 2024-11-01 07:27:24 -04:00)\n"
          ]
        }
      ],
      "source": [
        "# Initialize the ChatGroq model\n",
        "llm = ChatGroq(temperature=0, model_name=\"llama3-70b-8192\")"
      ]
    },
    {
      "cell_type": "markdown",
      "source": [
        "Prompt engineering is used here to make sure the response is what we expect from the model. For example, by saying \"don't try to make up an answer\", the model can reduce hallucination."
      ],
      "metadata": {
        "id": "AJ0eMrMZCnpU"
      }
    },
    {
      "cell_type": "code",
      "execution_count": null,
      "metadata": {
        "colab": {
          "base_uri": "https://localhost:8080/"
        },
        "id": "PTejsOZ1fdT1",
        "outputId": "eec675be-e15e-4247-d755-2ba64cad8c59"
      },
      "outputs": [
        {
          "output_type": "stream",
          "name": "stdout",
          "text": [
            "time: 1.29 ms (started: 2024-11-01 07:27:24 -04:00)\n"
          ]
        }
      ],
      "source": [
        "# Define the prompt template for generating responses\n",
        "prompt_template = \"\"\"\n",
        "Use the following pieces of information to answer the user's question.\n",
        "If you don't know the answer, just say that you don't know, don't try to make up an answer.\n",
        "\n",
        "Context: {context}\n",
        "Question: {question}\n",
        "\n",
        "Answer the question and provide additional helpful information,\n",
        "based on the pieces of information, if applicable. Be succinct.\n",
        "\n",
        "Responses should be properly formatted to be easily read.\n",
        "\"\"\"\n",
        "\n",
        "# Initialize the PromptTemplate with input variables so that both context and question will be considered by the model.\n",
        "prompt = PromptTemplate(\n",
        "    template=prompt_template, input_variables=[\"context\", \"question\"]\n",
        ")"
      ]
    },
    {
      "cell_type": "markdown",
      "source": [
        "Using `RetrievalQA`, we establish a question-answering pipeline (`qa`) that integrates the Llama 3 model (`llm`), a specified chain type (`stuff`), and the compression retriever from the previous step (`compression_retriever`). This setup enables the retrieval and processing of documents to generate accurate responses aligned with user queries.\n",
        "\n",
        "The `verbose` parameter in the `chain_type_kwargs` refers to a setting that controls the level of detail or verbosity of the output during the question-answering process. Specifically, when `verbose=True` is set, it typically enables the system to provide additional information or logs that help in understanding the internal workings of the retrieval and processing pipeline."
      ],
      "metadata": {
        "id": "tz1Fq4lsC1P1"
      }
    },
    {
      "cell_type": "code",
      "execution_count": null,
      "metadata": {
        "colab": {
          "base_uri": "https://localhost:8080/"
        },
        "id": "pJKT_ImOfmZc",
        "outputId": "4cbe2261-a7b0-4c32-88c5-587fb87345ab"
      },
      "outputs": [
        {
          "output_type": "stream",
          "name": "stdout",
          "text": [
            "time: 2.07 ms (started: 2024-11-01 07:27:24 -04:00)\n"
          ]
        }
      ],
      "source": [
        "qa = RetrievalQA.from_chain_type(\n",
        "    llm=llm,\n",
        "    chain_type=\"stuff\",\n",
        "    retriever=compression_retriever,\n",
        "    return_source_documents=True,\n",
        "    chain_type_kwargs={\"prompt\": prompt, \"verbose\": True},\n",
        ")"
      ]
    },
    {
      "cell_type": "code",
      "source": [
        "# Perform Q&A with a specific query\n",
        "%%time\n",
        "response = qa.invoke(\"What does the standard say about using specialists in an audit?\")"
      ],
      "metadata": {
        "colab": {
          "base_uri": "https://localhost:8080/"
        },
        "id": "gWdOEsrQ85hX",
        "outputId": "0ee4fbe9-e16d-4c58-ce47-10fb7b8436cc"
      },
      "execution_count": null,
      "outputs": [
        {
          "output_type": "stream",
          "name": "stdout",
          "text": [
            "Running pairwise ranking..\n",
            "\n",
            "\n",
            "\u001b[1m> Entering new StuffDocumentsChain chain...\u001b[0m\n",
            "\n",
            "\n",
            "\u001b[1m> Entering new LLMChain chain...\u001b[0m\n",
            "Prompt after formatting:\n",
            "\u001b[32;1m\u001b[1;3m\n",
            "Use the following pieces of information to answer the user's question.\n",
            "If you don't know the answer, just say that you don't know, don't try to make up an answer.\n",
            "\n",
            "Context: For Audits of FYE On 12/15/2020-12/14/2024\n",
            "\n",
            "Inconsistency in, or Doubts about the Reliability of, Audit Evidence\n",
            "\n",
            ".29 If audit evidence obtained from one source is inconsistent with that obtained from another, or if the auditor has doubts about the reliability of information to be used as audit evidence, the auditor should perform the audit procedures necessary to resolve the matter and should determine the effect, if any, on other aspects of the audit.\n",
            "\n",
            "Appendix A - Using the Work of a Company's Specialist as Audit Evidence\n",
            "\n",
            ".A1 This appendix describes the auditor's responsibilities with respect to using the work of a specialist, employed or engaged by the company (\"company's specialist\"), as audit evidence to support a conclusion regarding a relevant assertion of a significant account or disclosure. The requirements in this appendix supplement the requirements of this standard.\n",
            "\n",
            "Note: For purposes of this standard, a specialist is a person (or firm) possessing special skill or knowledge in a particular field other than accounting or auditing. This appendix does not apply when the auditor uses the work of a person with specialized skill or knowledge in income taxes1 or information technology as audit evidence.2\n",
            "\n",
            "Note: This appendix does not apply to information provided by a company's attorney concerning litigation, claims, or assessments that is used by the auditor pursuant to AS 2505, Inquiry of a Client's Lawyer Concerning Litigation, Claims, and Assessments. This appendix applies when an auditor uses the work of a company's attorney as audit evidence in other matters relating to legal expertise, such as when a legal interpretation of a contractual provision or a legal opinion regarding isolation of transferred financial assets is necessary to determine appropriate accounting or disclosure under the applicable financial reporting framework.\n",
            "\n",
            ".A2 The requirements in AS 2110, Identifying and Assessing Risks of Material Misstatement, for obtaining an understanding of the company's information system relevant to financial reporting include obtaining an understanding of the work and report(s), or equivalent communication, of the company's specialist(s) and related company processes and controls.3\n",
            "\n",
            "Assessing the Knowledge, Skill, and Ability of the Company's Specialist and the Specialist's Relationship to the Company\n",
            "\n",
            ".A3 The auditor should obtain an understanding of the professional qualifications of the company's specialist in the particular field, and the entity that employs the specialist (if other than the company), and assess the level of knowledge, skill, and ability of the specialist in the particular field. Factors that are\n",
            "\n",
            "For Audits of FYE On 12/15/2020-12/14/2024\n",
            "\n",
            "Relevant to the assessment of the specialist's knowledge, skill, and ability include the following:\n",
            "\n",
            "The professional certification, license, or professional accreditation of the specialist in the particular field;\n",
            "\n",
            "The specialist's experience in the type of work performed, including applicable areas of specialty within the specialist's field;\n",
            "\n",
            "The reputation and standing of the specialist in the particular field.\n",
            "\n",
            ".A4\n",
            "\n",
            "The auditor should assess the relationship to the company of the specialist and the entity that employs the specialist (if other than the company)—specifically, whether circumstances exist that give the company the ability to significantly affect the specialist's judgments about the work performed, conclusions, or findings (e.g., through employment, financial, ownership, or other business relationships, contractual rights, family relationships, or otherwise).\n",
            "\n",
            "Note: Examples of potential sources of information that could be relevant to the auditor's assessment include, but are not limited to:\n",
            "\n",
            "Information obtained by the auditor from procedures performed pursuant to AS 2410, Related Parties;\n",
            "\n",
            "Engagement contracts between the company and the specialist, or the specialist's employer;\n",
            "\n",
            "Responses to questionnaires provided to the specialist regarding relationships between the specialist, or the specialist's employer, and the company;\n",
            "\n",
            "Information provided by the employer of a specialist regarding relationships with the company; and\n",
            "\n",
            "Disclosures about relationships with the company in the specialist's report, or equivalent communication, pursuant to requirements promulgated by the specialist's profession or by legislation or regulation governing the specialist.\n",
            "\n",
            ".A5\n",
            "\n",
            "The necessary evidence to assess the level of knowledge, skill, and ability of the company's specialist and the specialist's relationship to the company in paragraphs .A3–.A4 depends on (1) the significance of the specialist's work to the auditor's conclusion regarding the relevant assertion and (2) the risk of material misstatement of the relevant assertion. As the significance of the specialist's work and risk of material misstatement increases, the persuasiveness of the evidence the auditor should obtain for those assessments also increases.\n",
            "\n",
            "Evaluating the Work of the Company's Specialist\n",
            "\n",
            ".A6\n",
            "\n",
            "Evaluating the work of a company's specialist involves evaluating:\n",
            "\n",
            "1. The data, significant assumptions, and methods used by the specialist; and\n",
            "\n",
            "For Audits of FYE On 12/15/2020-12/14/2024\n",
            "\n",
            "b. The relevance and reliability of the specialist's work and its relationship to the relevant assertion.\n",
            "\n",
            "Note: Paragraphs .16–.17 of AS 2101, Audit Planning, describe the auditor's responsibilities for determining whether specialized knowledge or skill is needed. This includes determining whether an auditor's specialist is needed to evaluate the work of a company's specialist.\n",
            "\n",
            ".A7\n",
            "\n",
            "The necessary evidence from the auditor's evaluation of the specialist's work to support a conclusion regarding a relevant assertion depends on:\n",
            "\n",
            "a. The significance of the specialist's work to the auditor's conclusion regarding the relevant assertion;\n",
            "\n",
            "b. The risk of material misstatement of the relevant assertion;\n",
            "\n",
            "47\n",
            "\n",
            "For Audits of FYE On 12/15/2020-12/14/2024\n",
            "\n",
            "If restated consolidated balance sheets are also presented, the auditor may also express his opinion with respect to the combination of the consolidated balance sheets.\n",
            "\n",
            "Copyright © 1999, 2001, 2003, American Institute of Certified Public Accountants, Inc.\n",
            "\n",
            "For Audits of FYE On 12/15/2020-12/14/2024\n",
            "\n",
            "AS 1210: Using the Work of an Auditor-Engaged Specialist\n",
            "\n",
            "Guidance on AS 1210: Staff Audit Practice Alert No. 2 and Staff Questions and Answers on Auditing the Fair Value of Share Options Granted to Employees\n",
            "\n",
            "Summary Table of Contents\n",
            "\n",
            ".01  Introduction\n",
            "\n",
            ".02  Objective\n",
            "\n",
            ".03  Assessing the Knowledge, Skill, Ability, and Objectivity of the Auditor-Engaged Specialist\n",
            "\n",
            ".06  Informing the Auditor-Engaged Specialist of the Work to be Performed\n",
            "\n",
            ".09  Evaluating the Work of the Auditor-Engaged Specialist\n",
            "\n",
            "Introduction\n",
            "\n",
            ".01 This standard establishes requirements regarding the use of a specialist engaged by the auditor's firm (\"auditor-engaged specialist\") to assist the auditor in obtaining or evaluating audit evidence with respect to a relevant assertion of a significant account or disclosure.\n",
            "\n",
            "Note: For purposes of this standard, a specialist is a person (or firm) possessing special skill or knowledge in a particular field other than accounting or auditing. Because income taxes and information technology are specialized areas of accounting and auditing, this standard does not apply to situations in which a person with specialized skill or knowledge in income taxes or information technology participates in the audit. AS 1201, Supervision of the Audit Engagement, applies in those situations.\n",
            "\n",
            "Objective\n",
            "\n",
            ".02 The objective of the auditor is to determine whether the work of the auditor-engaged specialist is suitable for the auditor's purposes and supports the auditor's conclusion regarding the relevant assertion.\n",
            "\n",
            "Assessing the Knowledge, Skill, Ability, and Objectivity of the Auditor-Engaged Specialist\n",
            "\n",
            "49\n",
            "\n",
            "For Audits of FYE On 12/15/2020-12/14/2024\n",
            "\n",
            ".03\n",
            "\n",
            "The engagement partner and, as applicable, other engagement team members performing supervisory activities should assess the specialist's knowledge, skill, and ability in the particular field for the type of work under consideration. This includes obtaining an understanding of the following with respect to the specialist and the entity that employs the specialist:\n",
            "\n",
            "a. The professional certification, license, or professional accreditation of the specialist in the particular field;\n",
            "\n",
            "b. The specialist's experience in the type of work under consideration, including applicable areas of specialty within the specialist's field; and\n",
            "\n",
            "c. The reputation and standing of the specialist in the particular field.\n",
            "\n",
            "Note: The auditor's assessment of the specialist's knowledge, skill, and ability affects the auditor's determination of: (1) whether the specialist possesses a sufficient level of knowledge, skill, and ability to perform the type of work under consideration (paragraph .04); and (2) the necessary extent of the review and evaluation of the specialist's work (paragraph .10).\n",
            "\n",
            ".04\n",
            "\n",
            "The engagement partner and, as applicable, other engagement team members performing supervisory activities should not use the work of a specialist who does not have a sufficient level of knowledge, skill, and ability.\n",
            "\n",
            ".05\n",
            "\n",
            "The engagement partner and, as applicable, other engagement team members performing supervisory activities should assess whether the specialist has the necessary degree of objectivity to exercise impartial judgment on all issues encompassed by the specialist's work related to the audit. This includes evaluating whether the specialist or the entity that employs the specialist has a relationship to the company (e.g., through employment, financial, ownership, or other business relationships, contractual rights, family relationships, or otherwise), or other conflicts of interest relevant to the work to be performed.\n",
            "\n",
            "Note: The auditor's assessment of the specialist's objectivity affects the nature and extent of the auditor's procedures to evaluate the data, significant assumptions, and methods that the specialist is responsible for testing, evaluating, or developing.\n",
            "\n",
            "Note: The evidence necessary to assess the specialist's objectivity depends on the significance of the specialist's work and the related risk of material misstatement. Examples of potential sources of information that could be relevant to the auditor's assessment include, but are not limited to:\n",
            "\n",
            "Information obtained by the auditor from procedures performed pursuant to AS 2410, Related Parties;\n",
            "\n",
            "Engagement contracts between the company and the specialist, or the specialist's employer;\n",
            "\n",
            "For Audits of FYE On 12/15/2020-12/14/2024\n",
            "\n",
            "Responses to questionnaires provided to the specialist regarding relationships between the specialist, or the specialist's employer, and the company;\n",
            "\n",
            "Written representations or other information provided by the specialist concerning relationships with the company; and\n",
            "\n",
            "Disclosures about relationships with the company in the specialist's report, or equivalent documentation, pursuant to requirements promulgated by the specialist's profession or by legislation or regulation governing the specialist.\n",
            "\n",
            "Informing the Auditor-Engaged Specialist of the Work to be Performed\n",
            "\n",
            ".06 The engagement partner and, as applicable, other engagement team members performing supervisory activities should inform the specialist of the work to be performed, which includes establishing and documenting an understanding with the specialist regarding the following:\n",
            "\n",
            "a. The responsibilities of the specialist, including the objectives of the work to be performed;\n",
            "\n",
            "a. The responsibilities of the specialist, including the objectives of the work to be performed;\n",
            "\n",
            "b. The nature of the work that the specialist is to perform or assist in performing (for example, testing the company's process used to develop an accounting estimate, including when a company's specialist is involved in developing the estimate, or developing an independent expectation of an estimate);\n",
            "\n",
            "c. The degree of responsibility of the specialist for:\n",
            "\n",
            "(1) Testing data produced by the company, or evaluating the relevance and reliability of data from sources external to the company;\n",
            "\n",
            "(2) Evaluating the significant assumptions used by the company or the company's specialist, or developing his or her own assumptions; and\n",
            "\n",
            "(3) Evaluating the methods used by the company or the company's specialist, or using his or her own methods;\n",
            "\n",
            "d. The responsibility of the specialist to provide a report, or equivalent documentation, to the engagement partner and, as applicable, other engagement team members performing supervisory activities that describes the work performed, the results of the work, and the findings or conclusions reached by the specialist.\n",
            "\n",
            ".07 The engagement partner and, as applicable, other engagement team members performing supervisory activities should inform the specialist about matters that could affect the specialist's work. This includes, as applicable, information about the company and its environment, the company's processes for developing the related accounting estimate, the company's use of specialists in developing the estimate, relevant requirements of the applicable financial reporting framework, and possible accounting and\n",
            "\n",
            "51\n",
            "\n",
            "For Audits of FYE On 12/15/2020-12/14/2024\n",
            "\n",
            "Auditing Issues\n",
            "\n",
            ".08 The engagement partner and, as applicable, other engagement team members performing supervisory activities should implement measures to determine that there is a proper coordination of the work of the specialist with the work of relevant engagement team members to achieve a proper evaluation of the evidence obtained in reaching a conclusion about the relevant assertion. This includes:\n",
            "\n",
            "a. If an auditor's specialist is used to develop (or assist in developing) an independent expectation of an accounting estimate, measures to comply with paragraphs .21–.26 of AS 2501, Auditing Accounting Estimates, Including Fair Value Measurements;\n",
            "\n",
            "b. If an auditor's specialist is used to test (or assist in testing) the company's process to develop an accounting estimate, measures to comply with AS 2501.09–.18; or\n",
            "\n",
            "c. If an auditor's specialist is used to evaluate the work of a company's specialist, measures to comply with Appendix A to AS 1105, Audit Evidence, and, for accounting estimates, AS 2501.19.\n",
            "\n",
            "Evaluating the Work of the Auditor-Engaged Specialist\n",
            "\n",
            ".09 The engagement partner and, as applicable, other engagement team members performing supervisory activities should review the report, or equivalent documentation, provided by the specialist pursuant to paragraph .06d above and evaluate whether the specialist's work provides sufficient appropriate evidence, specifically whether:\n",
            "\n",
            "a. The specialist's work and report, or equivalent documentation, are in accordance with the auditor's understanding with the specialist; and\n",
            "\n",
            "b. The specialist's findings and conclusions are consistent with results of the work performed by the specialist, other evidence obtained by the auditor, and the auditor's understanding of the company and its environment.\n",
            "\n",
            ".10 The necessary extent of the review depends on: (1) the significance of the specialist's work to the auditor's conclusion regarding the relevant assertion, (2) the risk of material misstatement of the relevant assertion, and (3) the knowledge, skill, and ability of the specialist.\n",
            "\n",
            ".11 If the specialist or the entity that employs the specialist has a relationship with the company that affects the specialist's objectivity, the auditor should perform additional procedures to evaluate the data, significant assumptions, and methods that the specialist is responsible for testing, evaluating, or developing, pursuant to the engagement team's understanding with the specialist (paragraph .06), or should engage another specialist. The necessary nature and extent of the additional procedures depend on the degree of objectivity of the specialist. As the degree of objectivity increases, the evidence needed from additional procedures decreases. If the specialist has a low degree of objectivity, the auditor should apply the procedures for evaluating the work of a company's specialist.3\n",
            "\n",
            ".12 If the specialist's findings or conclusions appear to contradict the relevant assertion or the\n",
            "\n",
            "For Audits of FYE On 12/15/2020-12/14/2024\n",
            "\n",
            "specialist's work does not provide sufficient appropriate evidence, the engagement partner and, as applicable, other engagement team members performing supervisory activities should perform additional procedures, or request the specialist to perform additional procedures, as necessary to address the issue.\n",
            "\n",
            "Note: Examples of situations in which additional procedures ordinarily are necessary include: (1) the specialist's work was not performed in accordance with the auditor's instructions; (2) the specialist's report, or equivalent documentation, contains restrictions, disclaimers, or limitations that affect the auditor's use of the report or work; (3) the specialist's findings and conclusions are inconsistent with (i) the results of the work performed by the specialist, (ii) other evidence obtained by the auditor, or (iii) the auditor's understanding of the company and its environment; (4) the specialist lacks a reasonable basis for data or significant assumptions the specialist used; or (5) the methods used by the specialist were not appropriate.\n",
            "\n",
            "Footnotes (AS 1210 - Using the Work of an Auditor-Engaged Specialist):\n",
            "\n",
            "See AS 1201.04.\n",
            "Question: What does the standard say about using specialists in an audit?\n",
            "\n",
            "Answer the question and provide additional helpful information,\n",
            "based on the pieces of information, if applicable. Be succinct.\n",
            "\n",
            "Responses should be properly formatted to be easily read.\n",
            "\u001b[0m\n",
            "\n",
            "\u001b[1m> Finished chain.\u001b[0m\n",
            "\n",
            "\u001b[1m> Finished chain.\u001b[0m\n",
            "CPU times: user 2.65 s, sys: 326 ms, total: 2.97 s\n",
            "Wall time: 3.98 s\n",
            "time: 3.98 s (started: 2024-11-01 07:27:24 -04:00)\n"
          ]
        }
      ]
    },
    {
      "cell_type": "code",
      "source": [
        "print_response(response)"
      ],
      "metadata": {
        "colab": {
          "base_uri": "https://localhost:8080/"
        },
        "id": "5m9h2mNK89bl",
        "outputId": "48f92ab0-0019-450d-9a19-16d0865b8789"
      },
      "execution_count": null,
      "outputs": [
        {
          "output_type": "stream",
          "name": "stdout",
          "text": [
            "**Answer:** The standard provides guidance on using specialists in an audit, including company's\n",
            "specialists and auditor-engaged specialists. It outlines the auditor's responsibilities when using\n",
            "the work of a specialist as audit evidence, including assessing the specialist's knowledge, skill,\n",
            "and ability, evaluating the specialist's work, and determining the necessary evidence to support the\n",
            "auditor's conclusion.\n",
            "\n",
            "**Additional helpful information:**\n",
            "\n",
            "* The standard applies to specialists with special skill or knowledge in a particular field other\n",
            "than accounting or auditing.\n",
            "* The auditor should obtain an understanding of the professional qualifications, experience, and\n",
            "reputation of the specialist, as well as assess the specialist's objectivity and relationship with\n",
            "the company.\n",
            "* The auditor should evaluate the specialist's work, including the data, significant assumptions,\n",
            "and methods used, and determine whether the specialist's work provides sufficient appropriate\n",
            "evidence to support the auditor's conclusion.\n",
            "* The standard provides guidance on using the work of a company's specialist, including assessing\n",
            "the specialist's knowledge, skill, and ability, and evaluating the specialist's work.\n",
            "* The standard also provides guidance on using the work of an auditor-engaged specialist, including\n",
            "assessing the specialist's knowledge, skill, and ability, informing the specialist of the work to be\n",
            "performed, and evaluating the specialist's work.\n",
            "time: 2.07 ms (started: 2024-11-01 07:27:28 -04:00)\n"
          ]
        }
      ]
    },
    {
      "cell_type": "markdown",
      "metadata": {
        "id": "rgGqAD5mKiij"
      },
      "source": [
        "# RAG with Meta earnings"
      ]
    },
    {
      "cell_type": "markdown",
      "metadata": {
        "id": "DrANyyFAugNZ"
      },
      "source": [
        "In this demonstration I use the Meta 2024 Q1 results as an example. I have preloaded the chosen PDF file in Google Drive and you may use the code below to load it into a temporary folder on your Google Drive."
      ]
    },
    {
      "cell_type": "code",
      "execution_count": 8,
      "metadata": {
        "colab": {
          "base_uri": "https://localhost:8080/"
        },
        "id": "59M0lL4vjkGW",
        "outputId": "bd215224-d711-45fd-f7f7-7462e40de93a"
      },
      "outputs": [
        {
          "output_type": "stream",
          "name": "stdout",
          "text": [
            "mkdir: cannot create directory ‘data’: File exists\n",
            "Downloading...\n",
            "From: https://drive.google.com/uc?id=1ee-BhQiH-S9a2IkHiFbJz9eX_SfcZ5m9\n",
            "To: /content/data/meta-earnings.pdf\n",
            "100% 160k/160k [00:00<00:00, 74.6MB/s]\n",
            "time: 4.44 s (started: 2024-11-08 07:41:23 -05:00)\n"
          ]
        }
      ],
      "source": [
        "# create a Google Drive folder \"data\" (folder automatically created)\n",
        "!mkdir data\n",
        "# download Meta 2024 Q1 Earnings to the specified path\n",
        "!gdown 1ee-BhQiH-S9a2IkHiFbJz9eX_SfcZ5m9 -O \"data/meta-earnings.pdf\""
      ]
    },
    {
      "cell_type": "markdown",
      "metadata": {
        "id": "z6kHJJRDvawJ"
      },
      "source": [
        "## Document Parsing"
      ]
    },
    {
      "cell_type": "markdown",
      "metadata": {
        "id": "HQ5dO5UtugNa"
      },
      "source": [
        "*Document parsing* is the process of recognizing/examining data in a document and extracting useful information from it. For instance, data from PDF and Word documents can be extracted using document parser APIs and stored in a JSON file. (source: https://www.edenai.co/post/best-document-parsing-apis)\n",
        "\n",
        "Parsing documents efficiently is a crucial skill, especially when dealing with detailed financial reports or any other data-rich documents. By following this code snippet, you will learn how to extract and preprocess information from a PDF document using LlamaParse, an API service provided by LlamaCloud.\n",
        "\n",
        "**Instruction Definition:** An instruction is defined to guide the parsing process. The instruction specifies that the document contains detailed financial information and numerous tables, emphasizing precision in answering questions."
      ]
    },
    {
      "cell_type": "code",
      "execution_count": 9,
      "metadata": {
        "colab": {
          "base_uri": "https://localhost:8080/"
        },
        "id": "X-_Ih5O6ugNa",
        "outputId": "ca05518d-af97-43cc-9e34-39cf875225c4"
      },
      "outputs": [
        {
          "output_type": "stream",
          "name": "stdout",
          "text": [
            "time: 735 µs (started: 2024-11-08 07:41:31 -05:00)\n"
          ]
        }
      ],
      "source": [
        "instruction = \"\"\"The provided document is Meta First Quarter 2024 Results.\n",
        "This form provides detailed financial information about the company's performance for a specific quarter.\n",
        "It includes unaudited financial statements, management discussion and analysis, and other relevant disclosures required by the SEC.\n",
        "It contains many tables.\n",
        "Try to be precise while answering the questions.\"\"\""
      ]
    },
    {
      "cell_type": "markdown",
      "metadata": {
        "id": "AU7FF6BAugNa"
      },
      "source": [
        "**Parser Initialization**: The `LlamaParse` class is initialized with an API key, result type (markdown), parsing instructions, and a maximum timeout setting."
      ]
    },
    {
      "cell_type": "code",
      "execution_count": 12,
      "metadata": {
        "colab": {
          "base_uri": "https://localhost:8080/"
        },
        "id": "oDlQbXSlugNa",
        "outputId": "6e0e6513-e459-4c6c-b239-0a4f9088dd5d"
      },
      "outputs": [
        {
          "output_type": "stream",
          "name": "stdout",
          "text": [
            "time: 1.12 ms (started: 2024-11-08 07:43:10 -05:00)\n"
          ]
        }
      ],
      "source": [
        "parser = LlamaParse(\n",
        "    api_key=os.environ[\"LLAMA_PARSE\"],\n",
        "    result_type=\"markdown\",\n",
        "    parsing_instruction=instruction,\n",
        "    max_timeout=5000,\n",
        ")"
      ]
    },
    {
      "cell_type": "markdown",
      "metadata": {
        "id": "3Z94PdSfugNa"
      },
      "source": [
        "**Asynchronous Data Loading**: The document located at `./data/meta-earnings.pdf` is parsed asynchronously. This allows for efficient handling of large documents without blocking the execution of other tasks. The first parsed document is accessed and stored in the `parsed_doc` variable."
      ]
    },
    {
      "cell_type": "code",
      "execution_count": 13,
      "metadata": {
        "colab": {
          "base_uri": "https://localhost:8080/"
        },
        "id": "eHRFF7lF0gV2",
        "outputId": "46d2af3b-ca60-4e42-b7ac-3f907fda1e4c"
      },
      "outputs": [
        {
          "output_type": "stream",
          "name": "stdout",
          "text": [
            "Started parsing the file under job_id 2a27bc1d-6541-4a4c-88d6-a11e6a057078\n",
            "time: 22.4 s (started: 2024-11-08 07:43:14 -05:00)\n"
          ]
        }
      ],
      "source": [
        "llama_parse_documents = await parser.aload_data(\"./data/meta-earnings.pdf\")\n",
        "\n",
        "parsed_doc = llama_parse_documents[0]"
      ]
    },
    {
      "cell_type": "markdown",
      "metadata": {
        "id": "KPHvbTH_ugNa"
      },
      "source": [
        "Here we print out the first 4096 characters of the parsed document:"
      ]
    },
    {
      "cell_type": "code",
      "execution_count": null,
      "metadata": {
        "colab": {
          "base_uri": "https://localhost:8080/",
          "height": 568
        },
        "id": "6acdg4sq736P",
        "outputId": "2df08463-776f-4456-855e-9e33c93e50ba"
      },
      "outputs": [
        {
          "output_type": "execute_result",
          "data": {
            "text/plain": [
              "<IPython.core.display.Markdown object>"
            ],
            "text/markdown": "# Meta Reports First Quarter 2024 Results\n\nMENLO PARK, Calif. – April 24, 2024 – Meta Platforms, Inc. (Nasdaq: META) today reported financial results for the quarter ended March 31, 2024.\n\n\"It's been a good start to the year,\" said Mark Zuckerberg, Meta founder and CEO. \"The new version of Meta AI with Llama 3 is another step towards building the world's leading AI. We're seeing healthy growth across our apps and we continue making steady progress building the metaverse as well.\"\n\n# First Quarter 2024 Financial Highlights\n\n|In millions, except percentages and per share amounts|Three Months Ended March 31,|2024|2023|% Change|\n|---|---|---|---|---|\n|Revenue|$36,455|$28,645|27%| |\n|Costs and expenses|$22,637|$21,418|6%| |\n|Income from operations|$13,818|$7,227|91%| |\n|Operating margin|38%|25%| | |\n|Provision for income taxes|$1,814|$1,598|14%| |\n|Effective tax rate|13%|22%| | |\n|Net income|$12,369|$5,709|117%| |\n|Diluted earnings per share (EPS)|$4.71|$2.20|114%| |\n\n# First Quarter 2024 Operational and Other Fin"
          },
          "metadata": {},
          "execution_count": 79
        },
        {
          "output_type": "stream",
          "name": "stdout",
          "text": [
            "time: 3.38 ms (started: 2024-07-10 05:53:54 +00:00)\n"
          ]
        }
      ],
      "source": [
        "Markdown(parsed_doc.text[:1024])"
      ]
    },
    {
      "cell_type": "markdown",
      "metadata": {
        "id": "zrKWlHmeugNb"
      },
      "source": [
        "Here we save the parsed document in our temporary Google Drive folder:"
      ]
    },
    {
      "cell_type": "code",
      "execution_count": 15,
      "metadata": {
        "colab": {
          "base_uri": "https://localhost:8080/"
        },
        "id": "EUnDQkfwyPv3",
        "outputId": "21e21f6a-3628-4536-d4aa-c638ea118e6c"
      },
      "outputs": [
        {
          "output_type": "stream",
          "name": "stdout",
          "text": [
            "time: 2.33 ms (started: 2024-11-08 07:43:51 -05:00)\n"
          ]
        }
      ],
      "source": [
        "document_path = Path(\"data/parsed_document.md\")\n",
        "with document_path.open(\"a\") as f:\n",
        "    f.write(parsed_doc.text)"
      ]
    },
    {
      "cell_type": "markdown",
      "metadata": {
        "id": "yF5y2-L0vfLM"
      },
      "source": [
        "## Text Splitters and Vector Embeddings"
      ]
    },
    {
      "cell_type": "markdown",
      "metadata": {
        "id": "LNw8sMQxugNb"
      },
      "source": [
        "In this part of the script, we use the `UnstructuredMarkdownLoader` class to load and parse a markdown document. By initializing the loader with the path to the document (`document_path`), we can then call the `load()` method to read and process the contents of the markdown file into a structured format. This enables further analysis and manipulation of the document's data within our application. The `loaded_documents` variable will contain the parsed content, ready for subsequent steps in our workflow."
      ]
    },
    {
      "cell_type": "code",
      "execution_count": 16,
      "metadata": {
        "colab": {
          "base_uri": "https://localhost:8080/"
        },
        "id": "R9Hl1Uly3LtB",
        "outputId": "94bdfe08-ace1-4c44-af52-b06beb570d02"
      },
      "outputs": [
        {
          "output_type": "stream",
          "name": "stdout",
          "text": [
            "time: 2.21 s (started: 2024-11-08 07:43:54 -05:00)\n"
          ]
        }
      ],
      "source": [
        "loader = UnstructuredMarkdownLoader(document_path)\n",
        "loaded_documents = loader.load()"
      ]
    },
    {
      "cell_type": "markdown",
      "metadata": {
        "id": "1qocAX5wugNc"
      },
      "source": [
        "The parsed document is too lengthy to be efficiently queried using an LLM, so we need to break it into smaller, manageable chunks. The key is that the LLM will utilize the chunk containing the most relevant information, determined by the similarity between the user's question and each chunk.\n",
        "\n",
        "To achieve this, we use LangChain's `RecursiveCharacterTextSplitter` to split the text into smaller segments:"
      ]
    },
    {
      "cell_type": "code",
      "execution_count": 18,
      "metadata": {
        "colab": {
          "base_uri": "https://localhost:8080/"
        },
        "id": "_ZrQ4sKg4hxF",
        "outputId": "5844fe50-d1d4-48cb-8ad2-ae575aa6df41"
      },
      "outputs": [
        {
          "output_type": "execute_result",
          "data": {
            "text/plain": [
              "11"
            ]
          },
          "metadata": {},
          "execution_count": 18
        },
        {
          "output_type": "stream",
          "name": "stdout",
          "text": [
            "time: 9.39 ms (started: 2024-11-08 07:44:38 -05:00)\n"
          ]
        }
      ],
      "source": [
        "text_splitter = RecursiveCharacterTextSplitter(chunk_size=2048, chunk_overlap=128)\n",
        "docs = text_splitter.split_documents(loaded_documents)\n",
        "len(docs)"
      ]
    },
    {
      "cell_type": "markdown",
      "metadata": {
        "id": "oPyqnzL7ugNc"
      },
      "source": [
        "This method ensures that each chunk is of optimal size for processing, while overlapping segments help maintain context across the chunks.\n",
        "\n",
        "Let's print out the first chunk and see how it looks like:"
      ]
    },
    {
      "cell_type": "code",
      "execution_count": null,
      "metadata": {
        "colab": {
          "base_uri": "https://localhost:8080/"
        },
        "id": "RdBs9l3a4jCv",
        "outputId": "a6ab103b-f9d8-41ec-b14d-d14e3b813e0b"
      },
      "outputs": [
        {
          "output_type": "stream",
          "name": "stdout",
          "text": [
            "Meta Reports First Quarter 2024 Results\n",
            "\n",
            "MENLO PARK, Calif. – April 24, 2024 – Meta Platforms, Inc. (Nasdaq: META) today reported financial results for the quarter ended March 31, 2024.\n",
            "\n",
            "\"It's been a good start to the year,\" said Mark Zuckerberg, Meta founder and CEO. \"The new version of Meta AI with Llama 3 is another step towards building the world's leading AI. We're seeing healthy growth across our apps and we continue making steady progress building the metaverse as well.\"\n",
            "\n",
            "First Quarter 2024 Financial Highlights\n",
            "\n",
            "In millions, except percentages and per share amounts Three Months Ended March 31, 2024 2023 % Change Revenue $36,455 $28,645 27% Costs and expenses $22,637 $21,418 6% Income from operations $13,818 $7,227 91% Operating margin 38% 25% Provision for income taxes $1,814 $1,598 14% Effective tax rate 13% 22% Net income $12,369 $5,709 117% Diluted earnings per share (EPS) $4.71 $2.20 114%\n",
            "\n",
            "First Quarter 2024 Operational and Other Financial Highlights\n",
            "\n",
            "Family daily active people (DAP) – DAP was 3.24 billion on average for March 2024, an increase of 7% year-over-year.\n",
            "\n",
            "Ad impressions – Ad impressions delivered across our Family of Apps increased by 20% year-over-year.\n",
            "\n",
            "Average price per ad – Average price per ad increased by 6% year-over-year.\n",
            "\n",
            "Revenue – Total revenue and revenue on a constant currency basis were $36.46 billion and $36.35 billion, respectively, both of which increased by 27% year-over-year.\n",
            "\n",
            "Costs and expenses – Total costs and expenses were $22.64 billion, an increase of 6% year-over-year.\n",
            "\n",
            "Capital expenditures – Capital expenditures, including principal payments on finance leases, were $6.72 billion.\n",
            "\n",
            "Capital return program – Share repurchases were $14.64 billion of our Class A common stock and dividends payments were $1.27 billion.\n",
            "\n",
            "Cash, cash equivalents, and marketable securities – Cash, cash equivalents, and marketable securities were $58.12 billion as of March 31, 2024. Free cash flow was $12.53 billion.\n",
            "time: 1.35 ms (started: 2024-07-10 05:54:39 +00:00)\n"
          ]
        }
      ],
      "source": [
        "print(docs[0].page_content)"
      ]
    },
    {
      "cell_type": "markdown",
      "metadata": {
        "id": "P65FHcFxugNc"
      },
      "source": [
        "To better capture the meaning of each we will use vector embeddings to compare against the user's question and determine the similarity and relevance of the information.\n",
        "\n",
        "We first use `FastEmbedEmbeddings` and specify the model as `BAAI/bge-base-en-v1.5`:"
      ]
    },
    {
      "cell_type": "code",
      "execution_count": 19,
      "metadata": {
        "colab": {
          "base_uri": "https://localhost:8080/",
          "height": 226,
          "referenced_widgets": [
            "13f2d85ae9e34c75a86ad7dc06125524",
            "4c7077b1ef9e44b993bfff80fe6bffbc",
            "401def416cac45268323d8805fd2ff85",
            "014192414a844c7b8c3e0e53467ae842",
            "cc41906053ad41d6bd97a6e69c01ab97",
            "b2f5cf7a91544b49a7699f55dc7ff2f0",
            "3c5e5dc5ad384b459c5c14f58b35da7c",
            "9fbbad466b4b4cd2aedbf16e04b4b123",
            "bb5650c2b2c64d669b331f8628da6261",
            "c4798e0d43254b0aa1582eeb4d752c0d",
            "0310f3755d304d02a7b176a70777573d",
            "e53a1d65fed04f0192f5526ebeb39983",
            "18a5f9f4ea5c4db5912ccc99c8452d46",
            "587b91d6e5894fa78d0836b5d86e682b",
            "8ac69d676ae642159d3b1e144b2f927e",
            "96f2dc6b2c5d41d2af6bd233226afe49",
            "9448f2c8112d4b058199c80676a39472",
            "8bc1862284c148f09abbea291539e2be",
            "118f58aaf5ef4773b6d04eb46f5dfa17",
            "e628096e534e454a96bc281f030e3259",
            "975f289a114047fb90d44f2bdbaffa65",
            "b5e9b9b818fa4a11ab02c74191a3cad5",
            "26b26f9271e34035acc2fd7c78b8ff73",
            "4dae466ef6d1452ab1c663a5b2df7ff4",
            "081fd9150f5d40c1abfc5cf5a445ff86",
            "4d1e38a189aa4962b05b0273e8c32344",
            "544cd42902c04c06963d455cd7957c02",
            "399a4b710e8d4dfd9dfef9cc69cbdbe1",
            "9b00aed0122549e9a7f0fe5fc2858a93",
            "590e78225ccc49d8b6fbbd8bd4dff3a2",
            "4343fe699be6422fabbfa5be80923598",
            "beb2313183d1484197a38be0e774c42c",
            "49dffc2acad048818d53bd845df504dd",
            "f79bc03fc3fe4965bfc81bdabb34e834",
            "de7b60f647884143b1e4df03714bd812",
            "5729079baa854bf4a66fe3a16287067a",
            "88c06d767f6a4ce492d7a997394e4b04",
            "0ed8c4cdd9be4f3294effc6b3c3e7f1f",
            "1e03144bc2344c9dabc1eed8e4c5881a",
            "24de80683cd5421f87d51c14e8cbb7fb",
            "3f479efc5a0b45ac99ef8a62538ac3a1",
            "4d19abde6924473a84e67558157429f0",
            "a4a0a710fde44b3aadce7afb2cfeaac9",
            "be4ad3d348c7486491dc0040ed93a232",
            "502c2d7a30624144888ae4361df92fec",
            "b69a6359b52e4e848d1e690a2bdeeae7",
            "8310d38df8594644b593a9ef3576c420",
            "d69b9ab4196646718ade0956c82be97a",
            "7bba404b48c544aa8c50d88ddaaefeb9",
            "0fb49518260a4705bcb1912fd70adff8",
            "daa1c281a5664b03be42aed0a6b273b6",
            "90d730e46947475e91fecce0dc037dc5",
            "d49c4a4cbb934ec7b767bad079455b17",
            "46ff178a688c47f5901348603fcf457a",
            "c90ba1723a534db2a92fe5c024a7db17",
            "0c69cc74899049c193acf5bc757c7d62",
            "d3e637b4dd0f48e9ab5d2aefac1b783a",
            "d67da5f9da23483990de59a643ef4dab",
            "7f844de2d8c34399a4d707ffc212fd11",
            "33bffefed2114ee190306de7642b53f0",
            "7c9f5fb9006e44d5a5e8c4f0b4711b5d",
            "71b32fc6ed2f4c5b85128e1669293653",
            "c1c6faed8930460e8b1e1a285b79da71",
            "54fd7e66bdc948f5b6d23630c968e511",
            "5d1e76c3c790442488255cdf0df47264",
            "a307e8a4cbcf452695bfeedd7f663be6"
          ]
        },
        "id": "8cUnzAwi-iNE",
        "outputId": "eae38349-f6ff-4766-b3a2-5044fb42ca96"
      },
      "outputs": [
        {
          "output_type": "display_data",
          "data": {
            "text/plain": [
              "Fetching 5 files:   0%|          | 0/5 [00:00<?, ?it/s]"
            ],
            "application/vnd.jupyter.widget-view+json": {
              "version_major": 2,
              "version_minor": 0,
              "model_id": "13f2d85ae9e34c75a86ad7dc06125524"
            }
          },
          "metadata": {}
        },
        {
          "output_type": "display_data",
          "data": {
            "text/plain": [
              "special_tokens_map.json:   0%|          | 0.00/695 [00:00<?, ?B/s]"
            ],
            "application/vnd.jupyter.widget-view+json": {
              "version_major": 2,
              "version_minor": 0,
              "model_id": "e53a1d65fed04f0192f5526ebeb39983"
            }
          },
          "metadata": {}
        },
        {
          "output_type": "display_data",
          "data": {
            "text/plain": [
              "tokenizer.json:   0%|          | 0.00/711k [00:00<?, ?B/s]"
            ],
            "application/vnd.jupyter.widget-view+json": {
              "version_major": 2,
              "version_minor": 0,
              "model_id": "26b26f9271e34035acc2fd7c78b8ff73"
            }
          },
          "metadata": {}
        },
        {
          "output_type": "display_data",
          "data": {
            "text/plain": [
              "config.json:   0%|          | 0.00/740 [00:00<?, ?B/s]"
            ],
            "application/vnd.jupyter.widget-view+json": {
              "version_major": 2,
              "version_minor": 0,
              "model_id": "f79bc03fc3fe4965bfc81bdabb34e834"
            }
          },
          "metadata": {}
        },
        {
          "output_type": "display_data",
          "data": {
            "text/plain": [
              "model_optimized.onnx:   0%|          | 0.00/218M [00:00<?, ?B/s]"
            ],
            "application/vnd.jupyter.widget-view+json": {
              "version_major": 2,
              "version_minor": 0,
              "model_id": "502c2d7a30624144888ae4361df92fec"
            }
          },
          "metadata": {}
        },
        {
          "output_type": "display_data",
          "data": {
            "text/plain": [
              "tokenizer_config.json:   0%|          | 0.00/1.24k [00:00<?, ?B/s]"
            ],
            "application/vnd.jupyter.widget-view+json": {
              "version_major": 2,
              "version_minor": 0,
              "model_id": "0c69cc74899049c193acf5bc757c7d62"
            }
          },
          "metadata": {}
        },
        {
          "output_type": "stream",
          "name": "stdout",
          "text": [
            "time: 7.35 s (started: 2024-11-08 07:44:41 -05:00)\n"
          ]
        }
      ],
      "source": [
        "embeddings = FastEmbedEmbeddings(model_name=\"BAAI/bge-base-en-v1.5\")"
      ]
    },
    {
      "cell_type": "markdown",
      "metadata": {
        "id": "lW9PE3fkugNi"
      },
      "source": [
        "You might ask why the Meta Llama 3 is not used for generating embeddings. Llama 3 is primarily designed as a large language model (LLM) for generating text, understanding context, and performing natural language processing tasks. While it can generate embeddings, using specialized models for embeddings often offers several advantages:\n",
        "\n",
        "* Efficiency: Models like `BAAI/bge-base-en-v1.5` are specifically optimized for generating embeddings quickly and efficiently, making them more suitable for tasks requiring large-scale embedding generation.\n",
        "\n",
        "* Specialization: Embedding models are trained to create dense vector representations that capture semantic meaning in a way that's optimized for similarity searches and clustering. They excel in tasks where understanding the relationship between different pieces of text is crucial.\n",
        "\n",
        "* Performance: Dedicated embedding models often have better performance metrics (e.g., accuracy, precision, recall) for embedding tasks compared to general-purpose language models.\n",
        "\n",
        "* Resource Management: Using a specialized embedding model can be more resource-efficient, reducing computational overhead and memory usage compared to using a large language model like Llama3 for the same purpose.\n",
        "\n",
        "Thus, in this script, the `FastEmbedEmbeddings` class with the `BAAI/bge-base-en-v1.5 model` is used to generate embeddings, ensuring efficiency and high performance for the embedding tasks required in the workflow."
      ]
    },
    {
      "cell_type": "markdown",
      "metadata": {
        "id": "CXDF9rhWugNi"
      },
      "source": [
        "Qdrant is an open-source vector search engine and database. It specializes in managing and querying vector embeddings efficiently. We create a temp folder `./db` to store the vector database for the chunks:"
      ]
    },
    {
      "cell_type": "code",
      "execution_count": 20,
      "metadata": {
        "colab": {
          "base_uri": "https://localhost:8080/"
        },
        "id": "fSh39w9H9fPU",
        "outputId": "c30ccc1f-7752-4a46-a8ca-e7b5ebf1d752"
      },
      "outputs": [
        {
          "output_type": "stream",
          "name": "stdout",
          "text": [
            "time: 28.8 s (started: 2024-11-08 07:44:48 -05:00)\n"
          ]
        }
      ],
      "source": [
        "qdrant = Qdrant.from_documents(\n",
        "    docs,\n",
        "    embeddings, # Represents the embeddings model (FastEmbedEmbeddings in this case).\n",
        "    # (optional) location=\":memory:\",\n",
        "    path=\"./db\",\n",
        "    collection_name=\"document_embeddings\", # Defines the name of the collection within Qdrant where the embeddings will be stored.\n",
        ")"
      ]
    },
    {
      "cell_type": "markdown",
      "metadata": {
        "id": "xhfgpi4pugNj"
      },
      "source": [
        "By creating a vector store with Qdrant, we can efficiently store and query embeddings, enabling tasks such as similarity search and clustering based on the semantic content of the documents. This setup optimizes performance and scalability for handling large volumes of text data effectively."
      ]
    },
    {
      "cell_type": "markdown",
      "metadata": {
        "id": "a0zYIa2XugNj"
      },
      "source": [
        "In this code section, we perform a similarity search using the `qdrant` vector store. It searches for documents similar to the query \"What is the most important innovation from Meta?\" and prints the top results along with their similarity scores."
      ]
    },
    {
      "cell_type": "code",
      "execution_count": 21,
      "metadata": {
        "colab": {
          "base_uri": "https://localhost:8080/"
        },
        "id": "zBBp64Dy_5hw",
        "outputId": "f0e62d56-c6bb-48ec-83d1-f3386efc5ac4"
      },
      "outputs": [
        {
          "output_type": "stream",
          "name": "stdout",
          "text": [
            "CPU times: user 321 ms, sys: 1.61 ms, total: 323 ms\n",
            "Wall time: 335 ms\n",
            "time: 336 ms (started: 2024-11-08 07:45:47 -05:00)\n"
          ]
        }
      ],
      "source": [
        "%%time\n",
        "# Perform similarity search based on a query using the Qdrant vector store\n",
        "query = \"What is the most important innovation from Meta?\"\n",
        "similar_docs = qdrant.similarity_search_with_score(query)"
      ]
    },
    {
      "cell_type": "code",
      "execution_count": 22,
      "metadata": {
        "colab": {
          "base_uri": "https://localhost:8080/"
        },
        "id": "R0vjJsDapHD4",
        "outputId": "208c3f9b-f2d4-4cda-9bf9-274cfd3774f9"
      },
      "outputs": [
        {
          "output_type": "stream",
          "name": "stdout",
          "text": [
            "text: Meta Reports First Quarter 2024 Results\n",
            "\n",
            "MENLO PARK, Calif. – April 24, 2024 – Meta Platforms, Inc. (Nasdaq: META) today reported financial results for the quarter ended March 31, 2024.\n",
            "\n",
            "\"It's been a good start to the year,\" said Mark Zuckerberg, Meta foun\n",
            "\n",
            "score: 0.6171858025785488\n",
            "--------------------------------------------------------------------------------\n",
            "\n",
            "text: Webcast and Conference Call Information\n",
            "\n",
            "Meta will host a conference call to discuss the results at 2:00 p.m. PT / 5:00 p.m. ET today. The live webcast of Meta's earnings conference call can be accessed at investor.fb.com, along with the earnings press rel\n",
            "\n",
            "score: 0.5703862294492947\n",
            "--------------------------------------------------------------------------------\n",
            "\n",
            "text: Reconciliation of cash, cash equivalents, and restricted cash to the condensed consolidated balance sheets\n",
            "\n",
            "Cash and cash equivalents $ 32,307 $ 11,551 Restricted cash, included in prepaid expenses and other current assets 84 224 Restricted cash, included \n",
            "\n",
            "score: 0.4951494459912784\n",
            "--------------------------------------------------------------------------------\n",
            "\n",
            "text: This press release contains forward-looking statements regarding our future business plans and expectations. These forward-looking statements are only predictions and may differ materially from actual results due to a variety of factors including: the impa\n",
            "\n",
            "score: 0.47436779594694456\n",
            "--------------------------------------------------------------------------------\n",
            "\n",
            "time: 1.32 ms (started: 2024-11-08 07:45:51 -05:00)\n"
          ]
        }
      ],
      "source": [
        "# Print results of retrieval\n",
        "for doc, score in similar_docs:\n",
        "    print(f\"text: {doc.page_content[:256]}\\n\")\n",
        "    print(f\"score: {score}\")\n",
        "    print(\"-\" * 80)\n",
        "    print()"
      ]
    },
    {
      "cell_type": "markdown",
      "metadata": {
        "id": "R92awEn3ugNk"
      },
      "source": [
        "In the context of natural language processing (NLP) and information retrieval systems, a **retriever** refers to a component or module responsible for fetching and retrieving relevant information or documents from a database or corpus based on a given query. Retrievers play a crucial role in various applications, including search engines, question-answering systems, and document retrieval tasks.\n",
        "\n",
        "The below block configures `qdrant` as a retriever (`retriever`) and performs retrieval based on the same query. It retrieves up to 5 documents that match the query and prints their IDs and truncated content."
      ]
    },
    {
      "cell_type": "code",
      "execution_count": 23,
      "metadata": {
        "colab": {
          "base_uri": "https://localhost:8080/"
        },
        "id": "pcYQO28-_pE6",
        "outputId": "c5c28f95-6bec-4c70-ec26-b1c3d11ab04d"
      },
      "outputs": [
        {
          "output_type": "stream",
          "name": "stdout",
          "text": [
            "CPU times: user 475 ms, sys: 61.5 ms, total: 536 ms\n",
            "Wall time: 553 ms\n",
            "time: 554 ms (started: 2024-11-08 07:45:54 -05:00)\n"
          ]
        }
      ],
      "source": [
        "# Configure Qdrant as a retriever and perform retrieval based on the query\n",
        "%%time\n",
        "retriever = qdrant.as_retriever(search_kwargs={\"k\": 5})\n",
        "retrieved_docs = retriever.invoke(query)"
      ]
    },
    {
      "cell_type": "code",
      "execution_count": 24,
      "metadata": {
        "colab": {
          "base_uri": "https://localhost:8080/"
        },
        "id": "heWeRvZmSfuf",
        "outputId": "681aed24-7855-4b1e-8e8d-390fb82c4071"
      },
      "outputs": [
        {
          "output_type": "stream",
          "name": "stdout",
          "text": [
            "id: 9d9e967f60534ca0b7721ef42228e8e3\n",
            "\n",
            "text: Meta Reports First Quarter 2024 Results\n",
            "\n",
            "MENLO PARK, Calif. – April 24, 2024 – Meta Platforms, Inc. (Nasdaq: META) today reported financial results for the quarter ended March 31, 2024.\n",
            "\n",
            "\"It's been a good start to the year,\" said Mark Zuckerberg, Meta foun\n",
            "\n",
            "--------------------------------------------------------------------------------\n",
            "\n",
            "id: e6180d62179b41e8912e0c42525a2908\n",
            "\n",
            "text: Webcast and Conference Call Information\n",
            "\n",
            "Meta will host a conference call to discuss the results at 2:00 p.m. PT / 5:00 p.m. ET today. The live webcast of Meta's earnings conference call can be accessed at investor.fb.com, along with the earnings press rel\n",
            "\n",
            "--------------------------------------------------------------------------------\n",
            "\n",
            "id: f72296c78b44451495c1b31dce5871a3\n",
            "\n",
            "text: Reconciliation of cash, cash equivalents, and restricted cash to the condensed consolidated balance sheets\n",
            "\n",
            "Cash and cash equivalents $ 32,307 $ 11,551 Restricted cash, included in prepaid expenses and other current assets 84 224 Restricted cash, included \n",
            "\n",
            "--------------------------------------------------------------------------------\n",
            "\n",
            "id: 2e5e1f20b1da433482e78e685d614f3e\n",
            "\n",
            "text: This press release contains forward-looking statements regarding our future business plans and expectations. These forward-looking statements are only predictions and may differ materially from actual results due to a variety of factors including: the impa\n",
            "\n",
            "--------------------------------------------------------------------------------\n",
            "\n",
            "id: 6f8f91ebb46c46a2b586ab5cae41844f\n",
            "\n",
            "text: Headcount – Headcount was 69,329 as of March 31, 2024, a decrease of 10% year-over-year.\n",
            "\n",
            "CFO Outlook Commentary\n",
            "\n",
            "We expect second quarter 2024 total revenue to be in the range of $36.5-39 billion. Our guidance assumes foreign currency is a 1% headwind to \n",
            "\n",
            "--------------------------------------------------------------------------------\n",
            "\n",
            "time: 3.08 ms (started: 2024-11-08 07:45:56 -05:00)\n"
          ]
        }
      ],
      "source": [
        "# Print results of similarity search\n",
        "for doc in retrieved_docs:\n",
        "    print(f\"id: {doc.metadata['_id']}\\n\")\n",
        "    print(f\"text: {doc.page_content[:256]}\\n\")\n",
        "    print(\"-\" * 80)\n",
        "    print()"
      ]
    },
    {
      "cell_type": "markdown",
      "metadata": {
        "id": "SS5zSz0lvnu3"
      },
      "source": [
        "## Reranking"
      ]
    },
    {
      "cell_type": "markdown",
      "metadata": {
        "id": "iLVF7RhNugNl"
      },
      "source": [
        "FlashrankRerank specializes in *compressing* large documents into more manageable sizes while preserving essential information. This compression reduces the computational resources needed for processing and improves the efficiency of document retrieval tasks.\n",
        "\n",
        "In the below section, a `FlashrankRerank` compressor is initialized with a specific model (`ms-marco-MiniLM-L-12-v2`). This compressor is then used to create a `ContextualCompressionRetriever` (`compression_retriever`), which integrates both the retrieval and compression capabilities for further processing of document data."
      ]
    },
    {
      "cell_type": "code",
      "execution_count": 25,
      "metadata": {
        "colab": {
          "base_uri": "https://localhost:8080/"
        },
        "id": "83P_6ysFzSxC",
        "outputId": "ea5f8e9b-f3d6-4677-881a-abc0f03acfd1"
      },
      "outputs": [
        {
          "output_type": "stream",
          "name": "stdout",
          "text": [
            "Downloading ms-marco-MiniLM-L-12-v2...\n"
          ]
        },
        {
          "output_type": "stream",
          "name": "stderr",
          "text": [
            "ms-marco-MiniLM-L-12-v2.zip: 100%|██████████| 21.6M/21.6M [00:00<00:00, 35.6MiB/s]\n"
          ]
        },
        {
          "output_type": "stream",
          "name": "stdout",
          "text": [
            "time: 1.62 s (started: 2024-11-08 07:45:59 -05:00)\n"
          ]
        }
      ],
      "source": [
        "compressor = FlashrankRerank(model=\"ms-marco-MiniLM-L-12-v2\")\n",
        "compression_retriever = ContextualCompressionRetriever(\n",
        "    base_compressor=compressor, base_retriever=retriever\n",
        ")"
      ]
    },
    {
      "cell_type": "markdown",
      "source": [
        "Below is the reranking process being executed:"
      ],
      "metadata": {
        "id": "PyN0MjgKHZzi"
      }
    },
    {
      "cell_type": "code",
      "execution_count": 26,
      "metadata": {
        "colab": {
          "base_uri": "https://localhost:8080/"
        },
        "id": "NUVfVgihLgVD",
        "outputId": "ed940a7a-c173-47e2-cf4a-680b866dd0b9"
      },
      "outputs": [
        {
          "output_type": "stream",
          "name": "stdout",
          "text": [
            "Running pairwise ranking..\n",
            "CPU times: user 2.52 s, sys: 154 ms, total: 2.67 s\n",
            "Wall time: 2.67 s\n"
          ]
        },
        {
          "output_type": "execute_result",
          "data": {
            "text/plain": [
              "3"
            ]
          },
          "metadata": {},
          "execution_count": 26
        },
        {
          "output_type": "stream",
          "name": "stdout",
          "text": [
            "time: 2.68 s (started: 2024-11-08 07:46:00 -05:00)\n"
          ]
        }
      ],
      "source": [
        "%%time\n",
        "reranked_docs = compression_retriever.invoke(query)\n",
        "len(reranked_docs)"
      ]
    },
    {
      "cell_type": "markdown",
      "source": [
        "After reranking, the code iterates through `reranked_docs`, printing details for each document. These details help in understanding how each document is ranked and presented based on its relevance to the query."
      ],
      "metadata": {
        "id": "CfgCgdbEGosq"
      }
    },
    {
      "cell_type": "code",
      "execution_count": 27,
      "metadata": {
        "colab": {
          "base_uri": "https://localhost:8080/"
        },
        "id": "JqHWLMdqPhMT",
        "outputId": "64b00f35-1df5-4a60-9436-3f53363fea71"
      },
      "outputs": [
        {
          "output_type": "stream",
          "name": "stdout",
          "text": [
            "id: 9d9e967f60534ca0b7721ef42228e8e3\n",
            "\n",
            "text: Meta Reports First Quarter 2024 Results\n",
            "\n",
            "MENLO PARK, Calif. – April 24, 2024 – Meta Platforms, Inc. (Nasdaq: META) today reported financial results for the quarter ended March 31, 2024.\n",
            "\n",
            "\"It's been a good start to the year,\" said Mark Zuckerberg, Meta foun\n",
            "\n",
            "score: 0.15576323866844177\n",
            "--------------------------------------------------------------------------------\n",
            "\n",
            "id: e6180d62179b41e8912e0c42525a2908\n",
            "\n",
            "text: Webcast and Conference Call Information\n",
            "\n",
            "Meta will host a conference call to discuss the results at 2:00 p.m. PT / 5:00 p.m. ET today. The live webcast of Meta's earnings conference call can be accessed at investor.fb.com, along with the earnings press rel\n",
            "\n",
            "score: 0.010330638848245144\n",
            "--------------------------------------------------------------------------------\n",
            "\n",
            "id: 2e5e1f20b1da433482e78e685d614f3e\n",
            "\n",
            "text: This press release contains forward-looking statements regarding our future business plans and expectations. These forward-looking statements are only predictions and may differ materially from actual results due to a variety of factors including: the impa\n",
            "\n",
            "score: 6.364691216731444e-05\n",
            "--------------------------------------------------------------------------------\n",
            "\n",
            "time: 1.67 ms (started: 2024-11-08 07:46:03 -05:00)\n"
          ]
        }
      ],
      "source": [
        "for doc in reranked_docs:\n",
        "    print(f\"id: {doc.metadata['_id']}\\n\")\n",
        "    print(f\"text: {doc.page_content[:256]}\\n\")\n",
        "    print(f\"score: {doc.metadata['relevance_score']}\")\n",
        "    print(\"-\" * 80)\n",
        "    print()"
      ]
    },
    {
      "cell_type": "markdown",
      "metadata": {
        "id": "3ra-bCZzvrFy"
      },
      "source": [
        "## Q&A Over Document"
      ]
    },
    {
      "cell_type": "markdown",
      "source": [
        "In this script segment, we employ the Llama 3 model to perform question-answering (Q&A) over the earnings document. Groq's `ChatGroq` is used to host the LLM on the cloud while being compatible with the `LangChain` library."
      ],
      "metadata": {
        "id": "1xOaP2wXIVjr"
      }
    },
    {
      "cell_type": "code",
      "execution_count": 28,
      "metadata": {
        "colab": {
          "base_uri": "https://localhost:8080/"
        },
        "id": "tjOym5svzy2j",
        "outputId": "f0e62355-8a26-49f0-eaf3-a40a23c930d0"
      },
      "outputs": [
        {
          "output_type": "stream",
          "name": "stdout",
          "text": [
            "time: 384 ms (started: 2024-11-08 07:46:06 -05:00)\n"
          ]
        }
      ],
      "source": [
        "# Initialize the ChatGroq model\n",
        "llm = ChatGroq(temperature=0, model_name=\"llama3-70b-8192\")"
      ]
    },
    {
      "cell_type": "markdown",
      "source": [
        "Prompt engineering is used here to make sure the response is what we expect from the model. For example, by saying \"don't try to make up an answer\", the model can reduce hallucination."
      ],
      "metadata": {
        "id": "pEgHiiH4JJey"
      }
    },
    {
      "cell_type": "code",
      "execution_count": 29,
      "metadata": {
        "colab": {
          "base_uri": "https://localhost:8080/"
        },
        "id": "4iqfuyMaBe6j",
        "outputId": "20fcc806-543b-49c9-c1b8-cddb22b02802"
      },
      "outputs": [
        {
          "output_type": "stream",
          "name": "stdout",
          "text": [
            "time: 917 µs (started: 2024-11-08 07:46:08 -05:00)\n"
          ]
        }
      ],
      "source": [
        "# Define the prompt template for generating responses\n",
        "prompt_template = \"\"\"\n",
        "Use the following pieces of information to answer the user's question.\n",
        "If you don't know the answer, just say that you don't know, don't try to make up an answer.\n",
        "\n",
        "Context: {context}\n",
        "Question: {question}\n",
        "\n",
        "Answer the question and provide additional helpful information,\n",
        "based on the pieces of information, if applicable. Be succinct.\n",
        "\n",
        "Responses should be properly formatted to be easily read.\n",
        "\"\"\"\n",
        "\n",
        "# Initialize the PromptTemplate with input variables so that both context and question will be considered by the model.\n",
        "prompt = PromptTemplate(\n",
        "    template=prompt_template, input_variables=[\"context\", \"question\"]\n",
        ")"
      ]
    },
    {
      "cell_type": "markdown",
      "source": [
        "Using `RetrievalQA`, we establish a question-answering pipeline (`qa`) that integrates the Llama 3 model (`llm`), a specified chain type (`stuff`), and the compression retriever from the previous step (`compression_retriever`). This setup enables the retrieval and processing of documents to generate accurate responses aligned with user queries.\n",
        "\n",
        "The `verbose` parameter in the `chain_type_kwargs` refers to a setting that controls the level of detail or verbosity of the output during the question-answering process. Specifically, when `verbose=True` is set, it typically enables the system to provide additional information or logs that help in understanding the internal workings of the retrieval and processing pipeline."
      ],
      "metadata": {
        "id": "nCogD1SPJ2NQ"
      }
    },
    {
      "cell_type": "code",
      "execution_count": 30,
      "metadata": {
        "colab": {
          "base_uri": "https://localhost:8080/"
        },
        "id": "sz2aMwNWBxvg",
        "outputId": "8ee403aa-d3a1-46b9-8d79-dcb1a607ddfb"
      },
      "outputs": [
        {
          "output_type": "stream",
          "name": "stdout",
          "text": [
            "time: 2.5 ms (started: 2024-11-08 07:46:11 -05:00)\n"
          ]
        }
      ],
      "source": [
        "# Initialize the RetrievalQA chain\n",
        "qa = RetrievalQA.from_chain_type(\n",
        "    llm=llm,\n",
        "    chain_type=\"stuff\", # Example placeholder chain type\n",
        "    retriever=compression_retriever,\n",
        "    return_source_documents=False,\n",
        "    chain_type_kwargs={\"prompt\": prompt, \"verbose\": False},\n",
        ")"
      ]
    },
    {
      "cell_type": "markdown",
      "source": [
        "### significant innovation"
      ],
      "metadata": {
        "id": "pM1JB6KvMdv0"
      }
    },
    {
      "cell_type": "code",
      "execution_count": 31,
      "metadata": {
        "colab": {
          "base_uri": "https://localhost:8080/"
        },
        "collapsed": true,
        "id": "J8lBIegHT0Y6",
        "outputId": "9c8fe10c-6b99-45bc-dac4-d489df0a2744"
      },
      "outputs": [
        {
          "output_type": "stream",
          "name": "stdout",
          "text": [
            "Running pairwise ranking..\n",
            "time: 3.53 s (started: 2024-11-08 07:46:13 -05:00)\n"
          ]
        }
      ],
      "source": [
        "# Perform Q&A with a specific query\n",
        "response = qa.invoke(\"What is the most significant innovation from Meta?\")"
      ]
    },
    {
      "cell_type": "code",
      "source": [
        "# Print the response\n",
        "print_response(response)"
      ],
      "metadata": {
        "colab": {
          "base_uri": "https://localhost:8080/"
        },
        "id": "7lS3bvclNr4k",
        "outputId": "fdc5c21d-45f5-46ed-d8bb-ba7c629b567e"
      },
      "execution_count": 34,
      "outputs": [
        {
          "output_type": "stream",
          "name": "stdout",
          "text": [
            "Based on the provided information, the most significant innovation from Meta is the new version of\n",
            "Meta AI with Llama 3, which is mentioned in the quote from Mark Zuckerberg, Meta founder and CEO.\n",
            "This is stated as \"another step towards building the world's leading AI\".\n",
            "\n",
            "Additionally, the press release highlights Meta's efforts in building the metaverse, which is\n",
            "mentioned as one of the areas where the company is making steady progress. However, it does not\n",
            "provide further details on specific innovations in this area.\n",
            "time: 850 µs (started: 2024-11-08 07:46:49 -05:00)\n"
          ]
        }
      ]
    },
    {
      "cell_type": "markdown",
      "source": [
        "### revenue for 2024 and % change"
      ],
      "metadata": {
        "id": "YkQp3vaiN_UX"
      }
    },
    {
      "cell_type": "code",
      "execution_count": 35,
      "metadata": {
        "colab": {
          "base_uri": "https://localhost:8080/"
        },
        "id": "IObqfsaHYjGm",
        "outputId": "8a800e4a-6d0c-4fb4-f4dd-9dac1de8b72d"
      },
      "outputs": [
        {
          "output_type": "stream",
          "name": "stdout",
          "text": [
            "Running pairwise ranking..\n",
            "CPU times: user 3.64 s, sys: 3.39 ms, total: 3.64 s\n",
            "Wall time: 4.36 s\n",
            "time: 4.36 s (started: 2024-11-08 07:47:10 -05:00)\n"
          ]
        }
      ],
      "source": [
        "%%time\n",
        "response = qa.invoke(\"What is the revenue for 2024 and % change?\")"
      ]
    },
    {
      "cell_type": "code",
      "execution_count": null,
      "metadata": {
        "colab": {
          "base_uri": "https://localhost:8080/",
          "height": 172
        },
        "id": "JevCXm-sbEMo",
        "outputId": "2e2840c0-eb11-4a4a-8c1a-7434835f487c"
      },
      "outputs": [
        {
          "data": {
            "text/markdown": [
              "**Revenue for 2024 and % Change:**\n",
              "\n",
              "The revenue for 2024 is $36,455 million, which represents a 27% year-over-year change compared to 2023.\n",
              "\n",
              "**Additional Helpful Information:**\n",
              "\n",
              "* Revenue excluding foreign exchange effect is $36,349 million, which also represents a 27% year-over-year change.\n",
              "* Advertising revenue is $35,635 million, which represents a 27% year-over-year change, and advertising revenue excluding foreign exchange effect is $35,530 million, which represents a 26% year-over-year change."
            ],
            "text/plain": [
              "<IPython.core.display.Markdown object>"
            ]
          },
          "execution_count": 30,
          "metadata": {},
          "output_type": "execute_result"
        },
        {
          "name": "stdout",
          "output_type": "stream",
          "text": [
            "time: 5.23 ms (started: 2024-07-08 16:08:42 +00:00)\n"
          ]
        }
      ],
      "source": [
        "Markdown(response[\"result\"])"
      ]
    },
    {
      "cell_type": "code",
      "execution_count": null,
      "metadata": {
        "colab": {
          "base_uri": "https://localhost:8080/",
          "height": 122
        },
        "id": "QxMTQ-AOGxv4",
        "outputId": "a6fb4a62-f1d2-4762-a9e0-0669a849ac4d"
      },
      "outputs": [
        {
          "data": {
            "application/vnd.google.colaboratory.intrinsic+json": {
              "type": "string"
            },
            "text/plain": [
              "'**Revenue for 2024 and % Change:**\\n\\nThe revenue for 2024 is $36,455 million, which represents a 27% year-over-year change compared to 2023.\\n\\n**Additional Helpful Information:**\\n\\n* Revenue excluding foreign exchange effect is $36,349 million, which also represents a 27% year-over-year change.\\n* Advertising revenue is $35,635 million, which represents a 27% year-over-year change, and advertising revenue excluding foreign exchange effect is $35,530 million, which represents a 26% year-over-year change.'"
            ]
          },
          "execution_count": 31,
          "metadata": {},
          "output_type": "execute_result"
        },
        {
          "name": "stdout",
          "output_type": "stream",
          "text": [
            "time: 12.4 ms (started: 2024-07-08 16:09:07 +00:00)\n"
          ]
        }
      ],
      "source": [
        "response[\"result\"]"
      ]
    },
    {
      "cell_type": "markdown",
      "source": [
        "### revenue for 2023"
      ],
      "metadata": {
        "id": "Djhwxa-AMUzx"
      }
    },
    {
      "cell_type": "code",
      "execution_count": null,
      "metadata": {
        "colab": {
          "base_uri": "https://localhost:8080/"
        },
        "id": "R6cr0QR6C7_L",
        "outputId": "7c6ed07a-9d7e-423b-84a6-da5318b35522"
      },
      "outputs": [
        {
          "name": "stdout",
          "output_type": "stream",
          "text": [
            "Running pairwise ranking..\n",
            "CPU times: user 2.41 s, sys: 6.13 ms, total: 2.41 s\n",
            "Wall time: 3.39 s\n",
            "time: 3.39 s (started: 2024-07-08 16:19:43 +00:00)\n"
          ]
        }
      ],
      "source": [
        "%%time\n",
        "response = qa.invoke(\"What is the revenue for 2023?\")"
      ]
    },
    {
      "cell_type": "code",
      "execution_count": null,
      "metadata": {
        "colab": {
          "base_uri": "https://localhost:8080/"
        },
        "id": "0f7ASQkWJPAL",
        "outputId": "1a6953e3-cf16-4eed-d5b9-f276ecb6d989"
      },
      "outputs": [
        {
          "name": "stdout",
          "output_type": "stream",
          "text": [
            "**Answer:** The revenue for 2023 is $28,645.\n",
            "\n",
            "**Additional helpful information:**\n",
            "\n",
            "* The revenue for 2024 is $36,455, which is a 27% year-over-year increase from 2023.\n",
            "* The foreign exchange effect on 2024 revenue using 2023 rates is ($106), which means that if the\n",
            "exchange rates were the same as in 2023, the revenue would be $36,349.\n",
            "time: 1.78 ms (started: 2024-07-08 16:19:52 +00:00)\n"
          ]
        }
      ],
      "source": [
        "print_response(response)"
      ]
    },
    {
      "cell_type": "code",
      "execution_count": null,
      "metadata": {
        "colab": {
          "base_uri": "https://localhost:8080/"
        },
        "id": "NxwcVvEYb6Fi",
        "outputId": "98f292f1-0b73-47b7-8855-24a48af33d76"
      },
      "outputs": [
        {
          "name": "stdout",
          "output_type": "stream",
          "text": [
            "The revenue for 2023 is $28,645.\n",
            "\n",
            "Additional information: This is a 27% increase from the previous year, and the revenue excluding\n",
            "foreign exchange effect is also $28,645.\n"
          ]
        }
      ],
      "source": [
        "print_response(response)"
      ]
    },
    {
      "cell_type": "markdown",
      "source": [
        "### expected revenue"
      ],
      "metadata": {
        "id": "8gvjtJ0wL3_D"
      }
    },
    {
      "cell_type": "code",
      "execution_count": null,
      "metadata": {
        "colab": {
          "base_uri": "https://localhost:8080/"
        },
        "id": "D9zNlVvWm9oQ",
        "outputId": "a9d82c59-3212-4504-b7f9-e40cc67a797b"
      },
      "outputs": [
        {
          "name": "stdout",
          "output_type": "stream",
          "text": [
            "Running pairwise ranking..\n",
            "CPU times: user 2.59 s, sys: 9.42 ms, total: 2.6 s\n",
            "Wall time: 6.58 s\n"
          ]
        }
      ],
      "source": [
        "%%time\n",
        "response = qa.invoke(\"What is the expected revenue for the second quarter of 2024?\")"
      ]
    },
    {
      "cell_type": "code",
      "execution_count": null,
      "metadata": {
        "colab": {
          "base_uri": "https://localhost:8080/",
          "height": 70
        },
        "id": "wimlevzZm-w3",
        "outputId": "4958bdd5-24aa-4947-883f-2343ee9b1ea4"
      },
      "outputs": [
        {
          "data": {
            "text/markdown": [
              "**Answer:** The expected revenue for the second quarter of 2024 is in the range of $36.5-39 billion.\n",
              "\n",
              "**Additional information:** This guidance assumes a 1% headwind to year-over-year total revenue growth due to foreign currency exchange rates."
            ],
            "text/plain": [
              "<IPython.core.display.Markdown object>"
            ]
          },
          "execution_count": 38,
          "metadata": {},
          "output_type": "execute_result"
        }
      ],
      "source": [
        "Markdown(response[\"result\"])"
      ]
    },
    {
      "cell_type": "markdown",
      "source": [
        "### overall outlook"
      ],
      "metadata": {
        "id": "GfQ974WuL0la"
      }
    },
    {
      "cell_type": "code",
      "execution_count": null,
      "metadata": {
        "colab": {
          "base_uri": "https://localhost:8080/"
        },
        "id": "YoToCv3znIVB",
        "outputId": "9dc6bf5b-e718-4caa-efaf-318ac0c5db5f"
      },
      "outputs": [
        {
          "name": "stdout",
          "output_type": "stream",
          "text": [
            "Running pairwise ranking..\n",
            "CPU times: user 3.44 s, sys: 12.9 ms, total: 3.45 s\n",
            "Wall time: 8.28 s\n"
          ]
        }
      ],
      "source": [
        "%%time\n",
        "response = qa.invoke(\"What is the overall outlook of Q1 2024?\")"
      ]
    },
    {
      "cell_type": "code",
      "execution_count": null,
      "metadata": {
        "colab": {
          "base_uri": "https://localhost:8080/"
        },
        "id": "EFtaBY3Vn09U",
        "outputId": "ffbfcacb-3e8a-40d0-8bf4-0e9f0897c85d"
      },
      "outputs": [
        {
          "name": "stdout",
          "output_type": "stream",
          "text": [
            "**Overall Outlook of Q1 2024:**\n",
            "\n",
            "The overall outlook of Q1 2024 is positive. According to Mark Zuckerberg, \"It's been a good start to\n",
            "the year.\" The company has reported strong financial results, with revenue increasing by 27% year-\n",
            "over-year to $36.46 billion. Net income has also increased by 117% year-over-year to $12.37 billion.\n",
            "\n",
            "**Additional Highlights:**\n",
            "\n",
            "* Family daily active people (DAP) increased by 7% year-over-year to 3.24 billion.\n",
            "* Ad impressions increased by 20% year-over-year.\n",
            "* Average price per ad increased by 6% year-over-year.\n",
            "* Capital expenditures were $6.72 billion, and free cash flow was $12.53 billion.\n",
            "* The company has also reported a strong capital return program, with share repurchases of $14.64\n",
            "billion and dividend payments of $1.27 billion.\n"
          ]
        }
      ],
      "source": [
        "print_response(response)"
      ]
    },
    {
      "cell_type": "markdown",
      "source": [
        "### and ... any further questions?"
      ],
      "metadata": {
        "id": "iO4OfDlSPZNf"
      }
    },
    {
      "cell_type": "markdown",
      "source": [
        "To convert the question into an input field that users can interact with directly, you can use `input()` function in Python, like this:"
      ],
      "metadata": {
        "id": "MufSZKj3Phtt"
      }
    },
    {
      "cell_type": "code",
      "source": [
        "# Define a function to perform Q&A with user input\n",
        "def perform_qa_with_input():\n",
        "    question = input(\"Enter your question: \")\n",
        "    response = qa.invoke(question)\n",
        "    return response\n",
        "\n",
        "# Example usage\n",
        "response = perform_qa_with_input()\n",
        "print_response(response)"
      ],
      "metadata": {
        "colab": {
          "base_uri": "https://localhost:8080/"
        },
        "id": "1y2ZB9bRPc4u",
        "outputId": "9dd79552-0f6a-476f-9405-01298c1cad90"
      },
      "execution_count": null,
      "outputs": [
        {
          "output_type": "stream",
          "name": "stdout",
          "text": [
            "Enter your question: When will Meta host the conference call?\n",
            "Running pairwise ranking..\n",
            "**Answer:** Meta will host the conference call at 2:00 p.m. PT / 5:00 p.m. ET today.\n",
            "\n",
            "**Additional helpful information:**\n",
            "\n",
            "* The live webcast of Meta's earnings conference call can be accessed at investor.fb.com.\n",
            "* A replay of the call will be available at the same website after the call.\n",
            "* Transcripts of conference calls with publishing equity research analysts held today will also be\n",
            "posted to the investor.fb.com website.\n",
            "time: 14.8 s (started: 2024-07-10 06:06:47 +00:00)\n"
          ]
        }
      ]
    },
    {
      "cell_type": "markdown",
      "source": [
        "# References\n",
        "- [Meta Reports First Quarter 2024 Results](https://s21.q4cdn.com/399680738/files/doc_financials/2024/q1/Meta-03-31-2024-Exhibit-99-1_FINAL.pdf)\n",
        "- [PCAOB Audit Standards](https://assets.pcaobus.org/pcaob-dev/docs/default-source/standards/auditing/documents/auditing_standards_audits_after_december_15_2020_december_14_2024.pdf?sfvrsn=915b22d3_1)"
      ],
      "metadata": {
        "id": "xD32bQb5FI68"
      }
    }
  ],
  "metadata": {
    "colab": {
      "provenance": [],
      "toc_visible": true,
      "include_colab_link": true
    },
    "kernelspec": {
      "display_name": "Python 3 (ipykernel)",
      "language": "python",
      "name": "python3"
    },
    "language_info": {
      "codemirror_mode": {
        "name": "ipython",
        "version": 3
      },
      "file_extension": ".py",
      "mimetype": "text/x-python",
      "name": "python",
      "nbconvert_exporter": "python",
      "pygments_lexer": "ipython3",
      "version": "3.8.13"
    },
    "widgets": {
      "application/vnd.jupyter.widget-state+json": {
        "e4978ae73fbe43589e7151282f6b8702": {
          "model_module": "@jupyter-widgets/controls",
          "model_name": "HBoxModel",
          "model_module_version": "1.5.0",
          "state": {
            "_dom_classes": [],
            "_model_module": "@jupyter-widgets/controls",
            "_model_module_version": "1.5.0",
            "_model_name": "HBoxModel",
            "_view_count": null,
            "_view_module": "@jupyter-widgets/controls",
            "_view_module_version": "1.5.0",
            "_view_name": "HBoxView",
            "box_style": "",
            "children": [
              "IPY_MODEL_d29b6a5f7b0c4a629af5daceac40e558",
              "IPY_MODEL_18df46d69b0740f8814675b0afd94d09",
              "IPY_MODEL_f6493519470e4ef2acb57ca147297f4f"
            ],
            "layout": "IPY_MODEL_8d91cb392d12428981b2062ad4c12cc4"
          }
        },
        "d29b6a5f7b0c4a629af5daceac40e558": {
          "model_module": "@jupyter-widgets/controls",
          "model_name": "HTMLModel",
          "model_module_version": "1.5.0",
          "state": {
            "_dom_classes": [],
            "_model_module": "@jupyter-widgets/controls",
            "_model_module_version": "1.5.0",
            "_model_name": "HTMLModel",
            "_view_count": null,
            "_view_module": "@jupyter-widgets/controls",
            "_view_module_version": "1.5.0",
            "_view_name": "HTMLView",
            "description": "",
            "description_tooltip": null,
            "layout": "IPY_MODEL_da5b8f1d288349b79283690a02ec87d6",
            "placeholder": "​",
            "style": "IPY_MODEL_ebe3e04913b84f9f9694acd29c11f29f",
            "value": "Fetching 5 files: 100%"
          }
        },
        "18df46d69b0740f8814675b0afd94d09": {
          "model_module": "@jupyter-widgets/controls",
          "model_name": "FloatProgressModel",
          "model_module_version": "1.5.0",
          "state": {
            "_dom_classes": [],
            "_model_module": "@jupyter-widgets/controls",
            "_model_module_version": "1.5.0",
            "_model_name": "FloatProgressModel",
            "_view_count": null,
            "_view_module": "@jupyter-widgets/controls",
            "_view_module_version": "1.5.0",
            "_view_name": "ProgressView",
            "bar_style": "success",
            "description": "",
            "description_tooltip": null,
            "layout": "IPY_MODEL_b84d0327a02b44a18171cc8c1ea6b461",
            "max": 5,
            "min": 0,
            "orientation": "horizontal",
            "style": "IPY_MODEL_a5f79f054183489aababd58fea402576",
            "value": 5
          }
        },
        "f6493519470e4ef2acb57ca147297f4f": {
          "model_module": "@jupyter-widgets/controls",
          "model_name": "HTMLModel",
          "model_module_version": "1.5.0",
          "state": {
            "_dom_classes": [],
            "_model_module": "@jupyter-widgets/controls",
            "_model_module_version": "1.5.0",
            "_model_name": "HTMLModel",
            "_view_count": null,
            "_view_module": "@jupyter-widgets/controls",
            "_view_module_version": "1.5.0",
            "_view_name": "HTMLView",
            "description": "",
            "description_tooltip": null,
            "layout": "IPY_MODEL_ed91f22b719b4af38fe91d6cba8dc697",
            "placeholder": "​",
            "style": "IPY_MODEL_ee7a93b9074140a1bfe4631960ddc43e",
            "value": " 5/5 [00:02&lt;00:00,  1.19s/it]"
          }
        },
        "8d91cb392d12428981b2062ad4c12cc4": {
          "model_module": "@jupyter-widgets/base",
          "model_name": "LayoutModel",
          "model_module_version": "1.2.0",
          "state": {
            "_model_module": "@jupyter-widgets/base",
            "_model_module_version": "1.2.0",
            "_model_name": "LayoutModel",
            "_view_count": null,
            "_view_module": "@jupyter-widgets/base",
            "_view_module_version": "1.2.0",
            "_view_name": "LayoutView",
            "align_content": null,
            "align_items": null,
            "align_self": null,
            "border": null,
            "bottom": null,
            "display": null,
            "flex": null,
            "flex_flow": null,
            "grid_area": null,
            "grid_auto_columns": null,
            "grid_auto_flow": null,
            "grid_auto_rows": null,
            "grid_column": null,
            "grid_gap": null,
            "grid_row": null,
            "grid_template_areas": null,
            "grid_template_columns": null,
            "grid_template_rows": null,
            "height": null,
            "justify_content": null,
            "justify_items": null,
            "left": null,
            "margin": null,
            "max_height": null,
            "max_width": null,
            "min_height": null,
            "min_width": null,
            "object_fit": null,
            "object_position": null,
            "order": null,
            "overflow": null,
            "overflow_x": null,
            "overflow_y": null,
            "padding": null,
            "right": null,
            "top": null,
            "visibility": null,
            "width": null
          }
        },
        "da5b8f1d288349b79283690a02ec87d6": {
          "model_module": "@jupyter-widgets/base",
          "model_name": "LayoutModel",
          "model_module_version": "1.2.0",
          "state": {
            "_model_module": "@jupyter-widgets/base",
            "_model_module_version": "1.2.0",
            "_model_name": "LayoutModel",
            "_view_count": null,
            "_view_module": "@jupyter-widgets/base",
            "_view_module_version": "1.2.0",
            "_view_name": "LayoutView",
            "align_content": null,
            "align_items": null,
            "align_self": null,
            "border": null,
            "bottom": null,
            "display": null,
            "flex": null,
            "flex_flow": null,
            "grid_area": null,
            "grid_auto_columns": null,
            "grid_auto_flow": null,
            "grid_auto_rows": null,
            "grid_column": null,
            "grid_gap": null,
            "grid_row": null,
            "grid_template_areas": null,
            "grid_template_columns": null,
            "grid_template_rows": null,
            "height": null,
            "justify_content": null,
            "justify_items": null,
            "left": null,
            "margin": null,
            "max_height": null,
            "max_width": null,
            "min_height": null,
            "min_width": null,
            "object_fit": null,
            "object_position": null,
            "order": null,
            "overflow": null,
            "overflow_x": null,
            "overflow_y": null,
            "padding": null,
            "right": null,
            "top": null,
            "visibility": null,
            "width": null
          }
        },
        "ebe3e04913b84f9f9694acd29c11f29f": {
          "model_module": "@jupyter-widgets/controls",
          "model_name": "DescriptionStyleModel",
          "model_module_version": "1.5.0",
          "state": {
            "_model_module": "@jupyter-widgets/controls",
            "_model_module_version": "1.5.0",
            "_model_name": "DescriptionStyleModel",
            "_view_count": null,
            "_view_module": "@jupyter-widgets/base",
            "_view_module_version": "1.2.0",
            "_view_name": "StyleView",
            "description_width": ""
          }
        },
        "b84d0327a02b44a18171cc8c1ea6b461": {
          "model_module": "@jupyter-widgets/base",
          "model_name": "LayoutModel",
          "model_module_version": "1.2.0",
          "state": {
            "_model_module": "@jupyter-widgets/base",
            "_model_module_version": "1.2.0",
            "_model_name": "LayoutModel",
            "_view_count": null,
            "_view_module": "@jupyter-widgets/base",
            "_view_module_version": "1.2.0",
            "_view_name": "LayoutView",
            "align_content": null,
            "align_items": null,
            "align_self": null,
            "border": null,
            "bottom": null,
            "display": null,
            "flex": null,
            "flex_flow": null,
            "grid_area": null,
            "grid_auto_columns": null,
            "grid_auto_flow": null,
            "grid_auto_rows": null,
            "grid_column": null,
            "grid_gap": null,
            "grid_row": null,
            "grid_template_areas": null,
            "grid_template_columns": null,
            "grid_template_rows": null,
            "height": null,
            "justify_content": null,
            "justify_items": null,
            "left": null,
            "margin": null,
            "max_height": null,
            "max_width": null,
            "min_height": null,
            "min_width": null,
            "object_fit": null,
            "object_position": null,
            "order": null,
            "overflow": null,
            "overflow_x": null,
            "overflow_y": null,
            "padding": null,
            "right": null,
            "top": null,
            "visibility": null,
            "width": null
          }
        },
        "a5f79f054183489aababd58fea402576": {
          "model_module": "@jupyter-widgets/controls",
          "model_name": "ProgressStyleModel",
          "model_module_version": "1.5.0",
          "state": {
            "_model_module": "@jupyter-widgets/controls",
            "_model_module_version": "1.5.0",
            "_model_name": "ProgressStyleModel",
            "_view_count": null,
            "_view_module": "@jupyter-widgets/base",
            "_view_module_version": "1.2.0",
            "_view_name": "StyleView",
            "bar_color": null,
            "description_width": ""
          }
        },
        "ed91f22b719b4af38fe91d6cba8dc697": {
          "model_module": "@jupyter-widgets/base",
          "model_name": "LayoutModel",
          "model_module_version": "1.2.0",
          "state": {
            "_model_module": "@jupyter-widgets/base",
            "_model_module_version": "1.2.0",
            "_model_name": "LayoutModel",
            "_view_count": null,
            "_view_module": "@jupyter-widgets/base",
            "_view_module_version": "1.2.0",
            "_view_name": "LayoutView",
            "align_content": null,
            "align_items": null,
            "align_self": null,
            "border": null,
            "bottom": null,
            "display": null,
            "flex": null,
            "flex_flow": null,
            "grid_area": null,
            "grid_auto_columns": null,
            "grid_auto_flow": null,
            "grid_auto_rows": null,
            "grid_column": null,
            "grid_gap": null,
            "grid_row": null,
            "grid_template_areas": null,
            "grid_template_columns": null,
            "grid_template_rows": null,
            "height": null,
            "justify_content": null,
            "justify_items": null,
            "left": null,
            "margin": null,
            "max_height": null,
            "max_width": null,
            "min_height": null,
            "min_width": null,
            "object_fit": null,
            "object_position": null,
            "order": null,
            "overflow": null,
            "overflow_x": null,
            "overflow_y": null,
            "padding": null,
            "right": null,
            "top": null,
            "visibility": null,
            "width": null
          }
        },
        "ee7a93b9074140a1bfe4631960ddc43e": {
          "model_module": "@jupyter-widgets/controls",
          "model_name": "DescriptionStyleModel",
          "model_module_version": "1.5.0",
          "state": {
            "_model_module": "@jupyter-widgets/controls",
            "_model_module_version": "1.5.0",
            "_model_name": "DescriptionStyleModel",
            "_view_count": null,
            "_view_module": "@jupyter-widgets/base",
            "_view_module_version": "1.2.0",
            "_view_name": "StyleView",
            "description_width": ""
          }
        },
        "a86b24417a824c35971a7a9f76b2a205": {
          "model_module": "@jupyter-widgets/controls",
          "model_name": "HBoxModel",
          "model_module_version": "1.5.0",
          "state": {
            "_dom_classes": [],
            "_model_module": "@jupyter-widgets/controls",
            "_model_module_version": "1.5.0",
            "_model_name": "HBoxModel",
            "_view_count": null,
            "_view_module": "@jupyter-widgets/controls",
            "_view_module_version": "1.5.0",
            "_view_name": "HBoxView",
            "box_style": "",
            "children": [
              "IPY_MODEL_01327beea86143f4b08d426a0afaf4ea",
              "IPY_MODEL_68c95a3f53bc4bbd9d762a6961e088e8",
              "IPY_MODEL_6a8fa4085b334b5d9deeb008e51d3b8d"
            ],
            "layout": "IPY_MODEL_a0bd0994a751476a8bc104bfc9fdab87"
          }
        },
        "01327beea86143f4b08d426a0afaf4ea": {
          "model_module": "@jupyter-widgets/controls",
          "model_name": "HTMLModel",
          "model_module_version": "1.5.0",
          "state": {
            "_dom_classes": [],
            "_model_module": "@jupyter-widgets/controls",
            "_model_module_version": "1.5.0",
            "_model_name": "HTMLModel",
            "_view_count": null,
            "_view_module": "@jupyter-widgets/controls",
            "_view_module_version": "1.5.0",
            "_view_name": "HTMLView",
            "description": "",
            "description_tooltip": null,
            "layout": "IPY_MODEL_38f7686685534d15b58f17c389baf4dd",
            "placeholder": "​",
            "style": "IPY_MODEL_3fb610d281344022ad88f018a00cce5d",
            "value": "special_tokens_map.json: 100%"
          }
        },
        "68c95a3f53bc4bbd9d762a6961e088e8": {
          "model_module": "@jupyter-widgets/controls",
          "model_name": "FloatProgressModel",
          "model_module_version": "1.5.0",
          "state": {
            "_dom_classes": [],
            "_model_module": "@jupyter-widgets/controls",
            "_model_module_version": "1.5.0",
            "_model_name": "FloatProgressModel",
            "_view_count": null,
            "_view_module": "@jupyter-widgets/controls",
            "_view_module_version": "1.5.0",
            "_view_name": "ProgressView",
            "bar_style": "success",
            "description": "",
            "description_tooltip": null,
            "layout": "IPY_MODEL_ef662d08e6bd485d9f0141228c7c9cc2",
            "max": 695,
            "min": 0,
            "orientation": "horizontal",
            "style": "IPY_MODEL_e6156f8328924550a2b000254d26e48c",
            "value": 695
          }
        },
        "6a8fa4085b334b5d9deeb008e51d3b8d": {
          "model_module": "@jupyter-widgets/controls",
          "model_name": "HTMLModel",
          "model_module_version": "1.5.0",
          "state": {
            "_dom_classes": [],
            "_model_module": "@jupyter-widgets/controls",
            "_model_module_version": "1.5.0",
            "_model_name": "HTMLModel",
            "_view_count": null,
            "_view_module": "@jupyter-widgets/controls",
            "_view_module_version": "1.5.0",
            "_view_name": "HTMLView",
            "description": "",
            "description_tooltip": null,
            "layout": "IPY_MODEL_92af07ed7ed1469da37e06370169ed71",
            "placeholder": "​",
            "style": "IPY_MODEL_2d07e4a0d42c4ad2838164cfde3e6257",
            "value": " 695/695 [00:00&lt;00:00, 7.52kB/s]"
          }
        },
        "a0bd0994a751476a8bc104bfc9fdab87": {
          "model_module": "@jupyter-widgets/base",
          "model_name": "LayoutModel",
          "model_module_version": "1.2.0",
          "state": {
            "_model_module": "@jupyter-widgets/base",
            "_model_module_version": "1.2.0",
            "_model_name": "LayoutModel",
            "_view_count": null,
            "_view_module": "@jupyter-widgets/base",
            "_view_module_version": "1.2.0",
            "_view_name": "LayoutView",
            "align_content": null,
            "align_items": null,
            "align_self": null,
            "border": null,
            "bottom": null,
            "display": null,
            "flex": null,
            "flex_flow": null,
            "grid_area": null,
            "grid_auto_columns": null,
            "grid_auto_flow": null,
            "grid_auto_rows": null,
            "grid_column": null,
            "grid_gap": null,
            "grid_row": null,
            "grid_template_areas": null,
            "grid_template_columns": null,
            "grid_template_rows": null,
            "height": null,
            "justify_content": null,
            "justify_items": null,
            "left": null,
            "margin": null,
            "max_height": null,
            "max_width": null,
            "min_height": null,
            "min_width": null,
            "object_fit": null,
            "object_position": null,
            "order": null,
            "overflow": null,
            "overflow_x": null,
            "overflow_y": null,
            "padding": null,
            "right": null,
            "top": null,
            "visibility": null,
            "width": null
          }
        },
        "38f7686685534d15b58f17c389baf4dd": {
          "model_module": "@jupyter-widgets/base",
          "model_name": "LayoutModel",
          "model_module_version": "1.2.0",
          "state": {
            "_model_module": "@jupyter-widgets/base",
            "_model_module_version": "1.2.0",
            "_model_name": "LayoutModel",
            "_view_count": null,
            "_view_module": "@jupyter-widgets/base",
            "_view_module_version": "1.2.0",
            "_view_name": "LayoutView",
            "align_content": null,
            "align_items": null,
            "align_self": null,
            "border": null,
            "bottom": null,
            "display": null,
            "flex": null,
            "flex_flow": null,
            "grid_area": null,
            "grid_auto_columns": null,
            "grid_auto_flow": null,
            "grid_auto_rows": null,
            "grid_column": null,
            "grid_gap": null,
            "grid_row": null,
            "grid_template_areas": null,
            "grid_template_columns": null,
            "grid_template_rows": null,
            "height": null,
            "justify_content": null,
            "justify_items": null,
            "left": null,
            "margin": null,
            "max_height": null,
            "max_width": null,
            "min_height": null,
            "min_width": null,
            "object_fit": null,
            "object_position": null,
            "order": null,
            "overflow": null,
            "overflow_x": null,
            "overflow_y": null,
            "padding": null,
            "right": null,
            "top": null,
            "visibility": null,
            "width": null
          }
        },
        "3fb610d281344022ad88f018a00cce5d": {
          "model_module": "@jupyter-widgets/controls",
          "model_name": "DescriptionStyleModel",
          "model_module_version": "1.5.0",
          "state": {
            "_model_module": "@jupyter-widgets/controls",
            "_model_module_version": "1.5.0",
            "_model_name": "DescriptionStyleModel",
            "_view_count": null,
            "_view_module": "@jupyter-widgets/base",
            "_view_module_version": "1.2.0",
            "_view_name": "StyleView",
            "description_width": ""
          }
        },
        "ef662d08e6bd485d9f0141228c7c9cc2": {
          "model_module": "@jupyter-widgets/base",
          "model_name": "LayoutModel",
          "model_module_version": "1.2.0",
          "state": {
            "_model_module": "@jupyter-widgets/base",
            "_model_module_version": "1.2.0",
            "_model_name": "LayoutModel",
            "_view_count": null,
            "_view_module": "@jupyter-widgets/base",
            "_view_module_version": "1.2.0",
            "_view_name": "LayoutView",
            "align_content": null,
            "align_items": null,
            "align_self": null,
            "border": null,
            "bottom": null,
            "display": null,
            "flex": null,
            "flex_flow": null,
            "grid_area": null,
            "grid_auto_columns": null,
            "grid_auto_flow": null,
            "grid_auto_rows": null,
            "grid_column": null,
            "grid_gap": null,
            "grid_row": null,
            "grid_template_areas": null,
            "grid_template_columns": null,
            "grid_template_rows": null,
            "height": null,
            "justify_content": null,
            "justify_items": null,
            "left": null,
            "margin": null,
            "max_height": null,
            "max_width": null,
            "min_height": null,
            "min_width": null,
            "object_fit": null,
            "object_position": null,
            "order": null,
            "overflow": null,
            "overflow_x": null,
            "overflow_y": null,
            "padding": null,
            "right": null,
            "top": null,
            "visibility": null,
            "width": null
          }
        },
        "e6156f8328924550a2b000254d26e48c": {
          "model_module": "@jupyter-widgets/controls",
          "model_name": "ProgressStyleModel",
          "model_module_version": "1.5.0",
          "state": {
            "_model_module": "@jupyter-widgets/controls",
            "_model_module_version": "1.5.0",
            "_model_name": "ProgressStyleModel",
            "_view_count": null,
            "_view_module": "@jupyter-widgets/base",
            "_view_module_version": "1.2.0",
            "_view_name": "StyleView",
            "bar_color": null,
            "description_width": ""
          }
        },
        "92af07ed7ed1469da37e06370169ed71": {
          "model_module": "@jupyter-widgets/base",
          "model_name": "LayoutModel",
          "model_module_version": "1.2.0",
          "state": {
            "_model_module": "@jupyter-widgets/base",
            "_model_module_version": "1.2.0",
            "_model_name": "LayoutModel",
            "_view_count": null,
            "_view_module": "@jupyter-widgets/base",
            "_view_module_version": "1.2.0",
            "_view_name": "LayoutView",
            "align_content": null,
            "align_items": null,
            "align_self": null,
            "border": null,
            "bottom": null,
            "display": null,
            "flex": null,
            "flex_flow": null,
            "grid_area": null,
            "grid_auto_columns": null,
            "grid_auto_flow": null,
            "grid_auto_rows": null,
            "grid_column": null,
            "grid_gap": null,
            "grid_row": null,
            "grid_template_areas": null,
            "grid_template_columns": null,
            "grid_template_rows": null,
            "height": null,
            "justify_content": null,
            "justify_items": null,
            "left": null,
            "margin": null,
            "max_height": null,
            "max_width": null,
            "min_height": null,
            "min_width": null,
            "object_fit": null,
            "object_position": null,
            "order": null,
            "overflow": null,
            "overflow_x": null,
            "overflow_y": null,
            "padding": null,
            "right": null,
            "top": null,
            "visibility": null,
            "width": null
          }
        },
        "2d07e4a0d42c4ad2838164cfde3e6257": {
          "model_module": "@jupyter-widgets/controls",
          "model_name": "DescriptionStyleModel",
          "model_module_version": "1.5.0",
          "state": {
            "_model_module": "@jupyter-widgets/controls",
            "_model_module_version": "1.5.0",
            "_model_name": "DescriptionStyleModel",
            "_view_count": null,
            "_view_module": "@jupyter-widgets/base",
            "_view_module_version": "1.2.0",
            "_view_name": "StyleView",
            "description_width": ""
          }
        },
        "8b4217606ae3414bbe3b7c6ae6fcd535": {
          "model_module": "@jupyter-widgets/controls",
          "model_name": "HBoxModel",
          "model_module_version": "1.5.0",
          "state": {
            "_dom_classes": [],
            "_model_module": "@jupyter-widgets/controls",
            "_model_module_version": "1.5.0",
            "_model_name": "HBoxModel",
            "_view_count": null,
            "_view_module": "@jupyter-widgets/controls",
            "_view_module_version": "1.5.0",
            "_view_name": "HBoxView",
            "box_style": "",
            "children": [
              "IPY_MODEL_293d2cc09cd7426ca0dfbeecfa97f889",
              "IPY_MODEL_c2033831f1d44e15800de54ef0a8a341",
              "IPY_MODEL_12aad61aeb3a482db124d97845f7d4f0"
            ],
            "layout": "IPY_MODEL_0a15ef11706a4f2f8e2ef2a13de081e4"
          }
        },
        "293d2cc09cd7426ca0dfbeecfa97f889": {
          "model_module": "@jupyter-widgets/controls",
          "model_name": "HTMLModel",
          "model_module_version": "1.5.0",
          "state": {
            "_dom_classes": [],
            "_model_module": "@jupyter-widgets/controls",
            "_model_module_version": "1.5.0",
            "_model_name": "HTMLModel",
            "_view_count": null,
            "_view_module": "@jupyter-widgets/controls",
            "_view_module_version": "1.5.0",
            "_view_name": "HTMLView",
            "description": "",
            "description_tooltip": null,
            "layout": "IPY_MODEL_c861f52c4adf4977aadafcef1ff96dc9",
            "placeholder": "​",
            "style": "IPY_MODEL_3b05c877d3b1447c9fd8ab69ec243a50",
            "value": "config.json: 100%"
          }
        },
        "c2033831f1d44e15800de54ef0a8a341": {
          "model_module": "@jupyter-widgets/controls",
          "model_name": "FloatProgressModel",
          "model_module_version": "1.5.0",
          "state": {
            "_dom_classes": [],
            "_model_module": "@jupyter-widgets/controls",
            "_model_module_version": "1.5.0",
            "_model_name": "FloatProgressModel",
            "_view_count": null,
            "_view_module": "@jupyter-widgets/controls",
            "_view_module_version": "1.5.0",
            "_view_name": "ProgressView",
            "bar_style": "success",
            "description": "",
            "description_tooltip": null,
            "layout": "IPY_MODEL_4eeee97937a34ae296e2374815e8e383",
            "max": 706,
            "min": 0,
            "orientation": "horizontal",
            "style": "IPY_MODEL_dfb2f29c5b7d4d3bab77fa037fe67de2",
            "value": 706
          }
        },
        "12aad61aeb3a482db124d97845f7d4f0": {
          "model_module": "@jupyter-widgets/controls",
          "model_name": "HTMLModel",
          "model_module_version": "1.5.0",
          "state": {
            "_dom_classes": [],
            "_model_module": "@jupyter-widgets/controls",
            "_model_module_version": "1.5.0",
            "_model_name": "HTMLModel",
            "_view_count": null,
            "_view_module": "@jupyter-widgets/controls",
            "_view_module_version": "1.5.0",
            "_view_name": "HTMLView",
            "description": "",
            "description_tooltip": null,
            "layout": "IPY_MODEL_db24c3b043ab4abab883f5c1180fd7b2",
            "placeholder": "​",
            "style": "IPY_MODEL_9545c8c2694547488bc8847d061f59bd",
            "value": " 706/706 [00:00&lt;00:00, 5.88kB/s]"
          }
        },
        "0a15ef11706a4f2f8e2ef2a13de081e4": {
          "model_module": "@jupyter-widgets/base",
          "model_name": "LayoutModel",
          "model_module_version": "1.2.0",
          "state": {
            "_model_module": "@jupyter-widgets/base",
            "_model_module_version": "1.2.0",
            "_model_name": "LayoutModel",
            "_view_count": null,
            "_view_module": "@jupyter-widgets/base",
            "_view_module_version": "1.2.0",
            "_view_name": "LayoutView",
            "align_content": null,
            "align_items": null,
            "align_self": null,
            "border": null,
            "bottom": null,
            "display": null,
            "flex": null,
            "flex_flow": null,
            "grid_area": null,
            "grid_auto_columns": null,
            "grid_auto_flow": null,
            "grid_auto_rows": null,
            "grid_column": null,
            "grid_gap": null,
            "grid_row": null,
            "grid_template_areas": null,
            "grid_template_columns": null,
            "grid_template_rows": null,
            "height": null,
            "justify_content": null,
            "justify_items": null,
            "left": null,
            "margin": null,
            "max_height": null,
            "max_width": null,
            "min_height": null,
            "min_width": null,
            "object_fit": null,
            "object_position": null,
            "order": null,
            "overflow": null,
            "overflow_x": null,
            "overflow_y": null,
            "padding": null,
            "right": null,
            "top": null,
            "visibility": null,
            "width": null
          }
        },
        "c861f52c4adf4977aadafcef1ff96dc9": {
          "model_module": "@jupyter-widgets/base",
          "model_name": "LayoutModel",
          "model_module_version": "1.2.0",
          "state": {
            "_model_module": "@jupyter-widgets/base",
            "_model_module_version": "1.2.0",
            "_model_name": "LayoutModel",
            "_view_count": null,
            "_view_module": "@jupyter-widgets/base",
            "_view_module_version": "1.2.0",
            "_view_name": "LayoutView",
            "align_content": null,
            "align_items": null,
            "align_self": null,
            "border": null,
            "bottom": null,
            "display": null,
            "flex": null,
            "flex_flow": null,
            "grid_area": null,
            "grid_auto_columns": null,
            "grid_auto_flow": null,
            "grid_auto_rows": null,
            "grid_column": null,
            "grid_gap": null,
            "grid_row": null,
            "grid_template_areas": null,
            "grid_template_columns": null,
            "grid_template_rows": null,
            "height": null,
            "justify_content": null,
            "justify_items": null,
            "left": null,
            "margin": null,
            "max_height": null,
            "max_width": null,
            "min_height": null,
            "min_width": null,
            "object_fit": null,
            "object_position": null,
            "order": null,
            "overflow": null,
            "overflow_x": null,
            "overflow_y": null,
            "padding": null,
            "right": null,
            "top": null,
            "visibility": null,
            "width": null
          }
        },
        "3b05c877d3b1447c9fd8ab69ec243a50": {
          "model_module": "@jupyter-widgets/controls",
          "model_name": "DescriptionStyleModel",
          "model_module_version": "1.5.0",
          "state": {
            "_model_module": "@jupyter-widgets/controls",
            "_model_module_version": "1.5.0",
            "_model_name": "DescriptionStyleModel",
            "_view_count": null,
            "_view_module": "@jupyter-widgets/base",
            "_view_module_version": "1.2.0",
            "_view_name": "StyleView",
            "description_width": ""
          }
        },
        "4eeee97937a34ae296e2374815e8e383": {
          "model_module": "@jupyter-widgets/base",
          "model_name": "LayoutModel",
          "model_module_version": "1.2.0",
          "state": {
            "_model_module": "@jupyter-widgets/base",
            "_model_module_version": "1.2.0",
            "_model_name": "LayoutModel",
            "_view_count": null,
            "_view_module": "@jupyter-widgets/base",
            "_view_module_version": "1.2.0",
            "_view_name": "LayoutView",
            "align_content": null,
            "align_items": null,
            "align_self": null,
            "border": null,
            "bottom": null,
            "display": null,
            "flex": null,
            "flex_flow": null,
            "grid_area": null,
            "grid_auto_columns": null,
            "grid_auto_flow": null,
            "grid_auto_rows": null,
            "grid_column": null,
            "grid_gap": null,
            "grid_row": null,
            "grid_template_areas": null,
            "grid_template_columns": null,
            "grid_template_rows": null,
            "height": null,
            "justify_content": null,
            "justify_items": null,
            "left": null,
            "margin": null,
            "max_height": null,
            "max_width": null,
            "min_height": null,
            "min_width": null,
            "object_fit": null,
            "object_position": null,
            "order": null,
            "overflow": null,
            "overflow_x": null,
            "overflow_y": null,
            "padding": null,
            "right": null,
            "top": null,
            "visibility": null,
            "width": null
          }
        },
        "dfb2f29c5b7d4d3bab77fa037fe67de2": {
          "model_module": "@jupyter-widgets/controls",
          "model_name": "ProgressStyleModel",
          "model_module_version": "1.5.0",
          "state": {
            "_model_module": "@jupyter-widgets/controls",
            "_model_module_version": "1.5.0",
            "_model_name": "ProgressStyleModel",
            "_view_count": null,
            "_view_module": "@jupyter-widgets/base",
            "_view_module_version": "1.2.0",
            "_view_name": "StyleView",
            "bar_color": null,
            "description_width": ""
          }
        },
        "db24c3b043ab4abab883f5c1180fd7b2": {
          "model_module": "@jupyter-widgets/base",
          "model_name": "LayoutModel",
          "model_module_version": "1.2.0",
          "state": {
            "_model_module": "@jupyter-widgets/base",
            "_model_module_version": "1.2.0",
            "_model_name": "LayoutModel",
            "_view_count": null,
            "_view_module": "@jupyter-widgets/base",
            "_view_module_version": "1.2.0",
            "_view_name": "LayoutView",
            "align_content": null,
            "align_items": null,
            "align_self": null,
            "border": null,
            "bottom": null,
            "display": null,
            "flex": null,
            "flex_flow": null,
            "grid_area": null,
            "grid_auto_columns": null,
            "grid_auto_flow": null,
            "grid_auto_rows": null,
            "grid_column": null,
            "grid_gap": null,
            "grid_row": null,
            "grid_template_areas": null,
            "grid_template_columns": null,
            "grid_template_rows": null,
            "height": null,
            "justify_content": null,
            "justify_items": null,
            "left": null,
            "margin": null,
            "max_height": null,
            "max_width": null,
            "min_height": null,
            "min_width": null,
            "object_fit": null,
            "object_position": null,
            "order": null,
            "overflow": null,
            "overflow_x": null,
            "overflow_y": null,
            "padding": null,
            "right": null,
            "top": null,
            "visibility": null,
            "width": null
          }
        },
        "9545c8c2694547488bc8847d061f59bd": {
          "model_module": "@jupyter-widgets/controls",
          "model_name": "DescriptionStyleModel",
          "model_module_version": "1.5.0",
          "state": {
            "_model_module": "@jupyter-widgets/controls",
            "_model_module_version": "1.5.0",
            "_model_name": "DescriptionStyleModel",
            "_view_count": null,
            "_view_module": "@jupyter-widgets/base",
            "_view_module_version": "1.2.0",
            "_view_name": "StyleView",
            "description_width": ""
          }
        },
        "bd0cb5d314514b4aa5b054e6c26c86a1": {
          "model_module": "@jupyter-widgets/controls",
          "model_name": "HBoxModel",
          "model_module_version": "1.5.0",
          "state": {
            "_dom_classes": [],
            "_model_module": "@jupyter-widgets/controls",
            "_model_module_version": "1.5.0",
            "_model_name": "HBoxModel",
            "_view_count": null,
            "_view_module": "@jupyter-widgets/controls",
            "_view_module_version": "1.5.0",
            "_view_name": "HBoxView",
            "box_style": "",
            "children": [
              "IPY_MODEL_67edd148277f44e0bacb4fba03c15d78",
              "IPY_MODEL_1e86b65fdec940799e08fc2f7b3443d3",
              "IPY_MODEL_326e5af6435b45efbc1e749faaca16ed"
            ],
            "layout": "IPY_MODEL_85daca846d384328b95788781ac8ae81"
          }
        },
        "67edd148277f44e0bacb4fba03c15d78": {
          "model_module": "@jupyter-widgets/controls",
          "model_name": "HTMLModel",
          "model_module_version": "1.5.0",
          "state": {
            "_dom_classes": [],
            "_model_module": "@jupyter-widgets/controls",
            "_model_module_version": "1.5.0",
            "_model_name": "HTMLModel",
            "_view_count": null,
            "_view_module": "@jupyter-widgets/controls",
            "_view_module_version": "1.5.0",
            "_view_name": "HTMLView",
            "description": "",
            "description_tooltip": null,
            "layout": "IPY_MODEL_d699dd363aa142a6b1622ccaad0be8fc",
            "placeholder": "​",
            "style": "IPY_MODEL_cf237c10c55f4e409c2cd43ed42e1047",
            "value": "tokenizer.json: 100%"
          }
        },
        "1e86b65fdec940799e08fc2f7b3443d3": {
          "model_module": "@jupyter-widgets/controls",
          "model_name": "FloatProgressModel",
          "model_module_version": "1.5.0",
          "state": {
            "_dom_classes": [],
            "_model_module": "@jupyter-widgets/controls",
            "_model_module_version": "1.5.0",
            "_model_name": "FloatProgressModel",
            "_view_count": null,
            "_view_module": "@jupyter-widgets/controls",
            "_view_module_version": "1.5.0",
            "_view_name": "ProgressView",
            "bar_style": "success",
            "description": "",
            "description_tooltip": null,
            "layout": "IPY_MODEL_9b55677323514383bda126edbd60c13a",
            "max": 711396,
            "min": 0,
            "orientation": "horizontal",
            "style": "IPY_MODEL_0b4977d826f441039e74c62e7197a7c5",
            "value": 711396
          }
        },
        "326e5af6435b45efbc1e749faaca16ed": {
          "model_module": "@jupyter-widgets/controls",
          "model_name": "HTMLModel",
          "model_module_version": "1.5.0",
          "state": {
            "_dom_classes": [],
            "_model_module": "@jupyter-widgets/controls",
            "_model_module_version": "1.5.0",
            "_model_name": "HTMLModel",
            "_view_count": null,
            "_view_module": "@jupyter-widgets/controls",
            "_view_module_version": "1.5.0",
            "_view_name": "HTMLView",
            "description": "",
            "description_tooltip": null,
            "layout": "IPY_MODEL_39d9522a04a04aeda4b62d15f4c995b9",
            "placeholder": "​",
            "style": "IPY_MODEL_854ca73256d04bcca7c1d8a968b0cba8",
            "value": " 711k/711k [00:00&lt;00:00, 3.22MB/s]"
          }
        },
        "85daca846d384328b95788781ac8ae81": {
          "model_module": "@jupyter-widgets/base",
          "model_name": "LayoutModel",
          "model_module_version": "1.2.0",
          "state": {
            "_model_module": "@jupyter-widgets/base",
            "_model_module_version": "1.2.0",
            "_model_name": "LayoutModel",
            "_view_count": null,
            "_view_module": "@jupyter-widgets/base",
            "_view_module_version": "1.2.0",
            "_view_name": "LayoutView",
            "align_content": null,
            "align_items": null,
            "align_self": null,
            "border": null,
            "bottom": null,
            "display": null,
            "flex": null,
            "flex_flow": null,
            "grid_area": null,
            "grid_auto_columns": null,
            "grid_auto_flow": null,
            "grid_auto_rows": null,
            "grid_column": null,
            "grid_gap": null,
            "grid_row": null,
            "grid_template_areas": null,
            "grid_template_columns": null,
            "grid_template_rows": null,
            "height": null,
            "justify_content": null,
            "justify_items": null,
            "left": null,
            "margin": null,
            "max_height": null,
            "max_width": null,
            "min_height": null,
            "min_width": null,
            "object_fit": null,
            "object_position": null,
            "order": null,
            "overflow": null,
            "overflow_x": null,
            "overflow_y": null,
            "padding": null,
            "right": null,
            "top": null,
            "visibility": null,
            "width": null
          }
        },
        "d699dd363aa142a6b1622ccaad0be8fc": {
          "model_module": "@jupyter-widgets/base",
          "model_name": "LayoutModel",
          "model_module_version": "1.2.0",
          "state": {
            "_model_module": "@jupyter-widgets/base",
            "_model_module_version": "1.2.0",
            "_model_name": "LayoutModel",
            "_view_count": null,
            "_view_module": "@jupyter-widgets/base",
            "_view_module_version": "1.2.0",
            "_view_name": "LayoutView",
            "align_content": null,
            "align_items": null,
            "align_self": null,
            "border": null,
            "bottom": null,
            "display": null,
            "flex": null,
            "flex_flow": null,
            "grid_area": null,
            "grid_auto_columns": null,
            "grid_auto_flow": null,
            "grid_auto_rows": null,
            "grid_column": null,
            "grid_gap": null,
            "grid_row": null,
            "grid_template_areas": null,
            "grid_template_columns": null,
            "grid_template_rows": null,
            "height": null,
            "justify_content": null,
            "justify_items": null,
            "left": null,
            "margin": null,
            "max_height": null,
            "max_width": null,
            "min_height": null,
            "min_width": null,
            "object_fit": null,
            "object_position": null,
            "order": null,
            "overflow": null,
            "overflow_x": null,
            "overflow_y": null,
            "padding": null,
            "right": null,
            "top": null,
            "visibility": null,
            "width": null
          }
        },
        "cf237c10c55f4e409c2cd43ed42e1047": {
          "model_module": "@jupyter-widgets/controls",
          "model_name": "DescriptionStyleModel",
          "model_module_version": "1.5.0",
          "state": {
            "_model_module": "@jupyter-widgets/controls",
            "_model_module_version": "1.5.0",
            "_model_name": "DescriptionStyleModel",
            "_view_count": null,
            "_view_module": "@jupyter-widgets/base",
            "_view_module_version": "1.2.0",
            "_view_name": "StyleView",
            "description_width": ""
          }
        },
        "9b55677323514383bda126edbd60c13a": {
          "model_module": "@jupyter-widgets/base",
          "model_name": "LayoutModel",
          "model_module_version": "1.2.0",
          "state": {
            "_model_module": "@jupyter-widgets/base",
            "_model_module_version": "1.2.0",
            "_model_name": "LayoutModel",
            "_view_count": null,
            "_view_module": "@jupyter-widgets/base",
            "_view_module_version": "1.2.0",
            "_view_name": "LayoutView",
            "align_content": null,
            "align_items": null,
            "align_self": null,
            "border": null,
            "bottom": null,
            "display": null,
            "flex": null,
            "flex_flow": null,
            "grid_area": null,
            "grid_auto_columns": null,
            "grid_auto_flow": null,
            "grid_auto_rows": null,
            "grid_column": null,
            "grid_gap": null,
            "grid_row": null,
            "grid_template_areas": null,
            "grid_template_columns": null,
            "grid_template_rows": null,
            "height": null,
            "justify_content": null,
            "justify_items": null,
            "left": null,
            "margin": null,
            "max_height": null,
            "max_width": null,
            "min_height": null,
            "min_width": null,
            "object_fit": null,
            "object_position": null,
            "order": null,
            "overflow": null,
            "overflow_x": null,
            "overflow_y": null,
            "padding": null,
            "right": null,
            "top": null,
            "visibility": null,
            "width": null
          }
        },
        "0b4977d826f441039e74c62e7197a7c5": {
          "model_module": "@jupyter-widgets/controls",
          "model_name": "ProgressStyleModel",
          "model_module_version": "1.5.0",
          "state": {
            "_model_module": "@jupyter-widgets/controls",
            "_model_module_version": "1.5.0",
            "_model_name": "ProgressStyleModel",
            "_view_count": null,
            "_view_module": "@jupyter-widgets/base",
            "_view_module_version": "1.2.0",
            "_view_name": "StyleView",
            "bar_color": null,
            "description_width": ""
          }
        },
        "39d9522a04a04aeda4b62d15f4c995b9": {
          "model_module": "@jupyter-widgets/base",
          "model_name": "LayoutModel",
          "model_module_version": "1.2.0",
          "state": {
            "_model_module": "@jupyter-widgets/base",
            "_model_module_version": "1.2.0",
            "_model_name": "LayoutModel",
            "_view_count": null,
            "_view_module": "@jupyter-widgets/base",
            "_view_module_version": "1.2.0",
            "_view_name": "LayoutView",
            "align_content": null,
            "align_items": null,
            "align_self": null,
            "border": null,
            "bottom": null,
            "display": null,
            "flex": null,
            "flex_flow": null,
            "grid_area": null,
            "grid_auto_columns": null,
            "grid_auto_flow": null,
            "grid_auto_rows": null,
            "grid_column": null,
            "grid_gap": null,
            "grid_row": null,
            "grid_template_areas": null,
            "grid_template_columns": null,
            "grid_template_rows": null,
            "height": null,
            "justify_content": null,
            "justify_items": null,
            "left": null,
            "margin": null,
            "max_height": null,
            "max_width": null,
            "min_height": null,
            "min_width": null,
            "object_fit": null,
            "object_position": null,
            "order": null,
            "overflow": null,
            "overflow_x": null,
            "overflow_y": null,
            "padding": null,
            "right": null,
            "top": null,
            "visibility": null,
            "width": null
          }
        },
        "854ca73256d04bcca7c1d8a968b0cba8": {
          "model_module": "@jupyter-widgets/controls",
          "model_name": "DescriptionStyleModel",
          "model_module_version": "1.5.0",
          "state": {
            "_model_module": "@jupyter-widgets/controls",
            "_model_module_version": "1.5.0",
            "_model_name": "DescriptionStyleModel",
            "_view_count": null,
            "_view_module": "@jupyter-widgets/base",
            "_view_module_version": "1.2.0",
            "_view_name": "StyleView",
            "description_width": ""
          }
        },
        "e3a28f22412e481c81165e015dd27399": {
          "model_module": "@jupyter-widgets/controls",
          "model_name": "HBoxModel",
          "model_module_version": "1.5.0",
          "state": {
            "_dom_classes": [],
            "_model_module": "@jupyter-widgets/controls",
            "_model_module_version": "1.5.0",
            "_model_name": "HBoxModel",
            "_view_count": null,
            "_view_module": "@jupyter-widgets/controls",
            "_view_module_version": "1.5.0",
            "_view_name": "HBoxView",
            "box_style": "",
            "children": [
              "IPY_MODEL_8136f44d6d014ce4b9015cb29d3b44bb",
              "IPY_MODEL_dca168c6278045afb55a5f91da4c0ab8",
              "IPY_MODEL_ec1b525a092740679271226aad25886e"
            ],
            "layout": "IPY_MODEL_d6ae2a701597480a886d003e5192d093"
          }
        },
        "8136f44d6d014ce4b9015cb29d3b44bb": {
          "model_module": "@jupyter-widgets/controls",
          "model_name": "HTMLModel",
          "model_module_version": "1.5.0",
          "state": {
            "_dom_classes": [],
            "_model_module": "@jupyter-widgets/controls",
            "_model_module_version": "1.5.0",
            "_model_name": "HTMLModel",
            "_view_count": null,
            "_view_module": "@jupyter-widgets/controls",
            "_view_module_version": "1.5.0",
            "_view_name": "HTMLView",
            "description": "",
            "description_tooltip": null,
            "layout": "IPY_MODEL_ff09378bc07a40a38dd5e57280fd03d3",
            "placeholder": "​",
            "style": "IPY_MODEL_33cfe462665c4bd3a02a623b6e7b4d4f",
            "value": "tokenizer_config.json: 100%"
          }
        },
        "dca168c6278045afb55a5f91da4c0ab8": {
          "model_module": "@jupyter-widgets/controls",
          "model_name": "FloatProgressModel",
          "model_module_version": "1.5.0",
          "state": {
            "_dom_classes": [],
            "_model_module": "@jupyter-widgets/controls",
            "_model_module_version": "1.5.0",
            "_model_name": "FloatProgressModel",
            "_view_count": null,
            "_view_module": "@jupyter-widgets/controls",
            "_view_module_version": "1.5.0",
            "_view_name": "ProgressView",
            "bar_style": "success",
            "description": "",
            "description_tooltip": null,
            "layout": "IPY_MODEL_f916836e0c24437f84f5472342dd65ca",
            "max": 1242,
            "min": 0,
            "orientation": "horizontal",
            "style": "IPY_MODEL_e80171edce5f491eaae5dd47700fd450",
            "value": 1242
          }
        },
        "ec1b525a092740679271226aad25886e": {
          "model_module": "@jupyter-widgets/controls",
          "model_name": "HTMLModel",
          "model_module_version": "1.5.0",
          "state": {
            "_dom_classes": [],
            "_model_module": "@jupyter-widgets/controls",
            "_model_module_version": "1.5.0",
            "_model_name": "HTMLModel",
            "_view_count": null,
            "_view_module": "@jupyter-widgets/controls",
            "_view_module_version": "1.5.0",
            "_view_name": "HTMLView",
            "description": "",
            "description_tooltip": null,
            "layout": "IPY_MODEL_9e0ca91d61544a339a3e5663196edd2d",
            "placeholder": "​",
            "style": "IPY_MODEL_99ce94fcc0ac4b8baac1ee185d41f3c2",
            "value": " 1.24k/1.24k [00:00&lt;00:00, 12.7kB/s]"
          }
        },
        "d6ae2a701597480a886d003e5192d093": {
          "model_module": "@jupyter-widgets/base",
          "model_name": "LayoutModel",
          "model_module_version": "1.2.0",
          "state": {
            "_model_module": "@jupyter-widgets/base",
            "_model_module_version": "1.2.0",
            "_model_name": "LayoutModel",
            "_view_count": null,
            "_view_module": "@jupyter-widgets/base",
            "_view_module_version": "1.2.0",
            "_view_name": "LayoutView",
            "align_content": null,
            "align_items": null,
            "align_self": null,
            "border": null,
            "bottom": null,
            "display": null,
            "flex": null,
            "flex_flow": null,
            "grid_area": null,
            "grid_auto_columns": null,
            "grid_auto_flow": null,
            "grid_auto_rows": null,
            "grid_column": null,
            "grid_gap": null,
            "grid_row": null,
            "grid_template_areas": null,
            "grid_template_columns": null,
            "grid_template_rows": null,
            "height": null,
            "justify_content": null,
            "justify_items": null,
            "left": null,
            "margin": null,
            "max_height": null,
            "max_width": null,
            "min_height": null,
            "min_width": null,
            "object_fit": null,
            "object_position": null,
            "order": null,
            "overflow": null,
            "overflow_x": null,
            "overflow_y": null,
            "padding": null,
            "right": null,
            "top": null,
            "visibility": null,
            "width": null
          }
        },
        "ff09378bc07a40a38dd5e57280fd03d3": {
          "model_module": "@jupyter-widgets/base",
          "model_name": "LayoutModel",
          "model_module_version": "1.2.0",
          "state": {
            "_model_module": "@jupyter-widgets/base",
            "_model_module_version": "1.2.0",
            "_model_name": "LayoutModel",
            "_view_count": null,
            "_view_module": "@jupyter-widgets/base",
            "_view_module_version": "1.2.0",
            "_view_name": "LayoutView",
            "align_content": null,
            "align_items": null,
            "align_self": null,
            "border": null,
            "bottom": null,
            "display": null,
            "flex": null,
            "flex_flow": null,
            "grid_area": null,
            "grid_auto_columns": null,
            "grid_auto_flow": null,
            "grid_auto_rows": null,
            "grid_column": null,
            "grid_gap": null,
            "grid_row": null,
            "grid_template_areas": null,
            "grid_template_columns": null,
            "grid_template_rows": null,
            "height": null,
            "justify_content": null,
            "justify_items": null,
            "left": null,
            "margin": null,
            "max_height": null,
            "max_width": null,
            "min_height": null,
            "min_width": null,
            "object_fit": null,
            "object_position": null,
            "order": null,
            "overflow": null,
            "overflow_x": null,
            "overflow_y": null,
            "padding": null,
            "right": null,
            "top": null,
            "visibility": null,
            "width": null
          }
        },
        "33cfe462665c4bd3a02a623b6e7b4d4f": {
          "model_module": "@jupyter-widgets/controls",
          "model_name": "DescriptionStyleModel",
          "model_module_version": "1.5.0",
          "state": {
            "_model_module": "@jupyter-widgets/controls",
            "_model_module_version": "1.5.0",
            "_model_name": "DescriptionStyleModel",
            "_view_count": null,
            "_view_module": "@jupyter-widgets/base",
            "_view_module_version": "1.2.0",
            "_view_name": "StyleView",
            "description_width": ""
          }
        },
        "f916836e0c24437f84f5472342dd65ca": {
          "model_module": "@jupyter-widgets/base",
          "model_name": "LayoutModel",
          "model_module_version": "1.2.0",
          "state": {
            "_model_module": "@jupyter-widgets/base",
            "_model_module_version": "1.2.0",
            "_model_name": "LayoutModel",
            "_view_count": null,
            "_view_module": "@jupyter-widgets/base",
            "_view_module_version": "1.2.0",
            "_view_name": "LayoutView",
            "align_content": null,
            "align_items": null,
            "align_self": null,
            "border": null,
            "bottom": null,
            "display": null,
            "flex": null,
            "flex_flow": null,
            "grid_area": null,
            "grid_auto_columns": null,
            "grid_auto_flow": null,
            "grid_auto_rows": null,
            "grid_column": null,
            "grid_gap": null,
            "grid_row": null,
            "grid_template_areas": null,
            "grid_template_columns": null,
            "grid_template_rows": null,
            "height": null,
            "justify_content": null,
            "justify_items": null,
            "left": null,
            "margin": null,
            "max_height": null,
            "max_width": null,
            "min_height": null,
            "min_width": null,
            "object_fit": null,
            "object_position": null,
            "order": null,
            "overflow": null,
            "overflow_x": null,
            "overflow_y": null,
            "padding": null,
            "right": null,
            "top": null,
            "visibility": null,
            "width": null
          }
        },
        "e80171edce5f491eaae5dd47700fd450": {
          "model_module": "@jupyter-widgets/controls",
          "model_name": "ProgressStyleModel",
          "model_module_version": "1.5.0",
          "state": {
            "_model_module": "@jupyter-widgets/controls",
            "_model_module_version": "1.5.0",
            "_model_name": "ProgressStyleModel",
            "_view_count": null,
            "_view_module": "@jupyter-widgets/base",
            "_view_module_version": "1.2.0",
            "_view_name": "StyleView",
            "bar_color": null,
            "description_width": ""
          }
        },
        "9e0ca91d61544a339a3e5663196edd2d": {
          "model_module": "@jupyter-widgets/base",
          "model_name": "LayoutModel",
          "model_module_version": "1.2.0",
          "state": {
            "_model_module": "@jupyter-widgets/base",
            "_model_module_version": "1.2.0",
            "_model_name": "LayoutModel",
            "_view_count": null,
            "_view_module": "@jupyter-widgets/base",
            "_view_module_version": "1.2.0",
            "_view_name": "LayoutView",
            "align_content": null,
            "align_items": null,
            "align_self": null,
            "border": null,
            "bottom": null,
            "display": null,
            "flex": null,
            "flex_flow": null,
            "grid_area": null,
            "grid_auto_columns": null,
            "grid_auto_flow": null,
            "grid_auto_rows": null,
            "grid_column": null,
            "grid_gap": null,
            "grid_row": null,
            "grid_template_areas": null,
            "grid_template_columns": null,
            "grid_template_rows": null,
            "height": null,
            "justify_content": null,
            "justify_items": null,
            "left": null,
            "margin": null,
            "max_height": null,
            "max_width": null,
            "min_height": null,
            "min_width": null,
            "object_fit": null,
            "object_position": null,
            "order": null,
            "overflow": null,
            "overflow_x": null,
            "overflow_y": null,
            "padding": null,
            "right": null,
            "top": null,
            "visibility": null,
            "width": null
          }
        },
        "99ce94fcc0ac4b8baac1ee185d41f3c2": {
          "model_module": "@jupyter-widgets/controls",
          "model_name": "DescriptionStyleModel",
          "model_module_version": "1.5.0",
          "state": {
            "_model_module": "@jupyter-widgets/controls",
            "_model_module_version": "1.5.0",
            "_model_name": "DescriptionStyleModel",
            "_view_count": null,
            "_view_module": "@jupyter-widgets/base",
            "_view_module_version": "1.2.0",
            "_view_name": "StyleView",
            "description_width": ""
          }
        },
        "55374830668e42fbbc44788bc30f7610": {
          "model_module": "@jupyter-widgets/controls",
          "model_name": "HBoxModel",
          "model_module_version": "1.5.0",
          "state": {
            "_dom_classes": [],
            "_model_module": "@jupyter-widgets/controls",
            "_model_module_version": "1.5.0",
            "_model_name": "HBoxModel",
            "_view_count": null,
            "_view_module": "@jupyter-widgets/controls",
            "_view_module_version": "1.5.0",
            "_view_name": "HBoxView",
            "box_style": "",
            "children": [
              "IPY_MODEL_50520ce9b37f4a4fbd098f6f97d59703",
              "IPY_MODEL_6ed23b7e827f4416aece3c9e05293c4b",
              "IPY_MODEL_bbe74bdd407a4651926936b0aabd9f46"
            ],
            "layout": "IPY_MODEL_a6b0cea67f174965b575949b212ba555"
          }
        },
        "50520ce9b37f4a4fbd098f6f97d59703": {
          "model_module": "@jupyter-widgets/controls",
          "model_name": "HTMLModel",
          "model_module_version": "1.5.0",
          "state": {
            "_dom_classes": [],
            "_model_module": "@jupyter-widgets/controls",
            "_model_module_version": "1.5.0",
            "_model_name": "HTMLModel",
            "_view_count": null,
            "_view_module": "@jupyter-widgets/controls",
            "_view_module_version": "1.5.0",
            "_view_name": "HTMLView",
            "description": "",
            "description_tooltip": null,
            "layout": "IPY_MODEL_27e600c7c25d411a87826ec1c8ef7f87",
            "placeholder": "​",
            "style": "IPY_MODEL_4e30d9f60495424182310b6697b11f4d",
            "value": "model_optimized.onnx: 100%"
          }
        },
        "6ed23b7e827f4416aece3c9e05293c4b": {
          "model_module": "@jupyter-widgets/controls",
          "model_name": "FloatProgressModel",
          "model_module_version": "1.5.0",
          "state": {
            "_dom_classes": [],
            "_model_module": "@jupyter-widgets/controls",
            "_model_module_version": "1.5.0",
            "_model_name": "FloatProgressModel",
            "_view_count": null,
            "_view_module": "@jupyter-widgets/controls",
            "_view_module_version": "1.5.0",
            "_view_name": "ProgressView",
            "bar_style": "success",
            "description": "",
            "description_tooltip": null,
            "layout": "IPY_MODEL_0c876abb21b8407b836309b494120b72",
            "max": 66465124,
            "min": 0,
            "orientation": "horizontal",
            "style": "IPY_MODEL_d40cfd51ec784b178bf0cf287687ca0a",
            "value": 66465124
          }
        },
        "bbe74bdd407a4651926936b0aabd9f46": {
          "model_module": "@jupyter-widgets/controls",
          "model_name": "HTMLModel",
          "model_module_version": "1.5.0",
          "state": {
            "_dom_classes": [],
            "_model_module": "@jupyter-widgets/controls",
            "_model_module_version": "1.5.0",
            "_model_name": "HTMLModel",
            "_view_count": null,
            "_view_module": "@jupyter-widgets/controls",
            "_view_module_version": "1.5.0",
            "_view_name": "HTMLView",
            "description": "",
            "description_tooltip": null,
            "layout": "IPY_MODEL_ddc85652bd734b4d83e6a8918a258fbf",
            "placeholder": "​",
            "style": "IPY_MODEL_76e77a9a6b054e72bdec4e09607a2cfc",
            "value": " 66.5M/66.5M [00:01&lt;00:00, 41.0MB/s]"
          }
        },
        "a6b0cea67f174965b575949b212ba555": {
          "model_module": "@jupyter-widgets/base",
          "model_name": "LayoutModel",
          "model_module_version": "1.2.0",
          "state": {
            "_model_module": "@jupyter-widgets/base",
            "_model_module_version": "1.2.0",
            "_model_name": "LayoutModel",
            "_view_count": null,
            "_view_module": "@jupyter-widgets/base",
            "_view_module_version": "1.2.0",
            "_view_name": "LayoutView",
            "align_content": null,
            "align_items": null,
            "align_self": null,
            "border": null,
            "bottom": null,
            "display": null,
            "flex": null,
            "flex_flow": null,
            "grid_area": null,
            "grid_auto_columns": null,
            "grid_auto_flow": null,
            "grid_auto_rows": null,
            "grid_column": null,
            "grid_gap": null,
            "grid_row": null,
            "grid_template_areas": null,
            "grid_template_columns": null,
            "grid_template_rows": null,
            "height": null,
            "justify_content": null,
            "justify_items": null,
            "left": null,
            "margin": null,
            "max_height": null,
            "max_width": null,
            "min_height": null,
            "min_width": null,
            "object_fit": null,
            "object_position": null,
            "order": null,
            "overflow": null,
            "overflow_x": null,
            "overflow_y": null,
            "padding": null,
            "right": null,
            "top": null,
            "visibility": null,
            "width": null
          }
        },
        "27e600c7c25d411a87826ec1c8ef7f87": {
          "model_module": "@jupyter-widgets/base",
          "model_name": "LayoutModel",
          "model_module_version": "1.2.0",
          "state": {
            "_model_module": "@jupyter-widgets/base",
            "_model_module_version": "1.2.0",
            "_model_name": "LayoutModel",
            "_view_count": null,
            "_view_module": "@jupyter-widgets/base",
            "_view_module_version": "1.2.0",
            "_view_name": "LayoutView",
            "align_content": null,
            "align_items": null,
            "align_self": null,
            "border": null,
            "bottom": null,
            "display": null,
            "flex": null,
            "flex_flow": null,
            "grid_area": null,
            "grid_auto_columns": null,
            "grid_auto_flow": null,
            "grid_auto_rows": null,
            "grid_column": null,
            "grid_gap": null,
            "grid_row": null,
            "grid_template_areas": null,
            "grid_template_columns": null,
            "grid_template_rows": null,
            "height": null,
            "justify_content": null,
            "justify_items": null,
            "left": null,
            "margin": null,
            "max_height": null,
            "max_width": null,
            "min_height": null,
            "min_width": null,
            "object_fit": null,
            "object_position": null,
            "order": null,
            "overflow": null,
            "overflow_x": null,
            "overflow_y": null,
            "padding": null,
            "right": null,
            "top": null,
            "visibility": null,
            "width": null
          }
        },
        "4e30d9f60495424182310b6697b11f4d": {
          "model_module": "@jupyter-widgets/controls",
          "model_name": "DescriptionStyleModel",
          "model_module_version": "1.5.0",
          "state": {
            "_model_module": "@jupyter-widgets/controls",
            "_model_module_version": "1.5.0",
            "_model_name": "DescriptionStyleModel",
            "_view_count": null,
            "_view_module": "@jupyter-widgets/base",
            "_view_module_version": "1.2.0",
            "_view_name": "StyleView",
            "description_width": ""
          }
        },
        "0c876abb21b8407b836309b494120b72": {
          "model_module": "@jupyter-widgets/base",
          "model_name": "LayoutModel",
          "model_module_version": "1.2.0",
          "state": {
            "_model_module": "@jupyter-widgets/base",
            "_model_module_version": "1.2.0",
            "_model_name": "LayoutModel",
            "_view_count": null,
            "_view_module": "@jupyter-widgets/base",
            "_view_module_version": "1.2.0",
            "_view_name": "LayoutView",
            "align_content": null,
            "align_items": null,
            "align_self": null,
            "border": null,
            "bottom": null,
            "display": null,
            "flex": null,
            "flex_flow": null,
            "grid_area": null,
            "grid_auto_columns": null,
            "grid_auto_flow": null,
            "grid_auto_rows": null,
            "grid_column": null,
            "grid_gap": null,
            "grid_row": null,
            "grid_template_areas": null,
            "grid_template_columns": null,
            "grid_template_rows": null,
            "height": null,
            "justify_content": null,
            "justify_items": null,
            "left": null,
            "margin": null,
            "max_height": null,
            "max_width": null,
            "min_height": null,
            "min_width": null,
            "object_fit": null,
            "object_position": null,
            "order": null,
            "overflow": null,
            "overflow_x": null,
            "overflow_y": null,
            "padding": null,
            "right": null,
            "top": null,
            "visibility": null,
            "width": null
          }
        },
        "d40cfd51ec784b178bf0cf287687ca0a": {
          "model_module": "@jupyter-widgets/controls",
          "model_name": "ProgressStyleModel",
          "model_module_version": "1.5.0",
          "state": {
            "_model_module": "@jupyter-widgets/controls",
            "_model_module_version": "1.5.0",
            "_model_name": "ProgressStyleModel",
            "_view_count": null,
            "_view_module": "@jupyter-widgets/base",
            "_view_module_version": "1.2.0",
            "_view_name": "StyleView",
            "bar_color": null,
            "description_width": ""
          }
        },
        "ddc85652bd734b4d83e6a8918a258fbf": {
          "model_module": "@jupyter-widgets/base",
          "model_name": "LayoutModel",
          "model_module_version": "1.2.0",
          "state": {
            "_model_module": "@jupyter-widgets/base",
            "_model_module_version": "1.2.0",
            "_model_name": "LayoutModel",
            "_view_count": null,
            "_view_module": "@jupyter-widgets/base",
            "_view_module_version": "1.2.0",
            "_view_name": "LayoutView",
            "align_content": null,
            "align_items": null,
            "align_self": null,
            "border": null,
            "bottom": null,
            "display": null,
            "flex": null,
            "flex_flow": null,
            "grid_area": null,
            "grid_auto_columns": null,
            "grid_auto_flow": null,
            "grid_auto_rows": null,
            "grid_column": null,
            "grid_gap": null,
            "grid_row": null,
            "grid_template_areas": null,
            "grid_template_columns": null,
            "grid_template_rows": null,
            "height": null,
            "justify_content": null,
            "justify_items": null,
            "left": null,
            "margin": null,
            "max_height": null,
            "max_width": null,
            "min_height": null,
            "min_width": null,
            "object_fit": null,
            "object_position": null,
            "order": null,
            "overflow": null,
            "overflow_x": null,
            "overflow_y": null,
            "padding": null,
            "right": null,
            "top": null,
            "visibility": null,
            "width": null
          }
        },
        "76e77a9a6b054e72bdec4e09607a2cfc": {
          "model_module": "@jupyter-widgets/controls",
          "model_name": "DescriptionStyleModel",
          "model_module_version": "1.5.0",
          "state": {
            "_model_module": "@jupyter-widgets/controls",
            "_model_module_version": "1.5.0",
            "_model_name": "DescriptionStyleModel",
            "_view_count": null,
            "_view_module": "@jupyter-widgets/base",
            "_view_module_version": "1.2.0",
            "_view_name": "StyleView",
            "description_width": ""
          }
        },
        "13f2d85ae9e34c75a86ad7dc06125524": {
          "model_module": "@jupyter-widgets/controls",
          "model_name": "HBoxModel",
          "model_module_version": "1.5.0",
          "state": {
            "_dom_classes": [],
            "_model_module": "@jupyter-widgets/controls",
            "_model_module_version": "1.5.0",
            "_model_name": "HBoxModel",
            "_view_count": null,
            "_view_module": "@jupyter-widgets/controls",
            "_view_module_version": "1.5.0",
            "_view_name": "HBoxView",
            "box_style": "",
            "children": [
              "IPY_MODEL_4c7077b1ef9e44b993bfff80fe6bffbc",
              "IPY_MODEL_401def416cac45268323d8805fd2ff85",
              "IPY_MODEL_014192414a844c7b8c3e0e53467ae842"
            ],
            "layout": "IPY_MODEL_cc41906053ad41d6bd97a6e69c01ab97"
          }
        },
        "4c7077b1ef9e44b993bfff80fe6bffbc": {
          "model_module": "@jupyter-widgets/controls",
          "model_name": "HTMLModel",
          "model_module_version": "1.5.0",
          "state": {
            "_dom_classes": [],
            "_model_module": "@jupyter-widgets/controls",
            "_model_module_version": "1.5.0",
            "_model_name": "HTMLModel",
            "_view_count": null,
            "_view_module": "@jupyter-widgets/controls",
            "_view_module_version": "1.5.0",
            "_view_name": "HTMLView",
            "description": "",
            "description_tooltip": null,
            "layout": "IPY_MODEL_b2f5cf7a91544b49a7699f55dc7ff2f0",
            "placeholder": "​",
            "style": "IPY_MODEL_3c5e5dc5ad384b459c5c14f58b35da7c",
            "value": "Fetching 5 files: 100%"
          }
        },
        "401def416cac45268323d8805fd2ff85": {
          "model_module": "@jupyter-widgets/controls",
          "model_name": "FloatProgressModel",
          "model_module_version": "1.5.0",
          "state": {
            "_dom_classes": [],
            "_model_module": "@jupyter-widgets/controls",
            "_model_module_version": "1.5.0",
            "_model_name": "FloatProgressModel",
            "_view_count": null,
            "_view_module": "@jupyter-widgets/controls",
            "_view_module_version": "1.5.0",
            "_view_name": "ProgressView",
            "bar_style": "success",
            "description": "",
            "description_tooltip": null,
            "layout": "IPY_MODEL_9fbbad466b4b4cd2aedbf16e04b4b123",
            "max": 5,
            "min": 0,
            "orientation": "horizontal",
            "style": "IPY_MODEL_bb5650c2b2c64d669b331f8628da6261",
            "value": 5
          }
        },
        "014192414a844c7b8c3e0e53467ae842": {
          "model_module": "@jupyter-widgets/controls",
          "model_name": "HTMLModel",
          "model_module_version": "1.5.0",
          "state": {
            "_dom_classes": [],
            "_model_module": "@jupyter-widgets/controls",
            "_model_module_version": "1.5.0",
            "_model_name": "HTMLModel",
            "_view_count": null,
            "_view_module": "@jupyter-widgets/controls",
            "_view_module_version": "1.5.0",
            "_view_name": "HTMLView",
            "description": "",
            "description_tooltip": null,
            "layout": "IPY_MODEL_c4798e0d43254b0aa1582eeb4d752c0d",
            "placeholder": "​",
            "style": "IPY_MODEL_0310f3755d304d02a7b176a70777573d",
            "value": " 5/5 [00:05&lt;00:00,  3.26s/it]"
          }
        },
        "cc41906053ad41d6bd97a6e69c01ab97": {
          "model_module": "@jupyter-widgets/base",
          "model_name": "LayoutModel",
          "model_module_version": "1.2.0",
          "state": {
            "_model_module": "@jupyter-widgets/base",
            "_model_module_version": "1.2.0",
            "_model_name": "LayoutModel",
            "_view_count": null,
            "_view_module": "@jupyter-widgets/base",
            "_view_module_version": "1.2.0",
            "_view_name": "LayoutView",
            "align_content": null,
            "align_items": null,
            "align_self": null,
            "border": null,
            "bottom": null,
            "display": null,
            "flex": null,
            "flex_flow": null,
            "grid_area": null,
            "grid_auto_columns": null,
            "grid_auto_flow": null,
            "grid_auto_rows": null,
            "grid_column": null,
            "grid_gap": null,
            "grid_row": null,
            "grid_template_areas": null,
            "grid_template_columns": null,
            "grid_template_rows": null,
            "height": null,
            "justify_content": null,
            "justify_items": null,
            "left": null,
            "margin": null,
            "max_height": null,
            "max_width": null,
            "min_height": null,
            "min_width": null,
            "object_fit": null,
            "object_position": null,
            "order": null,
            "overflow": null,
            "overflow_x": null,
            "overflow_y": null,
            "padding": null,
            "right": null,
            "top": null,
            "visibility": null,
            "width": null
          }
        },
        "b2f5cf7a91544b49a7699f55dc7ff2f0": {
          "model_module": "@jupyter-widgets/base",
          "model_name": "LayoutModel",
          "model_module_version": "1.2.0",
          "state": {
            "_model_module": "@jupyter-widgets/base",
            "_model_module_version": "1.2.0",
            "_model_name": "LayoutModel",
            "_view_count": null,
            "_view_module": "@jupyter-widgets/base",
            "_view_module_version": "1.2.0",
            "_view_name": "LayoutView",
            "align_content": null,
            "align_items": null,
            "align_self": null,
            "border": null,
            "bottom": null,
            "display": null,
            "flex": null,
            "flex_flow": null,
            "grid_area": null,
            "grid_auto_columns": null,
            "grid_auto_flow": null,
            "grid_auto_rows": null,
            "grid_column": null,
            "grid_gap": null,
            "grid_row": null,
            "grid_template_areas": null,
            "grid_template_columns": null,
            "grid_template_rows": null,
            "height": null,
            "justify_content": null,
            "justify_items": null,
            "left": null,
            "margin": null,
            "max_height": null,
            "max_width": null,
            "min_height": null,
            "min_width": null,
            "object_fit": null,
            "object_position": null,
            "order": null,
            "overflow": null,
            "overflow_x": null,
            "overflow_y": null,
            "padding": null,
            "right": null,
            "top": null,
            "visibility": null,
            "width": null
          }
        },
        "3c5e5dc5ad384b459c5c14f58b35da7c": {
          "model_module": "@jupyter-widgets/controls",
          "model_name": "DescriptionStyleModel",
          "model_module_version": "1.5.0",
          "state": {
            "_model_module": "@jupyter-widgets/controls",
            "_model_module_version": "1.5.0",
            "_model_name": "DescriptionStyleModel",
            "_view_count": null,
            "_view_module": "@jupyter-widgets/base",
            "_view_module_version": "1.2.0",
            "_view_name": "StyleView",
            "description_width": ""
          }
        },
        "9fbbad466b4b4cd2aedbf16e04b4b123": {
          "model_module": "@jupyter-widgets/base",
          "model_name": "LayoutModel",
          "model_module_version": "1.2.0",
          "state": {
            "_model_module": "@jupyter-widgets/base",
            "_model_module_version": "1.2.0",
            "_model_name": "LayoutModel",
            "_view_count": null,
            "_view_module": "@jupyter-widgets/base",
            "_view_module_version": "1.2.0",
            "_view_name": "LayoutView",
            "align_content": null,
            "align_items": null,
            "align_self": null,
            "border": null,
            "bottom": null,
            "display": null,
            "flex": null,
            "flex_flow": null,
            "grid_area": null,
            "grid_auto_columns": null,
            "grid_auto_flow": null,
            "grid_auto_rows": null,
            "grid_column": null,
            "grid_gap": null,
            "grid_row": null,
            "grid_template_areas": null,
            "grid_template_columns": null,
            "grid_template_rows": null,
            "height": null,
            "justify_content": null,
            "justify_items": null,
            "left": null,
            "margin": null,
            "max_height": null,
            "max_width": null,
            "min_height": null,
            "min_width": null,
            "object_fit": null,
            "object_position": null,
            "order": null,
            "overflow": null,
            "overflow_x": null,
            "overflow_y": null,
            "padding": null,
            "right": null,
            "top": null,
            "visibility": null,
            "width": null
          }
        },
        "bb5650c2b2c64d669b331f8628da6261": {
          "model_module": "@jupyter-widgets/controls",
          "model_name": "ProgressStyleModel",
          "model_module_version": "1.5.0",
          "state": {
            "_model_module": "@jupyter-widgets/controls",
            "_model_module_version": "1.5.0",
            "_model_name": "ProgressStyleModel",
            "_view_count": null,
            "_view_module": "@jupyter-widgets/base",
            "_view_module_version": "1.2.0",
            "_view_name": "StyleView",
            "bar_color": null,
            "description_width": ""
          }
        },
        "c4798e0d43254b0aa1582eeb4d752c0d": {
          "model_module": "@jupyter-widgets/base",
          "model_name": "LayoutModel",
          "model_module_version": "1.2.0",
          "state": {
            "_model_module": "@jupyter-widgets/base",
            "_model_module_version": "1.2.0",
            "_model_name": "LayoutModel",
            "_view_count": null,
            "_view_module": "@jupyter-widgets/base",
            "_view_module_version": "1.2.0",
            "_view_name": "LayoutView",
            "align_content": null,
            "align_items": null,
            "align_self": null,
            "border": null,
            "bottom": null,
            "display": null,
            "flex": null,
            "flex_flow": null,
            "grid_area": null,
            "grid_auto_columns": null,
            "grid_auto_flow": null,
            "grid_auto_rows": null,
            "grid_column": null,
            "grid_gap": null,
            "grid_row": null,
            "grid_template_areas": null,
            "grid_template_columns": null,
            "grid_template_rows": null,
            "height": null,
            "justify_content": null,
            "justify_items": null,
            "left": null,
            "margin": null,
            "max_height": null,
            "max_width": null,
            "min_height": null,
            "min_width": null,
            "object_fit": null,
            "object_position": null,
            "order": null,
            "overflow": null,
            "overflow_x": null,
            "overflow_y": null,
            "padding": null,
            "right": null,
            "top": null,
            "visibility": null,
            "width": null
          }
        },
        "0310f3755d304d02a7b176a70777573d": {
          "model_module": "@jupyter-widgets/controls",
          "model_name": "DescriptionStyleModel",
          "model_module_version": "1.5.0",
          "state": {
            "_model_module": "@jupyter-widgets/controls",
            "_model_module_version": "1.5.0",
            "_model_name": "DescriptionStyleModel",
            "_view_count": null,
            "_view_module": "@jupyter-widgets/base",
            "_view_module_version": "1.2.0",
            "_view_name": "StyleView",
            "description_width": ""
          }
        },
        "e53a1d65fed04f0192f5526ebeb39983": {
          "model_module": "@jupyter-widgets/controls",
          "model_name": "HBoxModel",
          "model_module_version": "1.5.0",
          "state": {
            "_dom_classes": [],
            "_model_module": "@jupyter-widgets/controls",
            "_model_module_version": "1.5.0",
            "_model_name": "HBoxModel",
            "_view_count": null,
            "_view_module": "@jupyter-widgets/controls",
            "_view_module_version": "1.5.0",
            "_view_name": "HBoxView",
            "box_style": "",
            "children": [
              "IPY_MODEL_18a5f9f4ea5c4db5912ccc99c8452d46",
              "IPY_MODEL_587b91d6e5894fa78d0836b5d86e682b",
              "IPY_MODEL_8ac69d676ae642159d3b1e144b2f927e"
            ],
            "layout": "IPY_MODEL_96f2dc6b2c5d41d2af6bd233226afe49"
          }
        },
        "18a5f9f4ea5c4db5912ccc99c8452d46": {
          "model_module": "@jupyter-widgets/controls",
          "model_name": "HTMLModel",
          "model_module_version": "1.5.0",
          "state": {
            "_dom_classes": [],
            "_model_module": "@jupyter-widgets/controls",
            "_model_module_version": "1.5.0",
            "_model_name": "HTMLModel",
            "_view_count": null,
            "_view_module": "@jupyter-widgets/controls",
            "_view_module_version": "1.5.0",
            "_view_name": "HTMLView",
            "description": "",
            "description_tooltip": null,
            "layout": "IPY_MODEL_9448f2c8112d4b058199c80676a39472",
            "placeholder": "​",
            "style": "IPY_MODEL_8bc1862284c148f09abbea291539e2be",
            "value": "special_tokens_map.json: 100%"
          }
        },
        "587b91d6e5894fa78d0836b5d86e682b": {
          "model_module": "@jupyter-widgets/controls",
          "model_name": "FloatProgressModel",
          "model_module_version": "1.5.0",
          "state": {
            "_dom_classes": [],
            "_model_module": "@jupyter-widgets/controls",
            "_model_module_version": "1.5.0",
            "_model_name": "FloatProgressModel",
            "_view_count": null,
            "_view_module": "@jupyter-widgets/controls",
            "_view_module_version": "1.5.0",
            "_view_name": "ProgressView",
            "bar_style": "success",
            "description": "",
            "description_tooltip": null,
            "layout": "IPY_MODEL_118f58aaf5ef4773b6d04eb46f5dfa17",
            "max": 695,
            "min": 0,
            "orientation": "horizontal",
            "style": "IPY_MODEL_e628096e534e454a96bc281f030e3259",
            "value": 695
          }
        },
        "8ac69d676ae642159d3b1e144b2f927e": {
          "model_module": "@jupyter-widgets/controls",
          "model_name": "HTMLModel",
          "model_module_version": "1.5.0",
          "state": {
            "_dom_classes": [],
            "_model_module": "@jupyter-widgets/controls",
            "_model_module_version": "1.5.0",
            "_model_name": "HTMLModel",
            "_view_count": null,
            "_view_module": "@jupyter-widgets/controls",
            "_view_module_version": "1.5.0",
            "_view_name": "HTMLView",
            "description": "",
            "description_tooltip": null,
            "layout": "IPY_MODEL_975f289a114047fb90d44f2bdbaffa65",
            "placeholder": "​",
            "style": "IPY_MODEL_b5e9b9b818fa4a11ab02c74191a3cad5",
            "value": " 695/695 [00:00&lt;00:00, 8.09kB/s]"
          }
        },
        "96f2dc6b2c5d41d2af6bd233226afe49": {
          "model_module": "@jupyter-widgets/base",
          "model_name": "LayoutModel",
          "model_module_version": "1.2.0",
          "state": {
            "_model_module": "@jupyter-widgets/base",
            "_model_module_version": "1.2.0",
            "_model_name": "LayoutModel",
            "_view_count": null,
            "_view_module": "@jupyter-widgets/base",
            "_view_module_version": "1.2.0",
            "_view_name": "LayoutView",
            "align_content": null,
            "align_items": null,
            "align_self": null,
            "border": null,
            "bottom": null,
            "display": null,
            "flex": null,
            "flex_flow": null,
            "grid_area": null,
            "grid_auto_columns": null,
            "grid_auto_flow": null,
            "grid_auto_rows": null,
            "grid_column": null,
            "grid_gap": null,
            "grid_row": null,
            "grid_template_areas": null,
            "grid_template_columns": null,
            "grid_template_rows": null,
            "height": null,
            "justify_content": null,
            "justify_items": null,
            "left": null,
            "margin": null,
            "max_height": null,
            "max_width": null,
            "min_height": null,
            "min_width": null,
            "object_fit": null,
            "object_position": null,
            "order": null,
            "overflow": null,
            "overflow_x": null,
            "overflow_y": null,
            "padding": null,
            "right": null,
            "top": null,
            "visibility": null,
            "width": null
          }
        },
        "9448f2c8112d4b058199c80676a39472": {
          "model_module": "@jupyter-widgets/base",
          "model_name": "LayoutModel",
          "model_module_version": "1.2.0",
          "state": {
            "_model_module": "@jupyter-widgets/base",
            "_model_module_version": "1.2.0",
            "_model_name": "LayoutModel",
            "_view_count": null,
            "_view_module": "@jupyter-widgets/base",
            "_view_module_version": "1.2.0",
            "_view_name": "LayoutView",
            "align_content": null,
            "align_items": null,
            "align_self": null,
            "border": null,
            "bottom": null,
            "display": null,
            "flex": null,
            "flex_flow": null,
            "grid_area": null,
            "grid_auto_columns": null,
            "grid_auto_flow": null,
            "grid_auto_rows": null,
            "grid_column": null,
            "grid_gap": null,
            "grid_row": null,
            "grid_template_areas": null,
            "grid_template_columns": null,
            "grid_template_rows": null,
            "height": null,
            "justify_content": null,
            "justify_items": null,
            "left": null,
            "margin": null,
            "max_height": null,
            "max_width": null,
            "min_height": null,
            "min_width": null,
            "object_fit": null,
            "object_position": null,
            "order": null,
            "overflow": null,
            "overflow_x": null,
            "overflow_y": null,
            "padding": null,
            "right": null,
            "top": null,
            "visibility": null,
            "width": null
          }
        },
        "8bc1862284c148f09abbea291539e2be": {
          "model_module": "@jupyter-widgets/controls",
          "model_name": "DescriptionStyleModel",
          "model_module_version": "1.5.0",
          "state": {
            "_model_module": "@jupyter-widgets/controls",
            "_model_module_version": "1.5.0",
            "_model_name": "DescriptionStyleModel",
            "_view_count": null,
            "_view_module": "@jupyter-widgets/base",
            "_view_module_version": "1.2.0",
            "_view_name": "StyleView",
            "description_width": ""
          }
        },
        "118f58aaf5ef4773b6d04eb46f5dfa17": {
          "model_module": "@jupyter-widgets/base",
          "model_name": "LayoutModel",
          "model_module_version": "1.2.0",
          "state": {
            "_model_module": "@jupyter-widgets/base",
            "_model_module_version": "1.2.0",
            "_model_name": "LayoutModel",
            "_view_count": null,
            "_view_module": "@jupyter-widgets/base",
            "_view_module_version": "1.2.0",
            "_view_name": "LayoutView",
            "align_content": null,
            "align_items": null,
            "align_self": null,
            "border": null,
            "bottom": null,
            "display": null,
            "flex": null,
            "flex_flow": null,
            "grid_area": null,
            "grid_auto_columns": null,
            "grid_auto_flow": null,
            "grid_auto_rows": null,
            "grid_column": null,
            "grid_gap": null,
            "grid_row": null,
            "grid_template_areas": null,
            "grid_template_columns": null,
            "grid_template_rows": null,
            "height": null,
            "justify_content": null,
            "justify_items": null,
            "left": null,
            "margin": null,
            "max_height": null,
            "max_width": null,
            "min_height": null,
            "min_width": null,
            "object_fit": null,
            "object_position": null,
            "order": null,
            "overflow": null,
            "overflow_x": null,
            "overflow_y": null,
            "padding": null,
            "right": null,
            "top": null,
            "visibility": null,
            "width": null
          }
        },
        "e628096e534e454a96bc281f030e3259": {
          "model_module": "@jupyter-widgets/controls",
          "model_name": "ProgressStyleModel",
          "model_module_version": "1.5.0",
          "state": {
            "_model_module": "@jupyter-widgets/controls",
            "_model_module_version": "1.5.0",
            "_model_name": "ProgressStyleModel",
            "_view_count": null,
            "_view_module": "@jupyter-widgets/base",
            "_view_module_version": "1.2.0",
            "_view_name": "StyleView",
            "bar_color": null,
            "description_width": ""
          }
        },
        "975f289a114047fb90d44f2bdbaffa65": {
          "model_module": "@jupyter-widgets/base",
          "model_name": "LayoutModel",
          "model_module_version": "1.2.0",
          "state": {
            "_model_module": "@jupyter-widgets/base",
            "_model_module_version": "1.2.0",
            "_model_name": "LayoutModel",
            "_view_count": null,
            "_view_module": "@jupyter-widgets/base",
            "_view_module_version": "1.2.0",
            "_view_name": "LayoutView",
            "align_content": null,
            "align_items": null,
            "align_self": null,
            "border": null,
            "bottom": null,
            "display": null,
            "flex": null,
            "flex_flow": null,
            "grid_area": null,
            "grid_auto_columns": null,
            "grid_auto_flow": null,
            "grid_auto_rows": null,
            "grid_column": null,
            "grid_gap": null,
            "grid_row": null,
            "grid_template_areas": null,
            "grid_template_columns": null,
            "grid_template_rows": null,
            "height": null,
            "justify_content": null,
            "justify_items": null,
            "left": null,
            "margin": null,
            "max_height": null,
            "max_width": null,
            "min_height": null,
            "min_width": null,
            "object_fit": null,
            "object_position": null,
            "order": null,
            "overflow": null,
            "overflow_x": null,
            "overflow_y": null,
            "padding": null,
            "right": null,
            "top": null,
            "visibility": null,
            "width": null
          }
        },
        "b5e9b9b818fa4a11ab02c74191a3cad5": {
          "model_module": "@jupyter-widgets/controls",
          "model_name": "DescriptionStyleModel",
          "model_module_version": "1.5.0",
          "state": {
            "_model_module": "@jupyter-widgets/controls",
            "_model_module_version": "1.5.0",
            "_model_name": "DescriptionStyleModel",
            "_view_count": null,
            "_view_module": "@jupyter-widgets/base",
            "_view_module_version": "1.2.0",
            "_view_name": "StyleView",
            "description_width": ""
          }
        },
        "26b26f9271e34035acc2fd7c78b8ff73": {
          "model_module": "@jupyter-widgets/controls",
          "model_name": "HBoxModel",
          "model_module_version": "1.5.0",
          "state": {
            "_dom_classes": [],
            "_model_module": "@jupyter-widgets/controls",
            "_model_module_version": "1.5.0",
            "_model_name": "HBoxModel",
            "_view_count": null,
            "_view_module": "@jupyter-widgets/controls",
            "_view_module_version": "1.5.0",
            "_view_name": "HBoxView",
            "box_style": "",
            "children": [
              "IPY_MODEL_4dae466ef6d1452ab1c663a5b2df7ff4",
              "IPY_MODEL_081fd9150f5d40c1abfc5cf5a445ff86",
              "IPY_MODEL_4d1e38a189aa4962b05b0273e8c32344"
            ],
            "layout": "IPY_MODEL_544cd42902c04c06963d455cd7957c02"
          }
        },
        "4dae466ef6d1452ab1c663a5b2df7ff4": {
          "model_module": "@jupyter-widgets/controls",
          "model_name": "HTMLModel",
          "model_module_version": "1.5.0",
          "state": {
            "_dom_classes": [],
            "_model_module": "@jupyter-widgets/controls",
            "_model_module_version": "1.5.0",
            "_model_name": "HTMLModel",
            "_view_count": null,
            "_view_module": "@jupyter-widgets/controls",
            "_view_module_version": "1.5.0",
            "_view_name": "HTMLView",
            "description": "",
            "description_tooltip": null,
            "layout": "IPY_MODEL_399a4b710e8d4dfd9dfef9cc69cbdbe1",
            "placeholder": "​",
            "style": "IPY_MODEL_9b00aed0122549e9a7f0fe5fc2858a93",
            "value": "tokenizer.json: 100%"
          }
        },
        "081fd9150f5d40c1abfc5cf5a445ff86": {
          "model_module": "@jupyter-widgets/controls",
          "model_name": "FloatProgressModel",
          "model_module_version": "1.5.0",
          "state": {
            "_dom_classes": [],
            "_model_module": "@jupyter-widgets/controls",
            "_model_module_version": "1.5.0",
            "_model_name": "FloatProgressModel",
            "_view_count": null,
            "_view_module": "@jupyter-widgets/controls",
            "_view_module_version": "1.5.0",
            "_view_name": "ProgressView",
            "bar_style": "success",
            "description": "",
            "description_tooltip": null,
            "layout": "IPY_MODEL_590e78225ccc49d8b6fbbd8bd4dff3a2",
            "max": 711396,
            "min": 0,
            "orientation": "horizontal",
            "style": "IPY_MODEL_4343fe699be6422fabbfa5be80923598",
            "value": 711396
          }
        },
        "4d1e38a189aa4962b05b0273e8c32344": {
          "model_module": "@jupyter-widgets/controls",
          "model_name": "HTMLModel",
          "model_module_version": "1.5.0",
          "state": {
            "_dom_classes": [],
            "_model_module": "@jupyter-widgets/controls",
            "_model_module_version": "1.5.0",
            "_model_name": "HTMLModel",
            "_view_count": null,
            "_view_module": "@jupyter-widgets/controls",
            "_view_module_version": "1.5.0",
            "_view_name": "HTMLView",
            "description": "",
            "description_tooltip": null,
            "layout": "IPY_MODEL_beb2313183d1484197a38be0e774c42c",
            "placeholder": "​",
            "style": "IPY_MODEL_49dffc2acad048818d53bd845df504dd",
            "value": " 711k/711k [00:00&lt;00:00, 3.50MB/s]"
          }
        },
        "544cd42902c04c06963d455cd7957c02": {
          "model_module": "@jupyter-widgets/base",
          "model_name": "LayoutModel",
          "model_module_version": "1.2.0",
          "state": {
            "_model_module": "@jupyter-widgets/base",
            "_model_module_version": "1.2.0",
            "_model_name": "LayoutModel",
            "_view_count": null,
            "_view_module": "@jupyter-widgets/base",
            "_view_module_version": "1.2.0",
            "_view_name": "LayoutView",
            "align_content": null,
            "align_items": null,
            "align_self": null,
            "border": null,
            "bottom": null,
            "display": null,
            "flex": null,
            "flex_flow": null,
            "grid_area": null,
            "grid_auto_columns": null,
            "grid_auto_flow": null,
            "grid_auto_rows": null,
            "grid_column": null,
            "grid_gap": null,
            "grid_row": null,
            "grid_template_areas": null,
            "grid_template_columns": null,
            "grid_template_rows": null,
            "height": null,
            "justify_content": null,
            "justify_items": null,
            "left": null,
            "margin": null,
            "max_height": null,
            "max_width": null,
            "min_height": null,
            "min_width": null,
            "object_fit": null,
            "object_position": null,
            "order": null,
            "overflow": null,
            "overflow_x": null,
            "overflow_y": null,
            "padding": null,
            "right": null,
            "top": null,
            "visibility": null,
            "width": null
          }
        },
        "399a4b710e8d4dfd9dfef9cc69cbdbe1": {
          "model_module": "@jupyter-widgets/base",
          "model_name": "LayoutModel",
          "model_module_version": "1.2.0",
          "state": {
            "_model_module": "@jupyter-widgets/base",
            "_model_module_version": "1.2.0",
            "_model_name": "LayoutModel",
            "_view_count": null,
            "_view_module": "@jupyter-widgets/base",
            "_view_module_version": "1.2.0",
            "_view_name": "LayoutView",
            "align_content": null,
            "align_items": null,
            "align_self": null,
            "border": null,
            "bottom": null,
            "display": null,
            "flex": null,
            "flex_flow": null,
            "grid_area": null,
            "grid_auto_columns": null,
            "grid_auto_flow": null,
            "grid_auto_rows": null,
            "grid_column": null,
            "grid_gap": null,
            "grid_row": null,
            "grid_template_areas": null,
            "grid_template_columns": null,
            "grid_template_rows": null,
            "height": null,
            "justify_content": null,
            "justify_items": null,
            "left": null,
            "margin": null,
            "max_height": null,
            "max_width": null,
            "min_height": null,
            "min_width": null,
            "object_fit": null,
            "object_position": null,
            "order": null,
            "overflow": null,
            "overflow_x": null,
            "overflow_y": null,
            "padding": null,
            "right": null,
            "top": null,
            "visibility": null,
            "width": null
          }
        },
        "9b00aed0122549e9a7f0fe5fc2858a93": {
          "model_module": "@jupyter-widgets/controls",
          "model_name": "DescriptionStyleModel",
          "model_module_version": "1.5.0",
          "state": {
            "_model_module": "@jupyter-widgets/controls",
            "_model_module_version": "1.5.0",
            "_model_name": "DescriptionStyleModel",
            "_view_count": null,
            "_view_module": "@jupyter-widgets/base",
            "_view_module_version": "1.2.0",
            "_view_name": "StyleView",
            "description_width": ""
          }
        },
        "590e78225ccc49d8b6fbbd8bd4dff3a2": {
          "model_module": "@jupyter-widgets/base",
          "model_name": "LayoutModel",
          "model_module_version": "1.2.0",
          "state": {
            "_model_module": "@jupyter-widgets/base",
            "_model_module_version": "1.2.0",
            "_model_name": "LayoutModel",
            "_view_count": null,
            "_view_module": "@jupyter-widgets/base",
            "_view_module_version": "1.2.0",
            "_view_name": "LayoutView",
            "align_content": null,
            "align_items": null,
            "align_self": null,
            "border": null,
            "bottom": null,
            "display": null,
            "flex": null,
            "flex_flow": null,
            "grid_area": null,
            "grid_auto_columns": null,
            "grid_auto_flow": null,
            "grid_auto_rows": null,
            "grid_column": null,
            "grid_gap": null,
            "grid_row": null,
            "grid_template_areas": null,
            "grid_template_columns": null,
            "grid_template_rows": null,
            "height": null,
            "justify_content": null,
            "justify_items": null,
            "left": null,
            "margin": null,
            "max_height": null,
            "max_width": null,
            "min_height": null,
            "min_width": null,
            "object_fit": null,
            "object_position": null,
            "order": null,
            "overflow": null,
            "overflow_x": null,
            "overflow_y": null,
            "padding": null,
            "right": null,
            "top": null,
            "visibility": null,
            "width": null
          }
        },
        "4343fe699be6422fabbfa5be80923598": {
          "model_module": "@jupyter-widgets/controls",
          "model_name": "ProgressStyleModel",
          "model_module_version": "1.5.0",
          "state": {
            "_model_module": "@jupyter-widgets/controls",
            "_model_module_version": "1.5.0",
            "_model_name": "ProgressStyleModel",
            "_view_count": null,
            "_view_module": "@jupyter-widgets/base",
            "_view_module_version": "1.2.0",
            "_view_name": "StyleView",
            "bar_color": null,
            "description_width": ""
          }
        },
        "beb2313183d1484197a38be0e774c42c": {
          "model_module": "@jupyter-widgets/base",
          "model_name": "LayoutModel",
          "model_module_version": "1.2.0",
          "state": {
            "_model_module": "@jupyter-widgets/base",
            "_model_module_version": "1.2.0",
            "_model_name": "LayoutModel",
            "_view_count": null,
            "_view_module": "@jupyter-widgets/base",
            "_view_module_version": "1.2.0",
            "_view_name": "LayoutView",
            "align_content": null,
            "align_items": null,
            "align_self": null,
            "border": null,
            "bottom": null,
            "display": null,
            "flex": null,
            "flex_flow": null,
            "grid_area": null,
            "grid_auto_columns": null,
            "grid_auto_flow": null,
            "grid_auto_rows": null,
            "grid_column": null,
            "grid_gap": null,
            "grid_row": null,
            "grid_template_areas": null,
            "grid_template_columns": null,
            "grid_template_rows": null,
            "height": null,
            "justify_content": null,
            "justify_items": null,
            "left": null,
            "margin": null,
            "max_height": null,
            "max_width": null,
            "min_height": null,
            "min_width": null,
            "object_fit": null,
            "object_position": null,
            "order": null,
            "overflow": null,
            "overflow_x": null,
            "overflow_y": null,
            "padding": null,
            "right": null,
            "top": null,
            "visibility": null,
            "width": null
          }
        },
        "49dffc2acad048818d53bd845df504dd": {
          "model_module": "@jupyter-widgets/controls",
          "model_name": "DescriptionStyleModel",
          "model_module_version": "1.5.0",
          "state": {
            "_model_module": "@jupyter-widgets/controls",
            "_model_module_version": "1.5.0",
            "_model_name": "DescriptionStyleModel",
            "_view_count": null,
            "_view_module": "@jupyter-widgets/base",
            "_view_module_version": "1.2.0",
            "_view_name": "StyleView",
            "description_width": ""
          }
        },
        "f79bc03fc3fe4965bfc81bdabb34e834": {
          "model_module": "@jupyter-widgets/controls",
          "model_name": "HBoxModel",
          "model_module_version": "1.5.0",
          "state": {
            "_dom_classes": [],
            "_model_module": "@jupyter-widgets/controls",
            "_model_module_version": "1.5.0",
            "_model_name": "HBoxModel",
            "_view_count": null,
            "_view_module": "@jupyter-widgets/controls",
            "_view_module_version": "1.5.0",
            "_view_name": "HBoxView",
            "box_style": "",
            "children": [
              "IPY_MODEL_de7b60f647884143b1e4df03714bd812",
              "IPY_MODEL_5729079baa854bf4a66fe3a16287067a",
              "IPY_MODEL_88c06d767f6a4ce492d7a997394e4b04"
            ],
            "layout": "IPY_MODEL_0ed8c4cdd9be4f3294effc6b3c3e7f1f"
          }
        },
        "de7b60f647884143b1e4df03714bd812": {
          "model_module": "@jupyter-widgets/controls",
          "model_name": "HTMLModel",
          "model_module_version": "1.5.0",
          "state": {
            "_dom_classes": [],
            "_model_module": "@jupyter-widgets/controls",
            "_model_module_version": "1.5.0",
            "_model_name": "HTMLModel",
            "_view_count": null,
            "_view_module": "@jupyter-widgets/controls",
            "_view_module_version": "1.5.0",
            "_view_name": "HTMLView",
            "description": "",
            "description_tooltip": null,
            "layout": "IPY_MODEL_1e03144bc2344c9dabc1eed8e4c5881a",
            "placeholder": "​",
            "style": "IPY_MODEL_24de80683cd5421f87d51c14e8cbb7fb",
            "value": "config.json: 100%"
          }
        },
        "5729079baa854bf4a66fe3a16287067a": {
          "model_module": "@jupyter-widgets/controls",
          "model_name": "FloatProgressModel",
          "model_module_version": "1.5.0",
          "state": {
            "_dom_classes": [],
            "_model_module": "@jupyter-widgets/controls",
            "_model_module_version": "1.5.0",
            "_model_name": "FloatProgressModel",
            "_view_count": null,
            "_view_module": "@jupyter-widgets/controls",
            "_view_module_version": "1.5.0",
            "_view_name": "ProgressView",
            "bar_style": "success",
            "description": "",
            "description_tooltip": null,
            "layout": "IPY_MODEL_3f479efc5a0b45ac99ef8a62538ac3a1",
            "max": 740,
            "min": 0,
            "orientation": "horizontal",
            "style": "IPY_MODEL_4d19abde6924473a84e67558157429f0",
            "value": 740
          }
        },
        "88c06d767f6a4ce492d7a997394e4b04": {
          "model_module": "@jupyter-widgets/controls",
          "model_name": "HTMLModel",
          "model_module_version": "1.5.0",
          "state": {
            "_dom_classes": [],
            "_model_module": "@jupyter-widgets/controls",
            "_model_module_version": "1.5.0",
            "_model_name": "HTMLModel",
            "_view_count": null,
            "_view_module": "@jupyter-widgets/controls",
            "_view_module_version": "1.5.0",
            "_view_name": "HTMLView",
            "description": "",
            "description_tooltip": null,
            "layout": "IPY_MODEL_a4a0a710fde44b3aadce7afb2cfeaac9",
            "placeholder": "​",
            "style": "IPY_MODEL_be4ad3d348c7486491dc0040ed93a232",
            "value": " 740/740 [00:00&lt;00:00, 6.90kB/s]"
          }
        },
        "0ed8c4cdd9be4f3294effc6b3c3e7f1f": {
          "model_module": "@jupyter-widgets/base",
          "model_name": "LayoutModel",
          "model_module_version": "1.2.0",
          "state": {
            "_model_module": "@jupyter-widgets/base",
            "_model_module_version": "1.2.0",
            "_model_name": "LayoutModel",
            "_view_count": null,
            "_view_module": "@jupyter-widgets/base",
            "_view_module_version": "1.2.0",
            "_view_name": "LayoutView",
            "align_content": null,
            "align_items": null,
            "align_self": null,
            "border": null,
            "bottom": null,
            "display": null,
            "flex": null,
            "flex_flow": null,
            "grid_area": null,
            "grid_auto_columns": null,
            "grid_auto_flow": null,
            "grid_auto_rows": null,
            "grid_column": null,
            "grid_gap": null,
            "grid_row": null,
            "grid_template_areas": null,
            "grid_template_columns": null,
            "grid_template_rows": null,
            "height": null,
            "justify_content": null,
            "justify_items": null,
            "left": null,
            "margin": null,
            "max_height": null,
            "max_width": null,
            "min_height": null,
            "min_width": null,
            "object_fit": null,
            "object_position": null,
            "order": null,
            "overflow": null,
            "overflow_x": null,
            "overflow_y": null,
            "padding": null,
            "right": null,
            "top": null,
            "visibility": null,
            "width": null
          }
        },
        "1e03144bc2344c9dabc1eed8e4c5881a": {
          "model_module": "@jupyter-widgets/base",
          "model_name": "LayoutModel",
          "model_module_version": "1.2.0",
          "state": {
            "_model_module": "@jupyter-widgets/base",
            "_model_module_version": "1.2.0",
            "_model_name": "LayoutModel",
            "_view_count": null,
            "_view_module": "@jupyter-widgets/base",
            "_view_module_version": "1.2.0",
            "_view_name": "LayoutView",
            "align_content": null,
            "align_items": null,
            "align_self": null,
            "border": null,
            "bottom": null,
            "display": null,
            "flex": null,
            "flex_flow": null,
            "grid_area": null,
            "grid_auto_columns": null,
            "grid_auto_flow": null,
            "grid_auto_rows": null,
            "grid_column": null,
            "grid_gap": null,
            "grid_row": null,
            "grid_template_areas": null,
            "grid_template_columns": null,
            "grid_template_rows": null,
            "height": null,
            "justify_content": null,
            "justify_items": null,
            "left": null,
            "margin": null,
            "max_height": null,
            "max_width": null,
            "min_height": null,
            "min_width": null,
            "object_fit": null,
            "object_position": null,
            "order": null,
            "overflow": null,
            "overflow_x": null,
            "overflow_y": null,
            "padding": null,
            "right": null,
            "top": null,
            "visibility": null,
            "width": null
          }
        },
        "24de80683cd5421f87d51c14e8cbb7fb": {
          "model_module": "@jupyter-widgets/controls",
          "model_name": "DescriptionStyleModel",
          "model_module_version": "1.5.0",
          "state": {
            "_model_module": "@jupyter-widgets/controls",
            "_model_module_version": "1.5.0",
            "_model_name": "DescriptionStyleModel",
            "_view_count": null,
            "_view_module": "@jupyter-widgets/base",
            "_view_module_version": "1.2.0",
            "_view_name": "StyleView",
            "description_width": ""
          }
        },
        "3f479efc5a0b45ac99ef8a62538ac3a1": {
          "model_module": "@jupyter-widgets/base",
          "model_name": "LayoutModel",
          "model_module_version": "1.2.0",
          "state": {
            "_model_module": "@jupyter-widgets/base",
            "_model_module_version": "1.2.0",
            "_model_name": "LayoutModel",
            "_view_count": null,
            "_view_module": "@jupyter-widgets/base",
            "_view_module_version": "1.2.0",
            "_view_name": "LayoutView",
            "align_content": null,
            "align_items": null,
            "align_self": null,
            "border": null,
            "bottom": null,
            "display": null,
            "flex": null,
            "flex_flow": null,
            "grid_area": null,
            "grid_auto_columns": null,
            "grid_auto_flow": null,
            "grid_auto_rows": null,
            "grid_column": null,
            "grid_gap": null,
            "grid_row": null,
            "grid_template_areas": null,
            "grid_template_columns": null,
            "grid_template_rows": null,
            "height": null,
            "justify_content": null,
            "justify_items": null,
            "left": null,
            "margin": null,
            "max_height": null,
            "max_width": null,
            "min_height": null,
            "min_width": null,
            "object_fit": null,
            "object_position": null,
            "order": null,
            "overflow": null,
            "overflow_x": null,
            "overflow_y": null,
            "padding": null,
            "right": null,
            "top": null,
            "visibility": null,
            "width": null
          }
        },
        "4d19abde6924473a84e67558157429f0": {
          "model_module": "@jupyter-widgets/controls",
          "model_name": "ProgressStyleModel",
          "model_module_version": "1.5.0",
          "state": {
            "_model_module": "@jupyter-widgets/controls",
            "_model_module_version": "1.5.0",
            "_model_name": "ProgressStyleModel",
            "_view_count": null,
            "_view_module": "@jupyter-widgets/base",
            "_view_module_version": "1.2.0",
            "_view_name": "StyleView",
            "bar_color": null,
            "description_width": ""
          }
        },
        "a4a0a710fde44b3aadce7afb2cfeaac9": {
          "model_module": "@jupyter-widgets/base",
          "model_name": "LayoutModel",
          "model_module_version": "1.2.0",
          "state": {
            "_model_module": "@jupyter-widgets/base",
            "_model_module_version": "1.2.0",
            "_model_name": "LayoutModel",
            "_view_count": null,
            "_view_module": "@jupyter-widgets/base",
            "_view_module_version": "1.2.0",
            "_view_name": "LayoutView",
            "align_content": null,
            "align_items": null,
            "align_self": null,
            "border": null,
            "bottom": null,
            "display": null,
            "flex": null,
            "flex_flow": null,
            "grid_area": null,
            "grid_auto_columns": null,
            "grid_auto_flow": null,
            "grid_auto_rows": null,
            "grid_column": null,
            "grid_gap": null,
            "grid_row": null,
            "grid_template_areas": null,
            "grid_template_columns": null,
            "grid_template_rows": null,
            "height": null,
            "justify_content": null,
            "justify_items": null,
            "left": null,
            "margin": null,
            "max_height": null,
            "max_width": null,
            "min_height": null,
            "min_width": null,
            "object_fit": null,
            "object_position": null,
            "order": null,
            "overflow": null,
            "overflow_x": null,
            "overflow_y": null,
            "padding": null,
            "right": null,
            "top": null,
            "visibility": null,
            "width": null
          }
        },
        "be4ad3d348c7486491dc0040ed93a232": {
          "model_module": "@jupyter-widgets/controls",
          "model_name": "DescriptionStyleModel",
          "model_module_version": "1.5.0",
          "state": {
            "_model_module": "@jupyter-widgets/controls",
            "_model_module_version": "1.5.0",
            "_model_name": "DescriptionStyleModel",
            "_view_count": null,
            "_view_module": "@jupyter-widgets/base",
            "_view_module_version": "1.2.0",
            "_view_name": "StyleView",
            "description_width": ""
          }
        },
        "502c2d7a30624144888ae4361df92fec": {
          "model_module": "@jupyter-widgets/controls",
          "model_name": "HBoxModel",
          "model_module_version": "1.5.0",
          "state": {
            "_dom_classes": [],
            "_model_module": "@jupyter-widgets/controls",
            "_model_module_version": "1.5.0",
            "_model_name": "HBoxModel",
            "_view_count": null,
            "_view_module": "@jupyter-widgets/controls",
            "_view_module_version": "1.5.0",
            "_view_name": "HBoxView",
            "box_style": "",
            "children": [
              "IPY_MODEL_b69a6359b52e4e848d1e690a2bdeeae7",
              "IPY_MODEL_8310d38df8594644b593a9ef3576c420",
              "IPY_MODEL_d69b9ab4196646718ade0956c82be97a"
            ],
            "layout": "IPY_MODEL_7bba404b48c544aa8c50d88ddaaefeb9"
          }
        },
        "b69a6359b52e4e848d1e690a2bdeeae7": {
          "model_module": "@jupyter-widgets/controls",
          "model_name": "HTMLModel",
          "model_module_version": "1.5.0",
          "state": {
            "_dom_classes": [],
            "_model_module": "@jupyter-widgets/controls",
            "_model_module_version": "1.5.0",
            "_model_name": "HTMLModel",
            "_view_count": null,
            "_view_module": "@jupyter-widgets/controls",
            "_view_module_version": "1.5.0",
            "_view_name": "HTMLView",
            "description": "",
            "description_tooltip": null,
            "layout": "IPY_MODEL_0fb49518260a4705bcb1912fd70adff8",
            "placeholder": "​",
            "style": "IPY_MODEL_daa1c281a5664b03be42aed0a6b273b6",
            "value": "model_optimized.onnx: 100%"
          }
        },
        "8310d38df8594644b593a9ef3576c420": {
          "model_module": "@jupyter-widgets/controls",
          "model_name": "FloatProgressModel",
          "model_module_version": "1.5.0",
          "state": {
            "_dom_classes": [],
            "_model_module": "@jupyter-widgets/controls",
            "_model_module_version": "1.5.0",
            "_model_name": "FloatProgressModel",
            "_view_count": null,
            "_view_module": "@jupyter-widgets/controls",
            "_view_module_version": "1.5.0",
            "_view_name": "ProgressView",
            "bar_style": "success",
            "description": "",
            "description_tooltip": null,
            "layout": "IPY_MODEL_90d730e46947475e91fecce0dc037dc5",
            "max": 217824172,
            "min": 0,
            "orientation": "horizontal",
            "style": "IPY_MODEL_d49c4a4cbb934ec7b767bad079455b17",
            "value": 217824172
          }
        },
        "d69b9ab4196646718ade0956c82be97a": {
          "model_module": "@jupyter-widgets/controls",
          "model_name": "HTMLModel",
          "model_module_version": "1.5.0",
          "state": {
            "_dom_classes": [],
            "_model_module": "@jupyter-widgets/controls",
            "_model_module_version": "1.5.0",
            "_model_name": "HTMLModel",
            "_view_count": null,
            "_view_module": "@jupyter-widgets/controls",
            "_view_module_version": "1.5.0",
            "_view_name": "HTMLView",
            "description": "",
            "description_tooltip": null,
            "layout": "IPY_MODEL_46ff178a688c47f5901348603fcf457a",
            "placeholder": "​",
            "style": "IPY_MODEL_c90ba1723a534db2a92fe5c024a7db17",
            "value": " 218M/218M [00:05&lt;00:00, 42.7MB/s]"
          }
        },
        "7bba404b48c544aa8c50d88ddaaefeb9": {
          "model_module": "@jupyter-widgets/base",
          "model_name": "LayoutModel",
          "model_module_version": "1.2.0",
          "state": {
            "_model_module": "@jupyter-widgets/base",
            "_model_module_version": "1.2.0",
            "_model_name": "LayoutModel",
            "_view_count": null,
            "_view_module": "@jupyter-widgets/base",
            "_view_module_version": "1.2.0",
            "_view_name": "LayoutView",
            "align_content": null,
            "align_items": null,
            "align_self": null,
            "border": null,
            "bottom": null,
            "display": null,
            "flex": null,
            "flex_flow": null,
            "grid_area": null,
            "grid_auto_columns": null,
            "grid_auto_flow": null,
            "grid_auto_rows": null,
            "grid_column": null,
            "grid_gap": null,
            "grid_row": null,
            "grid_template_areas": null,
            "grid_template_columns": null,
            "grid_template_rows": null,
            "height": null,
            "justify_content": null,
            "justify_items": null,
            "left": null,
            "margin": null,
            "max_height": null,
            "max_width": null,
            "min_height": null,
            "min_width": null,
            "object_fit": null,
            "object_position": null,
            "order": null,
            "overflow": null,
            "overflow_x": null,
            "overflow_y": null,
            "padding": null,
            "right": null,
            "top": null,
            "visibility": null,
            "width": null
          }
        },
        "0fb49518260a4705bcb1912fd70adff8": {
          "model_module": "@jupyter-widgets/base",
          "model_name": "LayoutModel",
          "model_module_version": "1.2.0",
          "state": {
            "_model_module": "@jupyter-widgets/base",
            "_model_module_version": "1.2.0",
            "_model_name": "LayoutModel",
            "_view_count": null,
            "_view_module": "@jupyter-widgets/base",
            "_view_module_version": "1.2.0",
            "_view_name": "LayoutView",
            "align_content": null,
            "align_items": null,
            "align_self": null,
            "border": null,
            "bottom": null,
            "display": null,
            "flex": null,
            "flex_flow": null,
            "grid_area": null,
            "grid_auto_columns": null,
            "grid_auto_flow": null,
            "grid_auto_rows": null,
            "grid_column": null,
            "grid_gap": null,
            "grid_row": null,
            "grid_template_areas": null,
            "grid_template_columns": null,
            "grid_template_rows": null,
            "height": null,
            "justify_content": null,
            "justify_items": null,
            "left": null,
            "margin": null,
            "max_height": null,
            "max_width": null,
            "min_height": null,
            "min_width": null,
            "object_fit": null,
            "object_position": null,
            "order": null,
            "overflow": null,
            "overflow_x": null,
            "overflow_y": null,
            "padding": null,
            "right": null,
            "top": null,
            "visibility": null,
            "width": null
          }
        },
        "daa1c281a5664b03be42aed0a6b273b6": {
          "model_module": "@jupyter-widgets/controls",
          "model_name": "DescriptionStyleModel",
          "model_module_version": "1.5.0",
          "state": {
            "_model_module": "@jupyter-widgets/controls",
            "_model_module_version": "1.5.0",
            "_model_name": "DescriptionStyleModel",
            "_view_count": null,
            "_view_module": "@jupyter-widgets/base",
            "_view_module_version": "1.2.0",
            "_view_name": "StyleView",
            "description_width": ""
          }
        },
        "90d730e46947475e91fecce0dc037dc5": {
          "model_module": "@jupyter-widgets/base",
          "model_name": "LayoutModel",
          "model_module_version": "1.2.0",
          "state": {
            "_model_module": "@jupyter-widgets/base",
            "_model_module_version": "1.2.0",
            "_model_name": "LayoutModel",
            "_view_count": null,
            "_view_module": "@jupyter-widgets/base",
            "_view_module_version": "1.2.0",
            "_view_name": "LayoutView",
            "align_content": null,
            "align_items": null,
            "align_self": null,
            "border": null,
            "bottom": null,
            "display": null,
            "flex": null,
            "flex_flow": null,
            "grid_area": null,
            "grid_auto_columns": null,
            "grid_auto_flow": null,
            "grid_auto_rows": null,
            "grid_column": null,
            "grid_gap": null,
            "grid_row": null,
            "grid_template_areas": null,
            "grid_template_columns": null,
            "grid_template_rows": null,
            "height": null,
            "justify_content": null,
            "justify_items": null,
            "left": null,
            "margin": null,
            "max_height": null,
            "max_width": null,
            "min_height": null,
            "min_width": null,
            "object_fit": null,
            "object_position": null,
            "order": null,
            "overflow": null,
            "overflow_x": null,
            "overflow_y": null,
            "padding": null,
            "right": null,
            "top": null,
            "visibility": null,
            "width": null
          }
        },
        "d49c4a4cbb934ec7b767bad079455b17": {
          "model_module": "@jupyter-widgets/controls",
          "model_name": "ProgressStyleModel",
          "model_module_version": "1.5.0",
          "state": {
            "_model_module": "@jupyter-widgets/controls",
            "_model_module_version": "1.5.0",
            "_model_name": "ProgressStyleModel",
            "_view_count": null,
            "_view_module": "@jupyter-widgets/base",
            "_view_module_version": "1.2.0",
            "_view_name": "StyleView",
            "bar_color": null,
            "description_width": ""
          }
        },
        "46ff178a688c47f5901348603fcf457a": {
          "model_module": "@jupyter-widgets/base",
          "model_name": "LayoutModel",
          "model_module_version": "1.2.0",
          "state": {
            "_model_module": "@jupyter-widgets/base",
            "_model_module_version": "1.2.0",
            "_model_name": "LayoutModel",
            "_view_count": null,
            "_view_module": "@jupyter-widgets/base",
            "_view_module_version": "1.2.0",
            "_view_name": "LayoutView",
            "align_content": null,
            "align_items": null,
            "align_self": null,
            "border": null,
            "bottom": null,
            "display": null,
            "flex": null,
            "flex_flow": null,
            "grid_area": null,
            "grid_auto_columns": null,
            "grid_auto_flow": null,
            "grid_auto_rows": null,
            "grid_column": null,
            "grid_gap": null,
            "grid_row": null,
            "grid_template_areas": null,
            "grid_template_columns": null,
            "grid_template_rows": null,
            "height": null,
            "justify_content": null,
            "justify_items": null,
            "left": null,
            "margin": null,
            "max_height": null,
            "max_width": null,
            "min_height": null,
            "min_width": null,
            "object_fit": null,
            "object_position": null,
            "order": null,
            "overflow": null,
            "overflow_x": null,
            "overflow_y": null,
            "padding": null,
            "right": null,
            "top": null,
            "visibility": null,
            "width": null
          }
        },
        "c90ba1723a534db2a92fe5c024a7db17": {
          "model_module": "@jupyter-widgets/controls",
          "model_name": "DescriptionStyleModel",
          "model_module_version": "1.5.0",
          "state": {
            "_model_module": "@jupyter-widgets/controls",
            "_model_module_version": "1.5.0",
            "_model_name": "DescriptionStyleModel",
            "_view_count": null,
            "_view_module": "@jupyter-widgets/base",
            "_view_module_version": "1.2.0",
            "_view_name": "StyleView",
            "description_width": ""
          }
        },
        "0c69cc74899049c193acf5bc757c7d62": {
          "model_module": "@jupyter-widgets/controls",
          "model_name": "HBoxModel",
          "model_module_version": "1.5.0",
          "state": {
            "_dom_classes": [],
            "_model_module": "@jupyter-widgets/controls",
            "_model_module_version": "1.5.0",
            "_model_name": "HBoxModel",
            "_view_count": null,
            "_view_module": "@jupyter-widgets/controls",
            "_view_module_version": "1.5.0",
            "_view_name": "HBoxView",
            "box_style": "",
            "children": [
              "IPY_MODEL_d3e637b4dd0f48e9ab5d2aefac1b783a",
              "IPY_MODEL_d67da5f9da23483990de59a643ef4dab",
              "IPY_MODEL_7f844de2d8c34399a4d707ffc212fd11"
            ],
            "layout": "IPY_MODEL_33bffefed2114ee190306de7642b53f0"
          }
        },
        "d3e637b4dd0f48e9ab5d2aefac1b783a": {
          "model_module": "@jupyter-widgets/controls",
          "model_name": "HTMLModel",
          "model_module_version": "1.5.0",
          "state": {
            "_dom_classes": [],
            "_model_module": "@jupyter-widgets/controls",
            "_model_module_version": "1.5.0",
            "_model_name": "HTMLModel",
            "_view_count": null,
            "_view_module": "@jupyter-widgets/controls",
            "_view_module_version": "1.5.0",
            "_view_name": "HTMLView",
            "description": "",
            "description_tooltip": null,
            "layout": "IPY_MODEL_7c9f5fb9006e44d5a5e8c4f0b4711b5d",
            "placeholder": "​",
            "style": "IPY_MODEL_71b32fc6ed2f4c5b85128e1669293653",
            "value": "tokenizer_config.json: 100%"
          }
        },
        "d67da5f9da23483990de59a643ef4dab": {
          "model_module": "@jupyter-widgets/controls",
          "model_name": "FloatProgressModel",
          "model_module_version": "1.5.0",
          "state": {
            "_dom_classes": [],
            "_model_module": "@jupyter-widgets/controls",
            "_model_module_version": "1.5.0",
            "_model_name": "FloatProgressModel",
            "_view_count": null,
            "_view_module": "@jupyter-widgets/controls",
            "_view_module_version": "1.5.0",
            "_view_name": "ProgressView",
            "bar_style": "success",
            "description": "",
            "description_tooltip": null,
            "layout": "IPY_MODEL_c1c6faed8930460e8b1e1a285b79da71",
            "max": 1242,
            "min": 0,
            "orientation": "horizontal",
            "style": "IPY_MODEL_54fd7e66bdc948f5b6d23630c968e511",
            "value": 1242
          }
        },
        "7f844de2d8c34399a4d707ffc212fd11": {
          "model_module": "@jupyter-widgets/controls",
          "model_name": "HTMLModel",
          "model_module_version": "1.5.0",
          "state": {
            "_dom_classes": [],
            "_model_module": "@jupyter-widgets/controls",
            "_model_module_version": "1.5.0",
            "_model_name": "HTMLModel",
            "_view_count": null,
            "_view_module": "@jupyter-widgets/controls",
            "_view_module_version": "1.5.0",
            "_view_name": "HTMLView",
            "description": "",
            "description_tooltip": null,
            "layout": "IPY_MODEL_5d1e76c3c790442488255cdf0df47264",
            "placeholder": "​",
            "style": "IPY_MODEL_a307e8a4cbcf452695bfeedd7f663be6",
            "value": " 1.24k/1.24k [00:00&lt;00:00, 25.8kB/s]"
          }
        },
        "33bffefed2114ee190306de7642b53f0": {
          "model_module": "@jupyter-widgets/base",
          "model_name": "LayoutModel",
          "model_module_version": "1.2.0",
          "state": {
            "_model_module": "@jupyter-widgets/base",
            "_model_module_version": "1.2.0",
            "_model_name": "LayoutModel",
            "_view_count": null,
            "_view_module": "@jupyter-widgets/base",
            "_view_module_version": "1.2.0",
            "_view_name": "LayoutView",
            "align_content": null,
            "align_items": null,
            "align_self": null,
            "border": null,
            "bottom": null,
            "display": null,
            "flex": null,
            "flex_flow": null,
            "grid_area": null,
            "grid_auto_columns": null,
            "grid_auto_flow": null,
            "grid_auto_rows": null,
            "grid_column": null,
            "grid_gap": null,
            "grid_row": null,
            "grid_template_areas": null,
            "grid_template_columns": null,
            "grid_template_rows": null,
            "height": null,
            "justify_content": null,
            "justify_items": null,
            "left": null,
            "margin": null,
            "max_height": null,
            "max_width": null,
            "min_height": null,
            "min_width": null,
            "object_fit": null,
            "object_position": null,
            "order": null,
            "overflow": null,
            "overflow_x": null,
            "overflow_y": null,
            "padding": null,
            "right": null,
            "top": null,
            "visibility": null,
            "width": null
          }
        },
        "7c9f5fb9006e44d5a5e8c4f0b4711b5d": {
          "model_module": "@jupyter-widgets/base",
          "model_name": "LayoutModel",
          "model_module_version": "1.2.0",
          "state": {
            "_model_module": "@jupyter-widgets/base",
            "_model_module_version": "1.2.0",
            "_model_name": "LayoutModel",
            "_view_count": null,
            "_view_module": "@jupyter-widgets/base",
            "_view_module_version": "1.2.0",
            "_view_name": "LayoutView",
            "align_content": null,
            "align_items": null,
            "align_self": null,
            "border": null,
            "bottom": null,
            "display": null,
            "flex": null,
            "flex_flow": null,
            "grid_area": null,
            "grid_auto_columns": null,
            "grid_auto_flow": null,
            "grid_auto_rows": null,
            "grid_column": null,
            "grid_gap": null,
            "grid_row": null,
            "grid_template_areas": null,
            "grid_template_columns": null,
            "grid_template_rows": null,
            "height": null,
            "justify_content": null,
            "justify_items": null,
            "left": null,
            "margin": null,
            "max_height": null,
            "max_width": null,
            "min_height": null,
            "min_width": null,
            "object_fit": null,
            "object_position": null,
            "order": null,
            "overflow": null,
            "overflow_x": null,
            "overflow_y": null,
            "padding": null,
            "right": null,
            "top": null,
            "visibility": null,
            "width": null
          }
        },
        "71b32fc6ed2f4c5b85128e1669293653": {
          "model_module": "@jupyter-widgets/controls",
          "model_name": "DescriptionStyleModel",
          "model_module_version": "1.5.0",
          "state": {
            "_model_module": "@jupyter-widgets/controls",
            "_model_module_version": "1.5.0",
            "_model_name": "DescriptionStyleModel",
            "_view_count": null,
            "_view_module": "@jupyter-widgets/base",
            "_view_module_version": "1.2.0",
            "_view_name": "StyleView",
            "description_width": ""
          }
        },
        "c1c6faed8930460e8b1e1a285b79da71": {
          "model_module": "@jupyter-widgets/base",
          "model_name": "LayoutModel",
          "model_module_version": "1.2.0",
          "state": {
            "_model_module": "@jupyter-widgets/base",
            "_model_module_version": "1.2.0",
            "_model_name": "LayoutModel",
            "_view_count": null,
            "_view_module": "@jupyter-widgets/base",
            "_view_module_version": "1.2.0",
            "_view_name": "LayoutView",
            "align_content": null,
            "align_items": null,
            "align_self": null,
            "border": null,
            "bottom": null,
            "display": null,
            "flex": null,
            "flex_flow": null,
            "grid_area": null,
            "grid_auto_columns": null,
            "grid_auto_flow": null,
            "grid_auto_rows": null,
            "grid_column": null,
            "grid_gap": null,
            "grid_row": null,
            "grid_template_areas": null,
            "grid_template_columns": null,
            "grid_template_rows": null,
            "height": null,
            "justify_content": null,
            "justify_items": null,
            "left": null,
            "margin": null,
            "max_height": null,
            "max_width": null,
            "min_height": null,
            "min_width": null,
            "object_fit": null,
            "object_position": null,
            "order": null,
            "overflow": null,
            "overflow_x": null,
            "overflow_y": null,
            "padding": null,
            "right": null,
            "top": null,
            "visibility": null,
            "width": null
          }
        },
        "54fd7e66bdc948f5b6d23630c968e511": {
          "model_module": "@jupyter-widgets/controls",
          "model_name": "ProgressStyleModel",
          "model_module_version": "1.5.0",
          "state": {
            "_model_module": "@jupyter-widgets/controls",
            "_model_module_version": "1.5.0",
            "_model_name": "ProgressStyleModel",
            "_view_count": null,
            "_view_module": "@jupyter-widgets/base",
            "_view_module_version": "1.2.0",
            "_view_name": "StyleView",
            "bar_color": null,
            "description_width": ""
          }
        },
        "5d1e76c3c790442488255cdf0df47264": {
          "model_module": "@jupyter-widgets/base",
          "model_name": "LayoutModel",
          "model_module_version": "1.2.0",
          "state": {
            "_model_module": "@jupyter-widgets/base",
            "_model_module_version": "1.2.0",
            "_model_name": "LayoutModel",
            "_view_count": null,
            "_view_module": "@jupyter-widgets/base",
            "_view_module_version": "1.2.0",
            "_view_name": "LayoutView",
            "align_content": null,
            "align_items": null,
            "align_self": null,
            "border": null,
            "bottom": null,
            "display": null,
            "flex": null,
            "flex_flow": null,
            "grid_area": null,
            "grid_auto_columns": null,
            "grid_auto_flow": null,
            "grid_auto_rows": null,
            "grid_column": null,
            "grid_gap": null,
            "grid_row": null,
            "grid_template_areas": null,
            "grid_template_columns": null,
            "grid_template_rows": null,
            "height": null,
            "justify_content": null,
            "justify_items": null,
            "left": null,
            "margin": null,
            "max_height": null,
            "max_width": null,
            "min_height": null,
            "min_width": null,
            "object_fit": null,
            "object_position": null,
            "order": null,
            "overflow": null,
            "overflow_x": null,
            "overflow_y": null,
            "padding": null,
            "right": null,
            "top": null,
            "visibility": null,
            "width": null
          }
        },
        "a307e8a4cbcf452695bfeedd7f663be6": {
          "model_module": "@jupyter-widgets/controls",
          "model_name": "DescriptionStyleModel",
          "model_module_version": "1.5.0",
          "state": {
            "_model_module": "@jupyter-widgets/controls",
            "_model_module_version": "1.5.0",
            "_model_name": "DescriptionStyleModel",
            "_view_count": null,
            "_view_module": "@jupyter-widgets/base",
            "_view_module_version": "1.2.0",
            "_view_name": "StyleView",
            "description_width": ""
          }
        }
      }
    }
  },
  "nbformat": 4,
  "nbformat_minor": 0
}