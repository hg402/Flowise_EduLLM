{
  "cells": [
    {
      "cell_type": "markdown",
      "metadata": {
        "id": "view-in-github",
        "colab_type": "text"
      },
      "source": [
        "<a href=\"https://colab.research.google.com/github/hg402/Flowise_EduLLM/blob/main/wcars_python_advanced_rag_with_llama_3.ipynb\" target=\"_parent\"><img src=\"https://colab.research.google.com/assets/colab-badge.svg\" alt=\"Open In Colab\"/></a>"
      ]
    },
    {
      "cell_type": "markdown",
      "source": [
        "<center><h1>Basic Python and Implementing Your Own LLM for Teaching<br>and Research</h1></center>"
      ],
      "metadata": {
        "id": "J6fxiBPziOyO"
      }
    },
    {
      "cell_type": "markdown",
      "source": [
        "<center><h3>Haoyun (Harry) Gao <br>\n",
        "Rutgers University, Department of Accounting and Information Systems</center></h3>"
      ],
      "metadata": {
        "id": "GavaF9EDias9"
      }
    },
    {
      "cell_type": "markdown",
      "metadata": {
        "id": "QvhBpGxlK6vK"
      },
      "source": [
        "# Introduction"
      ]
    },
    {
      "cell_type": "markdown",
      "metadata": {
        "id": "3A2iLtFJK9oe"
      },
      "source": [
        "Welcome to this comprehensive guide on building your own Large Language Model (LLM). In this session, you will learn how to leverage one of the latest open-source LLM, Llama 3 by Meta, along with powerful tools like LangChain and API services from Groq and LlamaCloud. Our focus will be on retrieval-augmented generation (RAG), which enables querying PDF files with contextual questions, minimizing hallucinations.\n",
        "\n",
        "By the end of this guide, you will gain hands-on experience in:\n",
        "* Basic Python Commands: Master the essential syntax of today’s most widely used programming language.\n",
        "* Document Parsing: Learn how to efficiently extract and preprocess information from various documents.\n",
        "* Prompt Engineering: Understand the art of designing effective prompts to enhance the performance of your LLM.\n",
        "* Vector Databases: Explore how to store and manage large-scale data efficiently using vector databases.\n",
        "\n",
        "**Learning Outcomes**\n",
        "\n",
        "After completing this script, you should be able to:\n",
        "\n",
        "* Set up and run the Llama 3 model in your local environment.\n",
        "* Integrate LangChain to complete retrieval-augmented generation (RAG) tasks.\n",
        "* Utilize Groq and LlamaCloud APIs to extend the functionality of your LLM.\n",
        "* Implement document parsing, prompt engineering, and vector databases in your projects.\n",
        "\n",
        "Let's get started on this exciting journey to build and customize your own powerful Large Language Model!"
      ]
    },
    {
      "cell_type": "markdown",
      "source": [
        "# Basics of Python Syntax"
      ],
      "metadata": {
        "id": "wpwu67l8038W"
      }
    },
    {
      "cell_type": "markdown",
      "source": [
        "## 1. Basic Data Types and Operations"
      ],
      "metadata": {
        "id": "uBnS1kT51MJl"
      }
    },
    {
      "cell_type": "markdown",
      "source": [
        "Python has a variety of data types that let you store and manipulate different kinds of data.\n",
        "\n",
        "Common Data Types:\n",
        "* Integer (int): Whole numbers\n",
        "* Float (float): Numbers with decimals\n",
        "* String (str): Text data\n",
        "* Boolean (bool): True or False\n",
        "\n",
        "The hashtags indicate comments within the code, and the comments don't run."
      ],
      "metadata": {
        "id": "I3e9fWKS9hfB"
      }
    },
    {
      "cell_type": "code",
      "source": [
        "# Integer\n",
        "num1 = 10\n",
        "\n",
        "# Float\n",
        "num2 = 5.5\n",
        "\n",
        "# Boolean\n",
        "is_active = True\n",
        "\n",
        "# String\n",
        "text = \"Welcome to Python!\""
      ],
      "metadata": {
        "id": "x2mshFaAei_T"
      },
      "execution_count": 1,
      "outputs": []
    },
    {
      "cell_type": "code",
      "source": [
        "print(num1)\n",
        "print(num2)\n",
        "print(is_active)\n",
        "print(text)"
      ],
      "metadata": {
        "colab": {
          "base_uri": "https://localhost:8080/"
        },
        "id": "fq2BHmvz4GJu",
        "outputId": "9d43c0d7-cca2-4c4d-adfe-51296b24a817"
      },
      "execution_count": 2,
      "outputs": [
        {
          "output_type": "stream",
          "name": "stdout",
          "text": [
            "10\n",
            "5.5\n",
            "True\n",
            "Welcome to Python!\n"
          ]
        }
      ]
    },
    {
      "cell_type": "markdown",
      "source": [
        "Operations:\n",
        "* Addition (+): Adds numbers or concatenates strings.\n",
        "* Subtraction (-): Subtracts numbers.\n",
        "* Multiplication (*): Multiplies numbers or repeats strings.\n",
        "* Division (/): Divides numbers."
      ],
      "metadata": {
        "id": "D75o4TuPejQg"
      }
    },
    {
      "cell_type": "code",
      "source": [
        "# Example operations\n",
        "result = num1 + num2     # Addition\n",
        "greeting = \"Hello\" + \" World\"  # String concatenation\n",
        "repeated = \"Python! \" * 3  # Repeats the string 3 times"
      ],
      "metadata": {
        "id": "7C6-kFlOSoHd"
      },
      "execution_count": 3,
      "outputs": []
    },
    {
      "cell_type": "code",
      "source": [
        "print(result)\n",
        "print(greeting)\n",
        "print(repeated)"
      ],
      "metadata": {
        "colab": {
          "base_uri": "https://localhost:8080/"
        },
        "id": "TjxjCmU54AZb",
        "outputId": "bf56882c-756f-4b2b-c850-f8096d17763b"
      },
      "execution_count": 4,
      "outputs": [
        {
          "output_type": "stream",
          "name": "stdout",
          "text": [
            "15.5\n",
            "Hello World\n",
            "Python! Python! Python! \n"
          ]
        }
      ]
    },
    {
      "cell_type": "markdown",
      "source": [
        "## 2. Working with Strings"
      ],
      "metadata": {
        "id": "YHhCLBqQ-B43"
      }
    },
    {
      "cell_type": "markdown",
      "source": [
        "Strings are sequences of characters and can be manipulated in many ways.\n",
        "\n",
        "**Basic String Operations**:\n",
        "* Concatenation: + to join strings.\n",
        "* Slicing: Use [start:end] to get part of a string.\n",
        "* Methods: Functions that work on strings, like `.lower()`, `.upper()`, `.replace()`."
      ],
      "metadata": {
        "id": "UCw-GsMJ-K-T"
      }
    },
    {
      "cell_type": "code",
      "source": [
        "# Defining a string\n",
        "greeting = \"Hello, Python!\""
      ],
      "metadata": {
        "id": "-JAUIxil-Wbe"
      },
      "execution_count": 5,
      "outputs": []
    },
    {
      "cell_type": "code",
      "source": [
        "# String methods\n",
        "greeting_lower = greeting.lower()  # 'hello, python!'\n",
        "greeting_upper = greeting.upper()  # 'HELLO, PYTHON!'"
      ],
      "metadata": {
        "id": "N7WSzqwV-ETA"
      },
      "execution_count": 6,
      "outputs": []
    },
    {
      "cell_type": "code",
      "source": [
        "# Slicing\n",
        "partial_text = greeting[0:5]  # 'Hello'"
      ],
      "metadata": {
        "id": "kDQSZppiTQwB"
      },
      "execution_count": 7,
      "outputs": []
    },
    {
      "cell_type": "markdown",
      "source": [
        "## 3. Lists"
      ],
      "metadata": {
        "id": "uZUTqMFNUcNn"
      }
    },
    {
      "cell_type": "markdown",
      "source": [
        "Lists are collections that let you store multiple items. Lists can store any data type and are great for managing data collections.\n",
        "\n",
        "**Defining and Accessing Lists**"
      ],
      "metadata": {
        "id": "5pNS6W5xUg2G"
      }
    },
    {
      "cell_type": "code",
      "source": [
        "# Defining a list\n",
        "fruits = [\"apple\", \"banana\", \"cherry\"]\n",
        "print(fruits)"
      ],
      "metadata": {
        "colab": {
          "base_uri": "https://localhost:8080/"
        },
        "id": "sinY063KUb8j",
        "outputId": "c6e7dc10-94c5-4e48-d753-a9c3c084c2c9"
      },
      "execution_count": 8,
      "outputs": [
        {
          "output_type": "stream",
          "name": "stdout",
          "text": [
            "['apple', 'banana', 'cherry']\n"
          ]
        }
      ]
    },
    {
      "cell_type": "code",
      "source": [
        "# Accessing elements\n",
        "print(fruits[0])  # Output: apple"
      ],
      "metadata": {
        "colab": {
          "base_uri": "https://localhost:8080/"
        },
        "id": "nEIW1-4D4d-P",
        "outputId": "25aecb54-1624-49a2-ff9b-3a2ad80f8f3e"
      },
      "execution_count": 9,
      "outputs": [
        {
          "output_type": "stream",
          "name": "stdout",
          "text": [
            "apple\n"
          ]
        }
      ]
    },
    {
      "cell_type": "code",
      "source": [
        "# Adding and removing items\n",
        "fruits.append(\"date\")   # Adds 'date' to the end of the list\n",
        "fruits.remove(\"banana\") # Removes 'banana' from the list"
      ],
      "metadata": {
        "id": "igLwxkB74f-z"
      },
      "execution_count": 10,
      "outputs": []
    },
    {
      "cell_type": "code",
      "source": [
        "print(fruits)"
      ],
      "metadata": {
        "colab": {
          "base_uri": "https://localhost:8080/"
        },
        "id": "Y4Ukv7QS4SVj",
        "outputId": "39c711a0-e819-4ed0-c7f7-a58b76af7a96"
      },
      "execution_count": 11,
      "outputs": [
        {
          "output_type": "stream",
          "name": "stdout",
          "text": [
            "['apple', 'cherry', 'date']\n"
          ]
        }
      ]
    },
    {
      "cell_type": "markdown",
      "source": [
        "**List Slicing**\n",
        "* Just like strings, lists support slicing to access specific portions."
      ],
      "metadata": {
        "id": "OHwS0a5jX8zs"
      }
    },
    {
      "cell_type": "code",
      "source": [
        "# Getting the first two elements\n",
        "first_two = fruits[0:2]  # Output: ['apple', 'cherry']"
      ],
      "metadata": {
        "id": "3NSsx86-X7ZO"
      },
      "execution_count": 12,
      "outputs": []
    },
    {
      "cell_type": "markdown",
      "source": [
        "## 4. Control Flow"
      ],
      "metadata": {
        "id": "5f3I0yJKUyWU"
      }
    },
    {
      "cell_type": "markdown",
      "source": [
        "Python uses control flow statements to make decisions and repeat actions.\n",
        "\n",
        "If Statements\n",
        "\n",
        "* **If Statements**: `if`, `elif` and `else` let us run code conditionally.\n",
        "* Examples:"
      ],
      "metadata": {
        "id": "ZG0AGHKPU4yy"
      }
    },
    {
      "cell_type": "code",
      "source": [
        "# Conditional check\n",
        "age = 18\n",
        "if age >= 18:\n",
        "    print(\"You're an adult.\")"
      ],
      "metadata": {
        "colab": {
          "base_uri": "https://localhost:8080/"
        },
        "id": "0rXC58gAU1wq",
        "outputId": "c91ba65f-1133-4986-fd35-0286e313d067"
      },
      "execution_count": 13,
      "outputs": [
        {
          "output_type": "stream",
          "name": "stdout",
          "text": [
            "You're an adult.\n"
          ]
        }
      ]
    },
    {
      "cell_type": "markdown",
      "source": [
        "* **Loops**: Loops are used for repeating tasks. We’ll cover `for` and `while` loops here.\n",
        "* Examples:"
      ],
      "metadata": {
        "id": "lmEdS9FjXhmE"
      }
    },
    {
      "cell_type": "code",
      "source": [
        "# Iterate over a list\n",
        "for fruit in fruits:\n",
        "    print(fruit)"
      ],
      "metadata": {
        "colab": {
          "base_uri": "https://localhost:8080/"
        },
        "id": "jyvhJ9EcVRtM",
        "outputId": "b3c5625f-27bb-46a3-82f8-7903d490e47e"
      },
      "execution_count": 14,
      "outputs": [
        {
          "output_type": "stream",
          "name": "stdout",
          "text": [
            "apple\n",
            "cherry\n",
            "date\n"
          ]
        }
      ]
    },
    {
      "cell_type": "code",
      "source": [
        "# Repeat a task until a condition is met\n",
        "count = 0\n",
        "while count < 5:\n",
        "    print(\"Counting:\", count)\n",
        "    count += 1"
      ],
      "metadata": {
        "colab": {
          "base_uri": "https://localhost:8080/"
        },
        "id": "3oQ1AkLZXvgs",
        "outputId": "ebb07892-44a3-4ebf-ee50-e0747ffbf0e9"
      },
      "execution_count": 15,
      "outputs": [
        {
          "output_type": "stream",
          "name": "stdout",
          "text": [
            "Counting: 0\n",
            "Counting: 1\n",
            "Counting: 2\n",
            "Counting: 3\n",
            "Counting: 4\n"
          ]
        }
      ]
    },
    {
      "cell_type": "markdown",
      "source": [
        "##5. Basic Functions"
      ],
      "metadata": {
        "id": "WdtKJ5E4VVtL"
      }
    },
    {
      "cell_type": "markdown",
      "source": [
        "Functions let you package code into reusable pieces, which can be called with different inputs to get different results.\n",
        "\n",
        "**Defining a Function**:\n",
        "To define a function, use `def` followed by the function name and parameters."
      ],
      "metadata": {
        "id": "uI8tOoPXVauC"
      }
    },
    {
      "cell_type": "code",
      "source": [
        "def add(a, b):\n",
        "    return a + b\n",
        "\n",
        "sum_result = add(5, 10)\n",
        "\n",
        "print(sum_result)"
      ],
      "metadata": {
        "colab": {
          "base_uri": "https://localhost:8080/"
        },
        "id": "X9-YQBCHVYGQ",
        "outputId": "a6228af2-91f8-4f50-985f-1124a4c668a9"
      },
      "execution_count": 16,
      "outputs": [
        {
          "output_type": "stream",
          "name": "stdout",
          "text": [
            "15\n"
          ]
        }
      ]
    },
    {
      "cell_type": "markdown",
      "source": [
        "Example Function with Conditionals:"
      ],
      "metadata": {
        "id": "u2TTzUhhXAFx"
      }
    },
    {
      "cell_type": "code",
      "source": [
        "def check_age(age):\n",
        "    if age >= 18:\n",
        "        return \"Adult\"\n",
        "    else:\n",
        "        return \"Minor\"\n",
        "\n",
        "status = check_age(16)  # Output: 'Minor'"
      ],
      "metadata": {
        "id": "wkDOXOagXBJY"
      },
      "execution_count": 17,
      "outputs": []
    },
    {
      "cell_type": "markdown",
      "source": [
        "## 6. Importing Modules"
      ],
      "metadata": {
        "id": "o7bSmwcXVrF4"
      }
    },
    {
      "cell_type": "markdown",
      "source": [
        "Modules are collections of functions and variables that expand Python’s capabilities. For example, the `math` module provides advanced math operations."
      ],
      "metadata": {
        "id": "KRK3nbVaWXMG"
      }
    },
    {
      "cell_type": "markdown",
      "source": [
        "Importing and Using Modules:"
      ],
      "metadata": {
        "id": "PUAY3GBqWcmM"
      }
    },
    {
      "cell_type": "code",
      "source": [
        "# Import the math module\n",
        "import math\n",
        "\n",
        "# Using math functions\n",
        "pi_value = math.pi\n",
        "square_root = math.sqrt(16)  # Output: 4.0"
      ],
      "metadata": {
        "id": "oeoFDSCuVq3P"
      },
      "execution_count": 18,
      "outputs": []
    },
    {
      "cell_type": "markdown",
      "source": [
        "# Simple Q&A Model Using Llama 3"
      ],
      "metadata": {
        "id": "KGzaxDEVEvY2"
      }
    },
    {
      "cell_type": "markdown",
      "source": [
        "## Housekeeping"
      ],
      "metadata": {
        "id": "kJ-Y0Kc3zMfv"
      }
    },
    {
      "cell_type": "markdown",
      "source": [
        "To start with, let's set the timezone of the Python environment to US Eastern Time and retrieve the timezone names"
      ],
      "metadata": {
        "id": "wPCY1vgRzT-u"
      }
    },
    {
      "cell_type": "code",
      "source": [
        "import os\n",
        "import time\n",
        "os.environ['TZ'] = 'US/Eastern'\n",
        "time.tzset()\n",
        "time.tzname"
      ],
      "metadata": {
        "colab": {
          "base_uri": "https://localhost:8080/"
        },
        "id": "VC2Asb18DWTp",
        "outputId": "4b3065f1-0ac5-42e7-a7a1-a3486db5823c"
      },
      "execution_count": 1,
      "outputs": [
        {
          "output_type": "execute_result",
          "data": {
            "text/plain": [
              "('EST', 'EDT')"
            ]
          },
          "metadata": {},
          "execution_count": 1
        }
      ]
    },
    {
      "cell_type": "code",
      "execution_count": 2,
      "metadata": {
        "colab": {
          "base_uri": "https://localhost:8080/"
        },
        "id": "jDKmB_6M7o1D",
        "outputId": "9698137b-f8cd-4617-e2d3-8b53ac446e1e"
      },
      "outputs": [
        {
          "output_type": "stream",
          "name": "stdout",
          "text": [
            "\u001b[?25l   \u001b[90m━━━━━━━━━━━━━━━━━━━━━━━━━━━━━━━━━━━━━━━━\u001b[0m \u001b[32m0.0/1.6 MB\u001b[0m \u001b[31m?\u001b[0m eta \u001b[36m-:--:--\u001b[0m\r\u001b[2K   \u001b[91m━━━━━━━━━\u001b[0m\u001b[91m╸\u001b[0m\u001b[90m━━━━━━━━━━━━━━━━━━━━━━━━━━━━━━\u001b[0m \u001b[32m0.4/1.6 MB\u001b[0m \u001b[31m11.7 MB/s\u001b[0m eta \u001b[36m0:00:01\u001b[0m\r\u001b[2K   \u001b[91m━━━━━━━━━━━━━━━━━━━━━━━━━━━━━━━━━━━━━━━\u001b[0m\u001b[91m╸\u001b[0m \u001b[32m1.6/1.6 MB\u001b[0m \u001b[31m27.5 MB/s\u001b[0m eta \u001b[36m0:00:01\u001b[0m\r\u001b[2K   \u001b[90m━━━━━━━━━━━━━━━━━━━━━━━━━━━━━━━━━━━━━━━━\u001b[0m \u001b[32m1.6/1.6 MB\u001b[0m \u001b[31m18.2 MB/s\u001b[0m eta \u001b[36m0:00:00\u001b[0m\n",
            "\u001b[?25htime: 453 µs (started: 2024-11-01 06:05:29 -04:00)\n"
          ]
        }
      ],
      "source": [
        "# Install the `ipython-autotime` package to measure the execution time of each cell.\n",
        "!pip -qqq install ipython-autotime\n",
        "%load_ext autotime"
      ]
    },
    {
      "cell_type": "markdown",
      "source": [
        "Agree to the Google Drive's request in accessing your Google account when running the below code:"
      ],
      "metadata": {
        "id": "ZTNqa_3iPLRH"
      }
    },
    {
      "cell_type": "code",
      "execution_count": 3,
      "metadata": {
        "colab": {
          "base_uri": "https://localhost:8080/"
        },
        "id": "X_aWx1Q7NnI2",
        "outputId": "271deddd-c8ab-4e55-fafe-ff0938c41887"
      },
      "outputs": [
        {
          "output_type": "stream",
          "name": "stdout",
          "text": [
            "Mounted at /content/drive\n",
            "time: 2min 8s (started: 2024-11-01 06:05:29 -04:00)\n"
          ]
        }
      ],
      "source": [
        "#  Mount your Google Drive to access files.\n",
        "from google.colab import drive\n",
        "drive.mount('/content/drive')"
      ]
    },
    {
      "cell_type": "markdown",
      "metadata": {
        "id": "W1JK9-G--pXY"
      },
      "source": [
        "We now install the necessary libraries. You may ignore the compatibility issues reported here for now. It takes about 4 minutes."
      ]
    },
    {
      "cell_type": "code",
      "execution_count": 4,
      "metadata": {
        "colab": {
          "base_uri": "https://localhost:8080/"
        },
        "id": "3-wvIiFhkBYR",
        "outputId": "bca3702b-9556-4b80-d269-4c32562aa9e9",
        "collapsed": true
      },
      "outputs": [
        {
          "output_type": "stream",
          "name": "stdout",
          "text": [
            "time: 3min 59s (started: 2024-11-01 06:07:38 -04:00)\n"
          ]
        }
      ],
      "source": [
        "# Install pip package manager.\n",
        "!pip -qqq install pip --progress-bar off > /dev/null 2>&1\n",
        "# Install LangChain Groq integration library version 0.1.3.\n",
        "!pip -qqq install langchain-groq==0.1.3 --progress-bar off > /dev/null 2>&1\n",
        "# Install LangChain framework version 0.1.17.\n",
        "!pip -qqq install langchain==0.1.17 --progress-bar off > /dev/null 2>&1\n",
        "# Install LlamaParse library version 0.1.3 for document parsing.\n",
        "!pip -qqq install llama-parse==0.1.3 --progress-bar off > /dev/null 2>&1\n",
        "# Install Qdrant client library version 1.9.1 for vector database interaction.\n",
        "!pip -qqq install qdrant-client==1.9.1  --progress-bar off > /dev/null 2>&1\n",
        "# Install Unstructured library version 0.13.6 for handling Markdown files.\n",
        "!pip -qqq install \"unstructured[md]\"==0.13.6 --progress-bar off > /dev/null 2>&1\n",
        "# Install FastEmbed library version 0.2.7 for embedding generation.\n",
        "!pip -qqq install fastembed==0.2.7 --progress-bar off > /dev/null 2>&1\n",
        "# Installing the flashrank package version 0.2.4 for efficient information retrieval\n",
        "!pip -qqq install flashrank==0.2.4 --progress-bar off > /dev/null 2>&1"
      ]
    },
    {
      "cell_type": "markdown",
      "metadata": {
        "id": "ByXoBPTXugNW"
      },
      "source": [
        "Now we import the necessary packages:"
      ]
    },
    {
      "cell_type": "code",
      "execution_count": 5,
      "metadata": {
        "colab": {
          "base_uri": "https://localhost:8080/"
        },
        "id": "CltjxBRZugNX",
        "outputId": "27e1624d-f622-4952-9414-dbc5f6f43934"
      },
      "outputs": [
        {
          "output_type": "stream",
          "name": "stdout",
          "text": [
            "time: 19.6 s (started: 2024-11-01 06:11:37 -04:00)\n"
          ]
        }
      ],
      "source": [
        "# Importing the os module to interact with the operating system\n",
        "import os\n",
        "\n",
        "# Importing the textwrap module for text formatting functions\n",
        "import textwrap\n",
        "\n",
        "# Importing the Path class from pathlib to handle file paths\n",
        "from pathlib import Path\n",
        "\n",
        "# Importing the userdata module from Google Colab for user data interactions\n",
        "from google.colab import userdata\n",
        "\n",
        "# Importing the Markdown class from IPython.display to display markdown content in Jupyter notebooks\n",
        "from IPython.display import Markdown\n",
        "\n",
        "# Importing the RetrievalQA chain from LangChain for question-answering capabilities\n",
        "from langchain.chains import RetrievalQA\n",
        "\n",
        "# Importing the PromptTemplate class from LangChain for creating prompt templates\n",
        "from langchain.prompts import PromptTemplate\n",
        "\n",
        "# Importing the ContextualCompressionRetriever from LangChain for contextual information retrieval\n",
        "from langchain.retrievers import ContextualCompressionRetriever\n",
        "\n",
        "# Importing the FlashrankRerank class from LangChain for document compression and ranking\n",
        "from langchain.retrievers.document_compressors import FlashrankRerank\n",
        "\n",
        "# Importing the RecursiveCharacterTextSplitter from LangChain for splitting text recursively by characters\n",
        "from langchain.text_splitter import RecursiveCharacterTextSplitter\n",
        "\n",
        "# Importing the Qdrant class from LangChain for vector store operations\n",
        "from langchain.vectorstores import Qdrant\n",
        "\n",
        "# Importing the UnstructuredMarkdownLoader from LangChain Community for loading markdown documents\n",
        "from langchain_community.document_loaders import UnstructuredMarkdownLoader\n",
        "\n",
        "# Importing the FastEmbedEmbeddings from LangChain Community for fast embeddings generation\n",
        "from langchain_community.embeddings.fastembed import FastEmbedEmbeddings\n",
        "\n",
        "# Importing the ChatPromptTemplate from LangChain Core for creating chat prompt templates\n",
        "from langchain_core.prompts import ChatPromptTemplate\n",
        "\n",
        "# Importing the ChatGroq class from LangChain Groq for chat functionalities with Groq\n",
        "from langchain_groq import ChatGroq\n",
        "\n",
        "# Importing the LlamaParse class from llama_parse for parsing documents\n",
        "from llama_parse import LlamaParse\n",
        "\n",
        "# Importing the getpass module for securely handling the API key prompts\n",
        "import getpass\n",
        "\n",
        "# Suppress warnings (for better experience during this session; not recommended in future)\n",
        "import warnings\n",
        "warnings.filterwarnings(\"ignore\")"
      ]
    },
    {
      "cell_type": "markdown",
      "metadata": {
        "id": "WRT2GutNugNX"
      },
      "source": [
        "The helper function below can make the output from our LLM response more readable in the coding environment."
      ]
    },
    {
      "cell_type": "code",
      "execution_count": 6,
      "metadata": {
        "colab": {
          "base_uri": "https://localhost:8080/"
        },
        "id": "0l023EH6ugNY",
        "outputId": "4eb07b6b-0aad-4b53-df9e-84cf46cec303"
      },
      "outputs": [
        {
          "output_type": "stream",
          "name": "stdout",
          "text": [
            "time: 956 µs (started: 2024-11-01 06:12:53 -04:00)\n"
          ]
        }
      ],
      "source": [
        "def print_response(response):\n",
        "    response_txt = response[\"result\"]\n",
        "    for chunk in response_txt.split(\"\\n\"):\n",
        "        if not chunk:\n",
        "            print()\n",
        "            continue\n",
        "        print(\"\\n\".join(textwrap.wrap(chunk, 100, break_long_words=False)))"
      ]
    },
    {
      "cell_type": "markdown",
      "source": [
        "## Run Llama 3 with general questions"
      ],
      "metadata": {
        "id": "KCmAdyiNRFhh"
      }
    },
    {
      "cell_type": "markdown",
      "metadata": {
        "id": "tcQNpELDugNY"
      },
      "source": [
        "Now we load the Groq API. To run a proper LLM that has comparable performance to ChatGPT, you need GPU resources on your computer or cloud server. Groq is a platform for you to run open-source LLM without worrying about GPU resources.\n",
        "\n",
        "You may get a free API key at: https://console.groq.com/login.\n",
        "\n",
        "Alternatively, you may input `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` for the purpose of this session only. It will be deactivated after this session."
      ]
    },
    {
      "cell_type": "code",
      "execution_count": 7,
      "metadata": {
        "colab": {
          "base_uri": "https://localhost:8080/"
        },
        "id": "WH_J7_kol_ay",
        "outputId": "3a2c2273-2e6e-491e-b171-ee9fadb51d0e"
      },
      "outputs": [
        {
          "output_type": "stream",
          "name": "stdout",
          "text": [
            "Enter your GROQ API KEY:··········\n",
            "time: 4.78 s (started: 2024-11-01 06:13:00 -04:00)\n"
          ]
        }
      ],
      "source": [
        "api_key = getpass.getpass('Enter your GROQ API KEY:')\n",
        "\n",
        "os.environ[\"GROQ_API_KEY\"] = api_key"
      ]
    },
    {
      "cell_type": "markdown",
      "metadata": {
        "id": "C2qs8iAG0yKQ"
      },
      "source": [
        "Now we load the LlamaCloud API, which is capable of parsing PDF documents with tables.\n",
        "\n",
        "You may get a free API key at: https://cloud.llamaindex.ai/login.\n",
        "\n",
        "Alternatively, you may input `llx-WDx6KhktOtTqbc1zEJM3VqcaHjCnyHSW3zcCDbsSknMrFk5K` for the purpose of this session only. It will be deactivated after this session."
      ]
    },
    {
      "cell_type": "code",
      "execution_count": 8,
      "metadata": {
        "colab": {
          "base_uri": "https://localhost:8080/"
        },
        "id": "WMjpfe8Eb7n8",
        "outputId": "9992a2d5-234c-4a27-bfc2-046108cd7761"
      },
      "outputs": [
        {
          "output_type": "stream",
          "name": "stdout",
          "text": [
            "Enter your LlamaCloud API KEY:··········\n",
            "time: 3.02 s (started: 2024-11-01 06:13:18 -04:00)\n"
          ]
        }
      ],
      "source": [
        "os.environ[\"LLAMA_PARSE\"] = getpass.getpass('Enter your LlamaCloud API KEY:')"
      ]
    },
    {
      "cell_type": "markdown",
      "metadata": {
        "id": "J74qiAPDugNZ"
      },
      "source": [
        "We now have loaded all the necessary packages and APIs. We can now make simple queries to Llama 3, just like how we interact with ChatGPT."
      ]
    },
    {
      "cell_type": "code",
      "source": [
        "from groq import Groq\n",
        "client = Groq(\n",
        "    api_key= os.environ[\"GROQ_API_KEY\"]\n",
        ")"
      ],
      "metadata": {
        "colab": {
          "base_uri": "https://localhost:8080/"
        },
        "id": "5c77lQm62W7W",
        "outputId": "2d404eff-2102-4f09-f6fb-6d751f5762ed"
      },
      "execution_count": 9,
      "outputs": [
        {
          "output_type": "stream",
          "name": "stdout",
          "text": [
            "time: 174 ms (started: 2024-11-01 06:27:34 -04:00)\n"
          ]
        }
      ]
    },
    {
      "cell_type": "code",
      "source": [
        "chat_completion = client.chat.completions.create(\n",
        "    messages=[\n",
        "        {\n",
        "            \"role\": \"user\",\n",
        "            \"content\": \"Plan for me a half-day trip in Newark, NJ.\",\n",
        "        }\n",
        "    ],\n",
        "    model=\"llama3-70b-8192\",\n",
        ")"
      ],
      "metadata": {
        "colab": {
          "base_uri": "https://localhost:8080/"
        },
        "id": "JxXMIGOc2W3K",
        "outputId": "d8c499b0-afd1-4c39-8738-2ef51e95d6e0"
      },
      "execution_count": 10,
      "outputs": [
        {
          "output_type": "stream",
          "name": "stdout",
          "text": [
            "time: 1.7 s (started: 2024-11-01 06:27:38 -04:00)\n"
          ]
        }
      ]
    },
    {
      "cell_type": "markdown",
      "source": [
        "This is another helper function that can make the output from our LLM response more readable in the coding environment, similar to the above one:"
      ],
      "metadata": {
        "id": "tmHtWej8RzZT"
      }
    },
    {
      "cell_type": "code",
      "source": [
        "def print_response_chat(response):\n",
        "    response_txt = response.choices[0].message.content\n",
        "    for chunk in response_txt.split(\"\\n\"):\n",
        "        if not chunk:\n",
        "            print()\n",
        "            continue\n",
        "        print(\"\\n\".join(textwrap.wrap(chunk, 100, break_long_words=False)))"
      ],
      "metadata": {
        "colab": {
          "base_uri": "https://localhost:8080/"
        },
        "id": "Ww50Q4tX2WvB",
        "outputId": "e109fc78-7ae2-43be-ba56-6efe7ebf8eb4"
      },
      "execution_count": 11,
      "outputs": [
        {
          "output_type": "stream",
          "name": "stdout",
          "text": [
            "time: 1.4 ms (started: 2024-11-01 06:44:33 -04:00)\n"
          ]
        }
      ]
    },
    {
      "cell_type": "markdown",
      "source": [
        "Here we print out the result, using the helper function:"
      ],
      "metadata": {
        "id": "mLn7ZGY8R91a"
      }
    },
    {
      "cell_type": "code",
      "source": [
        "print_response_chat(chat_completion)"
      ],
      "metadata": {
        "colab": {
          "base_uri": "https://localhost:8080/"
        },
        "id": "3WDMT1hp2Wrv",
        "outputId": "6330df57-0ee4-4b69-9301-819836ff00ca"
      },
      "execution_count": 12,
      "outputs": [
        {
          "output_type": "stream",
          "name": "stdout",
          "text": [
            "Newark, NJ! While often overshadowed by its neighboring city, New York, Newark has a rich history,\n",
            "cultural attractions, and a vibrant community worth exploring. Here's a half-day itinerary to help\n",
            "you discover the best of Newark:\n",
            "\n",
            "**Stop 1: Newark Museum (9:30 am - 10:30 am)**\n",
            "Begin your day at the Newark Museum, the state's largest and most comprehensive museum. With a\n",
            "collection of over 80,000 objects, you'll find art, science, and local history exhibits. Be sure to\n",
            "check out the Tibetan Art Gallery, featuring a stunning collection of Tibetan art and artifacts.\n",
            "\n",
            "**Stop 2: Washington Park and the Newark Public Library (11:00 am - 12:00 pm)**\n",
            "Take a short walk to Washington Park, a beautiful green space in the heart of the city. Admire the\n",
            "park's historic monuments and take a stroll around the scenic walking paths. Right across the park\n",
            "is the Newark Public Library, a stunning Beaux-Arts building with a beautiful reading room.\n",
            "\n",
            "**Stop 3: Lunch at Ferry Street (12:00 pm - 1:00 pm)**\n",
            "Head to Ferry Street, a lively commercial district with a variety of restaurants serving\n",
            "international cuisine. Try some Latin American flavors at El Gordo's Restaurant or grab a slice at\n",
            "Ferry Street Pizza. Don't forget to explore the vibrant street art and murals in the area.\n",
            "\n",
            "**Stop 4: The Prudential Center and Downtown Newark (1:00 pm - 2:30 pm)**\n",
            "After lunch, walk off your meal by exploring downtown Newark. Visit the Prudential Center, a state-\n",
            "of-the-art arena and event space. Take a stroll around the adjacent Mulberry Commons, a recently\n",
            "revamped public park with great city views. End your half-day trip by walking along Broad Street,\n",
            "the main thoroughfare of downtown Newark, to get a feel for the city's energy and architecture.\n",
            "\n",
            "**Optional Stop: Cathedral Basilica of the Sacred Heart (2:30 pm - 3:30 pm)**\n",
            "If you have some extra time, consider a visit to the Cathedral Basilica of the Sacred Heart, a\n",
            "magnificent French Gothic cathedral that took over 50 years to complete. The stunning stained-glass\n",
            "windows, intricate stone carvings, and Romanesque architecture make it a must-see.\n",
            "\n",
            "This half-day itinerary provides a great taste of Newark's history, culture, and community.\n",
            "Depending on your interests, you can adjust the schedule to fit your preferences. Enjoy your trip to\n",
            "Newark!\n",
            "time: 9.48 ms (started: 2024-11-01 06:44:39 -04:00)\n"
          ]
        }
      ]
    },
    {
      "cell_type": "markdown",
      "source": [
        "We can now put them together can create a \"Chat Llama 3\" in your browser!"
      ],
      "metadata": {
        "id": "KofzlneoSDb5"
      }
    },
    {
      "cell_type": "code",
      "source": [
        "from groq import Groq\n",
        "client = Groq(\n",
        "    api_key= os.environ[\"GROQ_API_KEY\"]\n",
        ")\n",
        "\n",
        "chat_completion = client.chat.completions.create(\n",
        "    messages=[\n",
        "        {\n",
        "            \"role\": \"user\",\n",
        "            \"content\": input(\"Enter your question: \"),\n",
        "        }\n",
        "    ],\n",
        "    model=\"llama3-70b-8192\",\n",
        ")\n",
        "\n",
        "def print_response_chat(response):\n",
        "    response_txt = response.choices[0].message.content\n",
        "    for chunk in response_txt.split(\"\\n\"):\n",
        "        if not chunk:\n",
        "            print()\n",
        "            continue\n",
        "        print(\"\\n\".join(textwrap.wrap(chunk, 100, break_long_words=False)))\n",
        "\n",
        "print_response_chat(chat_completion)"
      ],
      "metadata": {
        "colab": {
          "base_uri": "https://localhost:8080/"
        },
        "id": "JH5C1BDoSTXx",
        "outputId": "08d6faf4-b876-4cc2-de0c-53b0044e7cd8"
      },
      "execution_count": 32,
      "outputs": [
        {
          "output_type": "stream",
          "name": "stdout",
          "text": [
            "Enter your question: What are some latest regulation by PCAOB?\n",
            "The Public Company Accounting Oversight Board (PCAOB) is a non-profit corporation that oversees the\n",
            "audits of publicly traded companies and other issuers, as well as the auditors who perform those\n",
            "audits. The PCAOB regularly issues new rules, guidance, and amendments to existing rules to improve\n",
            "audit quality, enhance auditor independence, and protect investors. Here are some of the latest\n",
            "regulations and guidance issued by the PCAOB:\n",
            "\n",
            "1. **Critical Audit Matters (CAMs)**: In 2017, the PCAOB adopted a standard requiring auditors to\n",
            "include Critical Audit Matters (CAMs) in their audit reports. CAMs are matters that have been\n",
            "communicated to the audit committee and are related to material accounts or disclosures. The goal is\n",
            "to provide more transparency and insights into the audit process.\n",
            "2. **Audit Firm Holding Companies**: In 2020, the PCAOB issued a rule requiring audit firm holding\n",
            "companies to register with the PCAOB and comply with certain standards, including independence\n",
            "requirements and quality control standards.\n",
            "3. **Quality Control Standards**: In 2020, the PCAOB issued a revised quality control standard (QC\n",
            "Section 10) to improve the quality of audits. The standard focuses on risk assessment, control\n",
            "activities, and monitoring and remediation.\n",
            "4. **Audit Committee Communications**: In 2020, the PCAOB issued a standard requiring auditors to\n",
            "communicate more information to audit committees, including information about critical audit\n",
            "matters, Independence, and certain audit procedures.\n",
            "5. **Audit Evidence Standard**: In 2020, the PCAOB issued a revised audit evidence standard (AS\n",
            "1105) to improve the quality of audit evidence. The standard emphasizes the importance of\n",
            "sufficient, appropriate, and persuasive evidence.\n",
            "6. **Accounting Estimates and Fair Value Measurements**: In 2020, the PCAOB issued a standard (AS\n",
            "2501) providing guidance on auditing accounting estimates and fair value measurements.\n",
            "7. **Supervision of Audits Involving Other Auditors**: In 2020, the PCAOB issued a standard (AS\n",
            "1205) providing guidance on supervising audits involving other auditors, including the use of\n",
            "affiliated audit firms.\n",
            "8. **Disclosure of Engagement Partner and Certain Other Participants**: In 2020, the PCAOB issued a\n",
            "rule requiring auditors to disclose the name of the engagement partner and certain other\n",
            "participants in the audit.\n",
            "9. **Auditor Independence**: In 2020, the PCAOB issued guidance on auditor independence, including\n",
            "guidance on non-audit services, employment relationships, and business relationships.\n",
            "10. **Attestation Standards for Broker-Dealers**: In 2020, the PCAOB issued revised attestation\n",
            "standards for broker-dealers, including standards for examinations of compliance and internal\n",
            "control.\n",
            "\n",
            "These are just a few examples of the latest regulations and guidance issued by the PCAOB. The PCAOB\n",
            "continues to issue new guidance and standards to improve audit quality, enhance auditor\n",
            "independence, and protect investors.\n",
            "time: 28.4 s (started: 2024-10-31 10:43:58 -04:00)\n"
          ]
        }
      ]
    },
    {
      "cell_type": "markdown",
      "source": [
        "To move on, we will need a PDF document for the LLM to query from, so that the chance of hallucination is minimized. Below is an overview of the RAG framework adopted in this demonstration:"
      ],
      "metadata": {
        "id": "k9NNbPuwTexj"
      }
    },
    {
      "cell_type": "markdown",
      "metadata": {
        "id": "DrANyyFAugNZ"
      },
      "source": [
        "In this demonstration I will use the Meta 2024 Q1 results as an example. I have preloaded the chosen PDF file in my Google Drive and you may use the code below to load it into a temporary folder on your Google Drive."
      ]
    },
    {
      "cell_type": "markdown",
      "source": [
        "![overview](https://drive.google.com/uc?export=view&id=1LuaFBASrwC6oPlelemAnqa5YbiH4kghq)"
      ],
      "metadata": {
        "id": "8-1IGC09clGr"
      }
    },
    {
      "cell_type": "markdown",
      "metadata": {
        "id": "1_pUImOBLIdG"
      },
      "source": [
        "# RAG with PCAOB Audit Standards"
      ]
    },
    {
      "cell_type": "markdown",
      "source": [
        "Here, we present an example of how this advanced RAG methodology can be applied in an audit setting."
      ],
      "metadata": {
        "id": "ccC5beTEblWK"
      }
    },
    {
      "cell_type": "code",
      "execution_count": 37,
      "metadata": {
        "colab": {
          "base_uri": "https://localhost:8080/"
        },
        "id": "xizdbjkWLPj2",
        "outputId": "5d343485-f4be-40cb-d219-144106dc55b7"
      },
      "outputs": [
        {
          "output_type": "stream",
          "name": "stdout",
          "text": [
            "mkdir: cannot create directory ‘data’: File exists\n",
            "Downloading...\n",
            "From: https://drive.google.com/uc?id=1-Ex0IQMYtyGPyl-tU6-GOtrcqqoFbZU8\n",
            "To: /content/data/audit standards.pdf\n",
            "100% 5.70M/5.70M [00:00<00:00, 88.1MB/s]\n",
            "time: 7.95 s (started: 2024-10-30 10:54:39 -04:00)\n"
          ]
        }
      ],
      "source": [
        "# Download auditing standards to a Google Drive folder \"data\" (folder automatically created)\n",
        "!mkdir data\n",
        "!gdown 1-Ex0IQMYtyGPyl-tU6-GOtrcqqoFbZU8 -O \"data/auditing_standards.pdf\""
      ]
    },
    {
      "cell_type": "markdown",
      "source": [
        "You may also upload your own document for querying. Upload it to a Google Drive folder and then load it in Colab using the below codes (select all, then uncomment using \"`Ctrl` + `/`\" for Windows users OR \"`Command` + `/`\" for Mac users):"
      ],
      "metadata": {
        "id": "sOfzGJne2Fec"
      }
    },
    {
      "cell_type": "code",
      "source": [
        "# # Create a folder in your Google Drive called \"documents_wcars\"\n",
        "# # and you want to load the file named 'auditing_standards.pdf' from the conference folder\n",
        "\n",
        "# from google.colab import drive\n",
        "# drive.mount('/content/drive')\n",
        "\n",
        "# # Specify the path to your document in Google Drive\n",
        "# upload_path = '/content/drive/My Drive/documents_wcars/auditing_standards.pdf'\n",
        "\n",
        "# # ... rest of your code to process the documents ..."
      ],
      "metadata": {
        "colab": {
          "base_uri": "https://localhost:8080/"
        },
        "id": "bY_Q4uSY2FE3",
        "outputId": "dcff3fc1-da23-4d53-e8bc-bc8b47bfdae4"
      },
      "execution_count": 13,
      "outputs": [
        {
          "output_type": "stream",
          "name": "stdout",
          "text": [
            "Drive already mounted at /content/drive; to attempt to forcibly remount, call drive.mount(\"/content/drive\", force_remount=True).\n",
            "time: 1.62 s (started: 2024-11-01 07:10:33 -04:00)\n"
          ]
        }
      ]
    },
    {
      "cell_type": "markdown",
      "metadata": {
        "id": "W8bwa8_tLN8H"
      },
      "source": [
        "## Document Parsing"
      ]
    },
    {
      "cell_type": "markdown",
      "source": [
        "Document parsing is the process of recognizing/examining data in a document and extracting useful information from it. For instance, data from PDF and Word documents can be extracted using document parser APIs and stored in a JSON file. (source: https://www.edenai.co/post/best-document-parsing-apis)\n",
        "\n",
        "Parsing documents efficiently is a crucial skill, especially when dealing with detailed financial reports or any other data-rich documents. By following this code snippet, you will learn how to extract and preprocess information from a PDF document using LlamaParse, an API service provided by LlamaCloud.\n",
        "\n",
        "Instruction Definition: An instruction is defined to guide the parsing process. The instruction specifies that the document contains detailed financial information and numerous tables, emphasizing precision in answering questions."
      ],
      "metadata": {
        "id": "BQ1cgZ3C6-GZ"
      }
    },
    {
      "cell_type": "code",
      "source": [
        "instruction = \"\"\"The provided document is PCAOB's audit standards.\n",
        "This document provides detailed  information about how an audit should be conducted.\n",
        "Try to be precise while answering the questions.\"\"\""
      ],
      "metadata": {
        "id": "akFX5rVH7POo"
      },
      "execution_count": null,
      "outputs": []
    },
    {
      "cell_type": "markdown",
      "metadata": {
        "id": "gEradUJE7MM2"
      },
      "source": [
        "**Parser Initialization**: The `LlamaParse` class is initialized with an API key, result type (markdown), parsing instructions, and a maximum timeout setting."
      ]
    },
    {
      "cell_type": "code",
      "source": [
        "parser = LlamaParse(\n",
        "    api_key=os.environ[\"LLAMA_PARSE\"],#userdata.get(\"LLAMA_PARSE\"),\n",
        "    result_type=\"markdown\",\n",
        "    parsing_instruction=instruction,\n",
        "    max_timeout=5000,\n",
        ")"
      ],
      "metadata": {
        "id": "lPhe0__i7ggl"
      },
      "execution_count": null,
      "outputs": []
    },
    {
      "cell_type": "markdown",
      "metadata": {
        "id": "-p0wiNeW7eC2"
      },
      "source": [
        "**Asynchronous Data Loading**: The auditing standards document is parsed asynchronously. This allows for efficient handling of large documents without blocking the execution of other tasks. The first parsed document is accessed and stored in the `parsed_doc` variable."
      ]
    },
    {
      "cell_type": "code",
      "execution_count": 15,
      "metadata": {
        "colab": {
          "base_uri": "https://localhost:8080/"
        },
        "id": "WFjuLjPiLNkG",
        "outputId": "1937cf4b-17bb-47f7-866f-0d7b48ff9665"
      },
      "outputs": [
        {
          "output_type": "stream",
          "name": "stdout",
          "text": [
            "Started parsing the file under job_id f3a91674-e0e9-4bba-9b5e-47d34a37d996\n",
            "time: 1min 3s (started: 2024-11-01 07:12:18 -04:00)\n"
          ]
        }
      ],
      "source": [
        "llama_parse_documents = await parser.aload_data(\"./data/auditing_standards.pdf\")\n",
        "\n",
        "# if you uploaded your own document, comment out the above line and run the below command:\n",
        "\n",
        "# llama_parse_documents = await parser.aload_data(upload_path)\n",
        "\n",
        "parsed_doc = llama_parse_documents[0]"
      ]
    },
    {
      "cell_type": "markdown",
      "metadata": {
        "id": "E9gkMVyd8Mi7"
      },
      "source": [
        "Here we save the first parsed document in our Google Drive folder:"
      ]
    },
    {
      "cell_type": "code",
      "source": [
        "document_path = Path(\"data/parsed_document_audit.md\") # this path leads to a temporary folder in your Google Drive\n",
        "\n",
        "# again, if you are uploading your own document and would like to retrieve the output later, comment out the above line and run the below command:\n",
        "# document_path = Path(\"/content/drive/My Drive/documents_wcars/parsed_document_audit.md\")\n",
        "\n",
        "with document_path.open(\"a\") as f:\n",
        "    f.write(parsed_doc.text)"
      ],
      "metadata": {
        "colab": {
          "base_uri": "https://localhost:8080/"
        },
        "id": "7s7uMuH3xrf7",
        "outputId": "86fdb1db-221f-4b14-dc1b-34ff4e3a6091"
      },
      "execution_count": 21,
      "outputs": [
        {
          "output_type": "stream",
          "name": "stdout",
          "text": [
            "time: 25.5 ms (started: 2024-11-01 07:21:00 -04:00)\n"
          ]
        }
      ]
    },
    {
      "cell_type": "markdown",
      "metadata": {
        "id": "40IyDAVjRdms"
      },
      "source": [
        "## Text Splitters and Vector Embeddings"
      ]
    },
    {
      "cell_type": "markdown",
      "metadata": {
        "id": "R69BTKBv82Ou"
      },
      "source": [
        "In this part of the script, we use the `UnstructuredMarkdownLoader` class to load and parse a markdown document. By initializing the loader with the path to the document (`document_path`), we can then call the `load()` method to read and process the contents of the markdown file into a structured format. This enables further analysis and manipulation of the document's data within our application. The `loaded_documents` variable will contain the parsed content, ready for subsequent steps in our workflow."
      ]
    },
    {
      "cell_type": "code",
      "execution_count": 22,
      "metadata": {
        "colab": {
          "base_uri": "https://localhost:8080/"
        },
        "id": "SQI7oZ-nRgbz",
        "outputId": "9812c0ec-a7cf-4566-880c-a920c62c0942"
      },
      "outputs": [
        {
          "output_type": "stream",
          "name": "stderr",
          "text": [
            "[nltk_data] Downloading package averaged_perceptron_tagger to\n",
            "[nltk_data]     /root/nltk_data...\n",
            "[nltk_data]   Unzipping taggers/averaged_perceptron_tagger.zip.\n"
          ]
        },
        {
          "output_type": "stream",
          "name": "stdout",
          "text": [
            "time: 15.8 s (started: 2024-11-01 07:22:36 -04:00)\n"
          ]
        }
      ],
      "source": [
        "loader = UnstructuredMarkdownLoader(document_path)\n",
        "loaded_documents = loader.load()"
      ]
    },
    {
      "cell_type": "markdown",
      "metadata": {
        "id": "b_Cy29Gn-lJ0"
      },
      "source": [
        "The parsed document is too lengthy to be efficiently queried using an LLM, so we need to break it into smaller, manageable chunks. The key is that the LLM will utilize the chunk containing the most relevant information, determined by the similarity between the user's question and each chunk.\n",
        "\n",
        "To achieve this, we use LangChain's `RecursiveCharacterTextSplitter` to split the text into smaller segments:"
      ]
    },
    {
      "cell_type": "code",
      "execution_count": 23,
      "metadata": {
        "colab": {
          "base_uri": "https://localhost:8080/"
        },
        "id": "jgTXbB7HRoA1",
        "outputId": "112deecf-5f87-47d8-9bca-5c9e71f85085"
      },
      "outputs": [
        {
          "output_type": "execute_result",
          "data": {
            "text/plain": [
              "297"
            ]
          },
          "metadata": {},
          "execution_count": 23
        },
        {
          "output_type": "stream",
          "name": "stdout",
          "text": [
            "time: 41.6 ms (started: 2024-11-01 07:22:51 -04:00)\n"
          ]
        }
      ],
      "source": [
        "# Note: free Groq queries have limit of 6000 tokens per minute of context input\n",
        "text_splitter = RecursiveCharacterTextSplitter(chunk_size=6000, chunk_overlap=128)# previous parameter setting: (chunk_size=2048, chunk_overlap=128)\n",
        "docs = text_splitter.split_documents(loaded_documents)\n",
        "len(docs)"
      ]
    },
    {
      "cell_type": "markdown",
      "metadata": {
        "id": "apV_lXLi_cL9"
      },
      "source": [
        "To better capture the meaning of each we will use vector embeddings to compare against the user's question and determine the similarity and relevance of the information.\n",
        "\n",
        "We first use `FastEmbedEmbeddings` and specify the model as `BAAI/bge-base-en-v1.5`:"
      ]
    },
    {
      "cell_type": "code",
      "execution_count": 25,
      "metadata": {
        "colab": {
          "base_uri": "https://localhost:8080/",
          "height": 226,
          "referenced_widgets": [
            "1f51ee0d4549452f97992adce48291f9",
            "b8ec1dbbf9124df7b6f548e01d5e8aa8",
            "23259d86a9ca4741a729e14b3fedfbb0",
            "13355e8062ef4f92aab057d9bb34e701",
            "86f7111a3f834e19b13db4a8730b958f",
            "d5ad105cdac345539af6b2728b2067f1",
            "27c5b1e380eb428e84ced6d93c13aa38",
            "2935ef0ab8b94c39987c713199733281",
            "c55528ef311e406fb5ccd49be1465319",
            "58f70e17bd9d43e3876d7f41a45b15d1",
            "e8f2e4ac535b4faaa476d54325a8c824",
            "2a6e3b6ff8e04902a27ad27ce2a5bac8",
            "37c62f7d53a048fdb854b000242f6686",
            "f5fab56db26a4bb2a02ca0fde35f17c1",
            "2554c6fd2f7a4c29b34d76f7dd5a3647",
            "8628cb406a3141bf865eea6cfadfa527",
            "486f119d32484220ac93d98827294a3b",
            "06cad12b6951417386e46412fc124612",
            "44e5b72aff284ad4be17855b3c4e3a3c",
            "8ee78aaf648749e38b35f879be8662e1",
            "d80aa63405704c9ea6cc0b03060e877c",
            "e526e5cbc8a24c338251f70ac6562d4b",
            "052784372bab42b0aa507b15ca0970c5",
            "9ed5a4da0b7f406ea6bb43607d777c4a",
            "f45e2f00f7db440fab3ba124c77dd821",
            "4bee9df16f984064aeced9aa3b40597c",
            "4cdd1595857e4b84aae2b6bc34a0f998",
            "2e4790441ad84427ba34b150b74dda9c",
            "e209745afcef4d2aa1775d9ed510bb88",
            "205ccf073b284e50b98a1460ffc56e00",
            "4621f6c2459a4cffa1f8b88f81a66eb8",
            "fe03c75290e44cff8d8fe4d1af9470ff",
            "976d026d9771465b842af851e753aa27",
            "916206e1d4604b4cb9ebb0adac608f58",
            "1dcb841dade7485b9e872c3fbaf38544",
            "e78b4de3e01c43adac16339bcad94e94",
            "bc09621e47e04ee9b6b9b4124018358a",
            "22a186ca6bd64da2bd34fdf236f9ef2e",
            "656e12174e35416faefce7ff1c58da36",
            "1780bda598924599bdb4597071e2bfa8",
            "2246225a5ec64021bd31e7ccea0b1a61",
            "6e6c0d9831114652a5fe07500302b9e9",
            "8f75b2bda7314a1394494b3a4019660c",
            "fb4bc893e4ed485c83e322aef0c1e0ea",
            "2abc66eabbb94822a01e9921638e4f55",
            "9c48b7ed660748a087b1365178892a21",
            "9c3adc8c7119467eb1da3c55dc09013f",
            "779addc4c60b405ab93ece6ef9663ab4",
            "03818b488c6c42bdb3aa98f758228636",
            "b585523bd4884aee94adfc1133506e5b",
            "995ab6e711e544278a73f45a31f2302a",
            "3ea012e773a3406f98b73e38c6ebf18f",
            "3e92ef32ce7d4297a73e056f17f65498",
            "7226ad809bfa41599dca21be6ee23a72",
            "12eb1c7ef76947beb19e75c13d9104be",
            "595f6a3425764cb88d759a3a70198be9",
            "e21e0e43beda44429079bb736e9f58ba",
            "cff917c8df994308b3142dce11399ac0",
            "3386d1cddbb54c2685af9375dc58c7de",
            "49bd2cfe529c48cb8797deabfab07964",
            "463f2aec21274eaca05a2f8940b6d068",
            "1ba403f38feb45cabc3b93a6462e4b05",
            "9003ba5fdf56412f88e5ad32cf43be2e",
            "a9cae21c822a4dbeba184d394f57ccc0",
            "64724741c6ab4b98936ae47b08758e0c",
            "9779e30af7ab45cbac4473bc7ebfb2e4"
          ]
        },
        "id": "_j3b6v3FdF6w",
        "outputId": "791bd64f-cd60-401a-e830-30736b2ab9f8"
      },
      "outputs": [
        {
          "output_type": "display_data",
          "data": {
            "text/plain": [
              "Fetching 5 files:   0%|          | 0/5 [00:00<?, ?it/s]"
            ],
            "application/vnd.jupyter.widget-view+json": {
              "version_major": 2,
              "version_minor": 0,
              "model_id": "1f51ee0d4549452f97992adce48291f9"
            }
          },
          "metadata": {}
        },
        {
          "output_type": "display_data",
          "data": {
            "text/plain": [
              "tokenizer_config.json:   0%|          | 0.00/1.24k [00:00<?, ?B/s]"
            ],
            "application/vnd.jupyter.widget-view+json": {
              "version_major": 2,
              "version_minor": 0,
              "model_id": "2a6e3b6ff8e04902a27ad27ce2a5bac8"
            }
          },
          "metadata": {}
        },
        {
          "output_type": "display_data",
          "data": {
            "text/plain": [
              "special_tokens_map.json:   0%|          | 0.00/695 [00:00<?, ?B/s]"
            ],
            "application/vnd.jupyter.widget-view+json": {
              "version_major": 2,
              "version_minor": 0,
              "model_id": "052784372bab42b0aa507b15ca0970c5"
            }
          },
          "metadata": {}
        },
        {
          "output_type": "display_data",
          "data": {
            "text/plain": [
              "config.json:   0%|          | 0.00/706 [00:00<?, ?B/s]"
            ],
            "application/vnd.jupyter.widget-view+json": {
              "version_major": 2,
              "version_minor": 0,
              "model_id": "916206e1d4604b4cb9ebb0adac608f58"
            }
          },
          "metadata": {}
        },
        {
          "output_type": "display_data",
          "data": {
            "text/plain": [
              "tokenizer.json:   0%|          | 0.00/711k [00:00<?, ?B/s]"
            ],
            "application/vnd.jupyter.widget-view+json": {
              "version_major": 2,
              "version_minor": 0,
              "model_id": "2abc66eabbb94822a01e9921638e4f55"
            }
          },
          "metadata": {}
        },
        {
          "output_type": "display_data",
          "data": {
            "text/plain": [
              "model_optimized.onnx:   0%|          | 0.00/66.5M [00:00<?, ?B/s]"
            ],
            "application/vnd.jupyter.widget-view+json": {
              "version_major": 2,
              "version_minor": 0,
              "model_id": "595f6a3425764cb88d759a3a70198be9"
            }
          },
          "metadata": {}
        },
        {
          "output_type": "stream",
          "name": "stdout",
          "text": [
            "time: 8.44 s (started: 2024-11-01 07:23:22 -04:00)\n"
          ]
        }
      ],
      "source": [
        "embeddings = FastEmbedEmbeddings(model_name=\"BAAI/bge-small-en-v1.5\")"
      ]
    },
    {
      "cell_type": "markdown",
      "metadata": {
        "id": "tfgIFRpPAN8b"
      },
      "source": [
        "You might ask why the Meta Llama 3 is not used for generating embeddings. Llama 3 is primarily designed as a large language model (LLM) for generating text, understanding context, and performing natural language processing tasks. While it can generate embeddings, using specialized models for embeddings often offers several advantages:\n",
        "\n",
        "* Efficiency: Models like `BAAI/bge-base-en-v1.5` are specifically optimized for generating embeddings quickly and efficiently, making them more suitable for tasks requiring large-scale embedding generation.\n",
        "\n",
        "* Specialization: Embedding models are trained to create dense vector representations that capture semantic meaning in a way that's optimized for similarity searches and clustering. They excel in tasks where understanding the relationship between different pieces of text is crucial.\n",
        "\n",
        "* Performance: Dedicated embedding models often have better performance metrics (e.g., accuracy, precision, recall) for embedding tasks compared to general-purpose language models.\n",
        "\n",
        "* Resource Management: Using a specialized embedding model can be more resource-efficient, reducing computational overhead and memory usage compared to using a large language model like Llama3 for the same purpose.\n",
        "\n",
        "Thus, in this script, the `FastEmbedEmbeddings` class with the `BAAI/bge-base-en-v1.5 model` is used to generate embeddings, ensuring efficiency and high performance for the embedding tasks required in the workflow."
      ]
    },
    {
      "cell_type": "markdown",
      "metadata": {
        "id": "aa1M1S1AAVWZ"
      },
      "source": [
        "Qdrant is an open-source vector search engine and database. It specializes in managing and querying vector embeddings efficiently. We create a temp folder `./db5` to store the vector database for the chunks:"
      ]
    },
    {
      "cell_type": "markdown",
      "source": [
        "Running the below codes takes 3-4 minutes."
      ],
      "metadata": {
        "id": "Vk1jP38F-cah"
      }
    },
    {
      "cell_type": "code",
      "execution_count": 26,
      "metadata": {
        "colab": {
          "base_uri": "https://localhost:8080/"
        },
        "id": "0QMyO5YBdO7g",
        "outputId": "2bb56720-56dd-491f-9a68-4c6de18d35fb",
        "collapsed": true
      },
      "outputs": [
        {
          "output_type": "stream",
          "name": "stdout",
          "text": [
            "time: 3min 48s (started: 2024-11-01 07:23:32 -04:00)\n"
          ]
        }
      ],
      "source": [
        "qdrant = Qdrant.from_documents(\n",
        "    docs,\n",
        "    embeddings,\n",
        "    # location=\":memory:\",\n",
        "    path=\"./db5\",\n",
        "    collection_name=\"document_embeddings\",\n",
        ")"
      ]
    },
    {
      "cell_type": "markdown",
      "metadata": {
        "id": "1a0HkeCuAtZ6"
      },
      "source": [
        "By creating a vector store with Qdrant, we can efficiently store and query embeddings, enabling tasks such as similarity search and clustering based on the semantic content of the documents. This setup optimizes performance and scalability for handling large volumes of text data effectively."
      ]
    },
    {
      "cell_type": "markdown",
      "metadata": {
        "id": "fxzKfuBbAtZ7"
      },
      "source": [
        "In this code section, we load our query together with a \"retriever\" so that we can perform a similarity search using the `qdrant` vector store. It searches for documents similar to the query \"What does the standard say about using specialists in an audit?\" and prints the top results along with their similarity scores. For a demo of the process please refer to the second use case (Meta Earnings)."
      ]
    },
    {
      "cell_type": "code",
      "execution_count": 27,
      "metadata": {
        "colab": {
          "base_uri": "https://localhost:8080/"
        },
        "id": "U5ITp18peKxe",
        "outputId": "0146542f-4461-4dd0-a3cd-29885400f4de"
      },
      "outputs": [
        {
          "output_type": "stream",
          "name": "stdout",
          "text": [
            "time: 477 µs (started: 2024-11-01 07:27:20 -04:00)\n"
          ]
        }
      ],
      "source": [
        "query = \"What does the standard say about using specialists in an audit?\""
      ]
    },
    {
      "cell_type": "code",
      "execution_count": 28,
      "metadata": {
        "colab": {
          "base_uri": "https://localhost:8080/"
        },
        "id": "1NlIJheCeq6o",
        "outputId": "4d18e460-c3a5-4de4-8232-365022da4328"
      },
      "outputs": [
        {
          "output_type": "stream",
          "name": "stdout",
          "text": [
            "time: 692 µs (started: 2024-11-01 07:27:20 -04:00)\n"
          ]
        }
      ],
      "source": [
        "retriever = qdrant.as_retriever(search_kwargs={\"k\": 5})"
      ]
    },
    {
      "cell_type": "markdown",
      "metadata": {
        "id": "Ubof6Aw2fxom"
      },
      "source": [
        "## Reranking"
      ]
    },
    {
      "cell_type": "markdown",
      "metadata": {
        "id": "4aDqVi6MCL4O"
      },
      "source": [
        "FlashrankRerank specializes in *compressing* large documents into more manageable sizes while preserving essential information. This compression reduces the computational resources needed for processing and improves the efficiency of document retrieval tasks.\n",
        "\n",
        "In the below section, a `FlashrankRerank` compressor is initialized with a specific model (`ms-marco-MiniLM-L-12-v2`). This compressor is then used to create a `ContextualCompressionRetriever` (`compression_retriever`), which integrates both the retrieval and compression capabilities for further processing of document data."
      ]
    },
    {
      "cell_type": "code",
      "execution_count": 29,
      "metadata": {
        "colab": {
          "base_uri": "https://localhost:8080/"
        },
        "id": "SwSLnOIGfzWV",
        "outputId": "50a06dff-1dca-413e-bd64-89227f1330aa"
      },
      "outputs": [
        {
          "output_type": "stream",
          "name": "stdout",
          "text": [
            "Downloading ms-marco-MiniLM-L-12-v2...\n"
          ]
        },
        {
          "output_type": "stream",
          "name": "stderr",
          "text": [
            "ms-marco-MiniLM-L-12-v2.zip: 100%|██████████| 21.6M/21.6M [00:02<00:00, 10.5MiB/s]\n"
          ]
        },
        {
          "output_type": "stream",
          "name": "stdout",
          "text": [
            "time: 3.19 s (started: 2024-11-01 07:27:21 -04:00)\n"
          ]
        }
      ],
      "source": [
        "compressor = FlashrankRerank(model=\"ms-marco-MiniLM-L-12-v2\")\n",
        "compression_retriever = ContextualCompressionRetriever(\n",
        "    base_compressor=compressor, base_retriever=retriever\n",
        ")"
      ]
    },
    {
      "cell_type": "markdown",
      "source": [
        "You may refer to the second use case (Meta earnings) to see how the reranking process is executed in more detail."
      ],
      "metadata": {
        "id": "u5M949h4CO1n"
      }
    },
    {
      "cell_type": "markdown",
      "metadata": {
        "id": "17mbl1lXfW6u"
      },
      "source": [
        "## Q&A Over Document"
      ]
    },
    {
      "cell_type": "markdown",
      "source": [
        "In this script segment, we employ the Llama 3 model to perform question-answering (Q&A) over the earnings document. Groq's `ChatGroq` is used to host the LLM on the cloud while being compatible with the `LangChain` library."
      ],
      "metadata": {
        "id": "3tqCJNXNCf8M"
      }
    },
    {
      "cell_type": "code",
      "execution_count": 30,
      "metadata": {
        "colab": {
          "base_uri": "https://localhost:8080/"
        },
        "id": "tFGByQa9fXf9",
        "outputId": "47338acb-cc47-4232-e29e-33480124fb36"
      },
      "outputs": [
        {
          "output_type": "stream",
          "name": "stdout",
          "text": [
            "time: 133 ms (started: 2024-11-01 07:27:24 -04:00)\n"
          ]
        }
      ],
      "source": [
        "# Initialize the ChatGroq model\n",
        "llm = ChatGroq(temperature=0, model_name=\"llama3-70b-8192\")"
      ]
    },
    {
      "cell_type": "markdown",
      "source": [
        "Prompt engineering is used here to make sure the response is what we expect from the model. For example, by saying \"don't try to make up an answer\", the model can reduce hallucination."
      ],
      "metadata": {
        "id": "AJ0eMrMZCnpU"
      }
    },
    {
      "cell_type": "code",
      "execution_count": 31,
      "metadata": {
        "colab": {
          "base_uri": "https://localhost:8080/"
        },
        "id": "PTejsOZ1fdT1",
        "outputId": "eec675be-e15e-4247-d755-2ba64cad8c59"
      },
      "outputs": [
        {
          "output_type": "stream",
          "name": "stdout",
          "text": [
            "time: 1.29 ms (started: 2024-11-01 07:27:24 -04:00)\n"
          ]
        }
      ],
      "source": [
        "# Define the prompt template for generating responses\n",
        "prompt_template = \"\"\"\n",
        "Use the following pieces of information to answer the user's question.\n",
        "If you don't know the answer, just say that you don't know, don't try to make up an answer.\n",
        "\n",
        "Context: {context}\n",
        "Question: {question}\n",
        "\n",
        "Answer the question and provide additional helpful information,\n",
        "based on the pieces of information, if applicable. Be succinct.\n",
        "\n",
        "Responses should be properly formatted to be easily read.\n",
        "\"\"\"\n",
        "\n",
        "# Initialize the PromptTemplate with input variables so that both context and question will be considered by the model.\n",
        "prompt = PromptTemplate(\n",
        "    template=prompt_template, input_variables=[\"context\", \"question\"]\n",
        ")"
      ]
    },
    {
      "cell_type": "markdown",
      "source": [
        "Using `RetrievalQA`, we establish a question-answering pipeline (`qa`) that integrates the Llama 3 model (`llm`), a specified chain type (`stuff`), and the compression retriever from the previous step (`compression_retriever`). This setup enables the retrieval and processing of documents to generate accurate responses aligned with user queries.\n",
        "\n",
        "The `verbose` parameter in the `chain_type_kwargs` refers to a setting that controls the level of detail or verbosity of the output during the question-answering process. Specifically, when `verbose=True` is set, it typically enables the system to provide additional information or logs that help in understanding the internal workings of the retrieval and processing pipeline."
      ],
      "metadata": {
        "id": "tz1Fq4lsC1P1"
      }
    },
    {
      "cell_type": "code",
      "execution_count": 32,
      "metadata": {
        "colab": {
          "base_uri": "https://localhost:8080/"
        },
        "id": "pJKT_ImOfmZc",
        "outputId": "4cbe2261-a7b0-4c32-88c5-587fb87345ab"
      },
      "outputs": [
        {
          "output_type": "stream",
          "name": "stdout",
          "text": [
            "time: 2.07 ms (started: 2024-11-01 07:27:24 -04:00)\n"
          ]
        }
      ],
      "source": [
        "qa = RetrievalQA.from_chain_type(\n",
        "    llm=llm,\n",
        "    chain_type=\"stuff\",\n",
        "    retriever=compression_retriever,\n",
        "    return_source_documents=True,\n",
        "    chain_type_kwargs={\"prompt\": prompt, \"verbose\": True},\n",
        ")"
      ]
    },
    {
      "cell_type": "code",
      "source": [
        "# Perform Q&A with a specific query\n",
        "%%time\n",
        "response = qa.invoke(\"What does the standard say about using specialists in an audit?\")"
      ],
      "metadata": {
        "colab": {
          "base_uri": "https://localhost:8080/"
        },
        "id": "gWdOEsrQ85hX",
        "outputId": "0ee4fbe9-e16d-4c58-ce47-10fb7b8436cc"
      },
      "execution_count": 33,
      "outputs": [
        {
          "output_type": "stream",
          "name": "stdout",
          "text": [
            "Running pairwise ranking..\n",
            "\n",
            "\n",
            "\u001b[1m> Entering new StuffDocumentsChain chain...\u001b[0m\n",
            "\n",
            "\n",
            "\u001b[1m> Entering new LLMChain chain...\u001b[0m\n",
            "Prompt after formatting:\n",
            "\u001b[32;1m\u001b[1;3m\n",
            "Use the following pieces of information to answer the user's question.\n",
            "If you don't know the answer, just say that you don't know, don't try to make up an answer.\n",
            "\n",
            "Context: For Audits of FYE On 12/15/2020-12/14/2024\n",
            "\n",
            "Inconsistency in, or Doubts about the Reliability of, Audit Evidence\n",
            "\n",
            ".29 If audit evidence obtained from one source is inconsistent with that obtained from another, or if the auditor has doubts about the reliability of information to be used as audit evidence, the auditor should perform the audit procedures necessary to resolve the matter and should determine the effect, if any, on other aspects of the audit.\n",
            "\n",
            "Appendix A - Using the Work of a Company's Specialist as Audit Evidence\n",
            "\n",
            ".A1 This appendix describes the auditor's responsibilities with respect to using the work of a specialist, employed or engaged by the company (\"company's specialist\"), as audit evidence to support a conclusion regarding a relevant assertion of a significant account or disclosure. The requirements in this appendix supplement the requirements of this standard.\n",
            "\n",
            "Note: For purposes of this standard, a specialist is a person (or firm) possessing special skill or knowledge in a particular field other than accounting or auditing. This appendix does not apply when the auditor uses the work of a person with specialized skill or knowledge in income taxes1 or information technology as audit evidence.2\n",
            "\n",
            "Note: This appendix does not apply to information provided by a company's attorney concerning litigation, claims, or assessments that is used by the auditor pursuant to AS 2505, Inquiry of a Client's Lawyer Concerning Litigation, Claims, and Assessments. This appendix applies when an auditor uses the work of a company's attorney as audit evidence in other matters relating to legal expertise, such as when a legal interpretation of a contractual provision or a legal opinion regarding isolation of transferred financial assets is necessary to determine appropriate accounting or disclosure under the applicable financial reporting framework.\n",
            "\n",
            ".A2 The requirements in AS 2110, Identifying and Assessing Risks of Material Misstatement, for obtaining an understanding of the company's information system relevant to financial reporting include obtaining an understanding of the work and report(s), or equivalent communication, of the company's specialist(s) and related company processes and controls.3\n",
            "\n",
            "Assessing the Knowledge, Skill, and Ability of the Company's Specialist and the Specialist's Relationship to the Company\n",
            "\n",
            ".A3 The auditor should obtain an understanding of the professional qualifications of the company's specialist in the particular field, and the entity that employs the specialist (if other than the company), and assess the level of knowledge, skill, and ability of the specialist in the particular field. Factors that are\n",
            "\n",
            "For Audits of FYE On 12/15/2020-12/14/2024\n",
            "\n",
            "Relevant to the assessment of the specialist's knowledge, skill, and ability include the following:\n",
            "\n",
            "The professional certification, license, or professional accreditation of the specialist in the particular field;\n",
            "\n",
            "The specialist's experience in the type of work performed, including applicable areas of specialty within the specialist's field;\n",
            "\n",
            "The reputation and standing of the specialist in the particular field.\n",
            "\n",
            ".A4\n",
            "\n",
            "The auditor should assess the relationship to the company of the specialist and the entity that employs the specialist (if other than the company)—specifically, whether circumstances exist that give the company the ability to significantly affect the specialist's judgments about the work performed, conclusions, or findings (e.g., through employment, financial, ownership, or other business relationships, contractual rights, family relationships, or otherwise).\n",
            "\n",
            "Note: Examples of potential sources of information that could be relevant to the auditor's assessment include, but are not limited to:\n",
            "\n",
            "Information obtained by the auditor from procedures performed pursuant to AS 2410, Related Parties;\n",
            "\n",
            "Engagement contracts between the company and the specialist, or the specialist's employer;\n",
            "\n",
            "Responses to questionnaires provided to the specialist regarding relationships between the specialist, or the specialist's employer, and the company;\n",
            "\n",
            "Information provided by the employer of a specialist regarding relationships with the company; and\n",
            "\n",
            "Disclosures about relationships with the company in the specialist's report, or equivalent communication, pursuant to requirements promulgated by the specialist's profession or by legislation or regulation governing the specialist.\n",
            "\n",
            ".A5\n",
            "\n",
            "The necessary evidence to assess the level of knowledge, skill, and ability of the company's specialist and the specialist's relationship to the company in paragraphs .A3–.A4 depends on (1) the significance of the specialist's work to the auditor's conclusion regarding the relevant assertion and (2) the risk of material misstatement of the relevant assertion. As the significance of the specialist's work and risk of material misstatement increases, the persuasiveness of the evidence the auditor should obtain for those assessments also increases.\n",
            "\n",
            "Evaluating the Work of the Company's Specialist\n",
            "\n",
            ".A6\n",
            "\n",
            "Evaluating the work of a company's specialist involves evaluating:\n",
            "\n",
            "1. The data, significant assumptions, and methods used by the specialist; and\n",
            "\n",
            "For Audits of FYE On 12/15/2020-12/14/2024\n",
            "\n",
            "b. The relevance and reliability of the specialist's work and its relationship to the relevant assertion.\n",
            "\n",
            "Note: Paragraphs .16–.17 of AS 2101, Audit Planning, describe the auditor's responsibilities for determining whether specialized knowledge or skill is needed. This includes determining whether an auditor's specialist is needed to evaluate the work of a company's specialist.\n",
            "\n",
            ".A7\n",
            "\n",
            "The necessary evidence from the auditor's evaluation of the specialist's work to support a conclusion regarding a relevant assertion depends on:\n",
            "\n",
            "a. The significance of the specialist's work to the auditor's conclusion regarding the relevant assertion;\n",
            "\n",
            "b. The risk of material misstatement of the relevant assertion;\n",
            "\n",
            "47\n",
            "\n",
            "For Audits of FYE On 12/15/2020-12/14/2024\n",
            "\n",
            "If restated consolidated balance sheets are also presented, the auditor may also express his opinion with respect to the combination of the consolidated balance sheets.\n",
            "\n",
            "Copyright © 1999, 2001, 2003, American Institute of Certified Public Accountants, Inc.\n",
            "\n",
            "For Audits of FYE On 12/15/2020-12/14/2024\n",
            "\n",
            "AS 1210: Using the Work of an Auditor-Engaged Specialist\n",
            "\n",
            "Guidance on AS 1210: Staff Audit Practice Alert No. 2 and Staff Questions and Answers on Auditing the Fair Value of Share Options Granted to Employees\n",
            "\n",
            "Summary Table of Contents\n",
            "\n",
            ".01  Introduction\n",
            "\n",
            ".02  Objective\n",
            "\n",
            ".03  Assessing the Knowledge, Skill, Ability, and Objectivity of the Auditor-Engaged Specialist\n",
            "\n",
            ".06  Informing the Auditor-Engaged Specialist of the Work to be Performed\n",
            "\n",
            ".09  Evaluating the Work of the Auditor-Engaged Specialist\n",
            "\n",
            "Introduction\n",
            "\n",
            ".01 This standard establishes requirements regarding the use of a specialist engaged by the auditor's firm (\"auditor-engaged specialist\") to assist the auditor in obtaining or evaluating audit evidence with respect to a relevant assertion of a significant account or disclosure.\n",
            "\n",
            "Note: For purposes of this standard, a specialist is a person (or firm) possessing special skill or knowledge in a particular field other than accounting or auditing. Because income taxes and information technology are specialized areas of accounting and auditing, this standard does not apply to situations in which a person with specialized skill or knowledge in income taxes or information technology participates in the audit. AS 1201, Supervision of the Audit Engagement, applies in those situations.\n",
            "\n",
            "Objective\n",
            "\n",
            ".02 The objective of the auditor is to determine whether the work of the auditor-engaged specialist is suitable for the auditor's purposes and supports the auditor's conclusion regarding the relevant assertion.\n",
            "\n",
            "Assessing the Knowledge, Skill, Ability, and Objectivity of the Auditor-Engaged Specialist\n",
            "\n",
            "49\n",
            "\n",
            "For Audits of FYE On 12/15/2020-12/14/2024\n",
            "\n",
            ".03\n",
            "\n",
            "The engagement partner and, as applicable, other engagement team members performing supervisory activities should assess the specialist's knowledge, skill, and ability in the particular field for the type of work under consideration. This includes obtaining an understanding of the following with respect to the specialist and the entity that employs the specialist:\n",
            "\n",
            "a. The professional certification, license, or professional accreditation of the specialist in the particular field;\n",
            "\n",
            "b. The specialist's experience in the type of work under consideration, including applicable areas of specialty within the specialist's field; and\n",
            "\n",
            "c. The reputation and standing of the specialist in the particular field.\n",
            "\n",
            "Note: The auditor's assessment of the specialist's knowledge, skill, and ability affects the auditor's determination of: (1) whether the specialist possesses a sufficient level of knowledge, skill, and ability to perform the type of work under consideration (paragraph .04); and (2) the necessary extent of the review and evaluation of the specialist's work (paragraph .10).\n",
            "\n",
            ".04\n",
            "\n",
            "The engagement partner and, as applicable, other engagement team members performing supervisory activities should not use the work of a specialist who does not have a sufficient level of knowledge, skill, and ability.\n",
            "\n",
            ".05\n",
            "\n",
            "The engagement partner and, as applicable, other engagement team members performing supervisory activities should assess whether the specialist has the necessary degree of objectivity to exercise impartial judgment on all issues encompassed by the specialist's work related to the audit. This includes evaluating whether the specialist or the entity that employs the specialist has a relationship to the company (e.g., through employment, financial, ownership, or other business relationships, contractual rights, family relationships, or otherwise), or other conflicts of interest relevant to the work to be performed.\n",
            "\n",
            "Note: The auditor's assessment of the specialist's objectivity affects the nature and extent of the auditor's procedures to evaluate the data, significant assumptions, and methods that the specialist is responsible for testing, evaluating, or developing.\n",
            "\n",
            "Note: The evidence necessary to assess the specialist's objectivity depends on the significance of the specialist's work and the related risk of material misstatement. Examples of potential sources of information that could be relevant to the auditor's assessment include, but are not limited to:\n",
            "\n",
            "Information obtained by the auditor from procedures performed pursuant to AS 2410, Related Parties;\n",
            "\n",
            "Engagement contracts between the company and the specialist, or the specialist's employer;\n",
            "\n",
            "For Audits of FYE On 12/15/2020-12/14/2024\n",
            "\n",
            "Responses to questionnaires provided to the specialist regarding relationships between the specialist, or the specialist's employer, and the company;\n",
            "\n",
            "Written representations or other information provided by the specialist concerning relationships with the company; and\n",
            "\n",
            "Disclosures about relationships with the company in the specialist's report, or equivalent documentation, pursuant to requirements promulgated by the specialist's profession or by legislation or regulation governing the specialist.\n",
            "\n",
            "Informing the Auditor-Engaged Specialist of the Work to be Performed\n",
            "\n",
            ".06 The engagement partner and, as applicable, other engagement team members performing supervisory activities should inform the specialist of the work to be performed, which includes establishing and documenting an understanding with the specialist regarding the following:\n",
            "\n",
            "a. The responsibilities of the specialist, including the objectives of the work to be performed;\n",
            "\n",
            "a. The responsibilities of the specialist, including the objectives of the work to be performed;\n",
            "\n",
            "b. The nature of the work that the specialist is to perform or assist in performing (for example, testing the company's process used to develop an accounting estimate, including when a company's specialist is involved in developing the estimate, or developing an independent expectation of an estimate);\n",
            "\n",
            "c. The degree of responsibility of the specialist for:\n",
            "\n",
            "(1) Testing data produced by the company, or evaluating the relevance and reliability of data from sources external to the company;\n",
            "\n",
            "(2) Evaluating the significant assumptions used by the company or the company's specialist, or developing his or her own assumptions; and\n",
            "\n",
            "(3) Evaluating the methods used by the company or the company's specialist, or using his or her own methods;\n",
            "\n",
            "d. The responsibility of the specialist to provide a report, or equivalent documentation, to the engagement partner and, as applicable, other engagement team members performing supervisory activities that describes the work performed, the results of the work, and the findings or conclusions reached by the specialist.\n",
            "\n",
            ".07 The engagement partner and, as applicable, other engagement team members performing supervisory activities should inform the specialist about matters that could affect the specialist's work. This includes, as applicable, information about the company and its environment, the company's processes for developing the related accounting estimate, the company's use of specialists in developing the estimate, relevant requirements of the applicable financial reporting framework, and possible accounting and\n",
            "\n",
            "51\n",
            "\n",
            "For Audits of FYE On 12/15/2020-12/14/2024\n",
            "\n",
            "Auditing Issues\n",
            "\n",
            ".08 The engagement partner and, as applicable, other engagement team members performing supervisory activities should implement measures to determine that there is a proper coordination of the work of the specialist with the work of relevant engagement team members to achieve a proper evaluation of the evidence obtained in reaching a conclusion about the relevant assertion. This includes:\n",
            "\n",
            "a. If an auditor's specialist is used to develop (or assist in developing) an independent expectation of an accounting estimate, measures to comply with paragraphs .21–.26 of AS 2501, Auditing Accounting Estimates, Including Fair Value Measurements;\n",
            "\n",
            "b. If an auditor's specialist is used to test (or assist in testing) the company's process to develop an accounting estimate, measures to comply with AS 2501.09–.18; or\n",
            "\n",
            "c. If an auditor's specialist is used to evaluate the work of a company's specialist, measures to comply with Appendix A to AS 1105, Audit Evidence, and, for accounting estimates, AS 2501.19.\n",
            "\n",
            "Evaluating the Work of the Auditor-Engaged Specialist\n",
            "\n",
            ".09 The engagement partner and, as applicable, other engagement team members performing supervisory activities should review the report, or equivalent documentation, provided by the specialist pursuant to paragraph .06d above and evaluate whether the specialist's work provides sufficient appropriate evidence, specifically whether:\n",
            "\n",
            "a. The specialist's work and report, or equivalent documentation, are in accordance with the auditor's understanding with the specialist; and\n",
            "\n",
            "b. The specialist's findings and conclusions are consistent with results of the work performed by the specialist, other evidence obtained by the auditor, and the auditor's understanding of the company and its environment.\n",
            "\n",
            ".10 The necessary extent of the review depends on: (1) the significance of the specialist's work to the auditor's conclusion regarding the relevant assertion, (2) the risk of material misstatement of the relevant assertion, and (3) the knowledge, skill, and ability of the specialist.\n",
            "\n",
            ".11 If the specialist or the entity that employs the specialist has a relationship with the company that affects the specialist's objectivity, the auditor should perform additional procedures to evaluate the data, significant assumptions, and methods that the specialist is responsible for testing, evaluating, or developing, pursuant to the engagement team's understanding with the specialist (paragraph .06), or should engage another specialist. The necessary nature and extent of the additional procedures depend on the degree of objectivity of the specialist. As the degree of objectivity increases, the evidence needed from additional procedures decreases. If the specialist has a low degree of objectivity, the auditor should apply the procedures for evaluating the work of a company's specialist.3\n",
            "\n",
            ".12 If the specialist's findings or conclusions appear to contradict the relevant assertion or the\n",
            "\n",
            "For Audits of FYE On 12/15/2020-12/14/2024\n",
            "\n",
            "specialist's work does not provide sufficient appropriate evidence, the engagement partner and, as applicable, other engagement team members performing supervisory activities should perform additional procedures, or request the specialist to perform additional procedures, as necessary to address the issue.\n",
            "\n",
            "Note: Examples of situations in which additional procedures ordinarily are necessary include: (1) the specialist's work was not performed in accordance with the auditor's instructions; (2) the specialist's report, or equivalent documentation, contains restrictions, disclaimers, or limitations that affect the auditor's use of the report or work; (3) the specialist's findings and conclusions are inconsistent with (i) the results of the work performed by the specialist, (ii) other evidence obtained by the auditor, or (iii) the auditor's understanding of the company and its environment; (4) the specialist lacks a reasonable basis for data or significant assumptions the specialist used; or (5) the methods used by the specialist were not appropriate.\n",
            "\n",
            "Footnotes (AS 1210 - Using the Work of an Auditor-Engaged Specialist):\n",
            "\n",
            "See AS 1201.04.\n",
            "Question: What does the standard say about using specialists in an audit?\n",
            "\n",
            "Answer the question and provide additional helpful information,\n",
            "based on the pieces of information, if applicable. Be succinct.\n",
            "\n",
            "Responses should be properly formatted to be easily read.\n",
            "\u001b[0m\n",
            "\n",
            "\u001b[1m> Finished chain.\u001b[0m\n",
            "\n",
            "\u001b[1m> Finished chain.\u001b[0m\n",
            "CPU times: user 2.65 s, sys: 326 ms, total: 2.97 s\n",
            "Wall time: 3.98 s\n",
            "time: 3.98 s (started: 2024-11-01 07:27:24 -04:00)\n"
          ]
        }
      ]
    },
    {
      "cell_type": "code",
      "source": [
        "print_response(response)"
      ],
      "metadata": {
        "colab": {
          "base_uri": "https://localhost:8080/"
        },
        "id": "5m9h2mNK89bl",
        "outputId": "48f92ab0-0019-450d-9a19-16d0865b8789"
      },
      "execution_count": 34,
      "outputs": [
        {
          "output_type": "stream",
          "name": "stdout",
          "text": [
            "**Answer:** The standard provides guidance on using specialists in an audit, including company's\n",
            "specialists and auditor-engaged specialists. It outlines the auditor's responsibilities when using\n",
            "the work of a specialist as audit evidence, including assessing the specialist's knowledge, skill,\n",
            "and ability, evaluating the specialist's work, and determining the necessary evidence to support the\n",
            "auditor's conclusion.\n",
            "\n",
            "**Additional helpful information:**\n",
            "\n",
            "* The standard applies to specialists with special skill or knowledge in a particular field other\n",
            "than accounting or auditing.\n",
            "* The auditor should obtain an understanding of the professional qualifications, experience, and\n",
            "reputation of the specialist, as well as assess the specialist's objectivity and relationship with\n",
            "the company.\n",
            "* The auditor should evaluate the specialist's work, including the data, significant assumptions,\n",
            "and methods used, and determine whether the specialist's work provides sufficient appropriate\n",
            "evidence to support the auditor's conclusion.\n",
            "* The standard provides guidance on using the work of a company's specialist, including assessing\n",
            "the specialist's knowledge, skill, and ability, and evaluating the specialist's work.\n",
            "* The standard also provides guidance on using the work of an auditor-engaged specialist, including\n",
            "assessing the specialist's knowledge, skill, and ability, informing the specialist of the work to be\n",
            "performed, and evaluating the specialist's work.\n",
            "time: 2.07 ms (started: 2024-11-01 07:27:28 -04:00)\n"
          ]
        }
      ]
    },
    {
      "cell_type": "markdown",
      "metadata": {
        "id": "rgGqAD5mKiij"
      },
      "source": [
        "# RAG with Meta earnings"
      ]
    },
    {
      "cell_type": "markdown",
      "source": [
        "Here, we present another example of how this advanced RAG methodology can be applied in analyzing company disclosures."
      ],
      "metadata": {
        "id": "z5XBxIpWVHg7"
      }
    },
    {
      "cell_type": "code",
      "execution_count": 36,
      "metadata": {
        "colab": {
          "base_uri": "https://localhost:8080/"
        },
        "id": "59M0lL4vjkGW",
        "outputId": "fd9b0589-242a-47a5-e53f-21710a5f2f4f"
      },
      "outputs": [
        {
          "output_type": "stream",
          "name": "stdout",
          "text": [
            "mkdir: cannot create directory ‘data’: File exists\n",
            "Downloading...\n",
            "From: https://drive.google.com/uc?id=1ee-BhQiH-S9a2IkHiFbJz9eX_SfcZ5m9\n",
            "To: /content/data/meta-earnings.pdf\n",
            "100% 160k/160k [00:00<00:00, 69.7MB/s]\n",
            "time: 3.83 s (started: 2024-10-30 10:52:30 -04:00)\n"
          ]
        }
      ],
      "source": [
        "# create a Google Drive folder \"data\" (folder automatically created)\n",
        "!mkdir data\n",
        "# download Meta 2024 Q1 Earnings to the specified path\n",
        "!gdown 1ee-BhQiH-S9a2IkHiFbJz9eX_SfcZ5m9 -O \"data/meta-earnings.pdf\""
      ]
    },
    {
      "cell_type": "markdown",
      "metadata": {
        "id": "z6kHJJRDvawJ"
      },
      "source": [
        "## Document Parsing"
      ]
    },
    {
      "cell_type": "markdown",
      "metadata": {
        "id": "HQ5dO5UtugNa"
      },
      "source": [
        "*Document parsing* is the process of recognizing/examining data in a document and extracting useful information from it. For instance, data from PDF and Word documents can be extracted using document parser APIs and stored in a JSON file. (source: https://www.edenai.co/post/best-document-parsing-apis)\n",
        "\n",
        "Parsing documents efficiently is a crucial skill, especially when dealing with detailed financial reports or any other data-rich documents. By following this code snippet, you will learn how to extract and preprocess information from a PDF document using LlamaParse, an API service provided by LlamaCloud.\n",
        "\n",
        "**Instruction Definition:** An instruction is defined to guide the parsing process. The instruction specifies that the document contains detailed financial information and numerous tables, emphasizing precision in answering questions."
      ]
    },
    {
      "cell_type": "code",
      "execution_count": null,
      "metadata": {
        "colab": {
          "base_uri": "https://localhost:8080/"
        },
        "id": "X-_Ih5O6ugNa",
        "outputId": "b2b6c397-f772-4a98-e775-4794d2705200"
      },
      "outputs": [
        {
          "output_type": "stream",
          "name": "stdout",
          "text": [
            "time: 547 µs (started: 2024-07-10 05:53:06 +00:00)\n"
          ]
        }
      ],
      "source": [
        "instruction = \"\"\"The provided document is Meta First Quarter 2024 Results.\n",
        "This form provides detailed financial information about the company's performance for a specific quarter.\n",
        "It includes unaudited financial statements, management discussion and analysis, and other relevant disclosures required by the SEC.\n",
        "It contains many tables.\n",
        "Try to be precise while answering the questions.\"\"\""
      ]
    },
    {
      "cell_type": "markdown",
      "metadata": {
        "id": "AU7FF6BAugNa"
      },
      "source": [
        "**Parser Initialization**: The `LlamaParse` class is initialized with an API key, result type (markdown), parsing instructions, and a maximum timeout setting."
      ]
    },
    {
      "cell_type": "code",
      "execution_count": null,
      "metadata": {
        "colab": {
          "base_uri": "https://localhost:8080/"
        },
        "id": "oDlQbXSlugNa",
        "outputId": "c4466a82-d940-4286-ac7f-911e83347dd0"
      },
      "outputs": [
        {
          "output_type": "stream",
          "name": "stdout",
          "text": [
            "time: 823 µs (started: 2024-07-10 05:53:10 +00:00)\n"
          ]
        }
      ],
      "source": [
        "parser = LlamaParse(\n",
        "    api_key=os.environ[\"LLAMA_PARSE\"],\n",
        "    result_type=\"markdown\",\n",
        "    parsing_instruction=instruction,\n",
        "    max_timeout=5000,\n",
        ")"
      ]
    },
    {
      "cell_type": "markdown",
      "metadata": {
        "id": "3Z94PdSfugNa"
      },
      "source": [
        "**Asynchronous Data Loading**: The document located at `./data/meta-earnings.pdf` is parsed asynchronously. This allows for efficient handling of large documents without blocking the execution of other tasks. The first parsed document is accessed and stored in the `parsed_doc` variable."
      ]
    },
    {
      "cell_type": "code",
      "execution_count": null,
      "metadata": {
        "colab": {
          "base_uri": "https://localhost:8080/"
        },
        "id": "eHRFF7lF0gV2",
        "outputId": "ddfb94e6-abaa-4fac-e183-40a64817eac5"
      },
      "outputs": [
        {
          "output_type": "stream",
          "name": "stdout",
          "text": [
            "Started parsing the file under job_id 848a8ac4-326d-42e3-a43f-1e4bb53c7d53\n",
            "time: 27.2 s (started: 2024-07-10 05:53:12 +00:00)\n"
          ]
        }
      ],
      "source": [
        "llama_parse_documents = await parser.aload_data(\"./data/meta-earnings.pdf\")\n",
        "\n",
        "parsed_doc = llama_parse_documents[0]"
      ]
    },
    {
      "cell_type": "markdown",
      "metadata": {
        "id": "KPHvbTH_ugNa"
      },
      "source": [
        "Here we print out the first 4096 characters of the parsed document:"
      ]
    },
    {
      "cell_type": "code",
      "execution_count": null,
      "metadata": {
        "colab": {
          "base_uri": "https://localhost:8080/",
          "height": 568
        },
        "id": "6acdg4sq736P",
        "outputId": "2df08463-776f-4456-855e-9e33c93e50ba"
      },
      "outputs": [
        {
          "output_type": "execute_result",
          "data": {
            "text/plain": [
              "<IPython.core.display.Markdown object>"
            ],
            "text/markdown": "# Meta Reports First Quarter 2024 Results\n\nMENLO PARK, Calif. – April 24, 2024 – Meta Platforms, Inc. (Nasdaq: META) today reported financial results for the quarter ended March 31, 2024.\n\n\"It's been a good start to the year,\" said Mark Zuckerberg, Meta founder and CEO. \"The new version of Meta AI with Llama 3 is another step towards building the world's leading AI. We're seeing healthy growth across our apps and we continue making steady progress building the metaverse as well.\"\n\n# First Quarter 2024 Financial Highlights\n\n|In millions, except percentages and per share amounts|Three Months Ended March 31,|2024|2023|% Change|\n|---|---|---|---|---|\n|Revenue|$36,455|$28,645|27%| |\n|Costs and expenses|$22,637|$21,418|6%| |\n|Income from operations|$13,818|$7,227|91%| |\n|Operating margin|38%|25%| | |\n|Provision for income taxes|$1,814|$1,598|14%| |\n|Effective tax rate|13%|22%| | |\n|Net income|$12,369|$5,709|117%| |\n|Diluted earnings per share (EPS)|$4.71|$2.20|114%| |\n\n# First Quarter 2024 Operational and Other Fin"
          },
          "metadata": {},
          "execution_count": 79
        },
        {
          "output_type": "stream",
          "name": "stdout",
          "text": [
            "time: 3.38 ms (started: 2024-07-10 05:53:54 +00:00)\n"
          ]
        }
      ],
      "source": [
        "Markdown(parsed_doc.text[:1024])"
      ]
    },
    {
      "cell_type": "markdown",
      "metadata": {
        "id": "zrKWlHmeugNb"
      },
      "source": [
        "Here we save the parsed document in our temporary Google Drive folder:"
      ]
    },
    {
      "cell_type": "code",
      "execution_count": null,
      "metadata": {
        "colab": {
          "base_uri": "https://localhost:8080/"
        },
        "id": "EUnDQkfwyPv3",
        "outputId": "764768d1-bd9f-4f6b-df88-bf2f9dd0c8d8"
      },
      "outputs": [
        {
          "output_type": "stream",
          "name": "stdout",
          "text": [
            "time: 1.84 ms (started: 2024-07-10 05:54:25 +00:00)\n"
          ]
        }
      ],
      "source": [
        "document_path = Path(\"data/parsed_document.md\")\n",
        "with document_path.open(\"a\") as f:\n",
        "    f.write(parsed_doc.text)"
      ]
    },
    {
      "cell_type": "markdown",
      "metadata": {
        "id": "yF5y2-L0vfLM"
      },
      "source": [
        "## Text Splitters and Vector Embeddings"
      ]
    },
    {
      "cell_type": "markdown",
      "metadata": {
        "id": "LNw8sMQxugNb"
      },
      "source": [
        "In this part of the script, we use the `UnstructuredMarkdownLoader` class to load and parse a markdown document. By initializing the loader with the path to the document (`document_path`), we can then call the `load()` method to read and process the contents of the markdown file into a structured format. This enables further analysis and manipulation of the document's data within our application. The `loaded_documents` variable will contain the parsed content, ready for subsequent steps in our workflow."
      ]
    },
    {
      "cell_type": "code",
      "execution_count": null,
      "metadata": {
        "colab": {
          "base_uri": "https://localhost:8080/"
        },
        "id": "R9Hl1Uly3LtB",
        "outputId": "f026cc69-c6a0-4a2f-ca78-480bbf4b3af1"
      },
      "outputs": [
        {
          "output_type": "stream",
          "name": "stdout",
          "text": [
            "time: 145 ms (started: 2024-07-10 05:54:29 +00:00)\n"
          ]
        }
      ],
      "source": [
        "loader = UnstructuredMarkdownLoader(document_path)\n",
        "loaded_documents = loader.load()"
      ]
    },
    {
      "cell_type": "markdown",
      "metadata": {
        "id": "1qocAX5wugNc"
      },
      "source": [
        "The parsed document is too lengthy to be efficiently queried using an LLM, so we need to break it into smaller, manageable chunks. The key is that the LLM will utilize the chunk containing the most relevant information, determined by the similarity between the user's question and each chunk.\n",
        "\n",
        "To achieve this, we use LangChain's `RecursiveCharacterTextSplitter` to split the text into smaller segments:"
      ]
    },
    {
      "cell_type": "code",
      "execution_count": null,
      "metadata": {
        "colab": {
          "base_uri": "https://localhost:8080/"
        },
        "id": "_ZrQ4sKg4hxF",
        "outputId": "6491e9c1-8f15-4974-faf8-ab79f328b874"
      },
      "outputs": [
        {
          "output_type": "execute_result",
          "data": {
            "text/plain": [
              "11"
            ]
          },
          "metadata": {},
          "execution_count": 82
        },
        {
          "output_type": "stream",
          "name": "stdout",
          "text": [
            "time: 7.05 ms (started: 2024-07-10 05:54:33 +00:00)\n"
          ]
        }
      ],
      "source": [
        "text_splitter = RecursiveCharacterTextSplitter(chunk_size=2048, chunk_overlap=128)\n",
        "docs = text_splitter.split_documents(loaded_documents)\n",
        "len(docs)"
      ]
    },
    {
      "cell_type": "markdown",
      "metadata": {
        "id": "oPyqnzL7ugNc"
      },
      "source": [
        "This method ensures that each chunk is of optimal size for processing, while overlapping segments help maintain context across the chunks.\n",
        "\n",
        "Let's print out the first chunk and see how it looks like:"
      ]
    },
    {
      "cell_type": "code",
      "execution_count": null,
      "metadata": {
        "colab": {
          "base_uri": "https://localhost:8080/"
        },
        "id": "RdBs9l3a4jCv",
        "outputId": "a6ab103b-f9d8-41ec-b14d-d14e3b813e0b"
      },
      "outputs": [
        {
          "output_type": "stream",
          "name": "stdout",
          "text": [
            "Meta Reports First Quarter 2024 Results\n",
            "\n",
            "MENLO PARK, Calif. – April 24, 2024 – Meta Platforms, Inc. (Nasdaq: META) today reported financial results for the quarter ended March 31, 2024.\n",
            "\n",
            "\"It's been a good start to the year,\" said Mark Zuckerberg, Meta founder and CEO. \"The new version of Meta AI with Llama 3 is another step towards building the world's leading AI. We're seeing healthy growth across our apps and we continue making steady progress building the metaverse as well.\"\n",
            "\n",
            "First Quarter 2024 Financial Highlights\n",
            "\n",
            "In millions, except percentages and per share amounts Three Months Ended March 31, 2024 2023 % Change Revenue $36,455 $28,645 27% Costs and expenses $22,637 $21,418 6% Income from operations $13,818 $7,227 91% Operating margin 38% 25% Provision for income taxes $1,814 $1,598 14% Effective tax rate 13% 22% Net income $12,369 $5,709 117% Diluted earnings per share (EPS) $4.71 $2.20 114%\n",
            "\n",
            "First Quarter 2024 Operational and Other Financial Highlights\n",
            "\n",
            "Family daily active people (DAP) – DAP was 3.24 billion on average for March 2024, an increase of 7% year-over-year.\n",
            "\n",
            "Ad impressions – Ad impressions delivered across our Family of Apps increased by 20% year-over-year.\n",
            "\n",
            "Average price per ad – Average price per ad increased by 6% year-over-year.\n",
            "\n",
            "Revenue – Total revenue and revenue on a constant currency basis were $36.46 billion and $36.35 billion, respectively, both of which increased by 27% year-over-year.\n",
            "\n",
            "Costs and expenses – Total costs and expenses were $22.64 billion, an increase of 6% year-over-year.\n",
            "\n",
            "Capital expenditures – Capital expenditures, including principal payments on finance leases, were $6.72 billion.\n",
            "\n",
            "Capital return program – Share repurchases were $14.64 billion of our Class A common stock and dividends payments were $1.27 billion.\n",
            "\n",
            "Cash, cash equivalents, and marketable securities – Cash, cash equivalents, and marketable securities were $58.12 billion as of March 31, 2024. Free cash flow was $12.53 billion.\n",
            "time: 1.35 ms (started: 2024-07-10 05:54:39 +00:00)\n"
          ]
        }
      ],
      "source": [
        "print(docs[0].page_content)"
      ]
    },
    {
      "cell_type": "markdown",
      "metadata": {
        "id": "P65FHcFxugNc"
      },
      "source": [
        "To better capture the meaning of each we will use vector embeddings to compare against the user's question and determine the similarity and relevance of the information.\n",
        "\n",
        "We first use `FastEmbedEmbeddings` and specify the model as `BAAI/bge-base-en-v1.5`:"
      ]
    },
    {
      "cell_type": "code",
      "execution_count": null,
      "metadata": {
        "colab": {
          "base_uri": "https://localhost:8080/",
          "height": 226,
          "referenced_widgets": [
            "25b418eb305140c68c35e2e7c744504d",
            "2b51394e3856437c94fd289ff0b237c2",
            "9fd4456ec51c4d8da0379be6a836bfb3",
            "1375489dcdbe4b369c7eb86332d13383",
            "3497624ced2348038818cbd5f793fef0",
            "3dc99e431b314e32b1b3644038c28c09",
            "b735a028df0045579f4f7410945a255f",
            "cac758e92b194f55bf24f443c5ecc056",
            "cd78ba0f7d324be38558dbd2dc0fac07",
            "27e4dc6f04044cce98920208655061ae",
            "d730d6d1cbac4b188ca6ded53d7c5055",
            "eaa9ba6ac3bb4ae89b05204ca4ed18cd",
            "405a09d8e04f4f66a5e8b2cbab5f26f0",
            "bfb072dc783a4aad81bbbc13bca3f7f5",
            "953a8ce0413d473299a09444a0ce69ed",
            "799ebcb4f95e48269787af30d315ba9a",
            "a2e530103edd4354be56480ed754c282",
            "14f5d42710ac48bc845598640de09b8c",
            "1000cef83a5f4b02b65b7708a01ad9c7",
            "534c1f258f2a42eb9047dbf5d883ec7e",
            "ebb929e6572a475dbdd4b6b42a3dd120",
            "603a955d0d054b7585facff9312f4466",
            "df0d387166564670a5d416680453c53c",
            "569e8817dfb94925b36acae202d3557c",
            "75a34c43812145cb94dba624a8ca3e57",
            "df9bfee2840946faa7137bcc9316c81f",
            "33e2158d49c847999420fd4cc83eb7ab",
            "66a59820771b4512b7835bc6e0261c53",
            "5c4d9acfcc5e426680e804686bb5ec88",
            "9e4d7baa881d4eab9c6c542e267b2664",
            "efb87ea45a1044ffa64e2dea02cc3dbd",
            "f8007a6ee18c49feb30208f74762fbfe",
            "b1657c3764554910851c8b74deb94d38",
            "4722d49c215d4e57a2073f166d8d080d",
            "96bd8e3a135a46118f6a7a7037022ada",
            "8f6081c7eb7f4c40a3ec7dba796c8435",
            "a4a049eb5f36432c9a81395ca63d412e",
            "ed23905310ae4f3ab8532c4ae8d80a41",
            "214a13a538bd46c4991e55a453a50e44",
            "947fc70b26314776943eeb02a5884293",
            "d1b6cbc4d5df4600ad96704de3c8979d",
            "96f18297297b42dd9c02220908f765aa",
            "d0d85310d9004f3d8ed1890d17dc598b",
            "e4fac43ca4c341829ed77d93c8626740",
            "44d1cf4426db40b381d6a390a2a85aca",
            "05a449b43e794b808904541c39355a5f",
            "5637536b13374cc891f01373262fbaeb",
            "6927443b05864e7d9a453fd62cacd705",
            "b6526a72709c4a88803b2b9724254c51",
            "562bd71e220c4baeb91f392139494f14",
            "f309878fd61c423d85a0f168cdee8e6f",
            "19d039495ffa4916beeefeb47adaa77e",
            "8ff3492a1f1e4c8bb4d904f95df14256",
            "786a6e72278a4032965d7fc86f1ccd77",
            "0328ab67d3324b3f895f38c4c0bd11a7",
            "71ebcca745e6411ea008874851cee2ee",
            "d01b29259be44e1f8bad96c265cf504e",
            "3bb334db8908441f95a911f0a1cb16c5",
            "7720fc175963429ea264c976547c4595",
            "4a9a46858b5d46c8be9dad5c049b535f",
            "9ade14dbbe75429187a162bf08f89db0",
            "e201072e4cfa40c49c7c8fb935d1941a",
            "46bec5642c3a4b58ba62f7275222dc5b",
            "d96e00dcbb5048d984293b00646b5519",
            "e7b5aeaf0eed40fea85638630e0d094a",
            "944d6b5218da4145ab1d609253454968"
          ]
        },
        "id": "8cUnzAwi-iNE",
        "outputId": "df340e5c-3031-4ff2-954c-e94ca1d44a78"
      },
      "outputs": [
        {
          "output_type": "display_data",
          "data": {
            "text/plain": [
              "Fetching 5 files:   0%|          | 0/5 [00:00<?, ?it/s]"
            ],
            "application/vnd.jupyter.widget-view+json": {
              "version_major": 2,
              "version_minor": 0,
              "model_id": "25b418eb305140c68c35e2e7c744504d"
            }
          },
          "metadata": {}
        },
        {
          "output_type": "display_data",
          "data": {
            "text/plain": [
              "special_tokens_map.json:   0%|          | 0.00/695 [00:00<?, ?B/s]"
            ],
            "application/vnd.jupyter.widget-view+json": {
              "version_major": 2,
              "version_minor": 0,
              "model_id": "eaa9ba6ac3bb4ae89b05204ca4ed18cd"
            }
          },
          "metadata": {}
        },
        {
          "output_type": "display_data",
          "data": {
            "text/plain": [
              "tokenizer_config.json:   0%|          | 0.00/1.24k [00:00<?, ?B/s]"
            ],
            "application/vnd.jupyter.widget-view+json": {
              "version_major": 2,
              "version_minor": 0,
              "model_id": "df0d387166564670a5d416680453c53c"
            }
          },
          "metadata": {}
        },
        {
          "output_type": "display_data",
          "data": {
            "text/plain": [
              "tokenizer.json:   0%|          | 0.00/711k [00:00<?, ?B/s]"
            ],
            "application/vnd.jupyter.widget-view+json": {
              "version_major": 2,
              "version_minor": 0,
              "model_id": "4722d49c215d4e57a2073f166d8d080d"
            }
          },
          "metadata": {}
        },
        {
          "output_type": "display_data",
          "data": {
            "text/plain": [
              "config.json:   0%|          | 0.00/740 [00:00<?, ?B/s]"
            ],
            "application/vnd.jupyter.widget-view+json": {
              "version_major": 2,
              "version_minor": 0,
              "model_id": "44d1cf4426db40b381d6a390a2a85aca"
            }
          },
          "metadata": {}
        },
        {
          "output_type": "display_data",
          "data": {
            "text/plain": [
              "model_optimized.onnx:   0%|          | 0.00/218M [00:00<?, ?B/s]"
            ],
            "application/vnd.jupyter.widget-view+json": {
              "version_major": 2,
              "version_minor": 0,
              "model_id": "71ebcca745e6411ea008874851cee2ee"
            }
          },
          "metadata": {}
        },
        {
          "output_type": "stream",
          "name": "stdout",
          "text": [
            "time: 8.98 s (started: 2024-07-10 05:54:42 +00:00)\n"
          ]
        }
      ],
      "source": [
        "embeddings = FastEmbedEmbeddings(model_name=\"BAAI/bge-base-en-v1.5\")"
      ]
    },
    {
      "cell_type": "markdown",
      "metadata": {
        "id": "lW9PE3fkugNi"
      },
      "source": [
        "You might ask why the Meta Llama 3 is not used for generating embeddings. Llama 3 is primarily designed as a large language model (LLM) for generating text, understanding context, and performing natural language processing tasks. While it can generate embeddings, using specialized models for embeddings often offers several advantages:\n",
        "\n",
        "* Efficiency: Models like `BAAI/bge-base-en-v1.5` are specifically optimized for generating embeddings quickly and efficiently, making them more suitable for tasks requiring large-scale embedding generation.\n",
        "\n",
        "* Specialization: Embedding models are trained to create dense vector representations that capture semantic meaning in a way that's optimized for similarity searches and clustering. They excel in tasks where understanding the relationship between different pieces of text is crucial.\n",
        "\n",
        "* Performance: Dedicated embedding models often have better performance metrics (e.g., accuracy, precision, recall) for embedding tasks compared to general-purpose language models.\n",
        "\n",
        "* Resource Management: Using a specialized embedding model can be more resource-efficient, reducing computational overhead and memory usage compared to using a large language model like Llama3 for the same purpose.\n",
        "\n",
        "Thus, in this script, the `FastEmbedEmbeddings` class with the `BAAI/bge-base-en-v1.5 model` is used to generate embeddings, ensuring efficiency and high performance for the embedding tasks required in the workflow."
      ]
    },
    {
      "cell_type": "markdown",
      "metadata": {
        "id": "CXDF9rhWugNi"
      },
      "source": [
        "Qdrant is an open-source vector search engine and database. It specializes in managing and querying vector embeddings efficiently. We create a temp folder `./db` to store the vector database for the chunks:"
      ]
    },
    {
      "cell_type": "code",
      "execution_count": null,
      "metadata": {
        "colab": {
          "base_uri": "https://localhost:8080/"
        },
        "id": "fSh39w9H9fPU",
        "outputId": "765c2d2b-f457-4ac0-868c-b1a388016fcc"
      },
      "outputs": [
        {
          "output_type": "stream",
          "name": "stdout",
          "text": [
            "time: 24.9 s (started: 2024-07-10 05:54:51 +00:00)\n"
          ]
        }
      ],
      "source": [
        "qdrant = Qdrant.from_documents(\n",
        "    docs,\n",
        "    embeddings, # Represents the embeddings model (FastEmbedEmbeddings in this case).\n",
        "    # (optional) location=\":memory:\",\n",
        "    path=\"./db\",\n",
        "    collection_name=\"document_embeddings\", # Defines the name of the collection within Qdrant where the embeddings will be stored.\n",
        ")"
      ]
    },
    {
      "cell_type": "markdown",
      "metadata": {
        "id": "xhfgpi4pugNj"
      },
      "source": [
        "By creating a vector store with Qdrant, we can efficiently store and query embeddings, enabling tasks such as similarity search and clustering based on the semantic content of the documents. This setup optimizes performance and scalability for handling large volumes of text data effectively."
      ]
    },
    {
      "cell_type": "markdown",
      "metadata": {
        "id": "a0zYIa2XugNj"
      },
      "source": [
        "In this code section, we perform a similarity search using the `qdrant` vector store. It searches for documents similar to the query \"What is the most important innovation from Meta?\" and prints the top results along with their similarity scores."
      ]
    },
    {
      "cell_type": "code",
      "execution_count": null,
      "metadata": {
        "colab": {
          "base_uri": "https://localhost:8080/"
        },
        "id": "zBBp64Dy_5hw",
        "outputId": "2199dfe6-cf71-4894-a519-00a60fe08fc5"
      },
      "outputs": [
        {
          "output_type": "stream",
          "name": "stdout",
          "text": [
            "CPU times: user 273 ms, sys: 960 µs, total: 274 ms\n",
            "Wall time: 273 ms\n",
            "time: 275 ms (started: 2024-07-10 05:55:16 +00:00)\n"
          ]
        }
      ],
      "source": [
        "%%time\n",
        "# Perform similarity search based on a query using the Qdrant vector store\n",
        "query = \"What is the most important innovation from Meta?\"\n",
        "similar_docs = qdrant.similarity_search_with_score(query)"
      ]
    },
    {
      "cell_type": "code",
      "execution_count": null,
      "metadata": {
        "colab": {
          "base_uri": "https://localhost:8080/"
        },
        "id": "R0vjJsDapHD4",
        "outputId": "85512f86-1230-497d-ddef-352d7eef516f"
      },
      "outputs": [
        {
          "name": "stdout",
          "output_type": "stream",
          "text": [
            "text: Meta Reports First Quarter 2024 Results\n",
            "\n",
            "MENLO PARK, Calif. – April 24, 2024 – Meta Platforms, Inc. (Nasdaq: META) today reported financial results for the quarter ended March 31, 2024.\n",
            "\n",
            "\"It's been a good start to the year,\" said Mark Zuckerberg, Meta foun\n",
            "\n",
            "score: 0.6154119568600498\n",
            "--------------------------------------------------------------------------------\n",
            "\n",
            "text: Webcast and Conference Call Information\n",
            "\n",
            "Meta will host a conference call to discuss the results at 2:00 p.m. PT / 5:00 p.m. ET today. The live webcast of Meta's earnings conference call can be accessed at investor.fb.com, along with the earnings press rel\n",
            "\n",
            "score: 0.5711460522832437\n",
            "--------------------------------------------------------------------------------\n",
            "\n",
            "text: Reconciliation of cash, cash equivalents, and restricted cash to the condensed consolidated balance sheets\n",
            "\n",
            "Cash and cash equivalents $32,307 $11,551 Restricted cash, included in prepaid expenses and other current assets 84 224 Restricted cash, included in\n",
            "\n",
            "score: 0.4974907480897528\n",
            "--------------------------------------------------------------------------------\n",
            "\n",
            "text: This press release contains forward-looking statements regarding our future business plans and expectations. These forward-looking statements are only predictions and may differ materially from actual results due to a variety of factors including: the impa\n",
            "\n",
            "score: 0.47436779594694456\n",
            "--------------------------------------------------------------------------------\n",
            "\n",
            "time: 2.27 ms (started: 2024-07-08 16:01:39 +00:00)\n"
          ]
        }
      ],
      "source": [
        "# Print results of retrieval\n",
        "for doc, score in similar_docs:\n",
        "    print(f\"text: {doc.page_content[:256]}\\n\")\n",
        "    print(f\"score: {score}\")\n",
        "    print(\"-\" * 80)\n",
        "    print()"
      ]
    },
    {
      "cell_type": "markdown",
      "metadata": {
        "id": "R92awEn3ugNk"
      },
      "source": [
        "In the context of natural language processing (NLP) and information retrieval systems, a **retriever** refers to a component or module responsible for fetching and retrieving relevant information or documents from a database or corpus based on a given query. Retrievers play a crucial role in various applications, including search engines, question-answering systems, and document retrieval tasks.\n",
        "\n",
        "The below block configures `qdrant` as a retriever (`retriever`) and performs retrieval based on the same query. It retrieves up to 5 documents that match the query and prints their IDs and truncated content."
      ]
    },
    {
      "cell_type": "code",
      "execution_count": null,
      "metadata": {
        "colab": {
          "base_uri": "https://localhost:8080/"
        },
        "id": "pcYQO28-_pE6",
        "outputId": "21ef801a-aa23-45d6-e0eb-804a1ddbd1a9"
      },
      "outputs": [
        {
          "output_type": "stream",
          "name": "stdout",
          "text": [
            "CPU times: user 321 ms, sys: 27 ms, total: 348 ms\n",
            "Wall time: 351 ms\n",
            "time: 352 ms (started: 2024-07-10 05:55:16 +00:00)\n"
          ]
        }
      ],
      "source": [
        "# Configure Qdrant as a retriever and perform retrieval based on the query\n",
        "%%time\n",
        "retriever = qdrant.as_retriever(search_kwargs={\"k\": 5})\n",
        "retrieved_docs = retriever.invoke(query)"
      ]
    },
    {
      "cell_type": "code",
      "execution_count": null,
      "metadata": {
        "colab": {
          "base_uri": "https://localhost:8080/"
        },
        "id": "heWeRvZmSfuf",
        "outputId": "bd62a4cd-448f-4f0c-e412-3c47f517e1ab"
      },
      "outputs": [
        {
          "name": "stdout",
          "output_type": "stream",
          "text": [
            "id: 8ee19e6473454db5b1e1bb318f900f64\n",
            "\n",
            "text: Meta Reports First Quarter 2024 Results\n",
            "\n",
            "MENLO PARK, Calif. – April 24, 2024 – Meta Platforms, Inc. (Nasdaq: META) today reported financial results for the quarter ended March 31, 2024.\n",
            "\n",
            "\"It's been a good start to the year,\" said Mark Zuckerberg, Meta foun\n",
            "\n",
            "--------------------------------------------------------------------------------\n",
            "\n",
            "id: b1190e896859405b9f247816f63da732\n",
            "\n",
            "text: Webcast and Conference Call Information\n",
            "\n",
            "Meta will host a conference call to discuss the results at 2:00 p.m. PT / 5:00 p.m. ET today. The live webcast of Meta's earnings conference call can be accessed at investor.fb.com, along with the earnings press rel\n",
            "\n",
            "--------------------------------------------------------------------------------\n",
            "\n",
            "id: defde6ff0a9a40b4b5911e73df9fc6f2\n",
            "\n",
            "text: Reconciliation of cash, cash equivalents, and restricted cash to the condensed consolidated balance sheets\n",
            "\n",
            "Cash and cash equivalents $32,307 $11,551 Restricted cash, included in prepaid expenses and other current assets 84 224 Restricted cash, included in\n",
            "\n",
            "--------------------------------------------------------------------------------\n",
            "\n",
            "id: dca20c6e4e64421b81c98df52a089ca4\n",
            "\n",
            "text: This press release contains forward-looking statements regarding our future business plans and expectations. These forward-looking statements are only predictions and may differ materially from actual results due to a variety of factors including: the impa\n",
            "\n",
            "--------------------------------------------------------------------------------\n",
            "\n",
            "id: bb19b8044e9b4e548dae9fc96698be0f\n",
            "\n",
            "text: Headcount – Headcount was 69,329 as of March 31, 2024, a decrease of 10% year-over-year.\n",
            "\n",
            "CFO Outlook Commentary\n",
            "\n",
            "We expect second quarter 2024 total revenue to be in pe range of $36.5-39 billion. Our guidance assumes foreign currency is a 1% headwind to y\n",
            "\n",
            "--------------------------------------------------------------------------------\n",
            "\n",
            "time: 1.65 ms (started: 2024-07-08 16:01:47 +00:00)\n"
          ]
        }
      ],
      "source": [
        "# Print results of similarity search\n",
        "for doc in retrieved_docs:\n",
        "    print(f\"id: {doc.metadata['_id']}\\n\")\n",
        "    print(f\"text: {doc.page_content[:256]}\\n\")\n",
        "    print(\"-\" * 80)\n",
        "    print()"
      ]
    },
    {
      "cell_type": "markdown",
      "metadata": {
        "id": "SS5zSz0lvnu3"
      },
      "source": [
        "## Reranking"
      ]
    },
    {
      "cell_type": "markdown",
      "metadata": {
        "id": "iLVF7RhNugNl"
      },
      "source": [
        "FlashrankRerank specializes in *compressing* large documents into more manageable sizes while preserving essential information. This compression reduces the computational resources needed for processing and improves the efficiency of document retrieval tasks.\n",
        "\n",
        "In the below section, a `FlashrankRerank` compressor is initialized with a specific model (`ms-marco-MiniLM-L-12-v2`). This compressor is then used to create a `ContextualCompressionRetriever` (`compression_retriever`), which integrates both the retrieval and compression capabilities for further processing of document data."
      ]
    },
    {
      "cell_type": "code",
      "execution_count": null,
      "metadata": {
        "colab": {
          "base_uri": "https://localhost:8080/"
        },
        "id": "83P_6ysFzSxC",
        "outputId": "0403fc9a-562a-44cc-b7ca-679b166b7de4"
      },
      "outputs": [
        {
          "output_type": "stream",
          "name": "stdout",
          "text": [
            "time: 212 ms (started: 2024-07-10 05:55:23 +00:00)\n"
          ]
        }
      ],
      "source": [
        "compressor = FlashrankRerank(model=\"ms-marco-MiniLM-L-12-v2\")\n",
        "compression_retriever = ContextualCompressionRetriever(\n",
        "    base_compressor=compressor, base_retriever=retriever\n",
        ")"
      ]
    },
    {
      "cell_type": "markdown",
      "source": [
        "Below is the reranking process being executed:"
      ],
      "metadata": {
        "id": "PyN0MjgKHZzi"
      }
    },
    {
      "cell_type": "code",
      "execution_count": null,
      "metadata": {
        "colab": {
          "base_uri": "https://localhost:8080/"
        },
        "id": "NUVfVgihLgVD",
        "outputId": "2745fc4a-cf63-4c32-f352-1d5351c4740d"
      },
      "outputs": [
        {
          "name": "stdout",
          "output_type": "stream",
          "text": [
            "Running pairwise ranking..\n",
            "CPU times: user 3.45 s, sys: 172 ms, total: 3.62 s\n",
            "Wall time: 3.72 s\n"
          ]
        },
        {
          "data": {
            "text/plain": [
              "3"
            ]
          },
          "execution_count": 21,
          "metadata": {},
          "output_type": "execute_result"
        },
        {
          "name": "stdout",
          "output_type": "stream",
          "text": [
            "time: 3.73 s (started: 2024-07-08 16:01:53 +00:00)\n"
          ]
        }
      ],
      "source": [
        "%%time\n",
        "reranked_docs = compression_retriever.invoke(query)\n",
        "len(reranked_docs)"
      ]
    },
    {
      "cell_type": "markdown",
      "source": [
        "After reranking, the code iterates through `reranked_docs`, printing details for each document. These details help in understanding how each document is ranked and presented based on its relevance to the query."
      ],
      "metadata": {
        "id": "CfgCgdbEGosq"
      }
    },
    {
      "cell_type": "code",
      "execution_count": null,
      "metadata": {
        "colab": {
          "base_uri": "https://localhost:8080/"
        },
        "id": "JqHWLMdqPhMT",
        "outputId": "08a1b651-d4db-4c10-e4c8-e64c24f15255"
      },
      "outputs": [
        {
          "name": "stdout",
          "output_type": "stream",
          "text": [
            "id: 8ee19e6473454db5b1e1bb318f900f64\n",
            "\n",
            "text: Meta Reports First Quarter 2024 Results\n",
            "\n",
            "MENLO PARK, Calif. – April 24, 2024 – Meta Platforms, Inc. (Nasdaq: META) today reported financial results for the quarter ended March 31, 2024.\n",
            "\n",
            "\"It's been a good start to the year,\" said Mark Zuckerberg, Meta foun\n",
            "\n",
            "score: 0.1650884598493576\n",
            "--------------------------------------------------------------------------------\n",
            "\n",
            "id: b1190e896859405b9f247816f63da732\n",
            "\n",
            "text: Webcast and Conference Call Information\n",
            "\n",
            "Meta will host a conference call to discuss the results at 2:00 p.m. PT / 5:00 p.m. ET today. The live webcast of Meta's earnings conference call can be accessed at investor.fb.com, along with the earnings press rel\n",
            "\n",
            "score: 0.006229652091860771\n",
            "--------------------------------------------------------------------------------\n",
            "\n",
            "id: dca20c6e4e64421b81c98df52a089ca4\n",
            "\n",
            "text: This press release contains forward-looking statements regarding our future business plans and expectations. These forward-looking statements are only predictions and may differ materially from actual results due to a variety of factors including: the impa\n",
            "\n",
            "score: 7.912415458122268e-05\n",
            "--------------------------------------------------------------------------------\n",
            "\n",
            "time: 5.1 ms (started: 2024-07-08 16:01:57 +00:00)\n"
          ]
        }
      ],
      "source": [
        "for doc in reranked_docs:\n",
        "    print(f\"id: {doc.metadata['_id']}\\n\")\n",
        "    print(f\"text: {doc.page_content[:256]}\\n\")\n",
        "    print(f\"score: {doc.metadata['relevance_score']}\")\n",
        "    print(\"-\" * 80)\n",
        "    print()"
      ]
    },
    {
      "cell_type": "markdown",
      "metadata": {
        "id": "3ra-bCZzvrFy"
      },
      "source": [
        "## Q&A Over Document"
      ]
    },
    {
      "cell_type": "markdown",
      "source": [
        "In this script segment, we employ the Llama 3 model to perform question-answering (Q&A) over the earnings document. Groq's `ChatGroq` is used to host the LLM on the cloud while being compatible with the `LangChain` library."
      ],
      "metadata": {
        "id": "1xOaP2wXIVjr"
      }
    },
    {
      "cell_type": "code",
      "execution_count": null,
      "metadata": {
        "colab": {
          "base_uri": "https://localhost:8080/"
        },
        "id": "tjOym5svzy2j",
        "outputId": "67ac7319-fe9d-48dc-b034-e4e8d71f5c70"
      },
      "outputs": [
        {
          "output_type": "stream",
          "name": "stdout",
          "text": [
            "time: 118 ms (started: 2024-07-10 05:55:39 +00:00)\n"
          ]
        }
      ],
      "source": [
        "# Initialize the ChatGroq model\n",
        "llm = ChatGroq(temperature=0, model_name=\"llama3-70b-8192\")"
      ]
    },
    {
      "cell_type": "markdown",
      "source": [
        "Prompt engineering is used here to make sure the response is what we expect from the model. For example, by saying \"don't try to make up an answer\", the model can reduce hallucination."
      ],
      "metadata": {
        "id": "pEgHiiH4JJey"
      }
    },
    {
      "cell_type": "code",
      "execution_count": null,
      "metadata": {
        "colab": {
          "base_uri": "https://localhost:8080/"
        },
        "id": "4iqfuyMaBe6j",
        "outputId": "794cb732-5f6e-41d4-fd12-af5ec414bb94"
      },
      "outputs": [
        {
          "output_type": "stream",
          "name": "stdout",
          "text": [
            "time: 683 µs (started: 2024-07-10 05:55:50 +00:00)\n"
          ]
        }
      ],
      "source": [
        "# Define the prompt template for generating responses\n",
        "prompt_template = \"\"\"\n",
        "Use the following pieces of information to answer the user's question.\n",
        "If you don't know the answer, just say that you don't know, don't try to make up an answer.\n",
        "\n",
        "Context: {context}\n",
        "Question: {question}\n",
        "\n",
        "Answer the question and provide additional helpful information,\n",
        "based on the pieces of information, if applicable. Be succinct.\n",
        "\n",
        "Responses should be properly formatted to be easily read.\n",
        "\"\"\"\n",
        "\n",
        "# Initialize the PromptTemplate with input variables so that both context and question will be considered by the model.\n",
        "prompt = PromptTemplate(\n",
        "    template=prompt_template, input_variables=[\"context\", \"question\"]\n",
        ")"
      ]
    },
    {
      "cell_type": "markdown",
      "source": [
        "Using `RetrievalQA`, we establish a question-answering pipeline (`qa`) that integrates the Llama 3 model (`llm`), a specified chain type (`stuff`), and the compression retriever from the previous step (`compression_retriever`). This setup enables the retrieval and processing of documents to generate accurate responses aligned with user queries.\n",
        "\n",
        "The `verbose` parameter in the `chain_type_kwargs` refers to a setting that controls the level of detail or verbosity of the output during the question-answering process. Specifically, when `verbose=True` is set, it typically enables the system to provide additional information or logs that help in understanding the internal workings of the retrieval and processing pipeline."
      ],
      "metadata": {
        "id": "nCogD1SPJ2NQ"
      }
    },
    {
      "cell_type": "code",
      "execution_count": null,
      "metadata": {
        "colab": {
          "base_uri": "https://localhost:8080/"
        },
        "id": "sz2aMwNWBxvg",
        "outputId": "e700b9c2-7848-462e-f662-c2f90e415f9b"
      },
      "outputs": [
        {
          "output_type": "stream",
          "name": "stdout",
          "text": [
            "time: 4.87 ms (started: 2024-07-10 06:06:25 +00:00)\n"
          ]
        }
      ],
      "source": [
        "# Initialize the RetrievalQA chain\n",
        "qa = RetrievalQA.from_chain_type(\n",
        "    llm=llm,\n",
        "    chain_type=\"stuff\", # Example placeholder chain type\n",
        "    retriever=compression_retriever,\n",
        "    return_source_documents=False,\n",
        "    chain_type_kwargs={\"prompt\": prompt, \"verbose\": False},\n",
        ")"
      ]
    },
    {
      "cell_type": "markdown",
      "source": [
        "### significant innovation"
      ],
      "metadata": {
        "id": "pM1JB6KvMdv0"
      }
    },
    {
      "cell_type": "code",
      "execution_count": null,
      "metadata": {
        "colab": {
          "base_uri": "https://localhost:8080/"
        },
        "collapsed": true,
        "id": "J8lBIegHT0Y6",
        "outputId": "a71edcce-4e8b-4542-ad6f-cda7881b175f"
      },
      "outputs": [
        {
          "output_type": "stream",
          "name": "stdout",
          "text": [
            "Running pairwise ranking..\n",
            "\n",
            "\n",
            "\u001b[1m> Entering new StuffDocumentsChain chain...\u001b[0m\n",
            "\n",
            "\n",
            "\u001b[1m> Entering new LLMChain chain...\u001b[0m\n",
            "Prompt after formatting:\n",
            "\u001b[32;1m\u001b[1;3m\n",
            "Use the following pieces of information to answer the user's question.\n",
            "If you don't know the answer, just say that you don't know, don't try to make up an answer.\n",
            "\n",
            "Context: Meta Reports First Quarter 2024 Results\n",
            "\n",
            "MENLO PARK, Calif. – April 24, 2024 – Meta Platforms, Inc. (Nasdaq: META) today reported financial results for the quarter ended March 31, 2024.\n",
            "\n",
            "\"It's been a good start to the year,\" said Mark Zuckerberg, Meta founder and CEO. \"The new version of Meta AI with Llama 3 is another step towards building the world's leading AI. We're seeing healthy growth across our apps and we continue making steady progress building the metaverse as well.\"\n",
            "\n",
            "First Quarter 2024 Financial Highlights\n",
            "\n",
            "In millions, except percentages and per share amounts Three Months Ended March 31, 2024 2023 % Change Revenue $36,455 $28,645 27% Costs and expenses $22,637 $21,418 6% Income from operations $13,818 $7,227 91% Operating margin 38% 25% Provision for income taxes $1,814 $1,598 14% Effective tax rate 13% 22% Net income $12,369 $5,709 117% Diluted earnings per share (EPS) $4.71 $2.20 114%\n",
            "\n",
            "First Quarter 2024 Operational and Other Financial Highlights\n",
            "\n",
            "Family daily active people (DAP) – DAP was 3.24 billion on average for March 2024, an increase of 7% year-over-year.\n",
            "\n",
            "Ad impressions – Ad impressions delivered across our Family of Apps increased by 20% year-over-year.\n",
            "\n",
            "Average price per ad – Average price per ad increased by 6% year-over-year.\n",
            "\n",
            "Revenue – Total revenue and revenue on a constant currency basis were $36.46 billion and $36.35 billion, respectively, both of which increased by 27% year-over-year.\n",
            "\n",
            "Costs and expenses – Total costs and expenses were $22.64 billion, an increase of 6% year-over-year.\n",
            "\n",
            "Capital expenditures – Capital expenditures, including principal payments on finance leases, were $6.72 billion.\n",
            "\n",
            "Capital return program – Share repurchases were $14.64 billion of our Class A common stock and dividends payments were $1.27 billion.\n",
            "\n",
            "Cash, cash equivalents, and marketable securities – Cash, cash equivalents, and marketable securities were $58.12 billion as of March 31, 2024. Free cash flow was $12.53 billion.\n",
            "\n",
            "Webcast and Conference Call Information\n",
            "\n",
            "Meta will host a conference call to discuss the results at 2:00 p.m. PT / 5:00 p.m. ET today. The live webcast of Meta's earnings conference call can be accessed at investor.fb.com, along with the earnings press release, financial tables, and slide presentation. Meta uses the investor.fb.com and about.fb.com/news/ websites as well as Mark Zuckerberg's Facebook Page (facebook.com/zuck), Instagram account (instagram.com/zuck), and Threads profile (threads.net/zuck) as means of disclosing material non-public information and for complying with its disclosure obligations under Regulation FD.\n",
            "\n",
            "Following the call, a replay will be available at the same website. Transcripts of conference calls with publishing equity research analysts held today will also be posted to the investor.fb.com website.\n",
            "\n",
            "About Meta\n",
            "\n",
            "Meta builds technologies that help people connect, find communities, and grow businesses. When Facebook launched in 2004, it changed the way people connect. Apps like Messenger, Instagram, and WhatsApp further empowered billions around the world. Now, Meta is moving beyond 2D screens toward immersive experiences like augmented and virtual reality to help build the next evolution in social technology.\n",
            "\n",
            "Contacts\n",
            "\n",
            "Investors:\n",
            "Kenneth Dorell\n",
            "investor@meta.com / investor.fb.com\n",
            "\n",
            "Press:\n",
            "Ryan Moore\n",
            "press@meta.com / about.fb.com/news/\n",
            "\n",
            "Forward-Looking Statements\n",
            "\n",
            "This press release contains forward-looking statements regarding our future business plans and expectations. These forward-looking statements are only predictions and may differ materially from actual results due to a variety of factors including: the impact of macroeconomic conditions on our business and financial results, including as a result of geopolitical events; our ability to retain or increase users and engagement levels; our reliance on advertising revenue; our dependency on data signals and mobile operating systems, networks, and standards that we do not control; changes to the content or application of third-party policies that impact our advertising practices; risks associated with new products and changes to existing products as well as other new business initiatives, including our artificial intelligence initiatives and metaverse efforts; our emphasis on community growth and engagement and the user experience over short-term financial results; maintaining and enhancing our brand and reputation; our ongoing privacy, safety, security, and content review efforts; competition; risks associated with government actions that could restrict access to our products or impair our ability to sell advertising in certain countries; litigation and government inquiries; privacy, legislative, and regulatory concerns or developments; risks associated with acquisitions; security breaches; our ability to manage our scale and geographically-dispersed operations; and market conditions or other factors affecting the payment of dividends. These and other potential risks and uncertainties that could cause actual results to differ from the results predicted are more fully detailed under the caption \"Risk Factors\" in our Annual Report on Form 10-K filed with the SEC on February 2, 2024, which is available on our Investor Relations website at investor.fb.com and on the SEC website at www.sec.gov. Additional information will also be set forth in our Quarterly Report on Form 10-Q for the quarter ended March 31, 2024. In\n",
            "Question: What is the most significant innovation from Meta?\n",
            "\n",
            "Answer the question and provide additional helpful information,\n",
            "based on the pieces of information, if applicable. Be succinct.\n",
            "\n",
            "Responses should be properly formatted to be easily read.\n",
            "\u001b[0m\n",
            "\n",
            "\u001b[1m> Finished chain.\u001b[0m\n",
            "\n",
            "\u001b[1m> Finished chain.\u001b[0m\n",
            "time: 3.99 s (started: 2024-07-10 05:55:59 +00:00)\n"
          ]
        }
      ],
      "source": [
        "# Perform Q&A with a specific query\n",
        "response = qa.invoke(\"What is the most significant innovation from Meta?\")"
      ]
    },
    {
      "cell_type": "code",
      "source": [
        "# Print the response\n",
        "print_response(response)"
      ],
      "metadata": {
        "colab": {
          "base_uri": "https://localhost:8080/"
        },
        "id": "7lS3bvclNr4k",
        "outputId": "15749261-0554-4a1d-b086-0a54025ecfe9"
      },
      "execution_count": null,
      "outputs": [
        {
          "output_type": "stream",
          "name": "stdout",
          "text": [
            "Based on the provided information, the most significant innovation from Meta is the new version of\n",
            "Meta AI with Llama 3, which is mentioned in the quote from Mark Zuckerberg, Meta founder and CEO.\n",
            "This innovation is part of Meta's efforts to build the world's leading AI.\n",
            "\n",
            "Additionally, the press release highlights Meta's progress in building the metaverse, which is\n",
            "another significant innovation from the company. However, the exact details of these innovations are\n",
            "not provided in the given information.\n",
            "time: 972 µs (started: 2024-07-10 05:56:16 +00:00)\n"
          ]
        }
      ]
    },
    {
      "cell_type": "code",
      "execution_count": null,
      "metadata": {
        "colab": {
          "base_uri": "https://localhost:8080/"
        },
        "id": "Ts86Gf1bFPv0",
        "outputId": "eef73435-1980-46f8-936d-0cfd26b9758f"
      },
      "outputs": [
        {
          "name": "stdout",
          "output_type": "stream",
          "text": [
            "Based on the provided information, the most significant innovation from Meta is the new version of\n",
            "Meta AI with Llama 3, which is mentioned in the quote from Mark Zuckerberg, Meta founder and CEO.\n",
            "This is described as \"another step towards building the world's leading AI\".\n",
            "\n",
            "Additionally, the press release highlights Meta's efforts in building the metaverse, which is\n",
            "mentioned as one of the areas where the company is making steady progress. However, it does not\n",
            "provide further details on specific innovations or developments in this area.\n",
            "time: 901 µs (started: 2024-07-08 16:02:28 +00:00)\n"
          ]
        }
      ],
      "source": [
        "# Print the response (this was run two days before the above - both are similar but not the same)\n",
        "print_response(response)"
      ]
    },
    {
      "cell_type": "markdown",
      "source": [
        "### revenue for 2024 and % change"
      ],
      "metadata": {
        "id": "YkQp3vaiN_UX"
      }
    },
    {
      "cell_type": "code",
      "execution_count": null,
      "metadata": {
        "colab": {
          "base_uri": "https://localhost:8080/"
        },
        "id": "IObqfsaHYjGm",
        "outputId": "0744878c-78f5-4f70-a594-2b6bfbe48e42"
      },
      "outputs": [
        {
          "output_type": "stream",
          "name": "stdout",
          "text": [
            "Running pairwise ranking..\n",
            "\n",
            "\n",
            "\u001b[1m> Entering new StuffDocumentsChain chain...\u001b[0m\n",
            "\n",
            "\n",
            "\u001b[1m> Entering new LLMChain chain...\u001b[0m\n",
            "Prompt after formatting:\n",
            "\u001b[32;1m\u001b[1;3m\n",
            "Use the following pieces of information to answer the user's question.\n",
            "If you don't know the answer, just say that you don't know, don't try to make up an answer.\n",
            "\n",
            "Context: Reconciliation of GAAP to Non-GAAP Results\n",
            "\n",
            "Three Months Ended March 31, 2024 Three Months Ended March 31, 2023 GAAP revenue $36,455 $28,645 Foreign exchange effect on 2024 revenue using 2023 rates (106) Revenue excluding foreign exchange effect $36,349 GAAP revenue year-over-year change % 27% Revenue excluding foreign exchange effect year-over-year change % 27% GAAP advertising revenue $35,635 $28,101 Foreign exchange effect on 2024 advertising revenue using 2023 rates (105) Advertising revenue excluding foreign exchange effect $35,530 GAAP advertising revenue year-over-year change % 27% Advertising revenue excluding foreign exchange effect year-over-year change % 26%\n",
            "\n",
            "Net cash provided by operating activities $19,246 $13,998 Purchases of property and equipment, net ($6,400) ($6,823) Principal payments on finance leases ($315) ($264) Free cash flow $12,531 $6,911\n",
            "\n",
            "Meta Reports First Quarter 2024 Results\n",
            "\n",
            "MENLO PARK, Calif. – April 24, 2024 – Meta Platforms, Inc. (Nasdaq: META) today reported financial results for the quarter ended March 31, 2024.\n",
            "\n",
            "\"It's been a good start to the year,\" said Mark Zuckerberg, Meta founder and CEO. \"The new version of Meta AI with Llama 3 is another step towards building the world's leading AI. We're seeing healthy growth across our apps and we continue making steady progress building the metaverse as well.\"\n",
            "\n",
            "First Quarter 2024 Financial Highlights\n",
            "\n",
            "In millions, except percentages and per share amounts Three Months Ended March 31, 2024 2023 % Change Revenue $36,455 $28,645 27% Costs and expenses $22,637 $21,418 6% Income from operations $13,818 $7,227 91% Operating margin 38% 25% Provision for income taxes $1,814 $1,598 14% Effective tax rate 13% 22% Net income $12,369 $5,709 117% Diluted earnings per share (EPS) $4.71 $2.20 114%\n",
            "\n",
            "First Quarter 2024 Operational and Other Financial Highlights\n",
            "\n",
            "Family daily active people (DAP) – DAP was 3.24 billion on average for March 2024, an increase of 7% year-over-year.\n",
            "\n",
            "Ad impressions – Ad impressions delivered across our Family of Apps increased by 20% year-over-year.\n",
            "\n",
            "Average price per ad – Average price per ad increased by 6% year-over-year.\n",
            "\n",
            "Revenue – Total revenue and revenue on a constant currency basis were $36.46 billion and $36.35 billion, respectively, both of which increased by 27% year-over-year.\n",
            "\n",
            "Costs and expenses – Total costs and expenses were $22.64 billion, an increase of 6% year-over-year.\n",
            "\n",
            "Capital expenditures – Capital expenditures, including principal payments on finance leases, were $6.72 billion.\n",
            "\n",
            "Capital return program – Share repurchases were $14.64 billion of our Class A common stock and dividends payments were $1.27 billion.\n",
            "\n",
            "Cash, cash equivalents, and marketable securities – Cash, cash equivalents, and marketable securities were $58.12 billion as of March 31, 2024. Free cash flow was $12.53 billion.\n",
            "\n",
            "Headcount – Headcount was 69,329 as of March 31, 2024, a decrease of 10% year-over-year.\n",
            "\n",
            "CFO Outlook Commentary\n",
            "\n",
            "We expect second quarter 2024 total revenue to be in the range of $36.5-39 billion. Our guidance assumes foreign currency is a 1% headwind to year-over-year total revenue growth, based on current exchange rates.\n",
            "\n",
            "We expect full-year 2024 total expenses to be in the range of $96-99 billion, updated from our prior outlook of $94-99 billion due to higher infrastructure and legal costs. For Reality Labs, we continue to expect operating losses to increase meaningfully year-over-year due to our ongoing product development efforts and our investments to further scale our ecosystem.\n",
            "\n",
            "We anticipate our full-year 2024 capital expenditures will be in the range of $35-40 billion, increased from our prior range of $30-37 billion as we continue to accelerate our infrastructure investments to support our artificial intelligence (AI) roadmap. While we are not providing guidance for years beyond 2024, we expect capital expenditures will continue to increase next year as we invest aggressively to support our ambitious AI research and product development efforts.\n",
            "\n",
            "Absent any changes to our tax landscape, we expect our full-year 2024 tax rate to be in the mid-teens.\n",
            "\n",
            "In addition, we continue to monitor an active regulatory landscape, including the increasing legal and regulatory headwinds in the EU and the U.S. that could significantly impact our business and our financial results.\n",
            "\n",
            "Q1 was a good start to the year. We're seeing strong momentum within our Family of Apps and are making important progress on our longer-term AI and Reality Labs initiatives that have the potential to transform the way people interact with our services over the coming years.\n",
            "\n",
            "Webcast and Conference Call Information\n",
            "Question: What is the revenue for 2024 and % change?\n",
            "\n",
            "Answer the question and provide additional helpful information,\n",
            "based on the pieces of information, if applicable. Be succinct.\n",
            "\n",
            "Responses should be properly formatted to be easily read.\n",
            "\u001b[0m\n",
            "\n",
            "\u001b[1m> Finished chain.\u001b[0m\n",
            "\n",
            "\u001b[1m> Finished chain.\u001b[0m\n",
            "CPU times: user 2.52 s, sys: 6.84 ms, total: 2.52 s\n",
            "Wall time: 3.49 s\n",
            "time: 3.49 s (started: 2024-07-10 05:58:32 +00:00)\n"
          ]
        }
      ],
      "source": [
        "%%time\n",
        "response = qa.invoke(\"What is the revenue for 2024 and % change?\")"
      ]
    },
    {
      "cell_type": "code",
      "execution_count": null,
      "metadata": {
        "colab": {
          "base_uri": "https://localhost:8080/",
          "height": 172
        },
        "id": "JevCXm-sbEMo",
        "outputId": "2e2840c0-eb11-4a4a-8c1a-7434835f487c"
      },
      "outputs": [
        {
          "data": {
            "text/markdown": [
              "**Revenue for 2024 and % Change:**\n",
              "\n",
              "The revenue for 2024 is $36,455 million, which represents a 27% year-over-year change compared to 2023.\n",
              "\n",
              "**Additional Helpful Information:**\n",
              "\n",
              "* Revenue excluding foreign exchange effect is $36,349 million, which also represents a 27% year-over-year change.\n",
              "* Advertising revenue is $35,635 million, which represents a 27% year-over-year change, and advertising revenue excluding foreign exchange effect is $35,530 million, which represents a 26% year-over-year change."
            ],
            "text/plain": [
              "<IPython.core.display.Markdown object>"
            ]
          },
          "execution_count": 30,
          "metadata": {},
          "output_type": "execute_result"
        },
        {
          "name": "stdout",
          "output_type": "stream",
          "text": [
            "time: 5.23 ms (started: 2024-07-08 16:08:42 +00:00)\n"
          ]
        }
      ],
      "source": [
        "Markdown(response[\"result\"])"
      ]
    },
    {
      "cell_type": "code",
      "execution_count": null,
      "metadata": {
        "colab": {
          "base_uri": "https://localhost:8080/",
          "height": 122
        },
        "id": "QxMTQ-AOGxv4",
        "outputId": "a6fb4a62-f1d2-4762-a9e0-0669a849ac4d"
      },
      "outputs": [
        {
          "data": {
            "application/vnd.google.colaboratory.intrinsic+json": {
              "type": "string"
            },
            "text/plain": [
              "'**Revenue for 2024 and % Change:**\\n\\nThe revenue for 2024 is $36,455 million, which represents a 27% year-over-year change compared to 2023.\\n\\n**Additional Helpful Information:**\\n\\n* Revenue excluding foreign exchange effect is $36,349 million, which also represents a 27% year-over-year change.\\n* Advertising revenue is $35,635 million, which represents a 27% year-over-year change, and advertising revenue excluding foreign exchange effect is $35,530 million, which represents a 26% year-over-year change.'"
            ]
          },
          "execution_count": 31,
          "metadata": {},
          "output_type": "execute_result"
        },
        {
          "name": "stdout",
          "output_type": "stream",
          "text": [
            "time: 12.4 ms (started: 2024-07-08 16:09:07 +00:00)\n"
          ]
        }
      ],
      "source": [
        "response[\"result\"]"
      ]
    },
    {
      "cell_type": "markdown",
      "source": [
        "### revenue for 2023"
      ],
      "metadata": {
        "id": "Djhwxa-AMUzx"
      }
    },
    {
      "cell_type": "code",
      "execution_count": null,
      "metadata": {
        "colab": {
          "base_uri": "https://localhost:8080/"
        },
        "id": "R6cr0QR6C7_L",
        "outputId": "7c6ed07a-9d7e-423b-84a6-da5318b35522"
      },
      "outputs": [
        {
          "name": "stdout",
          "output_type": "stream",
          "text": [
            "Running pairwise ranking..\n",
            "CPU times: user 2.41 s, sys: 6.13 ms, total: 2.41 s\n",
            "Wall time: 3.39 s\n",
            "time: 3.39 s (started: 2024-07-08 16:19:43 +00:00)\n"
          ]
        }
      ],
      "source": [
        "%%time\n",
        "response = qa.invoke(\"What is the revenue for 2023?\")"
      ]
    },
    {
      "cell_type": "code",
      "execution_count": null,
      "metadata": {
        "colab": {
          "base_uri": "https://localhost:8080/"
        },
        "id": "0f7ASQkWJPAL",
        "outputId": "1a6953e3-cf16-4eed-d5b9-f276ecb6d989"
      },
      "outputs": [
        {
          "name": "stdout",
          "output_type": "stream",
          "text": [
            "**Answer:** The revenue for 2023 is $28,645.\n",
            "\n",
            "**Additional helpful information:**\n",
            "\n",
            "* The revenue for 2024 is $36,455, which is a 27% year-over-year increase from 2023.\n",
            "* The foreign exchange effect on 2024 revenue using 2023 rates is ($106), which means that if the\n",
            "exchange rates were the same as in 2023, the revenue would be $36,349.\n",
            "time: 1.78 ms (started: 2024-07-08 16:19:52 +00:00)\n"
          ]
        }
      ],
      "source": [
        "print_response(response)"
      ]
    },
    {
      "cell_type": "code",
      "execution_count": null,
      "metadata": {
        "colab": {
          "base_uri": "https://localhost:8080/"
        },
        "id": "NxwcVvEYb6Fi",
        "outputId": "98f292f1-0b73-47b7-8855-24a48af33d76"
      },
      "outputs": [
        {
          "name": "stdout",
          "output_type": "stream",
          "text": [
            "The revenue for 2023 is $28,645.\n",
            "\n",
            "Additional information: This is a 27% increase from the previous year, and the revenue excluding\n",
            "foreign exchange effect is also $28,645.\n"
          ]
        }
      ],
      "source": [
        "print_response(response)"
      ]
    },
    {
      "cell_type": "markdown",
      "source": [
        "### expected revenue"
      ],
      "metadata": {
        "id": "8gvjtJ0wL3_D"
      }
    },
    {
      "cell_type": "code",
      "execution_count": null,
      "metadata": {
        "colab": {
          "base_uri": "https://localhost:8080/"
        },
        "id": "D9zNlVvWm9oQ",
        "outputId": "a9d82c59-3212-4504-b7f9-e40cc67a797b"
      },
      "outputs": [
        {
          "name": "stdout",
          "output_type": "stream",
          "text": [
            "Running pairwise ranking..\n",
            "CPU times: user 2.59 s, sys: 9.42 ms, total: 2.6 s\n",
            "Wall time: 6.58 s\n"
          ]
        }
      ],
      "source": [
        "%%time\n",
        "response = qa.invoke(\"What is the expected revenue for the second quarter of 2024?\")"
      ]
    },
    {
      "cell_type": "code",
      "execution_count": null,
      "metadata": {
        "colab": {
          "base_uri": "https://localhost:8080/",
          "height": 70
        },
        "id": "wimlevzZm-w3",
        "outputId": "4958bdd5-24aa-4947-883f-2343ee9b1ea4"
      },
      "outputs": [
        {
          "data": {
            "text/markdown": [
              "**Answer:** The expected revenue for the second quarter of 2024 is in the range of $36.5-39 billion.\n",
              "\n",
              "**Additional information:** This guidance assumes a 1% headwind to year-over-year total revenue growth due to foreign currency exchange rates."
            ],
            "text/plain": [
              "<IPython.core.display.Markdown object>"
            ]
          },
          "execution_count": 38,
          "metadata": {},
          "output_type": "execute_result"
        }
      ],
      "source": [
        "Markdown(response[\"result\"])"
      ]
    },
    {
      "cell_type": "markdown",
      "source": [
        "### overall outlook"
      ],
      "metadata": {
        "id": "GfQ974WuL0la"
      }
    },
    {
      "cell_type": "code",
      "execution_count": null,
      "metadata": {
        "colab": {
          "base_uri": "https://localhost:8080/"
        },
        "id": "YoToCv3znIVB",
        "outputId": "9dc6bf5b-e718-4caa-efaf-318ac0c5db5f"
      },
      "outputs": [
        {
          "name": "stdout",
          "output_type": "stream",
          "text": [
            "Running pairwise ranking..\n",
            "CPU times: user 3.44 s, sys: 12.9 ms, total: 3.45 s\n",
            "Wall time: 8.28 s\n"
          ]
        }
      ],
      "source": [
        "%%time\n",
        "response = qa.invoke(\"What is the overall outlook of Q1 2024?\")"
      ]
    },
    {
      "cell_type": "code",
      "execution_count": null,
      "metadata": {
        "colab": {
          "base_uri": "https://localhost:8080/"
        },
        "id": "EFtaBY3Vn09U",
        "outputId": "ffbfcacb-3e8a-40d0-8bf4-0e9f0897c85d"
      },
      "outputs": [
        {
          "name": "stdout",
          "output_type": "stream",
          "text": [
            "**Overall Outlook of Q1 2024:**\n",
            "\n",
            "The overall outlook of Q1 2024 is positive. According to Mark Zuckerberg, \"It's been a good start to\n",
            "the year.\" The company has reported strong financial results, with revenue increasing by 27% year-\n",
            "over-year to $36.46 billion. Net income has also increased by 117% year-over-year to $12.37 billion.\n",
            "\n",
            "**Additional Highlights:**\n",
            "\n",
            "* Family daily active people (DAP) increased by 7% year-over-year to 3.24 billion.\n",
            "* Ad impressions increased by 20% year-over-year.\n",
            "* Average price per ad increased by 6% year-over-year.\n",
            "* Capital expenditures were $6.72 billion, and free cash flow was $12.53 billion.\n",
            "* The company has also reported a strong capital return program, with share repurchases of $14.64\n",
            "billion and dividend payments of $1.27 billion.\n"
          ]
        }
      ],
      "source": [
        "print_response(response)"
      ]
    },
    {
      "cell_type": "markdown",
      "source": [
        "### and ... any further questions?"
      ],
      "metadata": {
        "id": "iO4OfDlSPZNf"
      }
    },
    {
      "cell_type": "markdown",
      "source": [
        "To convert the question into an input field that users can interact with directly, you can use `input()` function in Python, like this:"
      ],
      "metadata": {
        "id": "MufSZKj3Phtt"
      }
    },
    {
      "cell_type": "code",
      "source": [
        "# Define a function to perform Q&A with user input\n",
        "def perform_qa_with_input():\n",
        "    question = input(\"Enter your question: \")\n",
        "    response = qa.invoke(question)\n",
        "    return response\n",
        "\n",
        "# Example usage\n",
        "response = perform_qa_with_input()\n",
        "print_response(response)"
      ],
      "metadata": {
        "colab": {
          "base_uri": "https://localhost:8080/"
        },
        "id": "1y2ZB9bRPc4u",
        "outputId": "9dd79552-0f6a-476f-9405-01298c1cad90"
      },
      "execution_count": null,
      "outputs": [
        {
          "output_type": "stream",
          "name": "stdout",
          "text": [
            "Enter your question: When will Meta host the conference call?\n",
            "Running pairwise ranking..\n",
            "**Answer:** Meta will host the conference call at 2:00 p.m. PT / 5:00 p.m. ET today.\n",
            "\n",
            "**Additional helpful information:**\n",
            "\n",
            "* The live webcast of Meta's earnings conference call can be accessed at investor.fb.com.\n",
            "* A replay of the call will be available at the same website after the call.\n",
            "* Transcripts of conference calls with publishing equity research analysts held today will also be\n",
            "posted to the investor.fb.com website.\n",
            "time: 14.8 s (started: 2024-07-10 06:06:47 +00:00)\n"
          ]
        }
      ]
    },
    {
      "cell_type": "markdown",
      "source": [
        "# References\n",
        "- [Meta Reports First Quarter 2024 Results](https://s21.q4cdn.com/399680738/files/doc_financials/2024/q1/Meta-03-31-2024-Exhibit-99-1_FINAL.pdf)\n",
        "- [PCAOB Audit Standards](https://assets.pcaobus.org/pcaob-dev/docs/default-source/standards/auditing/documents/auditing_standards_audits_after_december_15_2020_december_14_2024.pdf?sfvrsn=915b22d3_1)"
      ],
      "metadata": {
        "id": "xD32bQb5FI68"
      }
    }
  ],
  "metadata": {
    "colab": {
      "provenance": [],
      "toc_visible": true,
      "include_colab_link": true
    },
    "kernelspec": {
      "display_name": "Python 3 (ipykernel)",
      "language": "python",
      "name": "python3"
    },
    "language_info": {
      "codemirror_mode": {
        "name": "ipython",
        "version": 3
      },
      "file_extension": ".py",
      "mimetype": "text/x-python",
      "name": "python",
      "nbconvert_exporter": "python",
      "pygments_lexer": "ipython3",
      "version": "3.8.13"
    },
    "widgets": {
      "application/vnd.jupyter.widget-state+json": {
        "25b418eb305140c68c35e2e7c744504d": {
          "model_module": "@jupyter-widgets/controls",
          "model_name": "HBoxModel",
          "model_module_version": "1.5.0",
          "state": {
            "_dom_classes": [],
            "_model_module": "@jupyter-widgets/controls",
            "_model_module_version": "1.5.0",
            "_model_name": "HBoxModel",
            "_view_count": null,
            "_view_module": "@jupyter-widgets/controls",
            "_view_module_version": "1.5.0",
            "_view_name": "HBoxView",
            "box_style": "",
            "children": [
              "IPY_MODEL_2b51394e3856437c94fd289ff0b237c2",
              "IPY_MODEL_9fd4456ec51c4d8da0379be6a836bfb3",
              "IPY_MODEL_1375489dcdbe4b369c7eb86332d13383"
            ],
            "layout": "IPY_MODEL_3497624ced2348038818cbd5f793fef0"
          }
        },
        "2b51394e3856437c94fd289ff0b237c2": {
          "model_module": "@jupyter-widgets/controls",
          "model_name": "HTMLModel",
          "model_module_version": "1.5.0",
          "state": {
            "_dom_classes": [],
            "_model_module": "@jupyter-widgets/controls",
            "_model_module_version": "1.5.0",
            "_model_name": "HTMLModel",
            "_view_count": null,
            "_view_module": "@jupyter-widgets/controls",
            "_view_module_version": "1.5.0",
            "_view_name": "HTMLView",
            "description": "",
            "description_tooltip": null,
            "layout": "IPY_MODEL_3dc99e431b314e32b1b3644038c28c09",
            "placeholder": "​",
            "style": "IPY_MODEL_b735a028df0045579f4f7410945a255f",
            "value": "Fetching 5 files: 100%"
          }
        },
        "9fd4456ec51c4d8da0379be6a836bfb3": {
          "model_module": "@jupyter-widgets/controls",
          "model_name": "FloatProgressModel",
          "model_module_version": "1.5.0",
          "state": {
            "_dom_classes": [],
            "_model_module": "@jupyter-widgets/controls",
            "_model_module_version": "1.5.0",
            "_model_name": "FloatProgressModel",
            "_view_count": null,
            "_view_module": "@jupyter-widgets/controls",
            "_view_module_version": "1.5.0",
            "_view_name": "ProgressView",
            "bar_style": "success",
            "description": "",
            "description_tooltip": null,
            "layout": "IPY_MODEL_cac758e92b194f55bf24f443c5ecc056",
            "max": 5,
            "min": 0,
            "orientation": "horizontal",
            "style": "IPY_MODEL_cd78ba0f7d324be38558dbd2dc0fac07",
            "value": 5
          }
        },
        "1375489dcdbe4b369c7eb86332d13383": {
          "model_module": "@jupyter-widgets/controls",
          "model_name": "HTMLModel",
          "model_module_version": "1.5.0",
          "state": {
            "_dom_classes": [],
            "_model_module": "@jupyter-widgets/controls",
            "_model_module_version": "1.5.0",
            "_model_name": "HTMLModel",
            "_view_count": null,
            "_view_module": "@jupyter-widgets/controls",
            "_view_module_version": "1.5.0",
            "_view_name": "HTMLView",
            "description": "",
            "description_tooltip": null,
            "layout": "IPY_MODEL_27e4dc6f04044cce98920208655061ae",
            "placeholder": "​",
            "style": "IPY_MODEL_d730d6d1cbac4b188ca6ded53d7c5055",
            "value": " 5/5 [00:07&lt;00:00,  4.45s/it]"
          }
        },
        "3497624ced2348038818cbd5f793fef0": {
          "model_module": "@jupyter-widgets/base",
          "model_name": "LayoutModel",
          "model_module_version": "1.2.0",
          "state": {
            "_model_module": "@jupyter-widgets/base",
            "_model_module_version": "1.2.0",
            "_model_name": "LayoutModel",
            "_view_count": null,
            "_view_module": "@jupyter-widgets/base",
            "_view_module_version": "1.2.0",
            "_view_name": "LayoutView",
            "align_content": null,
            "align_items": null,
            "align_self": null,
            "border": null,
            "bottom": null,
            "display": null,
            "flex": null,
            "flex_flow": null,
            "grid_area": null,
            "grid_auto_columns": null,
            "grid_auto_flow": null,
            "grid_auto_rows": null,
            "grid_column": null,
            "grid_gap": null,
            "grid_row": null,
            "grid_template_areas": null,
            "grid_template_columns": null,
            "grid_template_rows": null,
            "height": null,
            "justify_content": null,
            "justify_items": null,
            "left": null,
            "margin": null,
            "max_height": null,
            "max_width": null,
            "min_height": null,
            "min_width": null,
            "object_fit": null,
            "object_position": null,
            "order": null,
            "overflow": null,
            "overflow_x": null,
            "overflow_y": null,
            "padding": null,
            "right": null,
            "top": null,
            "visibility": null,
            "width": null
          }
        },
        "3dc99e431b314e32b1b3644038c28c09": {
          "model_module": "@jupyter-widgets/base",
          "model_name": "LayoutModel",
          "model_module_version": "1.2.0",
          "state": {
            "_model_module": "@jupyter-widgets/base",
            "_model_module_version": "1.2.0",
            "_model_name": "LayoutModel",
            "_view_count": null,
            "_view_module": "@jupyter-widgets/base",
            "_view_module_version": "1.2.0",
            "_view_name": "LayoutView",
            "align_content": null,
            "align_items": null,
            "align_self": null,
            "border": null,
            "bottom": null,
            "display": null,
            "flex": null,
            "flex_flow": null,
            "grid_area": null,
            "grid_auto_columns": null,
            "grid_auto_flow": null,
            "grid_auto_rows": null,
            "grid_column": null,
            "grid_gap": null,
            "grid_row": null,
            "grid_template_areas": null,
            "grid_template_columns": null,
            "grid_template_rows": null,
            "height": null,
            "justify_content": null,
            "justify_items": null,
            "left": null,
            "margin": null,
            "max_height": null,
            "max_width": null,
            "min_height": null,
            "min_width": null,
            "object_fit": null,
            "object_position": null,
            "order": null,
            "overflow": null,
            "overflow_x": null,
            "overflow_y": null,
            "padding": null,
            "right": null,
            "top": null,
            "visibility": null,
            "width": null
          }
        },
        "b735a028df0045579f4f7410945a255f": {
          "model_module": "@jupyter-widgets/controls",
          "model_name": "DescriptionStyleModel",
          "model_module_version": "1.5.0",
          "state": {
            "_model_module": "@jupyter-widgets/controls",
            "_model_module_version": "1.5.0",
            "_model_name": "DescriptionStyleModel",
            "_view_count": null,
            "_view_module": "@jupyter-widgets/base",
            "_view_module_version": "1.2.0",
            "_view_name": "StyleView",
            "description_width": ""
          }
        },
        "cac758e92b194f55bf24f443c5ecc056": {
          "model_module": "@jupyter-widgets/base",
          "model_name": "LayoutModel",
          "model_module_version": "1.2.0",
          "state": {
            "_model_module": "@jupyter-widgets/base",
            "_model_module_version": "1.2.0",
            "_model_name": "LayoutModel",
            "_view_count": null,
            "_view_module": "@jupyter-widgets/base",
            "_view_module_version": "1.2.0",
            "_view_name": "LayoutView",
            "align_content": null,
            "align_items": null,
            "align_self": null,
            "border": null,
            "bottom": null,
            "display": null,
            "flex": null,
            "flex_flow": null,
            "grid_area": null,
            "grid_auto_columns": null,
            "grid_auto_flow": null,
            "grid_auto_rows": null,
            "grid_column": null,
            "grid_gap": null,
            "grid_row": null,
            "grid_template_areas": null,
            "grid_template_columns": null,
            "grid_template_rows": null,
            "height": null,
            "justify_content": null,
            "justify_items": null,
            "left": null,
            "margin": null,
            "max_height": null,
            "max_width": null,
            "min_height": null,
            "min_width": null,
            "object_fit": null,
            "object_position": null,
            "order": null,
            "overflow": null,
            "overflow_x": null,
            "overflow_y": null,
            "padding": null,
            "right": null,
            "top": null,
            "visibility": null,
            "width": null
          }
        },
        "cd78ba0f7d324be38558dbd2dc0fac07": {
          "model_module": "@jupyter-widgets/controls",
          "model_name": "ProgressStyleModel",
          "model_module_version": "1.5.0",
          "state": {
            "_model_module": "@jupyter-widgets/controls",
            "_model_module_version": "1.5.0",
            "_model_name": "ProgressStyleModel",
            "_view_count": null,
            "_view_module": "@jupyter-widgets/base",
            "_view_module_version": "1.2.0",
            "_view_name": "StyleView",
            "bar_color": null,
            "description_width": ""
          }
        },
        "27e4dc6f04044cce98920208655061ae": {
          "model_module": "@jupyter-widgets/base",
          "model_name": "LayoutModel",
          "model_module_version": "1.2.0",
          "state": {
            "_model_module": "@jupyter-widgets/base",
            "_model_module_version": "1.2.0",
            "_model_name": "LayoutModel",
            "_view_count": null,
            "_view_module": "@jupyter-widgets/base",
            "_view_module_version": "1.2.0",
            "_view_name": "LayoutView",
            "align_content": null,
            "align_items": null,
            "align_self": null,
            "border": null,
            "bottom": null,
            "display": null,
            "flex": null,
            "flex_flow": null,
            "grid_area": null,
            "grid_auto_columns": null,
            "grid_auto_flow": null,
            "grid_auto_rows": null,
            "grid_column": null,
            "grid_gap": null,
            "grid_row": null,
            "grid_template_areas": null,
            "grid_template_columns": null,
            "grid_template_rows": null,
            "height": null,
            "justify_content": null,
            "justify_items": null,
            "left": null,
            "margin": null,
            "max_height": null,
            "max_width": null,
            "min_height": null,
            "min_width": null,
            "object_fit": null,
            "object_position": null,
            "order": null,
            "overflow": null,
            "overflow_x": null,
            "overflow_y": null,
            "padding": null,
            "right": null,
            "top": null,
            "visibility": null,
            "width": null
          }
        },
        "d730d6d1cbac4b188ca6ded53d7c5055": {
          "model_module": "@jupyter-widgets/controls",
          "model_name": "DescriptionStyleModel",
          "model_module_version": "1.5.0",
          "state": {
            "_model_module": "@jupyter-widgets/controls",
            "_model_module_version": "1.5.0",
            "_model_name": "DescriptionStyleModel",
            "_view_count": null,
            "_view_module": "@jupyter-widgets/base",
            "_view_module_version": "1.2.0",
            "_view_name": "StyleView",
            "description_width": ""
          }
        },
        "eaa9ba6ac3bb4ae89b05204ca4ed18cd": {
          "model_module": "@jupyter-widgets/controls",
          "model_name": "HBoxModel",
          "model_module_version": "1.5.0",
          "state": {
            "_dom_classes": [],
            "_model_module": "@jupyter-widgets/controls",
            "_model_module_version": "1.5.0",
            "_model_name": "HBoxModel",
            "_view_count": null,
            "_view_module": "@jupyter-widgets/controls",
            "_view_module_version": "1.5.0",
            "_view_name": "HBoxView",
            "box_style": "",
            "children": [
              "IPY_MODEL_405a09d8e04f4f66a5e8b2cbab5f26f0",
              "IPY_MODEL_bfb072dc783a4aad81bbbc13bca3f7f5",
              "IPY_MODEL_953a8ce0413d473299a09444a0ce69ed"
            ],
            "layout": "IPY_MODEL_799ebcb4f95e48269787af30d315ba9a"
          }
        },
        "405a09d8e04f4f66a5e8b2cbab5f26f0": {
          "model_module": "@jupyter-widgets/controls",
          "model_name": "HTMLModel",
          "model_module_version": "1.5.0",
          "state": {
            "_dom_classes": [],
            "_model_module": "@jupyter-widgets/controls",
            "_model_module_version": "1.5.0",
            "_model_name": "HTMLModel",
            "_view_count": null,
            "_view_module": "@jupyter-widgets/controls",
            "_view_module_version": "1.5.0",
            "_view_name": "HTMLView",
            "description": "",
            "description_tooltip": null,
            "layout": "IPY_MODEL_a2e530103edd4354be56480ed754c282",
            "placeholder": "​",
            "style": "IPY_MODEL_14f5d42710ac48bc845598640de09b8c",
            "value": "special_tokens_map.json: 100%"
          }
        },
        "bfb072dc783a4aad81bbbc13bca3f7f5": {
          "model_module": "@jupyter-widgets/controls",
          "model_name": "FloatProgressModel",
          "model_module_version": "1.5.0",
          "state": {
            "_dom_classes": [],
            "_model_module": "@jupyter-widgets/controls",
            "_model_module_version": "1.5.0",
            "_model_name": "FloatProgressModel",
            "_view_count": null,
            "_view_module": "@jupyter-widgets/controls",
            "_view_module_version": "1.5.0",
            "_view_name": "ProgressView",
            "bar_style": "success",
            "description": "",
            "description_tooltip": null,
            "layout": "IPY_MODEL_1000cef83a5f4b02b65b7708a01ad9c7",
            "max": 695,
            "min": 0,
            "orientation": "horizontal",
            "style": "IPY_MODEL_534c1f258f2a42eb9047dbf5d883ec7e",
            "value": 695
          }
        },
        "953a8ce0413d473299a09444a0ce69ed": {
          "model_module": "@jupyter-widgets/controls",
          "model_name": "HTMLModel",
          "model_module_version": "1.5.0",
          "state": {
            "_dom_classes": [],
            "_model_module": "@jupyter-widgets/controls",
            "_model_module_version": "1.5.0",
            "_model_name": "HTMLModel",
            "_view_count": null,
            "_view_module": "@jupyter-widgets/controls",
            "_view_module_version": "1.5.0",
            "_view_name": "HTMLView",
            "description": "",
            "description_tooltip": null,
            "layout": "IPY_MODEL_ebb929e6572a475dbdd4b6b42a3dd120",
            "placeholder": "​",
            "style": "IPY_MODEL_603a955d0d054b7585facff9312f4466",
            "value": " 695/695 [00:00&lt;00:00, 31.4kB/s]"
          }
        },
        "799ebcb4f95e48269787af30d315ba9a": {
          "model_module": "@jupyter-widgets/base",
          "model_name": "LayoutModel",
          "model_module_version": "1.2.0",
          "state": {
            "_model_module": "@jupyter-widgets/base",
            "_model_module_version": "1.2.0",
            "_model_name": "LayoutModel",
            "_view_count": null,
            "_view_module": "@jupyter-widgets/base",
            "_view_module_version": "1.2.0",
            "_view_name": "LayoutView",
            "align_content": null,
            "align_items": null,
            "align_self": null,
            "border": null,
            "bottom": null,
            "display": null,
            "flex": null,
            "flex_flow": null,
            "grid_area": null,
            "grid_auto_columns": null,
            "grid_auto_flow": null,
            "grid_auto_rows": null,
            "grid_column": null,
            "grid_gap": null,
            "grid_row": null,
            "grid_template_areas": null,
            "grid_template_columns": null,
            "grid_template_rows": null,
            "height": null,
            "justify_content": null,
            "justify_items": null,
            "left": null,
            "margin": null,
            "max_height": null,
            "max_width": null,
            "min_height": null,
            "min_width": null,
            "object_fit": null,
            "object_position": null,
            "order": null,
            "overflow": null,
            "overflow_x": null,
            "overflow_y": null,
            "padding": null,
            "right": null,
            "top": null,
            "visibility": null,
            "width": null
          }
        },
        "a2e530103edd4354be56480ed754c282": {
          "model_module": "@jupyter-widgets/base",
          "model_name": "LayoutModel",
          "model_module_version": "1.2.0",
          "state": {
            "_model_module": "@jupyter-widgets/base",
            "_model_module_version": "1.2.0",
            "_model_name": "LayoutModel",
            "_view_count": null,
            "_view_module": "@jupyter-widgets/base",
            "_view_module_version": "1.2.0",
            "_view_name": "LayoutView",
            "align_content": null,
            "align_items": null,
            "align_self": null,
            "border": null,
            "bottom": null,
            "display": null,
            "flex": null,
            "flex_flow": null,
            "grid_area": null,
            "grid_auto_columns": null,
            "grid_auto_flow": null,
            "grid_auto_rows": null,
            "grid_column": null,
            "grid_gap": null,
            "grid_row": null,
            "grid_template_areas": null,
            "grid_template_columns": null,
            "grid_template_rows": null,
            "height": null,
            "justify_content": null,
            "justify_items": null,
            "left": null,
            "margin": null,
            "max_height": null,
            "max_width": null,
            "min_height": null,
            "min_width": null,
            "object_fit": null,
            "object_position": null,
            "order": null,
            "overflow": null,
            "overflow_x": null,
            "overflow_y": null,
            "padding": null,
            "right": null,
            "top": null,
            "visibility": null,
            "width": null
          }
        },
        "14f5d42710ac48bc845598640de09b8c": {
          "model_module": "@jupyter-widgets/controls",
          "model_name": "DescriptionStyleModel",
          "model_module_version": "1.5.0",
          "state": {
            "_model_module": "@jupyter-widgets/controls",
            "_model_module_version": "1.5.0",
            "_model_name": "DescriptionStyleModel",
            "_view_count": null,
            "_view_module": "@jupyter-widgets/base",
            "_view_module_version": "1.2.0",
            "_view_name": "StyleView",
            "description_width": ""
          }
        },
        "1000cef83a5f4b02b65b7708a01ad9c7": {
          "model_module": "@jupyter-widgets/base",
          "model_name": "LayoutModel",
          "model_module_version": "1.2.0",
          "state": {
            "_model_module": "@jupyter-widgets/base",
            "_model_module_version": "1.2.0",
            "_model_name": "LayoutModel",
            "_view_count": null,
            "_view_module": "@jupyter-widgets/base",
            "_view_module_version": "1.2.0",
            "_view_name": "LayoutView",
            "align_content": null,
            "align_items": null,
            "align_self": null,
            "border": null,
            "bottom": null,
            "display": null,
            "flex": null,
            "flex_flow": null,
            "grid_area": null,
            "grid_auto_columns": null,
            "grid_auto_flow": null,
            "grid_auto_rows": null,
            "grid_column": null,
            "grid_gap": null,
            "grid_row": null,
            "grid_template_areas": null,
            "grid_template_columns": null,
            "grid_template_rows": null,
            "height": null,
            "justify_content": null,
            "justify_items": null,
            "left": null,
            "margin": null,
            "max_height": null,
            "max_width": null,
            "min_height": null,
            "min_width": null,
            "object_fit": null,
            "object_position": null,
            "order": null,
            "overflow": null,
            "overflow_x": null,
            "overflow_y": null,
            "padding": null,
            "right": null,
            "top": null,
            "visibility": null,
            "width": null
          }
        },
        "534c1f258f2a42eb9047dbf5d883ec7e": {
          "model_module": "@jupyter-widgets/controls",
          "model_name": "ProgressStyleModel",
          "model_module_version": "1.5.0",
          "state": {
            "_model_module": "@jupyter-widgets/controls",
            "_model_module_version": "1.5.0",
            "_model_name": "ProgressStyleModel",
            "_view_count": null,
            "_view_module": "@jupyter-widgets/base",
            "_view_module_version": "1.2.0",
            "_view_name": "StyleView",
            "bar_color": null,
            "description_width": ""
          }
        },
        "ebb929e6572a475dbdd4b6b42a3dd120": {
          "model_module": "@jupyter-widgets/base",
          "model_name": "LayoutModel",
          "model_module_version": "1.2.0",
          "state": {
            "_model_module": "@jupyter-widgets/base",
            "_model_module_version": "1.2.0",
            "_model_name": "LayoutModel",
            "_view_count": null,
            "_view_module": "@jupyter-widgets/base",
            "_view_module_version": "1.2.0",
            "_view_name": "LayoutView",
            "align_content": null,
            "align_items": null,
            "align_self": null,
            "border": null,
            "bottom": null,
            "display": null,
            "flex": null,
            "flex_flow": null,
            "grid_area": null,
            "grid_auto_columns": null,
            "grid_auto_flow": null,
            "grid_auto_rows": null,
            "grid_column": null,
            "grid_gap": null,
            "grid_row": null,
            "grid_template_areas": null,
            "grid_template_columns": null,
            "grid_template_rows": null,
            "height": null,
            "justify_content": null,
            "justify_items": null,
            "left": null,
            "margin": null,
            "max_height": null,
            "max_width": null,
            "min_height": null,
            "min_width": null,
            "object_fit": null,
            "object_position": null,
            "order": null,
            "overflow": null,
            "overflow_x": null,
            "overflow_y": null,
            "padding": null,
            "right": null,
            "top": null,
            "visibility": null,
            "width": null
          }
        },
        "603a955d0d054b7585facff9312f4466": {
          "model_module": "@jupyter-widgets/controls",
          "model_name": "DescriptionStyleModel",
          "model_module_version": "1.5.0",
          "state": {
            "_model_module": "@jupyter-widgets/controls",
            "_model_module_version": "1.5.0",
            "_model_name": "DescriptionStyleModel",
            "_view_count": null,
            "_view_module": "@jupyter-widgets/base",
            "_view_module_version": "1.2.0",
            "_view_name": "StyleView",
            "description_width": ""
          }
        },
        "df0d387166564670a5d416680453c53c": {
          "model_module": "@jupyter-widgets/controls",
          "model_name": "HBoxModel",
          "model_module_version": "1.5.0",
          "state": {
            "_dom_classes": [],
            "_model_module": "@jupyter-widgets/controls",
            "_model_module_version": "1.5.0",
            "_model_name": "HBoxModel",
            "_view_count": null,
            "_view_module": "@jupyter-widgets/controls",
            "_view_module_version": "1.5.0",
            "_view_name": "HBoxView",
            "box_style": "",
            "children": [
              "IPY_MODEL_569e8817dfb94925b36acae202d3557c",
              "IPY_MODEL_75a34c43812145cb94dba624a8ca3e57",
              "IPY_MODEL_df9bfee2840946faa7137bcc9316c81f"
            ],
            "layout": "IPY_MODEL_33e2158d49c847999420fd4cc83eb7ab"
          }
        },
        "569e8817dfb94925b36acae202d3557c": {
          "model_module": "@jupyter-widgets/controls",
          "model_name": "HTMLModel",
          "model_module_version": "1.5.0",
          "state": {
            "_dom_classes": [],
            "_model_module": "@jupyter-widgets/controls",
            "_model_module_version": "1.5.0",
            "_model_name": "HTMLModel",
            "_view_count": null,
            "_view_module": "@jupyter-widgets/controls",
            "_view_module_version": "1.5.0",
            "_view_name": "HTMLView",
            "description": "",
            "description_tooltip": null,
            "layout": "IPY_MODEL_66a59820771b4512b7835bc6e0261c53",
            "placeholder": "​",
            "style": "IPY_MODEL_5c4d9acfcc5e426680e804686bb5ec88",
            "value": "tokenizer_config.json: 100%"
          }
        },
        "75a34c43812145cb94dba624a8ca3e57": {
          "model_module": "@jupyter-widgets/controls",
          "model_name": "FloatProgressModel",
          "model_module_version": "1.5.0",
          "state": {
            "_dom_classes": [],
            "_model_module": "@jupyter-widgets/controls",
            "_model_module_version": "1.5.0",
            "_model_name": "FloatProgressModel",
            "_view_count": null,
            "_view_module": "@jupyter-widgets/controls",
            "_view_module_version": "1.5.0",
            "_view_name": "ProgressView",
            "bar_style": "success",
            "description": "",
            "description_tooltip": null,
            "layout": "IPY_MODEL_9e4d7baa881d4eab9c6c542e267b2664",
            "max": 1242,
            "min": 0,
            "orientation": "horizontal",
            "style": "IPY_MODEL_efb87ea45a1044ffa64e2dea02cc3dbd",
            "value": 1242
          }
        },
        "df9bfee2840946faa7137bcc9316c81f": {
          "model_module": "@jupyter-widgets/controls",
          "model_name": "HTMLModel",
          "model_module_version": "1.5.0",
          "state": {
            "_dom_classes": [],
            "_model_module": "@jupyter-widgets/controls",
            "_model_module_version": "1.5.0",
            "_model_name": "HTMLModel",
            "_view_count": null,
            "_view_module": "@jupyter-widgets/controls",
            "_view_module_version": "1.5.0",
            "_view_name": "HTMLView",
            "description": "",
            "description_tooltip": null,
            "layout": "IPY_MODEL_f8007a6ee18c49feb30208f74762fbfe",
            "placeholder": "​",
            "style": "IPY_MODEL_b1657c3764554910851c8b74deb94d38",
            "value": " 1.24k/1.24k [00:00&lt;00:00, 35.8kB/s]"
          }
        },
        "33e2158d49c847999420fd4cc83eb7ab": {
          "model_module": "@jupyter-widgets/base",
          "model_name": "LayoutModel",
          "model_module_version": "1.2.0",
          "state": {
            "_model_module": "@jupyter-widgets/base",
            "_model_module_version": "1.2.0",
            "_model_name": "LayoutModel",
            "_view_count": null,
            "_view_module": "@jupyter-widgets/base",
            "_view_module_version": "1.2.0",
            "_view_name": "LayoutView",
            "align_content": null,
            "align_items": null,
            "align_self": null,
            "border": null,
            "bottom": null,
            "display": null,
            "flex": null,
            "flex_flow": null,
            "grid_area": null,
            "grid_auto_columns": null,
            "grid_auto_flow": null,
            "grid_auto_rows": null,
            "grid_column": null,
            "grid_gap": null,
            "grid_row": null,
            "grid_template_areas": null,
            "grid_template_columns": null,
            "grid_template_rows": null,
            "height": null,
            "justify_content": null,
            "justify_items": null,
            "left": null,
            "margin": null,
            "max_height": null,
            "max_width": null,
            "min_height": null,
            "min_width": null,
            "object_fit": null,
            "object_position": null,
            "order": null,
            "overflow": null,
            "overflow_x": null,
            "overflow_y": null,
            "padding": null,
            "right": null,
            "top": null,
            "visibility": null,
            "width": null
          }
        },
        "66a59820771b4512b7835bc6e0261c53": {
          "model_module": "@jupyter-widgets/base",
          "model_name": "LayoutModel",
          "model_module_version": "1.2.0",
          "state": {
            "_model_module": "@jupyter-widgets/base",
            "_model_module_version": "1.2.0",
            "_model_name": "LayoutModel",
            "_view_count": null,
            "_view_module": "@jupyter-widgets/base",
            "_view_module_version": "1.2.0",
            "_view_name": "LayoutView",
            "align_content": null,
            "align_items": null,
            "align_self": null,
            "border": null,
            "bottom": null,
            "display": null,
            "flex": null,
            "flex_flow": null,
            "grid_area": null,
            "grid_auto_columns": null,
            "grid_auto_flow": null,
            "grid_auto_rows": null,
            "grid_column": null,
            "grid_gap": null,
            "grid_row": null,
            "grid_template_areas": null,
            "grid_template_columns": null,
            "grid_template_rows": null,
            "height": null,
            "justify_content": null,
            "justify_items": null,
            "left": null,
            "margin": null,
            "max_height": null,
            "max_width": null,
            "min_height": null,
            "min_width": null,
            "object_fit": null,
            "object_position": null,
            "order": null,
            "overflow": null,
            "overflow_x": null,
            "overflow_y": null,
            "padding": null,
            "right": null,
            "top": null,
            "visibility": null,
            "width": null
          }
        },
        "5c4d9acfcc5e426680e804686bb5ec88": {
          "model_module": "@jupyter-widgets/controls",
          "model_name": "DescriptionStyleModel",
          "model_module_version": "1.5.0",
          "state": {
            "_model_module": "@jupyter-widgets/controls",
            "_model_module_version": "1.5.0",
            "_model_name": "DescriptionStyleModel",
            "_view_count": null,
            "_view_module": "@jupyter-widgets/base",
            "_view_module_version": "1.2.0",
            "_view_name": "StyleView",
            "description_width": ""
          }
        },
        "9e4d7baa881d4eab9c6c542e267b2664": {
          "model_module": "@jupyter-widgets/base",
          "model_name": "LayoutModel",
          "model_module_version": "1.2.0",
          "state": {
            "_model_module": "@jupyter-widgets/base",
            "_model_module_version": "1.2.0",
            "_model_name": "LayoutModel",
            "_view_count": null,
            "_view_module": "@jupyter-widgets/base",
            "_view_module_version": "1.2.0",
            "_view_name": "LayoutView",
            "align_content": null,
            "align_items": null,
            "align_self": null,
            "border": null,
            "bottom": null,
            "display": null,
            "flex": null,
            "flex_flow": null,
            "grid_area": null,
            "grid_auto_columns": null,
            "grid_auto_flow": null,
            "grid_auto_rows": null,
            "grid_column": null,
            "grid_gap": null,
            "grid_row": null,
            "grid_template_areas": null,
            "grid_template_columns": null,
            "grid_template_rows": null,
            "height": null,
            "justify_content": null,
            "justify_items": null,
            "left": null,
            "margin": null,
            "max_height": null,
            "max_width": null,
            "min_height": null,
            "min_width": null,
            "object_fit": null,
            "object_position": null,
            "order": null,
            "overflow": null,
            "overflow_x": null,
            "overflow_y": null,
            "padding": null,
            "right": null,
            "top": null,
            "visibility": null,
            "width": null
          }
        },
        "efb87ea45a1044ffa64e2dea02cc3dbd": {
          "model_module": "@jupyter-widgets/controls",
          "model_name": "ProgressStyleModel",
          "model_module_version": "1.5.0",
          "state": {
            "_model_module": "@jupyter-widgets/controls",
            "_model_module_version": "1.5.0",
            "_model_name": "ProgressStyleModel",
            "_view_count": null,
            "_view_module": "@jupyter-widgets/base",
            "_view_module_version": "1.2.0",
            "_view_name": "StyleView",
            "bar_color": null,
            "description_width": ""
          }
        },
        "f8007a6ee18c49feb30208f74762fbfe": {
          "model_module": "@jupyter-widgets/base",
          "model_name": "LayoutModel",
          "model_module_version": "1.2.0",
          "state": {
            "_model_module": "@jupyter-widgets/base",
            "_model_module_version": "1.2.0",
            "_model_name": "LayoutModel",
            "_view_count": null,
            "_view_module": "@jupyter-widgets/base",
            "_view_module_version": "1.2.0",
            "_view_name": "LayoutView",
            "align_content": null,
            "align_items": null,
            "align_self": null,
            "border": null,
            "bottom": null,
            "display": null,
            "flex": null,
            "flex_flow": null,
            "grid_area": null,
            "grid_auto_columns": null,
            "grid_auto_flow": null,
            "grid_auto_rows": null,
            "grid_column": null,
            "grid_gap": null,
            "grid_row": null,
            "grid_template_areas": null,
            "grid_template_columns": null,
            "grid_template_rows": null,
            "height": null,
            "justify_content": null,
            "justify_items": null,
            "left": null,
            "margin": null,
            "max_height": null,
            "max_width": null,
            "min_height": null,
            "min_width": null,
            "object_fit": null,
            "object_position": null,
            "order": null,
            "overflow": null,
            "overflow_x": null,
            "overflow_y": null,
            "padding": null,
            "right": null,
            "top": null,
            "visibility": null,
            "width": null
          }
        },
        "b1657c3764554910851c8b74deb94d38": {
          "model_module": "@jupyter-widgets/controls",
          "model_name": "DescriptionStyleModel",
          "model_module_version": "1.5.0",
          "state": {
            "_model_module": "@jupyter-widgets/controls",
            "_model_module_version": "1.5.0",
            "_model_name": "DescriptionStyleModel",
            "_view_count": null,
            "_view_module": "@jupyter-widgets/base",
            "_view_module_version": "1.2.0",
            "_view_name": "StyleView",
            "description_width": ""
          }
        },
        "4722d49c215d4e57a2073f166d8d080d": {
          "model_module": "@jupyter-widgets/controls",
          "model_name": "HBoxModel",
          "model_module_version": "1.5.0",
          "state": {
            "_dom_classes": [],
            "_model_module": "@jupyter-widgets/controls",
            "_model_module_version": "1.5.0",
            "_model_name": "HBoxModel",
            "_view_count": null,
            "_view_module": "@jupyter-widgets/controls",
            "_view_module_version": "1.5.0",
            "_view_name": "HBoxView",
            "box_style": "",
            "children": [
              "IPY_MODEL_96bd8e3a135a46118f6a7a7037022ada",
              "IPY_MODEL_8f6081c7eb7f4c40a3ec7dba796c8435",
              "IPY_MODEL_a4a049eb5f36432c9a81395ca63d412e"
            ],
            "layout": "IPY_MODEL_ed23905310ae4f3ab8532c4ae8d80a41"
          }
        },
        "96bd8e3a135a46118f6a7a7037022ada": {
          "model_module": "@jupyter-widgets/controls",
          "model_name": "HTMLModel",
          "model_module_version": "1.5.0",
          "state": {
            "_dom_classes": [],
            "_model_module": "@jupyter-widgets/controls",
            "_model_module_version": "1.5.0",
            "_model_name": "HTMLModel",
            "_view_count": null,
            "_view_module": "@jupyter-widgets/controls",
            "_view_module_version": "1.5.0",
            "_view_name": "HTMLView",
            "description": "",
            "description_tooltip": null,
            "layout": "IPY_MODEL_214a13a538bd46c4991e55a453a50e44",
            "placeholder": "​",
            "style": "IPY_MODEL_947fc70b26314776943eeb02a5884293",
            "value": "tokenizer.json: 100%"
          }
        },
        "8f6081c7eb7f4c40a3ec7dba796c8435": {
          "model_module": "@jupyter-widgets/controls",
          "model_name": "FloatProgressModel",
          "model_module_version": "1.5.0",
          "state": {
            "_dom_classes": [],
            "_model_module": "@jupyter-widgets/controls",
            "_model_module_version": "1.5.0",
            "_model_name": "FloatProgressModel",
            "_view_count": null,
            "_view_module": "@jupyter-widgets/controls",
            "_view_module_version": "1.5.0",
            "_view_name": "ProgressView",
            "bar_style": "success",
            "description": "",
            "description_tooltip": null,
            "layout": "IPY_MODEL_d1b6cbc4d5df4600ad96704de3c8979d",
            "max": 711396,
            "min": 0,
            "orientation": "horizontal",
            "style": "IPY_MODEL_96f18297297b42dd9c02220908f765aa",
            "value": 711396
          }
        },
        "a4a049eb5f36432c9a81395ca63d412e": {
          "model_module": "@jupyter-widgets/controls",
          "model_name": "HTMLModel",
          "model_module_version": "1.5.0",
          "state": {
            "_dom_classes": [],
            "_model_module": "@jupyter-widgets/controls",
            "_model_module_version": "1.5.0",
            "_model_name": "HTMLModel",
            "_view_count": null,
            "_view_module": "@jupyter-widgets/controls",
            "_view_module_version": "1.5.0",
            "_view_name": "HTMLView",
            "description": "",
            "description_tooltip": null,
            "layout": "IPY_MODEL_d0d85310d9004f3d8ed1890d17dc598b",
            "placeholder": "​",
            "style": "IPY_MODEL_e4fac43ca4c341829ed77d93c8626740",
            "value": " 711k/711k [00:00&lt;00:00, 1.38MB/s]"
          }
        },
        "ed23905310ae4f3ab8532c4ae8d80a41": {
          "model_module": "@jupyter-widgets/base",
          "model_name": "LayoutModel",
          "model_module_version": "1.2.0",
          "state": {
            "_model_module": "@jupyter-widgets/base",
            "_model_module_version": "1.2.0",
            "_model_name": "LayoutModel",
            "_view_count": null,
            "_view_module": "@jupyter-widgets/base",
            "_view_module_version": "1.2.0",
            "_view_name": "LayoutView",
            "align_content": null,
            "align_items": null,
            "align_self": null,
            "border": null,
            "bottom": null,
            "display": null,
            "flex": null,
            "flex_flow": null,
            "grid_area": null,
            "grid_auto_columns": null,
            "grid_auto_flow": null,
            "grid_auto_rows": null,
            "grid_column": null,
            "grid_gap": null,
            "grid_row": null,
            "grid_template_areas": null,
            "grid_template_columns": null,
            "grid_template_rows": null,
            "height": null,
            "justify_content": null,
            "justify_items": null,
            "left": null,
            "margin": null,
            "max_height": null,
            "max_width": null,
            "min_height": null,
            "min_width": null,
            "object_fit": null,
            "object_position": null,
            "order": null,
            "overflow": null,
            "overflow_x": null,
            "overflow_y": null,
            "padding": null,
            "right": null,
            "top": null,
            "visibility": null,
            "width": null
          }
        },
        "214a13a538bd46c4991e55a453a50e44": {
          "model_module": "@jupyter-widgets/base",
          "model_name": "LayoutModel",
          "model_module_version": "1.2.0",
          "state": {
            "_model_module": "@jupyter-widgets/base",
            "_model_module_version": "1.2.0",
            "_model_name": "LayoutModel",
            "_view_count": null,
            "_view_module": "@jupyter-widgets/base",
            "_view_module_version": "1.2.0",
            "_view_name": "LayoutView",
            "align_content": null,
            "align_items": null,
            "align_self": null,
            "border": null,
            "bottom": null,
            "display": null,
            "flex": null,
            "flex_flow": null,
            "grid_area": null,
            "grid_auto_columns": null,
            "grid_auto_flow": null,
            "grid_auto_rows": null,
            "grid_column": null,
            "grid_gap": null,
            "grid_row": null,
            "grid_template_areas": null,
            "grid_template_columns": null,
            "grid_template_rows": null,
            "height": null,
            "justify_content": null,
            "justify_items": null,
            "left": null,
            "margin": null,
            "max_height": null,
            "max_width": null,
            "min_height": null,
            "min_width": null,
            "object_fit": null,
            "object_position": null,
            "order": null,
            "overflow": null,
            "overflow_x": null,
            "overflow_y": null,
            "padding": null,
            "right": null,
            "top": null,
            "visibility": null,
            "width": null
          }
        },
        "947fc70b26314776943eeb02a5884293": {
          "model_module": "@jupyter-widgets/controls",
          "model_name": "DescriptionStyleModel",
          "model_module_version": "1.5.0",
          "state": {
            "_model_module": "@jupyter-widgets/controls",
            "_model_module_version": "1.5.0",
            "_model_name": "DescriptionStyleModel",
            "_view_count": null,
            "_view_module": "@jupyter-widgets/base",
            "_view_module_version": "1.2.0",
            "_view_name": "StyleView",
            "description_width": ""
          }
        },
        "d1b6cbc4d5df4600ad96704de3c8979d": {
          "model_module": "@jupyter-widgets/base",
          "model_name": "LayoutModel",
          "model_module_version": "1.2.0",
          "state": {
            "_model_module": "@jupyter-widgets/base",
            "_model_module_version": "1.2.0",
            "_model_name": "LayoutModel",
            "_view_count": null,
            "_view_module": "@jupyter-widgets/base",
            "_view_module_version": "1.2.0",
            "_view_name": "LayoutView",
            "align_content": null,
            "align_items": null,
            "align_self": null,
            "border": null,
            "bottom": null,
            "display": null,
            "flex": null,
            "flex_flow": null,
            "grid_area": null,
            "grid_auto_columns": null,
            "grid_auto_flow": null,
            "grid_auto_rows": null,
            "grid_column": null,
            "grid_gap": null,
            "grid_row": null,
            "grid_template_areas": null,
            "grid_template_columns": null,
            "grid_template_rows": null,
            "height": null,
            "justify_content": null,
            "justify_items": null,
            "left": null,
            "margin": null,
            "max_height": null,
            "max_width": null,
            "min_height": null,
            "min_width": null,
            "object_fit": null,
            "object_position": null,
            "order": null,
            "overflow": null,
            "overflow_x": null,
            "overflow_y": null,
            "padding": null,
            "right": null,
            "top": null,
            "visibility": null,
            "width": null
          }
        },
        "96f18297297b42dd9c02220908f765aa": {
          "model_module": "@jupyter-widgets/controls",
          "model_name": "ProgressStyleModel",
          "model_module_version": "1.5.0",
          "state": {
            "_model_module": "@jupyter-widgets/controls",
            "_model_module_version": "1.5.0",
            "_model_name": "ProgressStyleModel",
            "_view_count": null,
            "_view_module": "@jupyter-widgets/base",
            "_view_module_version": "1.2.0",
            "_view_name": "StyleView",
            "bar_color": null,
            "description_width": ""
          }
        },
        "d0d85310d9004f3d8ed1890d17dc598b": {
          "model_module": "@jupyter-widgets/base",
          "model_name": "LayoutModel",
          "model_module_version": "1.2.0",
          "state": {
            "_model_module": "@jupyter-widgets/base",
            "_model_module_version": "1.2.0",
            "_model_name": "LayoutModel",
            "_view_count": null,
            "_view_module": "@jupyter-widgets/base",
            "_view_module_version": "1.2.0",
            "_view_name": "LayoutView",
            "align_content": null,
            "align_items": null,
            "align_self": null,
            "border": null,
            "bottom": null,
            "display": null,
            "flex": null,
            "flex_flow": null,
            "grid_area": null,
            "grid_auto_columns": null,
            "grid_auto_flow": null,
            "grid_auto_rows": null,
            "grid_column": null,
            "grid_gap": null,
            "grid_row": null,
            "grid_template_areas": null,
            "grid_template_columns": null,
            "grid_template_rows": null,
            "height": null,
            "justify_content": null,
            "justify_items": null,
            "left": null,
            "margin": null,
            "max_height": null,
            "max_width": null,
            "min_height": null,
            "min_width": null,
            "object_fit": null,
            "object_position": null,
            "order": null,
            "overflow": null,
            "overflow_x": null,
            "overflow_y": null,
            "padding": null,
            "right": null,
            "top": null,
            "visibility": null,
            "width": null
          }
        },
        "e4fac43ca4c341829ed77d93c8626740": {
          "model_module": "@jupyter-widgets/controls",
          "model_name": "DescriptionStyleModel",
          "model_module_version": "1.5.0",
          "state": {
            "_model_module": "@jupyter-widgets/controls",
            "_model_module_version": "1.5.0",
            "_model_name": "DescriptionStyleModel",
            "_view_count": null,
            "_view_module": "@jupyter-widgets/base",
            "_view_module_version": "1.2.0",
            "_view_name": "StyleView",
            "description_width": ""
          }
        },
        "44d1cf4426db40b381d6a390a2a85aca": {
          "model_module": "@jupyter-widgets/controls",
          "model_name": "HBoxModel",
          "model_module_version": "1.5.0",
          "state": {
            "_dom_classes": [],
            "_model_module": "@jupyter-widgets/controls",
            "_model_module_version": "1.5.0",
            "_model_name": "HBoxModel",
            "_view_count": null,
            "_view_module": "@jupyter-widgets/controls",
            "_view_module_version": "1.5.0",
            "_view_name": "HBoxView",
            "box_style": "",
            "children": [
              "IPY_MODEL_05a449b43e794b808904541c39355a5f",
              "IPY_MODEL_5637536b13374cc891f01373262fbaeb",
              "IPY_MODEL_6927443b05864e7d9a453fd62cacd705"
            ],
            "layout": "IPY_MODEL_b6526a72709c4a88803b2b9724254c51"
          }
        },
        "05a449b43e794b808904541c39355a5f": {
          "model_module": "@jupyter-widgets/controls",
          "model_name": "HTMLModel",
          "model_module_version": "1.5.0",
          "state": {
            "_dom_classes": [],
            "_model_module": "@jupyter-widgets/controls",
            "_model_module_version": "1.5.0",
            "_model_name": "HTMLModel",
            "_view_count": null,
            "_view_module": "@jupyter-widgets/controls",
            "_view_module_version": "1.5.0",
            "_view_name": "HTMLView",
            "description": "",
            "description_tooltip": null,
            "layout": "IPY_MODEL_562bd71e220c4baeb91f392139494f14",
            "placeholder": "​",
            "style": "IPY_MODEL_f309878fd61c423d85a0f168cdee8e6f",
            "value": "config.json: 100%"
          }
        },
        "5637536b13374cc891f01373262fbaeb": {
          "model_module": "@jupyter-widgets/controls",
          "model_name": "FloatProgressModel",
          "model_module_version": "1.5.0",
          "state": {
            "_dom_classes": [],
            "_model_module": "@jupyter-widgets/controls",
            "_model_module_version": "1.5.0",
            "_model_name": "FloatProgressModel",
            "_view_count": null,
            "_view_module": "@jupyter-widgets/controls",
            "_view_module_version": "1.5.0",
            "_view_name": "ProgressView",
            "bar_style": "success",
            "description": "",
            "description_tooltip": null,
            "layout": "IPY_MODEL_19d039495ffa4916beeefeb47adaa77e",
            "max": 740,
            "min": 0,
            "orientation": "horizontal",
            "style": "IPY_MODEL_8ff3492a1f1e4c8bb4d904f95df14256",
            "value": 740
          }
        },
        "6927443b05864e7d9a453fd62cacd705": {
          "model_module": "@jupyter-widgets/controls",
          "model_name": "HTMLModel",
          "model_module_version": "1.5.0",
          "state": {
            "_dom_classes": [],
            "_model_module": "@jupyter-widgets/controls",
            "_model_module_version": "1.5.0",
            "_model_name": "HTMLModel",
            "_view_count": null,
            "_view_module": "@jupyter-widgets/controls",
            "_view_module_version": "1.5.0",
            "_view_name": "HTMLView",
            "description": "",
            "description_tooltip": null,
            "layout": "IPY_MODEL_786a6e72278a4032965d7fc86f1ccd77",
            "placeholder": "​",
            "style": "IPY_MODEL_0328ab67d3324b3f895f38c4c0bd11a7",
            "value": " 740/740 [00:00&lt;00:00, 14.0kB/s]"
          }
        },
        "b6526a72709c4a88803b2b9724254c51": {
          "model_module": "@jupyter-widgets/base",
          "model_name": "LayoutModel",
          "model_module_version": "1.2.0",
          "state": {
            "_model_module": "@jupyter-widgets/base",
            "_model_module_version": "1.2.0",
            "_model_name": "LayoutModel",
            "_view_count": null,
            "_view_module": "@jupyter-widgets/base",
            "_view_module_version": "1.2.0",
            "_view_name": "LayoutView",
            "align_content": null,
            "align_items": null,
            "align_self": null,
            "border": null,
            "bottom": null,
            "display": null,
            "flex": null,
            "flex_flow": null,
            "grid_area": null,
            "grid_auto_columns": null,
            "grid_auto_flow": null,
            "grid_auto_rows": null,
            "grid_column": null,
            "grid_gap": null,
            "grid_row": null,
            "grid_template_areas": null,
            "grid_template_columns": null,
            "grid_template_rows": null,
            "height": null,
            "justify_content": null,
            "justify_items": null,
            "left": null,
            "margin": null,
            "max_height": null,
            "max_width": null,
            "min_height": null,
            "min_width": null,
            "object_fit": null,
            "object_position": null,
            "order": null,
            "overflow": null,
            "overflow_x": null,
            "overflow_y": null,
            "padding": null,
            "right": null,
            "top": null,
            "visibility": null,
            "width": null
          }
        },
        "562bd71e220c4baeb91f392139494f14": {
          "model_module": "@jupyter-widgets/base",
          "model_name": "LayoutModel",
          "model_module_version": "1.2.0",
          "state": {
            "_model_module": "@jupyter-widgets/base",
            "_model_module_version": "1.2.0",
            "_model_name": "LayoutModel",
            "_view_count": null,
            "_view_module": "@jupyter-widgets/base",
            "_view_module_version": "1.2.0",
            "_view_name": "LayoutView",
            "align_content": null,
            "align_items": null,
            "align_self": null,
            "border": null,
            "bottom": null,
            "display": null,
            "flex": null,
            "flex_flow": null,
            "grid_area": null,
            "grid_auto_columns": null,
            "grid_auto_flow": null,
            "grid_auto_rows": null,
            "grid_column": null,
            "grid_gap": null,
            "grid_row": null,
            "grid_template_areas": null,
            "grid_template_columns": null,
            "grid_template_rows": null,
            "height": null,
            "justify_content": null,
            "justify_items": null,
            "left": null,
            "margin": null,
            "max_height": null,
            "max_width": null,
            "min_height": null,
            "min_width": null,
            "object_fit": null,
            "object_position": null,
            "order": null,
            "overflow": null,
            "overflow_x": null,
            "overflow_y": null,
            "padding": null,
            "right": null,
            "top": null,
            "visibility": null,
            "width": null
          }
        },
        "f309878fd61c423d85a0f168cdee8e6f": {
          "model_module": "@jupyter-widgets/controls",
          "model_name": "DescriptionStyleModel",
          "model_module_version": "1.5.0",
          "state": {
            "_model_module": "@jupyter-widgets/controls",
            "_model_module_version": "1.5.0",
            "_model_name": "DescriptionStyleModel",
            "_view_count": null,
            "_view_module": "@jupyter-widgets/base",
            "_view_module_version": "1.2.0",
            "_view_name": "StyleView",
            "description_width": ""
          }
        },
        "19d039495ffa4916beeefeb47adaa77e": {
          "model_module": "@jupyter-widgets/base",
          "model_name": "LayoutModel",
          "model_module_version": "1.2.0",
          "state": {
            "_model_module": "@jupyter-widgets/base",
            "_model_module_version": "1.2.0",
            "_model_name": "LayoutModel",
            "_view_count": null,
            "_view_module": "@jupyter-widgets/base",
            "_view_module_version": "1.2.0",
            "_view_name": "LayoutView",
            "align_content": null,
            "align_items": null,
            "align_self": null,
            "border": null,
            "bottom": null,
            "display": null,
            "flex": null,
            "flex_flow": null,
            "grid_area": null,
            "grid_auto_columns": null,
            "grid_auto_flow": null,
            "grid_auto_rows": null,
            "grid_column": null,
            "grid_gap": null,
            "grid_row": null,
            "grid_template_areas": null,
            "grid_template_columns": null,
            "grid_template_rows": null,
            "height": null,
            "justify_content": null,
            "justify_items": null,
            "left": null,
            "margin": null,
            "max_height": null,
            "max_width": null,
            "min_height": null,
            "min_width": null,
            "object_fit": null,
            "object_position": null,
            "order": null,
            "overflow": null,
            "overflow_x": null,
            "overflow_y": null,
            "padding": null,
            "right": null,
            "top": null,
            "visibility": null,
            "width": null
          }
        },
        "8ff3492a1f1e4c8bb4d904f95df14256": {
          "model_module": "@jupyter-widgets/controls",
          "model_name": "ProgressStyleModel",
          "model_module_version": "1.5.0",
          "state": {
            "_model_module": "@jupyter-widgets/controls",
            "_model_module_version": "1.5.0",
            "_model_name": "ProgressStyleModel",
            "_view_count": null,
            "_view_module": "@jupyter-widgets/base",
            "_view_module_version": "1.2.0",
            "_view_name": "StyleView",
            "bar_color": null,
            "description_width": ""
          }
        },
        "786a6e72278a4032965d7fc86f1ccd77": {
          "model_module": "@jupyter-widgets/base",
          "model_name": "LayoutModel",
          "model_module_version": "1.2.0",
          "state": {
            "_model_module": "@jupyter-widgets/base",
            "_model_module_version": "1.2.0",
            "_model_name": "LayoutModel",
            "_view_count": null,
            "_view_module": "@jupyter-widgets/base",
            "_view_module_version": "1.2.0",
            "_view_name": "LayoutView",
            "align_content": null,
            "align_items": null,
            "align_self": null,
            "border": null,
            "bottom": null,
            "display": null,
            "flex": null,
            "flex_flow": null,
            "grid_area": null,
            "grid_auto_columns": null,
            "grid_auto_flow": null,
            "grid_auto_rows": null,
            "grid_column": null,
            "grid_gap": null,
            "grid_row": null,
            "grid_template_areas": null,
            "grid_template_columns": null,
            "grid_template_rows": null,
            "height": null,
            "justify_content": null,
            "justify_items": null,
            "left": null,
            "margin": null,
            "max_height": null,
            "max_width": null,
            "min_height": null,
            "min_width": null,
            "object_fit": null,
            "object_position": null,
            "order": null,
            "overflow": null,
            "overflow_x": null,
            "overflow_y": null,
            "padding": null,
            "right": null,
            "top": null,
            "visibility": null,
            "width": null
          }
        },
        "0328ab67d3324b3f895f38c4c0bd11a7": {
          "model_module": "@jupyter-widgets/controls",
          "model_name": "DescriptionStyleModel",
          "model_module_version": "1.5.0",
          "state": {
            "_model_module": "@jupyter-widgets/controls",
            "_model_module_version": "1.5.0",
            "_model_name": "DescriptionStyleModel",
            "_view_count": null,
            "_view_module": "@jupyter-widgets/base",
            "_view_module_version": "1.2.0",
            "_view_name": "StyleView",
            "description_width": ""
          }
        },
        "71ebcca745e6411ea008874851cee2ee": {
          "model_module": "@jupyter-widgets/controls",
          "model_name": "HBoxModel",
          "model_module_version": "1.5.0",
          "state": {
            "_dom_classes": [],
            "_model_module": "@jupyter-widgets/controls",
            "_model_module_version": "1.5.0",
            "_model_name": "HBoxModel",
            "_view_count": null,
            "_view_module": "@jupyter-widgets/controls",
            "_view_module_version": "1.5.0",
            "_view_name": "HBoxView",
            "box_style": "",
            "children": [
              "IPY_MODEL_d01b29259be44e1f8bad96c265cf504e",
              "IPY_MODEL_3bb334db8908441f95a911f0a1cb16c5",
              "IPY_MODEL_7720fc175963429ea264c976547c4595"
            ],
            "layout": "IPY_MODEL_4a9a46858b5d46c8be9dad5c049b535f"
          }
        },
        "d01b29259be44e1f8bad96c265cf504e": {
          "model_module": "@jupyter-widgets/controls",
          "model_name": "HTMLModel",
          "model_module_version": "1.5.0",
          "state": {
            "_dom_classes": [],
            "_model_module": "@jupyter-widgets/controls",
            "_model_module_version": "1.5.0",
            "_model_name": "HTMLModel",
            "_view_count": null,
            "_view_module": "@jupyter-widgets/controls",
            "_view_module_version": "1.5.0",
            "_view_name": "HTMLView",
            "description": "",
            "description_tooltip": null,
            "layout": "IPY_MODEL_9ade14dbbe75429187a162bf08f89db0",
            "placeholder": "​",
            "style": "IPY_MODEL_e201072e4cfa40c49c7c8fb935d1941a",
            "value": "model_optimized.onnx: 100%"
          }
        },
        "3bb334db8908441f95a911f0a1cb16c5": {
          "model_module": "@jupyter-widgets/controls",
          "model_name": "FloatProgressModel",
          "model_module_version": "1.5.0",
          "state": {
            "_dom_classes": [],
            "_model_module": "@jupyter-widgets/controls",
            "_model_module_version": "1.5.0",
            "_model_name": "FloatProgressModel",
            "_view_count": null,
            "_view_module": "@jupyter-widgets/controls",
            "_view_module_version": "1.5.0",
            "_view_name": "ProgressView",
            "bar_style": "success",
            "description": "",
            "description_tooltip": null,
            "layout": "IPY_MODEL_46bec5642c3a4b58ba62f7275222dc5b",
            "max": 217824172,
            "min": 0,
            "orientation": "horizontal",
            "style": "IPY_MODEL_d96e00dcbb5048d984293b00646b5519",
            "value": 217824172
          }
        },
        "7720fc175963429ea264c976547c4595": {
          "model_module": "@jupyter-widgets/controls",
          "model_name": "HTMLModel",
          "model_module_version": "1.5.0",
          "state": {
            "_dom_classes": [],
            "_model_module": "@jupyter-widgets/controls",
            "_model_module_version": "1.5.0",
            "_model_name": "HTMLModel",
            "_view_count": null,
            "_view_module": "@jupyter-widgets/controls",
            "_view_module_version": "1.5.0",
            "_view_name": "HTMLView",
            "description": "",
            "description_tooltip": null,
            "layout": "IPY_MODEL_e7b5aeaf0eed40fea85638630e0d094a",
            "placeholder": "​",
            "style": "IPY_MODEL_944d6b5218da4145ab1d609253454968",
            "value": " 218M/218M [00:06&lt;00:00, 10.1MB/s]"
          }
        },
        "4a9a46858b5d46c8be9dad5c049b535f": {
          "model_module": "@jupyter-widgets/base",
          "model_name": "LayoutModel",
          "model_module_version": "1.2.0",
          "state": {
            "_model_module": "@jupyter-widgets/base",
            "_model_module_version": "1.2.0",
            "_model_name": "LayoutModel",
            "_view_count": null,
            "_view_module": "@jupyter-widgets/base",
            "_view_module_version": "1.2.0",
            "_view_name": "LayoutView",
            "align_content": null,
            "align_items": null,
            "align_self": null,
            "border": null,
            "bottom": null,
            "display": null,
            "flex": null,
            "flex_flow": null,
            "grid_area": null,
            "grid_auto_columns": null,
            "grid_auto_flow": null,
            "grid_auto_rows": null,
            "grid_column": null,
            "grid_gap": null,
            "grid_row": null,
            "grid_template_areas": null,
            "grid_template_columns": null,
            "grid_template_rows": null,
            "height": null,
            "justify_content": null,
            "justify_items": null,
            "left": null,
            "margin": null,
            "max_height": null,
            "max_width": null,
            "min_height": null,
            "min_width": null,
            "object_fit": null,
            "object_position": null,
            "order": null,
            "overflow": null,
            "overflow_x": null,
            "overflow_y": null,
            "padding": null,
            "right": null,
            "top": null,
            "visibility": null,
            "width": null
          }
        },
        "9ade14dbbe75429187a162bf08f89db0": {
          "model_module": "@jupyter-widgets/base",
          "model_name": "LayoutModel",
          "model_module_version": "1.2.0",
          "state": {
            "_model_module": "@jupyter-widgets/base",
            "_model_module_version": "1.2.0",
            "_model_name": "LayoutModel",
            "_view_count": null,
            "_view_module": "@jupyter-widgets/base",
            "_view_module_version": "1.2.0",
            "_view_name": "LayoutView",
            "align_content": null,
            "align_items": null,
            "align_self": null,
            "border": null,
            "bottom": null,
            "display": null,
            "flex": null,
            "flex_flow": null,
            "grid_area": null,
            "grid_auto_columns": null,
            "grid_auto_flow": null,
            "grid_auto_rows": null,
            "grid_column": null,
            "grid_gap": null,
            "grid_row": null,
            "grid_template_areas": null,
            "grid_template_columns": null,
            "grid_template_rows": null,
            "height": null,
            "justify_content": null,
            "justify_items": null,
            "left": null,
            "margin": null,
            "max_height": null,
            "max_width": null,
            "min_height": null,
            "min_width": null,
            "object_fit": null,
            "object_position": null,
            "order": null,
            "overflow": null,
            "overflow_x": null,
            "overflow_y": null,
            "padding": null,
            "right": null,
            "top": null,
            "visibility": null,
            "width": null
          }
        },
        "e201072e4cfa40c49c7c8fb935d1941a": {
          "model_module": "@jupyter-widgets/controls",
          "model_name": "DescriptionStyleModel",
          "model_module_version": "1.5.0",
          "state": {
            "_model_module": "@jupyter-widgets/controls",
            "_model_module_version": "1.5.0",
            "_model_name": "DescriptionStyleModel",
            "_view_count": null,
            "_view_module": "@jupyter-widgets/base",
            "_view_module_version": "1.2.0",
            "_view_name": "StyleView",
            "description_width": ""
          }
        },
        "46bec5642c3a4b58ba62f7275222dc5b": {
          "model_module": "@jupyter-widgets/base",
          "model_name": "LayoutModel",
          "model_module_version": "1.2.0",
          "state": {
            "_model_module": "@jupyter-widgets/base",
            "_model_module_version": "1.2.0",
            "_model_name": "LayoutModel",
            "_view_count": null,
            "_view_module": "@jupyter-widgets/base",
            "_view_module_version": "1.2.0",
            "_view_name": "LayoutView",
            "align_content": null,
            "align_items": null,
            "align_self": null,
            "border": null,
            "bottom": null,
            "display": null,
            "flex": null,
            "flex_flow": null,
            "grid_area": null,
            "grid_auto_columns": null,
            "grid_auto_flow": null,
            "grid_auto_rows": null,
            "grid_column": null,
            "grid_gap": null,
            "grid_row": null,
            "grid_template_areas": null,
            "grid_template_columns": null,
            "grid_template_rows": null,
            "height": null,
            "justify_content": null,
            "justify_items": null,
            "left": null,
            "margin": null,
            "max_height": null,
            "max_width": null,
            "min_height": null,
            "min_width": null,
            "object_fit": null,
            "object_position": null,
            "order": null,
            "overflow": null,
            "overflow_x": null,
            "overflow_y": null,
            "padding": null,
            "right": null,
            "top": null,
            "visibility": null,
            "width": null
          }
        },
        "d96e00dcbb5048d984293b00646b5519": {
          "model_module": "@jupyter-widgets/controls",
          "model_name": "ProgressStyleModel",
          "model_module_version": "1.5.0",
          "state": {
            "_model_module": "@jupyter-widgets/controls",
            "_model_module_version": "1.5.0",
            "_model_name": "ProgressStyleModel",
            "_view_count": null,
            "_view_module": "@jupyter-widgets/base",
            "_view_module_version": "1.2.0",
            "_view_name": "StyleView",
            "bar_color": null,
            "description_width": ""
          }
        },
        "e7b5aeaf0eed40fea85638630e0d094a": {
          "model_module": "@jupyter-widgets/base",
          "model_name": "LayoutModel",
          "model_module_version": "1.2.0",
          "state": {
            "_model_module": "@jupyter-widgets/base",
            "_model_module_version": "1.2.0",
            "_model_name": "LayoutModel",
            "_view_count": null,
            "_view_module": "@jupyter-widgets/base",
            "_view_module_version": "1.2.0",
            "_view_name": "LayoutView",
            "align_content": null,
            "align_items": null,
            "align_self": null,
            "border": null,
            "bottom": null,
            "display": null,
            "flex": null,
            "flex_flow": null,
            "grid_area": null,
            "grid_auto_columns": null,
            "grid_auto_flow": null,
            "grid_auto_rows": null,
            "grid_column": null,
            "grid_gap": null,
            "grid_row": null,
            "grid_template_areas": null,
            "grid_template_columns": null,
            "grid_template_rows": null,
            "height": null,
            "justify_content": null,
            "justify_items": null,
            "left": null,
            "margin": null,
            "max_height": null,
            "max_width": null,
            "min_height": null,
            "min_width": null,
            "object_fit": null,
            "object_position": null,
            "order": null,
            "overflow": null,
            "overflow_x": null,
            "overflow_y": null,
            "padding": null,
            "right": null,
            "top": null,
            "visibility": null,
            "width": null
          }
        },
        "944d6b5218da4145ab1d609253454968": {
          "model_module": "@jupyter-widgets/controls",
          "model_name": "DescriptionStyleModel",
          "model_module_version": "1.5.0",
          "state": {
            "_model_module": "@jupyter-widgets/controls",
            "_model_module_version": "1.5.0",
            "_model_name": "DescriptionStyleModel",
            "_view_count": null,
            "_view_module": "@jupyter-widgets/base",
            "_view_module_version": "1.2.0",
            "_view_name": "StyleView",
            "description_width": ""
          }
        },
        "1f51ee0d4549452f97992adce48291f9": {
          "model_module": "@jupyter-widgets/controls",
          "model_name": "HBoxModel",
          "model_module_version": "1.5.0",
          "state": {
            "_dom_classes": [],
            "_model_module": "@jupyter-widgets/controls",
            "_model_module_version": "1.5.0",
            "_model_name": "HBoxModel",
            "_view_count": null,
            "_view_module": "@jupyter-widgets/controls",
            "_view_module_version": "1.5.0",
            "_view_name": "HBoxView",
            "box_style": "",
            "children": [
              "IPY_MODEL_b8ec1dbbf9124df7b6f548e01d5e8aa8",
              "IPY_MODEL_23259d86a9ca4741a729e14b3fedfbb0",
              "IPY_MODEL_13355e8062ef4f92aab057d9bb34e701"
            ],
            "layout": "IPY_MODEL_86f7111a3f834e19b13db4a8730b958f"
          }
        },
        "b8ec1dbbf9124df7b6f548e01d5e8aa8": {
          "model_module": "@jupyter-widgets/controls",
          "model_name": "HTMLModel",
          "model_module_version": "1.5.0",
          "state": {
            "_dom_classes": [],
            "_model_module": "@jupyter-widgets/controls",
            "_model_module_version": "1.5.0",
            "_model_name": "HTMLModel",
            "_view_count": null,
            "_view_module": "@jupyter-widgets/controls",
            "_view_module_version": "1.5.0",
            "_view_name": "HTMLView",
            "description": "",
            "description_tooltip": null,
            "layout": "IPY_MODEL_d5ad105cdac345539af6b2728b2067f1",
            "placeholder": "​",
            "style": "IPY_MODEL_27c5b1e380eb428e84ced6d93c13aa38",
            "value": "Fetching 5 files: 100%"
          }
        },
        "23259d86a9ca4741a729e14b3fedfbb0": {
          "model_module": "@jupyter-widgets/controls",
          "model_name": "FloatProgressModel",
          "model_module_version": "1.5.0",
          "state": {
            "_dom_classes": [],
            "_model_module": "@jupyter-widgets/controls",
            "_model_module_version": "1.5.0",
            "_model_name": "FloatProgressModel",
            "_view_count": null,
            "_view_module": "@jupyter-widgets/controls",
            "_view_module_version": "1.5.0",
            "_view_name": "ProgressView",
            "bar_style": "success",
            "description": "",
            "description_tooltip": null,
            "layout": "IPY_MODEL_2935ef0ab8b94c39987c713199733281",
            "max": 5,
            "min": 0,
            "orientation": "horizontal",
            "style": "IPY_MODEL_c55528ef311e406fb5ccd49be1465319",
            "value": 5
          }
        },
        "13355e8062ef4f92aab057d9bb34e701": {
          "model_module": "@jupyter-widgets/controls",
          "model_name": "HTMLModel",
          "model_module_version": "1.5.0",
          "state": {
            "_dom_classes": [],
            "_model_module": "@jupyter-widgets/controls",
            "_model_module_version": "1.5.0",
            "_model_name": "HTMLModel",
            "_view_count": null,
            "_view_module": "@jupyter-widgets/controls",
            "_view_module_version": "1.5.0",
            "_view_name": "HTMLView",
            "description": "",
            "description_tooltip": null,
            "layout": "IPY_MODEL_58f70e17bd9d43e3876d7f41a45b15d1",
            "placeholder": "​",
            "style": "IPY_MODEL_e8f2e4ac535b4faaa476d54325a8c824",
            "value": " 5/5 [00:06&lt;00:00,  3.86s/it]"
          }
        },
        "86f7111a3f834e19b13db4a8730b958f": {
          "model_module": "@jupyter-widgets/base",
          "model_name": "LayoutModel",
          "model_module_version": "1.2.0",
          "state": {
            "_model_module": "@jupyter-widgets/base",
            "_model_module_version": "1.2.0",
            "_model_name": "LayoutModel",
            "_view_count": null,
            "_view_module": "@jupyter-widgets/base",
            "_view_module_version": "1.2.0",
            "_view_name": "LayoutView",
            "align_content": null,
            "align_items": null,
            "align_self": null,
            "border": null,
            "bottom": null,
            "display": null,
            "flex": null,
            "flex_flow": null,
            "grid_area": null,
            "grid_auto_columns": null,
            "grid_auto_flow": null,
            "grid_auto_rows": null,
            "grid_column": null,
            "grid_gap": null,
            "grid_row": null,
            "grid_template_areas": null,
            "grid_template_columns": null,
            "grid_template_rows": null,
            "height": null,
            "justify_content": null,
            "justify_items": null,
            "left": null,
            "margin": null,
            "max_height": null,
            "max_width": null,
            "min_height": null,
            "min_width": null,
            "object_fit": null,
            "object_position": null,
            "order": null,
            "overflow": null,
            "overflow_x": null,
            "overflow_y": null,
            "padding": null,
            "right": null,
            "top": null,
            "visibility": null,
            "width": null
          }
        },
        "d5ad105cdac345539af6b2728b2067f1": {
          "model_module": "@jupyter-widgets/base",
          "model_name": "LayoutModel",
          "model_module_version": "1.2.0",
          "state": {
            "_model_module": "@jupyter-widgets/base",
            "_model_module_version": "1.2.0",
            "_model_name": "LayoutModel",
            "_view_count": null,
            "_view_module": "@jupyter-widgets/base",
            "_view_module_version": "1.2.0",
            "_view_name": "LayoutView",
            "align_content": null,
            "align_items": null,
            "align_self": null,
            "border": null,
            "bottom": null,
            "display": null,
            "flex": null,
            "flex_flow": null,
            "grid_area": null,
            "grid_auto_columns": null,
            "grid_auto_flow": null,
            "grid_auto_rows": null,
            "grid_column": null,
            "grid_gap": null,
            "grid_row": null,
            "grid_template_areas": null,
            "grid_template_columns": null,
            "grid_template_rows": null,
            "height": null,
            "justify_content": null,
            "justify_items": null,
            "left": null,
            "margin": null,
            "max_height": null,
            "max_width": null,
            "min_height": null,
            "min_width": null,
            "object_fit": null,
            "object_position": null,
            "order": null,
            "overflow": null,
            "overflow_x": null,
            "overflow_y": null,
            "padding": null,
            "right": null,
            "top": null,
            "visibility": null,
            "width": null
          }
        },
        "27c5b1e380eb428e84ced6d93c13aa38": {
          "model_module": "@jupyter-widgets/controls",
          "model_name": "DescriptionStyleModel",
          "model_module_version": "1.5.0",
          "state": {
            "_model_module": "@jupyter-widgets/controls",
            "_model_module_version": "1.5.0",
            "_model_name": "DescriptionStyleModel",
            "_view_count": null,
            "_view_module": "@jupyter-widgets/base",
            "_view_module_version": "1.2.0",
            "_view_name": "StyleView",
            "description_width": ""
          }
        },
        "2935ef0ab8b94c39987c713199733281": {
          "model_module": "@jupyter-widgets/base",
          "model_name": "LayoutModel",
          "model_module_version": "1.2.0",
          "state": {
            "_model_module": "@jupyter-widgets/base",
            "_model_module_version": "1.2.0",
            "_model_name": "LayoutModel",
            "_view_count": null,
            "_view_module": "@jupyter-widgets/base",
            "_view_module_version": "1.2.0",
            "_view_name": "LayoutView",
            "align_content": null,
            "align_items": null,
            "align_self": null,
            "border": null,
            "bottom": null,
            "display": null,
            "flex": null,
            "flex_flow": null,
            "grid_area": null,
            "grid_auto_columns": null,
            "grid_auto_flow": null,
            "grid_auto_rows": null,
            "grid_column": null,
            "grid_gap": null,
            "grid_row": null,
            "grid_template_areas": null,
            "grid_template_columns": null,
            "grid_template_rows": null,
            "height": null,
            "justify_content": null,
            "justify_items": null,
            "left": null,
            "margin": null,
            "max_height": null,
            "max_width": null,
            "min_height": null,
            "min_width": null,
            "object_fit": null,
            "object_position": null,
            "order": null,
            "overflow": null,
            "overflow_x": null,
            "overflow_y": null,
            "padding": null,
            "right": null,
            "top": null,
            "visibility": null,
            "width": null
          }
        },
        "c55528ef311e406fb5ccd49be1465319": {
          "model_module": "@jupyter-widgets/controls",
          "model_name": "ProgressStyleModel",
          "model_module_version": "1.5.0",
          "state": {
            "_model_module": "@jupyter-widgets/controls",
            "_model_module_version": "1.5.0",
            "_model_name": "ProgressStyleModel",
            "_view_count": null,
            "_view_module": "@jupyter-widgets/base",
            "_view_module_version": "1.2.0",
            "_view_name": "StyleView",
            "bar_color": null,
            "description_width": ""
          }
        },
        "58f70e17bd9d43e3876d7f41a45b15d1": {
          "model_module": "@jupyter-widgets/base",
          "model_name": "LayoutModel",
          "model_module_version": "1.2.0",
          "state": {
            "_model_module": "@jupyter-widgets/base",
            "_model_module_version": "1.2.0",
            "_model_name": "LayoutModel",
            "_view_count": null,
            "_view_module": "@jupyter-widgets/base",
            "_view_module_version": "1.2.0",
            "_view_name": "LayoutView",
            "align_content": null,
            "align_items": null,
            "align_self": null,
            "border": null,
            "bottom": null,
            "display": null,
            "flex": null,
            "flex_flow": null,
            "grid_area": null,
            "grid_auto_columns": null,
            "grid_auto_flow": null,
            "grid_auto_rows": null,
            "grid_column": null,
            "grid_gap": null,
            "grid_row": null,
            "grid_template_areas": null,
            "grid_template_columns": null,
            "grid_template_rows": null,
            "height": null,
            "justify_content": null,
            "justify_items": null,
            "left": null,
            "margin": null,
            "max_height": null,
            "max_width": null,
            "min_height": null,
            "min_width": null,
            "object_fit": null,
            "object_position": null,
            "order": null,
            "overflow": null,
            "overflow_x": null,
            "overflow_y": null,
            "padding": null,
            "right": null,
            "top": null,
            "visibility": null,
            "width": null
          }
        },
        "e8f2e4ac535b4faaa476d54325a8c824": {
          "model_module": "@jupyter-widgets/controls",
          "model_name": "DescriptionStyleModel",
          "model_module_version": "1.5.0",
          "state": {
            "_model_module": "@jupyter-widgets/controls",
            "_model_module_version": "1.5.0",
            "_model_name": "DescriptionStyleModel",
            "_view_count": null,
            "_view_module": "@jupyter-widgets/base",
            "_view_module_version": "1.2.0",
            "_view_name": "StyleView",
            "description_width": ""
          }
        },
        "2a6e3b6ff8e04902a27ad27ce2a5bac8": {
          "model_module": "@jupyter-widgets/controls",
          "model_name": "HBoxModel",
          "model_module_version": "1.5.0",
          "state": {
            "_dom_classes": [],
            "_model_module": "@jupyter-widgets/controls",
            "_model_module_version": "1.5.0",
            "_model_name": "HBoxModel",
            "_view_count": null,
            "_view_module": "@jupyter-widgets/controls",
            "_view_module_version": "1.5.0",
            "_view_name": "HBoxView",
            "box_style": "",
            "children": [
              "IPY_MODEL_37c62f7d53a048fdb854b000242f6686",
              "IPY_MODEL_f5fab56db26a4bb2a02ca0fde35f17c1",
              "IPY_MODEL_2554c6fd2f7a4c29b34d76f7dd5a3647"
            ],
            "layout": "IPY_MODEL_8628cb406a3141bf865eea6cfadfa527"
          }
        },
        "37c62f7d53a048fdb854b000242f6686": {
          "model_module": "@jupyter-widgets/controls",
          "model_name": "HTMLModel",
          "model_module_version": "1.5.0",
          "state": {
            "_dom_classes": [],
            "_model_module": "@jupyter-widgets/controls",
            "_model_module_version": "1.5.0",
            "_model_name": "HTMLModel",
            "_view_count": null,
            "_view_module": "@jupyter-widgets/controls",
            "_view_module_version": "1.5.0",
            "_view_name": "HTMLView",
            "description": "",
            "description_tooltip": null,
            "layout": "IPY_MODEL_486f119d32484220ac93d98827294a3b",
            "placeholder": "​",
            "style": "IPY_MODEL_06cad12b6951417386e46412fc124612",
            "value": "tokenizer_config.json: 100%"
          }
        },
        "f5fab56db26a4bb2a02ca0fde35f17c1": {
          "model_module": "@jupyter-widgets/controls",
          "model_name": "FloatProgressModel",
          "model_module_version": "1.5.0",
          "state": {
            "_dom_classes": [],
            "_model_module": "@jupyter-widgets/controls",
            "_model_module_version": "1.5.0",
            "_model_name": "FloatProgressModel",
            "_view_count": null,
            "_view_module": "@jupyter-widgets/controls",
            "_view_module_version": "1.5.0",
            "_view_name": "ProgressView",
            "bar_style": "success",
            "description": "",
            "description_tooltip": null,
            "layout": "IPY_MODEL_44e5b72aff284ad4be17855b3c4e3a3c",
            "max": 1242,
            "min": 0,
            "orientation": "horizontal",
            "style": "IPY_MODEL_8ee78aaf648749e38b35f879be8662e1",
            "value": 1242
          }
        },
        "2554c6fd2f7a4c29b34d76f7dd5a3647": {
          "model_module": "@jupyter-widgets/controls",
          "model_name": "HTMLModel",
          "model_module_version": "1.5.0",
          "state": {
            "_dom_classes": [],
            "_model_module": "@jupyter-widgets/controls",
            "_model_module_version": "1.5.0",
            "_model_name": "HTMLModel",
            "_view_count": null,
            "_view_module": "@jupyter-widgets/controls",
            "_view_module_version": "1.5.0",
            "_view_name": "HTMLView",
            "description": "",
            "description_tooltip": null,
            "layout": "IPY_MODEL_d80aa63405704c9ea6cc0b03060e877c",
            "placeholder": "​",
            "style": "IPY_MODEL_e526e5cbc8a24c338251f70ac6562d4b",
            "value": " 1.24k/1.24k [00:00&lt;00:00, 20.3kB/s]"
          }
        },
        "8628cb406a3141bf865eea6cfadfa527": {
          "model_module": "@jupyter-widgets/base",
          "model_name": "LayoutModel",
          "model_module_version": "1.2.0",
          "state": {
            "_model_module": "@jupyter-widgets/base",
            "_model_module_version": "1.2.0",
            "_model_name": "LayoutModel",
            "_view_count": null,
            "_view_module": "@jupyter-widgets/base",
            "_view_module_version": "1.2.0",
            "_view_name": "LayoutView",
            "align_content": null,
            "align_items": null,
            "align_self": null,
            "border": null,
            "bottom": null,
            "display": null,
            "flex": null,
            "flex_flow": null,
            "grid_area": null,
            "grid_auto_columns": null,
            "grid_auto_flow": null,
            "grid_auto_rows": null,
            "grid_column": null,
            "grid_gap": null,
            "grid_row": null,
            "grid_template_areas": null,
            "grid_template_columns": null,
            "grid_template_rows": null,
            "height": null,
            "justify_content": null,
            "justify_items": null,
            "left": null,
            "margin": null,
            "max_height": null,
            "max_width": null,
            "min_height": null,
            "min_width": null,
            "object_fit": null,
            "object_position": null,
            "order": null,
            "overflow": null,
            "overflow_x": null,
            "overflow_y": null,
            "padding": null,
            "right": null,
            "top": null,
            "visibility": null,
            "width": null
          }
        },
        "486f119d32484220ac93d98827294a3b": {
          "model_module": "@jupyter-widgets/base",
          "model_name": "LayoutModel",
          "model_module_version": "1.2.0",
          "state": {
            "_model_module": "@jupyter-widgets/base",
            "_model_module_version": "1.2.0",
            "_model_name": "LayoutModel",
            "_view_count": null,
            "_view_module": "@jupyter-widgets/base",
            "_view_module_version": "1.2.0",
            "_view_name": "LayoutView",
            "align_content": null,
            "align_items": null,
            "align_self": null,
            "border": null,
            "bottom": null,
            "display": null,
            "flex": null,
            "flex_flow": null,
            "grid_area": null,
            "grid_auto_columns": null,
            "grid_auto_flow": null,
            "grid_auto_rows": null,
            "grid_column": null,
            "grid_gap": null,
            "grid_row": null,
            "grid_template_areas": null,
            "grid_template_columns": null,
            "grid_template_rows": null,
            "height": null,
            "justify_content": null,
            "justify_items": null,
            "left": null,
            "margin": null,
            "max_height": null,
            "max_width": null,
            "min_height": null,
            "min_width": null,
            "object_fit": null,
            "object_position": null,
            "order": null,
            "overflow": null,
            "overflow_x": null,
            "overflow_y": null,
            "padding": null,
            "right": null,
            "top": null,
            "visibility": null,
            "width": null
          }
        },
        "06cad12b6951417386e46412fc124612": {
          "model_module": "@jupyter-widgets/controls",
          "model_name": "DescriptionStyleModel",
          "model_module_version": "1.5.0",
          "state": {
            "_model_module": "@jupyter-widgets/controls",
            "_model_module_version": "1.5.0",
            "_model_name": "DescriptionStyleModel",
            "_view_count": null,
            "_view_module": "@jupyter-widgets/base",
            "_view_module_version": "1.2.0",
            "_view_name": "StyleView",
            "description_width": ""
          }
        },
        "44e5b72aff284ad4be17855b3c4e3a3c": {
          "model_module": "@jupyter-widgets/base",
          "model_name": "LayoutModel",
          "model_module_version": "1.2.0",
          "state": {
            "_model_module": "@jupyter-widgets/base",
            "_model_module_version": "1.2.0",
            "_model_name": "LayoutModel",
            "_view_count": null,
            "_view_module": "@jupyter-widgets/base",
            "_view_module_version": "1.2.0",
            "_view_name": "LayoutView",
            "align_content": null,
            "align_items": null,
            "align_self": null,
            "border": null,
            "bottom": null,
            "display": null,
            "flex": null,
            "flex_flow": null,
            "grid_area": null,
            "grid_auto_columns": null,
            "grid_auto_flow": null,
            "grid_auto_rows": null,
            "grid_column": null,
            "grid_gap": null,
            "grid_row": null,
            "grid_template_areas": null,
            "grid_template_columns": null,
            "grid_template_rows": null,
            "height": null,
            "justify_content": null,
            "justify_items": null,
            "left": null,
            "margin": null,
            "max_height": null,
            "max_width": null,
            "min_height": null,
            "min_width": null,
            "object_fit": null,
            "object_position": null,
            "order": null,
            "overflow": null,
            "overflow_x": null,
            "overflow_y": null,
            "padding": null,
            "right": null,
            "top": null,
            "visibility": null,
            "width": null
          }
        },
        "8ee78aaf648749e38b35f879be8662e1": {
          "model_module": "@jupyter-widgets/controls",
          "model_name": "ProgressStyleModel",
          "model_module_version": "1.5.0",
          "state": {
            "_model_module": "@jupyter-widgets/controls",
            "_model_module_version": "1.5.0",
            "_model_name": "ProgressStyleModel",
            "_view_count": null,
            "_view_module": "@jupyter-widgets/base",
            "_view_module_version": "1.2.0",
            "_view_name": "StyleView",
            "bar_color": null,
            "description_width": ""
          }
        },
        "d80aa63405704c9ea6cc0b03060e877c": {
          "model_module": "@jupyter-widgets/base",
          "model_name": "LayoutModel",
          "model_module_version": "1.2.0",
          "state": {
            "_model_module": "@jupyter-widgets/base",
            "_model_module_version": "1.2.0",
            "_model_name": "LayoutModel",
            "_view_count": null,
            "_view_module": "@jupyter-widgets/base",
            "_view_module_version": "1.2.0",
            "_view_name": "LayoutView",
            "align_content": null,
            "align_items": null,
            "align_self": null,
            "border": null,
            "bottom": null,
            "display": null,
            "flex": null,
            "flex_flow": null,
            "grid_area": null,
            "grid_auto_columns": null,
            "grid_auto_flow": null,
            "grid_auto_rows": null,
            "grid_column": null,
            "grid_gap": null,
            "grid_row": null,
            "grid_template_areas": null,
            "grid_template_columns": null,
            "grid_template_rows": null,
            "height": null,
            "justify_content": null,
            "justify_items": null,
            "left": null,
            "margin": null,
            "max_height": null,
            "max_width": null,
            "min_height": null,
            "min_width": null,
            "object_fit": null,
            "object_position": null,
            "order": null,
            "overflow": null,
            "overflow_x": null,
            "overflow_y": null,
            "padding": null,
            "right": null,
            "top": null,
            "visibility": null,
            "width": null
          }
        },
        "e526e5cbc8a24c338251f70ac6562d4b": {
          "model_module": "@jupyter-widgets/controls",
          "model_name": "DescriptionStyleModel",
          "model_module_version": "1.5.0",
          "state": {
            "_model_module": "@jupyter-widgets/controls",
            "_model_module_version": "1.5.0",
            "_model_name": "DescriptionStyleModel",
            "_view_count": null,
            "_view_module": "@jupyter-widgets/base",
            "_view_module_version": "1.2.0",
            "_view_name": "StyleView",
            "description_width": ""
          }
        },
        "052784372bab42b0aa507b15ca0970c5": {
          "model_module": "@jupyter-widgets/controls",
          "model_name": "HBoxModel",
          "model_module_version": "1.5.0",
          "state": {
            "_dom_classes": [],
            "_model_module": "@jupyter-widgets/controls",
            "_model_module_version": "1.5.0",
            "_model_name": "HBoxModel",
            "_view_count": null,
            "_view_module": "@jupyter-widgets/controls",
            "_view_module_version": "1.5.0",
            "_view_name": "HBoxView",
            "box_style": "",
            "children": [
              "IPY_MODEL_9ed5a4da0b7f406ea6bb43607d777c4a",
              "IPY_MODEL_f45e2f00f7db440fab3ba124c77dd821",
              "IPY_MODEL_4bee9df16f984064aeced9aa3b40597c"
            ],
            "layout": "IPY_MODEL_4cdd1595857e4b84aae2b6bc34a0f998"
          }
        },
        "9ed5a4da0b7f406ea6bb43607d777c4a": {
          "model_module": "@jupyter-widgets/controls",
          "model_name": "HTMLModel",
          "model_module_version": "1.5.0",
          "state": {
            "_dom_classes": [],
            "_model_module": "@jupyter-widgets/controls",
            "_model_module_version": "1.5.0",
            "_model_name": "HTMLModel",
            "_view_count": null,
            "_view_module": "@jupyter-widgets/controls",
            "_view_module_version": "1.5.0",
            "_view_name": "HTMLView",
            "description": "",
            "description_tooltip": null,
            "layout": "IPY_MODEL_2e4790441ad84427ba34b150b74dda9c",
            "placeholder": "​",
            "style": "IPY_MODEL_e209745afcef4d2aa1775d9ed510bb88",
            "value": "special_tokens_map.json: 100%"
          }
        },
        "f45e2f00f7db440fab3ba124c77dd821": {
          "model_module": "@jupyter-widgets/controls",
          "model_name": "FloatProgressModel",
          "model_module_version": "1.5.0",
          "state": {
            "_dom_classes": [],
            "_model_module": "@jupyter-widgets/controls",
            "_model_module_version": "1.5.0",
            "_model_name": "FloatProgressModel",
            "_view_count": null,
            "_view_module": "@jupyter-widgets/controls",
            "_view_module_version": "1.5.0",
            "_view_name": "ProgressView",
            "bar_style": "success",
            "description": "",
            "description_tooltip": null,
            "layout": "IPY_MODEL_205ccf073b284e50b98a1460ffc56e00",
            "max": 695,
            "min": 0,
            "orientation": "horizontal",
            "style": "IPY_MODEL_4621f6c2459a4cffa1f8b88f81a66eb8",
            "value": 695
          }
        },
        "4bee9df16f984064aeced9aa3b40597c": {
          "model_module": "@jupyter-widgets/controls",
          "model_name": "HTMLModel",
          "model_module_version": "1.5.0",
          "state": {
            "_dom_classes": [],
            "_model_module": "@jupyter-widgets/controls",
            "_model_module_version": "1.5.0",
            "_model_name": "HTMLModel",
            "_view_count": null,
            "_view_module": "@jupyter-widgets/controls",
            "_view_module_version": "1.5.0",
            "_view_name": "HTMLView",
            "description": "",
            "description_tooltip": null,
            "layout": "IPY_MODEL_fe03c75290e44cff8d8fe4d1af9470ff",
            "placeholder": "​",
            "style": "IPY_MODEL_976d026d9771465b842af851e753aa27",
            "value": " 695/695 [00:00&lt;00:00, 11.1kB/s]"
          }
        },
        "4cdd1595857e4b84aae2b6bc34a0f998": {
          "model_module": "@jupyter-widgets/base",
          "model_name": "LayoutModel",
          "model_module_version": "1.2.0",
          "state": {
            "_model_module": "@jupyter-widgets/base",
            "_model_module_version": "1.2.0",
            "_model_name": "LayoutModel",
            "_view_count": null,
            "_view_module": "@jupyter-widgets/base",
            "_view_module_version": "1.2.0",
            "_view_name": "LayoutView",
            "align_content": null,
            "align_items": null,
            "align_self": null,
            "border": null,
            "bottom": null,
            "display": null,
            "flex": null,
            "flex_flow": null,
            "grid_area": null,
            "grid_auto_columns": null,
            "grid_auto_flow": null,
            "grid_auto_rows": null,
            "grid_column": null,
            "grid_gap": null,
            "grid_row": null,
            "grid_template_areas": null,
            "grid_template_columns": null,
            "grid_template_rows": null,
            "height": null,
            "justify_content": null,
            "justify_items": null,
            "left": null,
            "margin": null,
            "max_height": null,
            "max_width": null,
            "min_height": null,
            "min_width": null,
            "object_fit": null,
            "object_position": null,
            "order": null,
            "overflow": null,
            "overflow_x": null,
            "overflow_y": null,
            "padding": null,
            "right": null,
            "top": null,
            "visibility": null,
            "width": null
          }
        },
        "2e4790441ad84427ba34b150b74dda9c": {
          "model_module": "@jupyter-widgets/base",
          "model_name": "LayoutModel",
          "model_module_version": "1.2.0",
          "state": {
            "_model_module": "@jupyter-widgets/base",
            "_model_module_version": "1.2.0",
            "_model_name": "LayoutModel",
            "_view_count": null,
            "_view_module": "@jupyter-widgets/base",
            "_view_module_version": "1.2.0",
            "_view_name": "LayoutView",
            "align_content": null,
            "align_items": null,
            "align_self": null,
            "border": null,
            "bottom": null,
            "display": null,
            "flex": null,
            "flex_flow": null,
            "grid_area": null,
            "grid_auto_columns": null,
            "grid_auto_flow": null,
            "grid_auto_rows": null,
            "grid_column": null,
            "grid_gap": null,
            "grid_row": null,
            "grid_template_areas": null,
            "grid_template_columns": null,
            "grid_template_rows": null,
            "height": null,
            "justify_content": null,
            "justify_items": null,
            "left": null,
            "margin": null,
            "max_height": null,
            "max_width": null,
            "min_height": null,
            "min_width": null,
            "object_fit": null,
            "object_position": null,
            "order": null,
            "overflow": null,
            "overflow_x": null,
            "overflow_y": null,
            "padding": null,
            "right": null,
            "top": null,
            "visibility": null,
            "width": null
          }
        },
        "e209745afcef4d2aa1775d9ed510bb88": {
          "model_module": "@jupyter-widgets/controls",
          "model_name": "DescriptionStyleModel",
          "model_module_version": "1.5.0",
          "state": {
            "_model_module": "@jupyter-widgets/controls",
            "_model_module_version": "1.5.0",
            "_model_name": "DescriptionStyleModel",
            "_view_count": null,
            "_view_module": "@jupyter-widgets/base",
            "_view_module_version": "1.2.0",
            "_view_name": "StyleView",
            "description_width": ""
          }
        },
        "205ccf073b284e50b98a1460ffc56e00": {
          "model_module": "@jupyter-widgets/base",
          "model_name": "LayoutModel",
          "model_module_version": "1.2.0",
          "state": {
            "_model_module": "@jupyter-widgets/base",
            "_model_module_version": "1.2.0",
            "_model_name": "LayoutModel",
            "_view_count": null,
            "_view_module": "@jupyter-widgets/base",
            "_view_module_version": "1.2.0",
            "_view_name": "LayoutView",
            "align_content": null,
            "align_items": null,
            "align_self": null,
            "border": null,
            "bottom": null,
            "display": null,
            "flex": null,
            "flex_flow": null,
            "grid_area": null,
            "grid_auto_columns": null,
            "grid_auto_flow": null,
            "grid_auto_rows": null,
            "grid_column": null,
            "grid_gap": null,
            "grid_row": null,
            "grid_template_areas": null,
            "grid_template_columns": null,
            "grid_template_rows": null,
            "height": null,
            "justify_content": null,
            "justify_items": null,
            "left": null,
            "margin": null,
            "max_height": null,
            "max_width": null,
            "min_height": null,
            "min_width": null,
            "object_fit": null,
            "object_position": null,
            "order": null,
            "overflow": null,
            "overflow_x": null,
            "overflow_y": null,
            "padding": null,
            "right": null,
            "top": null,
            "visibility": null,
            "width": null
          }
        },
        "4621f6c2459a4cffa1f8b88f81a66eb8": {
          "model_module": "@jupyter-widgets/controls",
          "model_name": "ProgressStyleModel",
          "model_module_version": "1.5.0",
          "state": {
            "_model_module": "@jupyter-widgets/controls",
            "_model_module_version": "1.5.0",
            "_model_name": "ProgressStyleModel",
            "_view_count": null,
            "_view_module": "@jupyter-widgets/base",
            "_view_module_version": "1.2.0",
            "_view_name": "StyleView",
            "bar_color": null,
            "description_width": ""
          }
        },
        "fe03c75290e44cff8d8fe4d1af9470ff": {
          "model_module": "@jupyter-widgets/base",
          "model_name": "LayoutModel",
          "model_module_version": "1.2.0",
          "state": {
            "_model_module": "@jupyter-widgets/base",
            "_model_module_version": "1.2.0",
            "_model_name": "LayoutModel",
            "_view_count": null,
            "_view_module": "@jupyter-widgets/base",
            "_view_module_version": "1.2.0",
            "_view_name": "LayoutView",
            "align_content": null,
            "align_items": null,
            "align_self": null,
            "border": null,
            "bottom": null,
            "display": null,
            "flex": null,
            "flex_flow": null,
            "grid_area": null,
            "grid_auto_columns": null,
            "grid_auto_flow": null,
            "grid_auto_rows": null,
            "grid_column": null,
            "grid_gap": null,
            "grid_row": null,
            "grid_template_areas": null,
            "grid_template_columns": null,
            "grid_template_rows": null,
            "height": null,
            "justify_content": null,
            "justify_items": null,
            "left": null,
            "margin": null,
            "max_height": null,
            "max_width": null,
            "min_height": null,
            "min_width": null,
            "object_fit": null,
            "object_position": null,
            "order": null,
            "overflow": null,
            "overflow_x": null,
            "overflow_y": null,
            "padding": null,
            "right": null,
            "top": null,
            "visibility": null,
            "width": null
          }
        },
        "976d026d9771465b842af851e753aa27": {
          "model_module": "@jupyter-widgets/controls",
          "model_name": "DescriptionStyleModel",
          "model_module_version": "1.5.0",
          "state": {
            "_model_module": "@jupyter-widgets/controls",
            "_model_module_version": "1.5.0",
            "_model_name": "DescriptionStyleModel",
            "_view_count": null,
            "_view_module": "@jupyter-widgets/base",
            "_view_module_version": "1.2.0",
            "_view_name": "StyleView",
            "description_width": ""
          }
        },
        "916206e1d4604b4cb9ebb0adac608f58": {
          "model_module": "@jupyter-widgets/controls",
          "model_name": "HBoxModel",
          "model_module_version": "1.5.0",
          "state": {
            "_dom_classes": [],
            "_model_module": "@jupyter-widgets/controls",
            "_model_module_version": "1.5.0",
            "_model_name": "HBoxModel",
            "_view_count": null,
            "_view_module": "@jupyter-widgets/controls",
            "_view_module_version": "1.5.0",
            "_view_name": "HBoxView",
            "box_style": "",
            "children": [
              "IPY_MODEL_1dcb841dade7485b9e872c3fbaf38544",
              "IPY_MODEL_e78b4de3e01c43adac16339bcad94e94",
              "IPY_MODEL_bc09621e47e04ee9b6b9b4124018358a"
            ],
            "layout": "IPY_MODEL_22a186ca6bd64da2bd34fdf236f9ef2e"
          }
        },
        "1dcb841dade7485b9e872c3fbaf38544": {
          "model_module": "@jupyter-widgets/controls",
          "model_name": "HTMLModel",
          "model_module_version": "1.5.0",
          "state": {
            "_dom_classes": [],
            "_model_module": "@jupyter-widgets/controls",
            "_model_module_version": "1.5.0",
            "_model_name": "HTMLModel",
            "_view_count": null,
            "_view_module": "@jupyter-widgets/controls",
            "_view_module_version": "1.5.0",
            "_view_name": "HTMLView",
            "description": "",
            "description_tooltip": null,
            "layout": "IPY_MODEL_656e12174e35416faefce7ff1c58da36",
            "placeholder": "​",
            "style": "IPY_MODEL_1780bda598924599bdb4597071e2bfa8",
            "value": "config.json: 100%"
          }
        },
        "e78b4de3e01c43adac16339bcad94e94": {
          "model_module": "@jupyter-widgets/controls",
          "model_name": "FloatProgressModel",
          "model_module_version": "1.5.0",
          "state": {
            "_dom_classes": [],
            "_model_module": "@jupyter-widgets/controls",
            "_model_module_version": "1.5.0",
            "_model_name": "FloatProgressModel",
            "_view_count": null,
            "_view_module": "@jupyter-widgets/controls",
            "_view_module_version": "1.5.0",
            "_view_name": "ProgressView",
            "bar_style": "success",
            "description": "",
            "description_tooltip": null,
            "layout": "IPY_MODEL_2246225a5ec64021bd31e7ccea0b1a61",
            "max": 706,
            "min": 0,
            "orientation": "horizontal",
            "style": "IPY_MODEL_6e6c0d9831114652a5fe07500302b9e9",
            "value": 706
          }
        },
        "bc09621e47e04ee9b6b9b4124018358a": {
          "model_module": "@jupyter-widgets/controls",
          "model_name": "HTMLModel",
          "model_module_version": "1.5.0",
          "state": {
            "_dom_classes": [],
            "_model_module": "@jupyter-widgets/controls",
            "_model_module_version": "1.5.0",
            "_model_name": "HTMLModel",
            "_view_count": null,
            "_view_module": "@jupyter-widgets/controls",
            "_view_module_version": "1.5.0",
            "_view_name": "HTMLView",
            "description": "",
            "description_tooltip": null,
            "layout": "IPY_MODEL_8f75b2bda7314a1394494b3a4019660c",
            "placeholder": "​",
            "style": "IPY_MODEL_fb4bc893e4ed485c83e322aef0c1e0ea",
            "value": " 706/706 [00:00&lt;00:00, 13.8kB/s]"
          }
        },
        "22a186ca6bd64da2bd34fdf236f9ef2e": {
          "model_module": "@jupyter-widgets/base",
          "model_name": "LayoutModel",
          "model_module_version": "1.2.0",
          "state": {
            "_model_module": "@jupyter-widgets/base",
            "_model_module_version": "1.2.0",
            "_model_name": "LayoutModel",
            "_view_count": null,
            "_view_module": "@jupyter-widgets/base",
            "_view_module_version": "1.2.0",
            "_view_name": "LayoutView",
            "align_content": null,
            "align_items": null,
            "align_self": null,
            "border": null,
            "bottom": null,
            "display": null,
            "flex": null,
            "flex_flow": null,
            "grid_area": null,
            "grid_auto_columns": null,
            "grid_auto_flow": null,
            "grid_auto_rows": null,
            "grid_column": null,
            "grid_gap": null,
            "grid_row": null,
            "grid_template_areas": null,
            "grid_template_columns": null,
            "grid_template_rows": null,
            "height": null,
            "justify_content": null,
            "justify_items": null,
            "left": null,
            "margin": null,
            "max_height": null,
            "max_width": null,
            "min_height": null,
            "min_width": null,
            "object_fit": null,
            "object_position": null,
            "order": null,
            "overflow": null,
            "overflow_x": null,
            "overflow_y": null,
            "padding": null,
            "right": null,
            "top": null,
            "visibility": null,
            "width": null
          }
        },
        "656e12174e35416faefce7ff1c58da36": {
          "model_module": "@jupyter-widgets/base",
          "model_name": "LayoutModel",
          "model_module_version": "1.2.0",
          "state": {
            "_model_module": "@jupyter-widgets/base",
            "_model_module_version": "1.2.0",
            "_model_name": "LayoutModel",
            "_view_count": null,
            "_view_module": "@jupyter-widgets/base",
            "_view_module_version": "1.2.0",
            "_view_name": "LayoutView",
            "align_content": null,
            "align_items": null,
            "align_self": null,
            "border": null,
            "bottom": null,
            "display": null,
            "flex": null,
            "flex_flow": null,
            "grid_area": null,
            "grid_auto_columns": null,
            "grid_auto_flow": null,
            "grid_auto_rows": null,
            "grid_column": null,
            "grid_gap": null,
            "grid_row": null,
            "grid_template_areas": null,
            "grid_template_columns": null,
            "grid_template_rows": null,
            "height": null,
            "justify_content": null,
            "justify_items": null,
            "left": null,
            "margin": null,
            "max_height": null,
            "max_width": null,
            "min_height": null,
            "min_width": null,
            "object_fit": null,
            "object_position": null,
            "order": null,
            "overflow": null,
            "overflow_x": null,
            "overflow_y": null,
            "padding": null,
            "right": null,
            "top": null,
            "visibility": null,
            "width": null
          }
        },
        "1780bda598924599bdb4597071e2bfa8": {
          "model_module": "@jupyter-widgets/controls",
          "model_name": "DescriptionStyleModel",
          "model_module_version": "1.5.0",
          "state": {
            "_model_module": "@jupyter-widgets/controls",
            "_model_module_version": "1.5.0",
            "_model_name": "DescriptionStyleModel",
            "_view_count": null,
            "_view_module": "@jupyter-widgets/base",
            "_view_module_version": "1.2.0",
            "_view_name": "StyleView",
            "description_width": ""
          }
        },
        "2246225a5ec64021bd31e7ccea0b1a61": {
          "model_module": "@jupyter-widgets/base",
          "model_name": "LayoutModel",
          "model_module_version": "1.2.0",
          "state": {
            "_model_module": "@jupyter-widgets/base",
            "_model_module_version": "1.2.0",
            "_model_name": "LayoutModel",
            "_view_count": null,
            "_view_module": "@jupyter-widgets/base",
            "_view_module_version": "1.2.0",
            "_view_name": "LayoutView",
            "align_content": null,
            "align_items": null,
            "align_self": null,
            "border": null,
            "bottom": null,
            "display": null,
            "flex": null,
            "flex_flow": null,
            "grid_area": null,
            "grid_auto_columns": null,
            "grid_auto_flow": null,
            "grid_auto_rows": null,
            "grid_column": null,
            "grid_gap": null,
            "grid_row": null,
            "grid_template_areas": null,
            "grid_template_columns": null,
            "grid_template_rows": null,
            "height": null,
            "justify_content": null,
            "justify_items": null,
            "left": null,
            "margin": null,
            "max_height": null,
            "max_width": null,
            "min_height": null,
            "min_width": null,
            "object_fit": null,
            "object_position": null,
            "order": null,
            "overflow": null,
            "overflow_x": null,
            "overflow_y": null,
            "padding": null,
            "right": null,
            "top": null,
            "visibility": null,
            "width": null
          }
        },
        "6e6c0d9831114652a5fe07500302b9e9": {
          "model_module": "@jupyter-widgets/controls",
          "model_name": "ProgressStyleModel",
          "model_module_version": "1.5.0",
          "state": {
            "_model_module": "@jupyter-widgets/controls",
            "_model_module_version": "1.5.0",
            "_model_name": "ProgressStyleModel",
            "_view_count": null,
            "_view_module": "@jupyter-widgets/base",
            "_view_module_version": "1.2.0",
            "_view_name": "StyleView",
            "bar_color": null,
            "description_width": ""
          }
        },
        "8f75b2bda7314a1394494b3a4019660c": {
          "model_module": "@jupyter-widgets/base",
          "model_name": "LayoutModel",
          "model_module_version": "1.2.0",
          "state": {
            "_model_module": "@jupyter-widgets/base",
            "_model_module_version": "1.2.0",
            "_model_name": "LayoutModel",
            "_view_count": null,
            "_view_module": "@jupyter-widgets/base",
            "_view_module_version": "1.2.0",
            "_view_name": "LayoutView",
            "align_content": null,
            "align_items": null,
            "align_self": null,
            "border": null,
            "bottom": null,
            "display": null,
            "flex": null,
            "flex_flow": null,
            "grid_area": null,
            "grid_auto_columns": null,
            "grid_auto_flow": null,
            "grid_auto_rows": null,
            "grid_column": null,
            "grid_gap": null,
            "grid_row": null,
            "grid_template_areas": null,
            "grid_template_columns": null,
            "grid_template_rows": null,
            "height": null,
            "justify_content": null,
            "justify_items": null,
            "left": null,
            "margin": null,
            "max_height": null,
            "max_width": null,
            "min_height": null,
            "min_width": null,
            "object_fit": null,
            "object_position": null,
            "order": null,
            "overflow": null,
            "overflow_x": null,
            "overflow_y": null,
            "padding": null,
            "right": null,
            "top": null,
            "visibility": null,
            "width": null
          }
        },
        "fb4bc893e4ed485c83e322aef0c1e0ea": {
          "model_module": "@jupyter-widgets/controls",
          "model_name": "DescriptionStyleModel",
          "model_module_version": "1.5.0",
          "state": {
            "_model_module": "@jupyter-widgets/controls",
            "_model_module_version": "1.5.0",
            "_model_name": "DescriptionStyleModel",
            "_view_count": null,
            "_view_module": "@jupyter-widgets/base",
            "_view_module_version": "1.2.0",
            "_view_name": "StyleView",
            "description_width": ""
          }
        },
        "2abc66eabbb94822a01e9921638e4f55": {
          "model_module": "@jupyter-widgets/controls",
          "model_name": "HBoxModel",
          "model_module_version": "1.5.0",
          "state": {
            "_dom_classes": [],
            "_model_module": "@jupyter-widgets/controls",
            "_model_module_version": "1.5.0",
            "_model_name": "HBoxModel",
            "_view_count": null,
            "_view_module": "@jupyter-widgets/controls",
            "_view_module_version": "1.5.0",
            "_view_name": "HBoxView",
            "box_style": "",
            "children": [
              "IPY_MODEL_9c48b7ed660748a087b1365178892a21",
              "IPY_MODEL_9c3adc8c7119467eb1da3c55dc09013f",
              "IPY_MODEL_779addc4c60b405ab93ece6ef9663ab4"
            ],
            "layout": "IPY_MODEL_03818b488c6c42bdb3aa98f758228636"
          }
        },
        "9c48b7ed660748a087b1365178892a21": {
          "model_module": "@jupyter-widgets/controls",
          "model_name": "HTMLModel",
          "model_module_version": "1.5.0",
          "state": {
            "_dom_classes": [],
            "_model_module": "@jupyter-widgets/controls",
            "_model_module_version": "1.5.0",
            "_model_name": "HTMLModel",
            "_view_count": null,
            "_view_module": "@jupyter-widgets/controls",
            "_view_module_version": "1.5.0",
            "_view_name": "HTMLView",
            "description": "",
            "description_tooltip": null,
            "layout": "IPY_MODEL_b585523bd4884aee94adfc1133506e5b",
            "placeholder": "​",
            "style": "IPY_MODEL_995ab6e711e544278a73f45a31f2302a",
            "value": "tokenizer.json: 100%"
          }
        },
        "9c3adc8c7119467eb1da3c55dc09013f": {
          "model_module": "@jupyter-widgets/controls",
          "model_name": "FloatProgressModel",
          "model_module_version": "1.5.0",
          "state": {
            "_dom_classes": [],
            "_model_module": "@jupyter-widgets/controls",
            "_model_module_version": "1.5.0",
            "_model_name": "FloatProgressModel",
            "_view_count": null,
            "_view_module": "@jupyter-widgets/controls",
            "_view_module_version": "1.5.0",
            "_view_name": "ProgressView",
            "bar_style": "success",
            "description": "",
            "description_tooltip": null,
            "layout": "IPY_MODEL_3ea012e773a3406f98b73e38c6ebf18f",
            "max": 711396,
            "min": 0,
            "orientation": "horizontal",
            "style": "IPY_MODEL_3e92ef32ce7d4297a73e056f17f65498",
            "value": 711396
          }
        },
        "779addc4c60b405ab93ece6ef9663ab4": {
          "model_module": "@jupyter-widgets/controls",
          "model_name": "HTMLModel",
          "model_module_version": "1.5.0",
          "state": {
            "_dom_classes": [],
            "_model_module": "@jupyter-widgets/controls",
            "_model_module_version": "1.5.0",
            "_model_name": "HTMLModel",
            "_view_count": null,
            "_view_module": "@jupyter-widgets/controls",
            "_view_module_version": "1.5.0",
            "_view_name": "HTMLView",
            "description": "",
            "description_tooltip": null,
            "layout": "IPY_MODEL_7226ad809bfa41599dca21be6ee23a72",
            "placeholder": "​",
            "style": "IPY_MODEL_12eb1c7ef76947beb19e75c13d9104be",
            "value": " 711k/711k [00:00&lt;00:00, 3.39MB/s]"
          }
        },
        "03818b488c6c42bdb3aa98f758228636": {
          "model_module": "@jupyter-widgets/base",
          "model_name": "LayoutModel",
          "model_module_version": "1.2.0",
          "state": {
            "_model_module": "@jupyter-widgets/base",
            "_model_module_version": "1.2.0",
            "_model_name": "LayoutModel",
            "_view_count": null,
            "_view_module": "@jupyter-widgets/base",
            "_view_module_version": "1.2.0",
            "_view_name": "LayoutView",
            "align_content": null,
            "align_items": null,
            "align_self": null,
            "border": null,
            "bottom": null,
            "display": null,
            "flex": null,
            "flex_flow": null,
            "grid_area": null,
            "grid_auto_columns": null,
            "grid_auto_flow": null,
            "grid_auto_rows": null,
            "grid_column": null,
            "grid_gap": null,
            "grid_row": null,
            "grid_template_areas": null,
            "grid_template_columns": null,
            "grid_template_rows": null,
            "height": null,
            "justify_content": null,
            "justify_items": null,
            "left": null,
            "margin": null,
            "max_height": null,
            "max_width": null,
            "min_height": null,
            "min_width": null,
            "object_fit": null,
            "object_position": null,
            "order": null,
            "overflow": null,
            "overflow_x": null,
            "overflow_y": null,
            "padding": null,
            "right": null,
            "top": null,
            "visibility": null,
            "width": null
          }
        },
        "b585523bd4884aee94adfc1133506e5b": {
          "model_module": "@jupyter-widgets/base",
          "model_name": "LayoutModel",
          "model_module_version": "1.2.0",
          "state": {
            "_model_module": "@jupyter-widgets/base",
            "_model_module_version": "1.2.0",
            "_model_name": "LayoutModel",
            "_view_count": null,
            "_view_module": "@jupyter-widgets/base",
            "_view_module_version": "1.2.0",
            "_view_name": "LayoutView",
            "align_content": null,
            "align_items": null,
            "align_self": null,
            "border": null,
            "bottom": null,
            "display": null,
            "flex": null,
            "flex_flow": null,
            "grid_area": null,
            "grid_auto_columns": null,
            "grid_auto_flow": null,
            "grid_auto_rows": null,
            "grid_column": null,
            "grid_gap": null,
            "grid_row": null,
            "grid_template_areas": null,
            "grid_template_columns": null,
            "grid_template_rows": null,
            "height": null,
            "justify_content": null,
            "justify_items": null,
            "left": null,
            "margin": null,
            "max_height": null,
            "max_width": null,
            "min_height": null,
            "min_width": null,
            "object_fit": null,
            "object_position": null,
            "order": null,
            "overflow": null,
            "overflow_x": null,
            "overflow_y": null,
            "padding": null,
            "right": null,
            "top": null,
            "visibility": null,
            "width": null
          }
        },
        "995ab6e711e544278a73f45a31f2302a": {
          "model_module": "@jupyter-widgets/controls",
          "model_name": "DescriptionStyleModel",
          "model_module_version": "1.5.0",
          "state": {
            "_model_module": "@jupyter-widgets/controls",
            "_model_module_version": "1.5.0",
            "_model_name": "DescriptionStyleModel",
            "_view_count": null,
            "_view_module": "@jupyter-widgets/base",
            "_view_module_version": "1.2.0",
            "_view_name": "StyleView",
            "description_width": ""
          }
        },
        "3ea012e773a3406f98b73e38c6ebf18f": {
          "model_module": "@jupyter-widgets/base",
          "model_name": "LayoutModel",
          "model_module_version": "1.2.0",
          "state": {
            "_model_module": "@jupyter-widgets/base",
            "_model_module_version": "1.2.0",
            "_model_name": "LayoutModel",
            "_view_count": null,
            "_view_module": "@jupyter-widgets/base",
            "_view_module_version": "1.2.0",
            "_view_name": "LayoutView",
            "align_content": null,
            "align_items": null,
            "align_self": null,
            "border": null,
            "bottom": null,
            "display": null,
            "flex": null,
            "flex_flow": null,
            "grid_area": null,
            "grid_auto_columns": null,
            "grid_auto_flow": null,
            "grid_auto_rows": null,
            "grid_column": null,
            "grid_gap": null,
            "grid_row": null,
            "grid_template_areas": null,
            "grid_template_columns": null,
            "grid_template_rows": null,
            "height": null,
            "justify_content": null,
            "justify_items": null,
            "left": null,
            "margin": null,
            "max_height": null,
            "max_width": null,
            "min_height": null,
            "min_width": null,
            "object_fit": null,
            "object_position": null,
            "order": null,
            "overflow": null,
            "overflow_x": null,
            "overflow_y": null,
            "padding": null,
            "right": null,
            "top": null,
            "visibility": null,
            "width": null
          }
        },
        "3e92ef32ce7d4297a73e056f17f65498": {
          "model_module": "@jupyter-widgets/controls",
          "model_name": "ProgressStyleModel",
          "model_module_version": "1.5.0",
          "state": {
            "_model_module": "@jupyter-widgets/controls",
            "_model_module_version": "1.5.0",
            "_model_name": "ProgressStyleModel",
            "_view_count": null,
            "_view_module": "@jupyter-widgets/base",
            "_view_module_version": "1.2.0",
            "_view_name": "StyleView",
            "bar_color": null,
            "description_width": ""
          }
        },
        "7226ad809bfa41599dca21be6ee23a72": {
          "model_module": "@jupyter-widgets/base",
          "model_name": "LayoutModel",
          "model_module_version": "1.2.0",
          "state": {
            "_model_module": "@jupyter-widgets/base",
            "_model_module_version": "1.2.0",
            "_model_name": "LayoutModel",
            "_view_count": null,
            "_view_module": "@jupyter-widgets/base",
            "_view_module_version": "1.2.0",
            "_view_name": "LayoutView",
            "align_content": null,
            "align_items": null,
            "align_self": null,
            "border": null,
            "bottom": null,
            "display": null,
            "flex": null,
            "flex_flow": null,
            "grid_area": null,
            "grid_auto_columns": null,
            "grid_auto_flow": null,
            "grid_auto_rows": null,
            "grid_column": null,
            "grid_gap": null,
            "grid_row": null,
            "grid_template_areas": null,
            "grid_template_columns": null,
            "grid_template_rows": null,
            "height": null,
            "justify_content": null,
            "justify_items": null,
            "left": null,
            "margin": null,
            "max_height": null,
            "max_width": null,
            "min_height": null,
            "min_width": null,
            "object_fit": null,
            "object_position": null,
            "order": null,
            "overflow": null,
            "overflow_x": null,
            "overflow_y": null,
            "padding": null,
            "right": null,
            "top": null,
            "visibility": null,
            "width": null
          }
        },
        "12eb1c7ef76947beb19e75c13d9104be": {
          "model_module": "@jupyter-widgets/controls",
          "model_name": "DescriptionStyleModel",
          "model_module_version": "1.5.0",
          "state": {
            "_model_module": "@jupyter-widgets/controls",
            "_model_module_version": "1.5.0",
            "_model_name": "DescriptionStyleModel",
            "_view_count": null,
            "_view_module": "@jupyter-widgets/base",
            "_view_module_version": "1.2.0",
            "_view_name": "StyleView",
            "description_width": ""
          }
        },
        "595f6a3425764cb88d759a3a70198be9": {
          "model_module": "@jupyter-widgets/controls",
          "model_name": "HBoxModel",
          "model_module_version": "1.5.0",
          "state": {
            "_dom_classes": [],
            "_model_module": "@jupyter-widgets/controls",
            "_model_module_version": "1.5.0",
            "_model_name": "HBoxModel",
            "_view_count": null,
            "_view_module": "@jupyter-widgets/controls",
            "_view_module_version": "1.5.0",
            "_view_name": "HBoxView",
            "box_style": "",
            "children": [
              "IPY_MODEL_e21e0e43beda44429079bb736e9f58ba",
              "IPY_MODEL_cff917c8df994308b3142dce11399ac0",
              "IPY_MODEL_3386d1cddbb54c2685af9375dc58c7de"
            ],
            "layout": "IPY_MODEL_49bd2cfe529c48cb8797deabfab07964"
          }
        },
        "e21e0e43beda44429079bb736e9f58ba": {
          "model_module": "@jupyter-widgets/controls",
          "model_name": "HTMLModel",
          "model_module_version": "1.5.0",
          "state": {
            "_dom_classes": [],
            "_model_module": "@jupyter-widgets/controls",
            "_model_module_version": "1.5.0",
            "_model_name": "HTMLModel",
            "_view_count": null,
            "_view_module": "@jupyter-widgets/controls",
            "_view_module_version": "1.5.0",
            "_view_name": "HTMLView",
            "description": "",
            "description_tooltip": null,
            "layout": "IPY_MODEL_463f2aec21274eaca05a2f8940b6d068",
            "placeholder": "​",
            "style": "IPY_MODEL_1ba403f38feb45cabc3b93a6462e4b05",
            "value": "model_optimized.onnx: 100%"
          }
        },
        "cff917c8df994308b3142dce11399ac0": {
          "model_module": "@jupyter-widgets/controls",
          "model_name": "FloatProgressModel",
          "model_module_version": "1.5.0",
          "state": {
            "_dom_classes": [],
            "_model_module": "@jupyter-widgets/controls",
            "_model_module_version": "1.5.0",
            "_model_name": "FloatProgressModel",
            "_view_count": null,
            "_view_module": "@jupyter-widgets/controls",
            "_view_module_version": "1.5.0",
            "_view_name": "ProgressView",
            "bar_style": "success",
            "description": "",
            "description_tooltip": null,
            "layout": "IPY_MODEL_9003ba5fdf56412f88e5ad32cf43be2e",
            "max": 66465124,
            "min": 0,
            "orientation": "horizontal",
            "style": "IPY_MODEL_a9cae21c822a4dbeba184d394f57ccc0",
            "value": 66465124
          }
        },
        "3386d1cddbb54c2685af9375dc58c7de": {
          "model_module": "@jupyter-widgets/controls",
          "model_name": "HTMLModel",
          "model_module_version": "1.5.0",
          "state": {
            "_dom_classes": [],
            "_model_module": "@jupyter-widgets/controls",
            "_model_module_version": "1.5.0",
            "_model_name": "HTMLModel",
            "_view_count": null,
            "_view_module": "@jupyter-widgets/controls",
            "_view_module_version": "1.5.0",
            "_view_name": "HTMLView",
            "description": "",
            "description_tooltip": null,
            "layout": "IPY_MODEL_64724741c6ab4b98936ae47b08758e0c",
            "placeholder": "​",
            "style": "IPY_MODEL_9779e30af7ab45cbac4473bc7ebfb2e4",
            "value": " 66.5M/66.5M [00:06&lt;00:00, 10.4MB/s]"
          }
        },
        "49bd2cfe529c48cb8797deabfab07964": {
          "model_module": "@jupyter-widgets/base",
          "model_name": "LayoutModel",
          "model_module_version": "1.2.0",
          "state": {
            "_model_module": "@jupyter-widgets/base",
            "_model_module_version": "1.2.0",
            "_model_name": "LayoutModel",
            "_view_count": null,
            "_view_module": "@jupyter-widgets/base",
            "_view_module_version": "1.2.0",
            "_view_name": "LayoutView",
            "align_content": null,
            "align_items": null,
            "align_self": null,
            "border": null,
            "bottom": null,
            "display": null,
            "flex": null,
            "flex_flow": null,
            "grid_area": null,
            "grid_auto_columns": null,
            "grid_auto_flow": null,
            "grid_auto_rows": null,
            "grid_column": null,
            "grid_gap": null,
            "grid_row": null,
            "grid_template_areas": null,
            "grid_template_columns": null,
            "grid_template_rows": null,
            "height": null,
            "justify_content": null,
            "justify_items": null,
            "left": null,
            "margin": null,
            "max_height": null,
            "max_width": null,
            "min_height": null,
            "min_width": null,
            "object_fit": null,
            "object_position": null,
            "order": null,
            "overflow": null,
            "overflow_x": null,
            "overflow_y": null,
            "padding": null,
            "right": null,
            "top": null,
            "visibility": null,
            "width": null
          }
        },
        "463f2aec21274eaca05a2f8940b6d068": {
          "model_module": "@jupyter-widgets/base",
          "model_name": "LayoutModel",
          "model_module_version": "1.2.0",
          "state": {
            "_model_module": "@jupyter-widgets/base",
            "_model_module_version": "1.2.0",
            "_model_name": "LayoutModel",
            "_view_count": null,
            "_view_module": "@jupyter-widgets/base",
            "_view_module_version": "1.2.0",
            "_view_name": "LayoutView",
            "align_content": null,
            "align_items": null,
            "align_self": null,
            "border": null,
            "bottom": null,
            "display": null,
            "flex": null,
            "flex_flow": null,
            "grid_area": null,
            "grid_auto_columns": null,
            "grid_auto_flow": null,
            "grid_auto_rows": null,
            "grid_column": null,
            "grid_gap": null,
            "grid_row": null,
            "grid_template_areas": null,
            "grid_template_columns": null,
            "grid_template_rows": null,
            "height": null,
            "justify_content": null,
            "justify_items": null,
            "left": null,
            "margin": null,
            "max_height": null,
            "max_width": null,
            "min_height": null,
            "min_width": null,
            "object_fit": null,
            "object_position": null,
            "order": null,
            "overflow": null,
            "overflow_x": null,
            "overflow_y": null,
            "padding": null,
            "right": null,
            "top": null,
            "visibility": null,
            "width": null
          }
        },
        "1ba403f38feb45cabc3b93a6462e4b05": {
          "model_module": "@jupyter-widgets/controls",
          "model_name": "DescriptionStyleModel",
          "model_module_version": "1.5.0",
          "state": {
            "_model_module": "@jupyter-widgets/controls",
            "_model_module_version": "1.5.0",
            "_model_name": "DescriptionStyleModel",
            "_view_count": null,
            "_view_module": "@jupyter-widgets/base",
            "_view_module_version": "1.2.0",
            "_view_name": "StyleView",
            "description_width": ""
          }
        },
        "9003ba5fdf56412f88e5ad32cf43be2e": {
          "model_module": "@jupyter-widgets/base",
          "model_name": "LayoutModel",
          "model_module_version": "1.2.0",
          "state": {
            "_model_module": "@jupyter-widgets/base",
            "_model_module_version": "1.2.0",
            "_model_name": "LayoutModel",
            "_view_count": null,
            "_view_module": "@jupyter-widgets/base",
            "_view_module_version": "1.2.0",
            "_view_name": "LayoutView",
            "align_content": null,
            "align_items": null,
            "align_self": null,
            "border": null,
            "bottom": null,
            "display": null,
            "flex": null,
            "flex_flow": null,
            "grid_area": null,
            "grid_auto_columns": null,
            "grid_auto_flow": null,
            "grid_auto_rows": null,
            "grid_column": null,
            "grid_gap": null,
            "grid_row": null,
            "grid_template_areas": null,
            "grid_template_columns": null,
            "grid_template_rows": null,
            "height": null,
            "justify_content": null,
            "justify_items": null,
            "left": null,
            "margin": null,
            "max_height": null,
            "max_width": null,
            "min_height": null,
            "min_width": null,
            "object_fit": null,
            "object_position": null,
            "order": null,
            "overflow": null,
            "overflow_x": null,
            "overflow_y": null,
            "padding": null,
            "right": null,
            "top": null,
            "visibility": null,
            "width": null
          }
        },
        "a9cae21c822a4dbeba184d394f57ccc0": {
          "model_module": "@jupyter-widgets/controls",
          "model_name": "ProgressStyleModel",
          "model_module_version": "1.5.0",
          "state": {
            "_model_module": "@jupyter-widgets/controls",
            "_model_module_version": "1.5.0",
            "_model_name": "ProgressStyleModel",
            "_view_count": null,
            "_view_module": "@jupyter-widgets/base",
            "_view_module_version": "1.2.0",
            "_view_name": "StyleView",
            "bar_color": null,
            "description_width": ""
          }
        },
        "64724741c6ab4b98936ae47b08758e0c": {
          "model_module": "@jupyter-widgets/base",
          "model_name": "LayoutModel",
          "model_module_version": "1.2.0",
          "state": {
            "_model_module": "@jupyter-widgets/base",
            "_model_module_version": "1.2.0",
            "_model_name": "LayoutModel",
            "_view_count": null,
            "_view_module": "@jupyter-widgets/base",
            "_view_module_version": "1.2.0",
            "_view_name": "LayoutView",
            "align_content": null,
            "align_items": null,
            "align_self": null,
            "border": null,
            "bottom": null,
            "display": null,
            "flex": null,
            "flex_flow": null,
            "grid_area": null,
            "grid_auto_columns": null,
            "grid_auto_flow": null,
            "grid_auto_rows": null,
            "grid_column": null,
            "grid_gap": null,
            "grid_row": null,
            "grid_template_areas": null,
            "grid_template_columns": null,
            "grid_template_rows": null,
            "height": null,
            "justify_content": null,
            "justify_items": null,
            "left": null,
            "margin": null,
            "max_height": null,
            "max_width": null,
            "min_height": null,
            "min_width": null,
            "object_fit": null,
            "object_position": null,
            "order": null,
            "overflow": null,
            "overflow_x": null,
            "overflow_y": null,
            "padding": null,
            "right": null,
            "top": null,
            "visibility": null,
            "width": null
          }
        },
        "9779e30af7ab45cbac4473bc7ebfb2e4": {
          "model_module": "@jupyter-widgets/controls",
          "model_name": "DescriptionStyleModel",
          "model_module_version": "1.5.0",
          "state": {
            "_model_module": "@jupyter-widgets/controls",
            "_model_module_version": "1.5.0",
            "_model_name": "DescriptionStyleModel",
            "_view_count": null,
            "_view_module": "@jupyter-widgets/base",
            "_view_module_version": "1.2.0",
            "_view_name": "StyleView",
            "description_width": ""
          }
        }
      }
    }
  },
  "nbformat": 4,
  "nbformat_minor": 0
}